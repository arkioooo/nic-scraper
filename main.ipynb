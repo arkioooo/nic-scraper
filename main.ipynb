{
 "cells": [
  {
   "cell_type": "code",
   "execution_count": 1,
   "id": "e0706284",
   "metadata": {},
   "outputs": [],
   "source": [
    "from selenium.webdriver.common.by import By\n",
    "from selenium.webdriver.support.ui import WebDriverWait,Select\n",
    "from selenium.webdriver.support import expected_conditions as EC\n",
    "from selenium.webdriver.common.keys import Keys\n",
    "import pandas as pd\n",
    "import logging\n",
    "import time\n",
    "import undetected_chromedriver as uc\n",
    "from fake_useragent import UserAgent\n",
    "import re\n",
    "import warnings\n",
    "from collections import OrderedDict\n",
    "from selenium.webdriver.remote.remote_connection import LOGGER\n",
    "import logging\n",
    "from selenium.common.exceptions import TimeoutException\n",
    "import os\n",
    "from rapidfuzz import process, fuzz\n",
    "from selenium.webdriver import ChromeOptions,Chrome\n"
   ]
  },
  {
   "cell_type": "code",
   "execution_count": 2,
   "id": "1dc44b73",
   "metadata": {},
   "outputs": [],
   "source": [
    "warnings.filterwarnings(\"ignore\")\n",
    "LOGGER.setLevel(logging.ERROR)\n",
    "logging.getLogger(\"selenium\").setLevel(logging.CRITICAL)\n",
    "warnings.filterwarnings(\"ignore\", category=UserWarning)\n",
    "import logging\n",
    "\n",
    "logging.basicConfig(\n",
    "    filename=\"warnings.log\",\n",
    "    level=logging.WARNING,\n",
    "    format=\"%(asctime)s - %(levelname)s - %(message)s\"\n",
    ")\n",
    "\n",
    "reverse_state_mapping = {\n",
    "    \"ANDAMAN AND NICOBAR ISLANDS\": \"35\",\n",
    "    \"ANDHRA PRADESH\": \"28\",\n",
    "    \"ARUNACHAL PRADESH\": \"12\",\n",
    "    \"ASSAM\": \"18\",\n",
    "    \"BIHAR\": \"10\",\n",
    "    \"CHANDIGARH\": \"4\",\n",
    "    \"CHHATTISGARH\": \"22\",\n",
    "    \"DELHI\": \"7\",\n",
    "    \"GOA\": \"30\",\n",
    "    \"GUJARAT\": \"24\",\n",
    "    \"HARYANA\": \"6\",\n",
    "    \"HIMACHAL PRADESH\": \"2\",\n",
    "    \"JAMMU AND KASHMIR\": \"1\",\n",
    "    \"JHARKHAND\": \"20\",\n",
    "    \"KARNATAKA\": \"29\",\n",
    "    \"KERALA\": \"32\",\n",
    "    \"LADAKH\": \"37\",\n",
    "    \"LAKSHADWEEP\": \"31\",\n",
    "    \"MADHYA PRADESH\": \"23\",\n",
    "    \"MAHARASHTRA\": \"27\",\n",
    "    \"MANIPUR\": \"14\",\n",
    "    \"MEGHALAYA\": \"17\",\n",
    "    \"MIZORAM\": \"15\",\n",
    "    \"NAGALAND\": \"13\",\n",
    "    \"ODISHA\": \"21\",\n",
    "    \"PUDUCHERRY\": \"34\",\n",
    "    \"PUNJAB\": \"3\",\n",
    "    \"RAJASTHAN\": \"8\",\n",
    "    \"SIKKIM\": \"11\",\n",
    "    \"TAMIL NADU\": \"33\",\n",
    "    \"TELANGANA\": \"36\",\n",
    "    \"DADRA AND NAGAR HAVELI AND DAMAN AND DIU\": \"38\",\n",
    "    \"TRIPURA\": \"16\",\n",
    "    \"UTTAR PRADESH\": \"9\",\n",
    "    \"UTTARAKHAND\": \"5\",\n",
    "    \"WEST BENGAL\": \"19\"\n",
    "}\n",
    "\n",
    "\n",
    "\n",
    "def scrape_udyam(niccode,state):\n",
    "    href=f'https://udyamregistration.gov.in/SearchRegDetail.aspx?cod={niccode}&ty=2&si={reverse_state_mapping[state.upper()]}&di=0'  \n",
    "    return href\n",
    "\n",
    "def get_href(names, href):\n",
    "    all_rows = []\n",
    "    ua = UserAgent()\n",
    "    random_user_agent = ua.random\n",
    "\n",
    "    chrome_options = uc.ChromeOptions()\n",
    "    chrome_options.add_argument(\"--disable-blink-features=AutomationControlled\")\n",
    "    chrome_options.add_argument(\"--no-sandbox\")\n",
    "    chrome_options.add_argument(\"--disable-dev-shm-usage\")\n",
    "    chrome_options.add_argument(\"--disable-gpu\")\n",
    "    chrome_options.add_argument(\"--disable-infobars\")\n",
    "    chrome_options.add_argument(\"--disable-extensions\")\n",
    "    chrome_options.add_argument(\"--incognito\")\n",
    "    chrome_options.add_argument(f\"user-agent={random_user_agent}\")\n",
    "    driver = uc.Chrome(options=chrome_options)\n",
    "\n",
    "    wait = WebDriverWait(driver, 20)\n",
    "    try:\n",
    "        try:\n",
    "            driver.get(href)\n",
    "        except TimeoutException:\n",
    "            print(\"Page load timed out. Trying to stop loading manually.\")\n",
    "            driver.execute_script(\"window.stop();\")\n",
    "        try:\n",
    "            entries_dropdown = wait.until(EC.presence_of_element_located((By.XPATH, '//*[@id=\"example1_length\"]/label/select')))\n",
    "            select = Select(entries_dropdown)\n",
    "            select.select_by_visible_text(\"All\")\n",
    "        except:\n",
    "            print(\"Dropdown not found or not interactable.\")\n",
    "\n",
    "        time.sleep(5)\n",
    "        wait.until(EC.presence_of_element_located((By.XPATH, '//*[@id=\"example1\"]')))\n",
    "        try:\n",
    "            table = driver.find_element(By.XPATH, '//*[@id=\"example1\"]')\n",
    "            rows = table.find_elements(By.TAG_NAME, \"tr\")\n",
    "            headers = [th.text.strip() for th in rows[0].find_elements(By.TAG_NAME, \"th\")]\n",
    "            headers.append(\"Business Email\")  # Add email column\n",
    "            data = []\n",
    "            for row in rows[1:]:\n",
    "                cols = row.find_elements(By.TAG_NAME, \"td\")\n",
    "                row_data = [col.text.strip() for col in cols[:-1]]  # All except the last column\n",
    "                try:\n",
    "                    email_input = cols[-1].find_element(By.TAG_NAME, \"input\")\n",
    "                    email = email_input.get_attribute(\"value\")\n",
    "                except:\n",
    "                    email = \"\"\n",
    "                row_data.append(email)\n",
    "                data.append(dict(zip(headers, row_data)))\n",
    "            all_rows = data\n",
    "            print(f\"Rows captured: {len(all_rows)}\")\n",
    "        except Exception as e:\n",
    "            print('Table not found', {e})\n",
    "    except Exception as e:\n",
    "        print(\"Error occurred while processing the table.\", e)\n",
    "    finally:\n",
    "        driver.quit()\n",
    "\n",
    "    return all_rows"
   ]
  },
  {
   "cell_type": "code",
   "execution_count": null,
   "id": "4b4ce2a7",
   "metadata": {},
   "outputs": [
    {
     "name": "stderr",
     "output_type": "stream",
     "text": [
      "Scraping NICs:   0%|          | 0/1127 [00:00<?, ?it/s]ERROR:root:NIC: 10101, State: KARNATAKA, Error: [WinError 32] The process cannot access the file because it is being used by another process: 'C:\\\\Users\\\\mridul.intern\\\\appdata\\\\roaming\\\\undetected_chromedriver\\\\undetected\\\\chromedriver-win32\\\\chromedriver.exe' -> 'C:\\\\Users\\\\mridul.intern\\\\appdata\\\\roaming\\\\undetected_chromedriver\\\\undetected_chromedriver.exe'\n",
      "Scraping NICs:   0%|          | 1/1127 [00:00<15:47,  1.19it/s]"
     ]
    },
    {
     "name": "stdout",
     "output_type": "stream",
     "text": [
      "Saved backup with 0 results\n"
     ]
    },
    {
     "name": "stderr",
     "output_type": "stream",
     "text": [
      "ERROR:root:NIC: 10102, State: KARNATAKA, Error: [WinError 32] The process cannot access the file because it is being used by another process: 'C:\\\\Users\\\\mridul.intern\\\\appdata\\\\roaming\\\\undetected_chromedriver\\\\undetected\\\\chromedriver-win32\\\\chromedriver.exe' -> 'C:\\\\Users\\\\mridul.intern\\\\appdata\\\\roaming\\\\undetected_chromedriver\\\\undetected_chromedriver.exe'\n",
      "Scraping NICs:   0%|          | 2/1127 [00:01<09:04,  2.07it/s]"
     ]
    },
    {
     "name": "stdout",
     "output_type": "stream",
     "text": [
      "Saved backup with 0 results\n"
     ]
    },
    {
     "name": "stderr",
     "output_type": "stream",
     "text": [
      "ERROR:root:NIC: 10103, State: KARNATAKA, Error: [WinError 32] The process cannot access the file because it is being used by another process: 'C:\\\\Users\\\\mridul.intern\\\\appdata\\\\roaming\\\\undetected_chromedriver\\\\undetected\\\\chromedriver-win32\\\\chromedriver.exe' -> 'C:\\\\Users\\\\mridul.intern\\\\appdata\\\\roaming\\\\undetected_chromedriver\\\\undetected_chromedriver.exe'\n",
      "Scraping NICs:   0%|          | 3/1127 [00:03<23:07,  1.23s/it]"
     ]
    },
    {
     "name": "stdout",
     "output_type": "stream",
     "text": [
      "Saved backup with 0 results\n"
     ]
    },
    {
     "name": "stderr",
     "output_type": "stream",
     "text": [
      "ERROR:root:NIC: 10105, State: KARNATAKA, Error: [WinError 32] The process cannot access the file because it is being used by another process: 'C:\\\\Users\\\\mridul.intern\\\\appdata\\\\roaming\\\\undetected_chromedriver\\\\undetected\\\\chromedriver-win32\\\\chromedriver.exe' -> 'C:\\\\Users\\\\mridul.intern\\\\appdata\\\\roaming\\\\undetected_chromedriver\\\\undetected_chromedriver.exe'\n",
      "Scraping NICs:   0%|          | 4/1127 [00:03<16:44,  1.12it/s]ERROR:root:NIC: 10104, State: KARNATAKA, Error: [WinError 2] The system cannot find the file specified: 'C:\\\\Users\\\\mridul.intern\\\\appdata\\\\roaming\\\\undetected_chromedriver\\\\undetected_chromedriver.exe'\n"
     ]
    },
    {
     "name": "stdout",
     "output_type": "stream",
     "text": [
      "Saved backup with 0 results\n",
      "Saved backup with 0 results\n"
     ]
    },
    {
     "name": "stderr",
     "output_type": "stream",
     "text": [
      "ERROR:root:NIC: 10108, State: KARNATAKA, Error: [Errno 13] Permission denied: 'C:\\\\Users\\\\mridul.intern\\\\appdata\\\\roaming\\\\undetected_chromedriver\\\\undetected\\\\chromedriver-win32\\\\chromedriver.exe'\n",
      "Scraping NICs:   1%|          | 6/1127 [00:04<11:31,  1.62it/s]ERROR:root:NIC: 10107, State: KARNATAKA, Error: [WinError 183] Cannot create a file when that file already exists: 'C:\\\\Users\\\\mridul.intern\\\\appdata\\\\roaming\\\\undetected_chromedriver\\\\undetected\\\\chromedriver-win32\\\\chromedriver.exe' -> 'C:\\\\Users\\\\mridul.intern\\\\appdata\\\\roaming\\\\undetected_chromedriver\\\\undetected_chromedriver.exe'\n"
     ]
    },
    {
     "name": "stdout",
     "output_type": "stream",
     "text": [
      "Saved backup with 0 results\n",
      "Saved backup with 0 results\n",
      "Rows captured: 94\n"
     ]
    },
    {
     "name": "stderr",
     "output_type": "stream",
     "text": [
      "Scraping NICs:   1%|          | 8/1127 [00:37<2:20:34,  7.54s/it]"
     ]
    },
    {
     "name": "stdout",
     "output_type": "stream",
     "text": [
      "Saved backup with 94 results\n",
      "Rows captured: 448\n"
     ]
    },
    {
     "name": "stderr",
     "output_type": "stream",
     "text": [
      "Scraping NICs:   1%|          | 9/1127 [02:31<10:07:19, 32.59s/it]"
     ]
    },
    {
     "name": "stdout",
     "output_type": "stream",
     "text": [
      "Saved backup with 542 results\n",
      "Rows captured: 267\n"
     ]
    },
    {
     "name": "stderr",
     "output_type": "stream",
     "text": [
      "Scraping NICs:   1%|          | 10/1127 [03:30<12:11:03, 39.27s/it]"
     ]
    },
    {
     "name": "stdout",
     "output_type": "stream",
     "text": [
      "Saved backup with 809 results\n",
      "Rows captured: 972\n"
     ]
    },
    {
     "name": "stderr",
     "output_type": "stream",
     "text": [
      "Scraping NICs:   1%|          | 11/1127 [03:33<9:09:45, 29.56s/it] "
     ]
    },
    {
     "name": "stdout",
     "output_type": "stream",
     "text": [
      "Saved backup with 1781 results\n",
      "Rows captured: 1235\n"
     ]
    },
    {
     "name": "stderr",
     "output_type": "stream",
     "text": [
      "Scraping NICs:   1%|          | 12/1127 [04:15<10:11:46, 32.92s/it]"
     ]
    },
    {
     "name": "stdout",
     "output_type": "stream",
     "text": [
      "Saved backup with 3016 results\n",
      "Rows captured: 13\n"
     ]
    },
    {
     "name": "stderr",
     "output_type": "stream",
     "text": [
      "Scraping NICs:   1%|          | 13/1127 [04:37<9:17:39, 30.04s/it] "
     ]
    },
    {
     "name": "stdout",
     "output_type": "stream",
     "text": [
      "Saved backup with 3029 results\n",
      "Rows captured: 207\n"
     ]
    },
    {
     "name": "stderr",
     "output_type": "stream",
     "text": [
      "Scraping NICs:   1%|          | 14/1127 [05:16<10:02:00, 32.45s/it]"
     ]
    },
    {
     "name": "stdout",
     "output_type": "stream",
     "text": [
      "Saved backup with 3236 results\n",
      "Rows captured: 657\n"
     ]
    },
    {
     "name": "stderr",
     "output_type": "stream",
     "text": [
      "Scraping NICs:   1%|▏         | 15/1127 [05:28<8:12:31, 26.57s/it] "
     ]
    },
    {
     "name": "stdout",
     "output_type": "stream",
     "text": [
      "Saved backup with 3893 results\n",
      "Rows captured: 779\n"
     ]
    },
    {
     "name": "stderr",
     "output_type": "stream",
     "text": [
      "Scraping NICs:   1%|▏         | 16/1127 [05:50<7:44:40, 25.10s/it]"
     ]
    },
    {
     "name": "stdout",
     "output_type": "stream",
     "text": [
      "Saved backup with 4672 results\n",
      "Rows captured: 913\n"
     ]
    },
    {
     "name": "stderr",
     "output_type": "stream",
     "text": [
      "Scraping NICs:   2%|▏         | 17/1127 [06:54<11:21:31, 36.84s/it]"
     ]
    },
    {
     "name": "stdout",
     "output_type": "stream",
     "text": [
      "Saved backup with 5585 results\n",
      "Rows captured: 822\n"
     ]
    },
    {
     "name": "stderr",
     "output_type": "stream",
     "text": [
      "Scraping NICs:   2%|▏         | 18/1127 [07:54<13:26:16, 43.62s/it]"
     ]
    },
    {
     "name": "stdout",
     "output_type": "stream",
     "text": [
      "Saved backup with 6407 results\n",
      "Rows captured: 604\n"
     ]
    },
    {
     "name": "stderr",
     "output_type": "stream",
     "text": [
      "Scraping NICs:   2%|▏         | 19/1127 [08:08<10:43:42, 34.86s/it]"
     ]
    },
    {
     "name": "stdout",
     "output_type": "stream",
     "text": [
      "Saved backup with 7011 results\n",
      "Rows captured: 377\n"
     ]
    },
    {
     "name": "stderr",
     "output_type": "stream",
     "text": [
      "Scraping NICs:   2%|▏         | 20/1127 [09:13<13:29:02, 43.85s/it]"
     ]
    },
    {
     "name": "stdout",
     "output_type": "stream",
     "text": [
      "Saved backup with 7388 results\n",
      "Rows captured: 1571\n"
     ]
    },
    {
     "name": "stderr",
     "output_type": "stream",
     "text": [
      "Scraping NICs:   2%|▏         | 21/1127 [12:11<25:47:25, 83.95s/it]"
     ]
    },
    {
     "name": "stdout",
     "output_type": "stream",
     "text": [
      "Saved backup with 8959 results\n",
      "Rows captured: 2779\n"
     ]
    },
    {
     "name": "stderr",
     "output_type": "stream",
     "text": [
      "Scraping NICs:   2%|▏         | 22/1127 [12:41<20:46:37, 67.69s/it]"
     ]
    },
    {
     "name": "stdout",
     "output_type": "stream",
     "text": [
      "Saved backup with 11738 results\n",
      "Dropdown not found or not interactable.\n",
      "Rows captured: 2230\n"
     ]
    },
    {
     "name": "stderr",
     "output_type": "stream",
     "text": [
      "Scraping NICs:   2%|▏         | 23/1127 [13:48<20:44:38, 67.64s/it]"
     ]
    },
    {
     "name": "stdout",
     "output_type": "stream",
     "text": [
      "Saved backup with 13968 results\n",
      "Dropdown not found or not interactable.\n",
      "Error occurred while processing the table. Message: \n",
      "Stacktrace:\n",
      "\tGetHandleVerifier [0x0xce3763+63299]\n",
      "\tGetHandleVerifier [0x0xce37a4+63364]\n",
      "\t(No symbol) [0x0xb11113]\n",
      "\t(No symbol) [0x0xb5987e]\n",
      "\t(No symbol) [0x0xb59c1b]\n",
      "\t(No symbol) [0x0xba2212]\n",
      "\t(No symbol) [0x0xb7e5c4]\n",
      "\t(No symbol) [0x0xb9fa4a]\n",
      "\t(No symbol) [0x0xb7e376]\n",
      "\t(No symbol) [0x0xb4d6e0]\n",
      "\t(No symbol) [0x0xb4e544]\n",
      "\tGetHandleVerifier [0x0xf3e033+2531347]\n",
      "\tGetHandleVerifier [0x0xf39332+2511634]\n",
      "\tGetHandleVerifier [0x0xd09eda+220858]\n",
      "\tGetHandleVerifier [0x0xcfa528+156936]\n",
      "\tGetHandleVerifier [0x0xd00c5d+183357]\n",
      "\tGetHandleVerifier [0x0xceb6c8+95912]\n",
      "\tGetHandleVerifier [0x0xceb870+96336]\n",
      "\tGetHandleVerifier [0x0xcd664a+9770]\n",
      "\tBaseThreadInitThunk [0x0x75d15d49+25]\n",
      "\tRtlInitializeExceptionChain [0x0x7786d03b+107]\n",
      "\tRtlGetAppContainerNamedObjectPath [0x0x7786cfc1+561]\n",
      "\n"
     ]
    },
    {
     "name": "stderr",
     "output_type": "stream",
     "text": [
      "Scraping NICs:   2%|▏         | 24/1127 [14:36<18:53:40, 61.67s/it]"
     ]
    },
    {
     "name": "stdout",
     "output_type": "stream",
     "text": [
      "Saved backup with 13968 results\n",
      "Rows captured: 744\n"
     ]
    },
    {
     "name": "stderr",
     "output_type": "stream",
     "text": [
      "Scraping NICs:   2%|▏         | 25/1127 [14:58<15:12:06, 49.66s/it]"
     ]
    },
    {
     "name": "stdout",
     "output_type": "stream",
     "text": [
      "Saved backup with 14712 results\n",
      "Dropdown not found or not interactable.\n",
      "Dropdown not found or not interactable.\n",
      "Error occurred while processing the table. Message: \n",
      "Stacktrace:\n",
      "\tGetHandleVerifier [0x0xce3763+63299]\n",
      "\tGetHandleVerifier [0x0xce37a4+63364]\n",
      "\t(No symbol) [0x0xb11113]\n",
      "\t(No symbol) [0x0xb5987e]\n",
      "\t(No symbol) [0x0xb59c1b]\n",
      "\t(No symbol) [0x0xba2212]\n",
      "\t(No symbol) [0x0xb7e5c4]\n",
      "\t(No symbol) [0x0xb9fa4a]\n",
      "\t(No symbol) [0x0xb7e376]\n",
      "\t(No symbol) [0x0xb4d6e0]\n",
      "\t(No symbol) [0x0xb4e544]\n",
      "\tGetHandleVerifier [0x0xf3e033+2531347]\n",
      "\tGetHandleVerifier [0x0xf39332+2511634]\n",
      "\tGetHandleVerifier [0x0xd09eda+220858]\n",
      "\tGetHandleVerifier [0x0xcfa528+156936]\n",
      "\tGetHandleVerifier [0x0xd00c5d+183357]\n",
      "\tGetHandleVerifier [0x0xceb6c8+95912]\n",
      "\tGetHandleVerifier [0x0xceb870+96336]\n",
      "\tGetHandleVerifier [0x0xcd664a+9770]\n",
      "\tBaseThreadInitThunk [0x0x75d15d49+25]\n",
      "\tRtlInitializeExceptionChain [0x0x7786d03b+107]\n",
      "\tRtlGetAppContainerNamedObjectPath [0x0x7786cfc1+561]\n",
      "\n"
     ]
    },
    {
     "name": "stderr",
     "output_type": "stream",
     "text": [
      "Scraping NICs:   2%|▏         | 26/1127 [15:25<13:08:57, 42.99s/it]"
     ]
    },
    {
     "name": "stdout",
     "output_type": "stream",
     "text": [
      "Saved backup with 14712 results\n",
      "Error occurred while processing the table. Message: \n",
      "Stacktrace:\n",
      "\tGetHandleVerifier [0x0xce3763+63299]\n",
      "\tGetHandleVerifier [0x0xce37a4+63364]\n",
      "\t(No symbol) [0x0xb11113]\n",
      "\t(No symbol) [0x0xb5987e]\n",
      "\t(No symbol) [0x0xb59c1b]\n",
      "\t(No symbol) [0x0xba2212]\n",
      "\t(No symbol) [0x0xb7e5c4]\n",
      "\t(No symbol) [0x0xb9fa4a]\n",
      "\t(No symbol) [0x0xb7e376]\n",
      "\t(No symbol) [0x0xb4d6e0]\n",
      "\t(No symbol) [0x0xb4e544]\n",
      "\tGetHandleVerifier [0x0xf3e033+2531347]\n",
      "\tGetHandleVerifier [0x0xf39332+2511634]\n",
      "\tGetHandleVerifier [0x0xd09eda+220858]\n",
      "\tGetHandleVerifier [0x0xcfa528+156936]\n",
      "\tGetHandleVerifier [0x0xd00c5d+183357]\n",
      "\tGetHandleVerifier [0x0xceb6c8+95912]\n",
      "\tGetHandleVerifier [0x0xceb870+96336]\n",
      "\tGetHandleVerifier [0x0xcd664a+9770]\n",
      "\tBaseThreadInitThunk [0x0x75d15d49+25]\n",
      "\tRtlInitializeExceptionChain [0x0x7786d03b+107]\n",
      "\tRtlGetAppContainerNamedObjectPath [0x0x7786cfc1+561]\n",
      "\n"
     ]
    },
    {
     "name": "stderr",
     "output_type": "stream",
     "text": [
      "Scraping NICs:   2%|▏         | 27/1127 [15:46<11:04:41, 36.26s/it]"
     ]
    },
    {
     "name": "stdout",
     "output_type": "stream",
     "text": [
      "Saved backup with 14712 results\n",
      "Dropdown not found or not interactable.\n",
      "Dropdown not found or not interactable.\n",
      "Error occurred while processing the table. Message: \n",
      "Stacktrace:\n",
      "\tGetHandleVerifier [0x0xce3763+63299]\n",
      "\tGetHandleVerifier [0x0xce37a4+63364]\n",
      "\t(No symbol) [0x0xb11113]\n",
      "\t(No symbol) [0x0xb5987e]\n",
      "\t(No symbol) [0x0xb59c1b]\n",
      "\t(No symbol) [0x0xba2212]\n",
      "\t(No symbol) [0x0xb7e5c4]\n",
      "\t(No symbol) [0x0xb9fa4a]\n",
      "\t(No symbol) [0x0xb7e376]\n",
      "\t(No symbol) [0x0xb4d6e0]\n",
      "\t(No symbol) [0x0xb4e544]\n",
      "\tGetHandleVerifier [0x0xf3e033+2531347]\n",
      "\tGetHandleVerifier [0x0xf39332+2511634]\n",
      "\tGetHandleVerifier [0x0xd09eda+220858]\n",
      "\tGetHandleVerifier [0x0xcfa528+156936]\n",
      "\tGetHandleVerifier [0x0xd00c5d+183357]\n",
      "\tGetHandleVerifier [0x0xceb6c8+95912]\n",
      "\tGetHandleVerifier [0x0xceb870+96336]\n",
      "\tGetHandleVerifier [0x0xcd664a+9770]\n",
      "\tBaseThreadInitThunk [0x0x75d15d49+25]\n",
      "\tRtlInitializeExceptionChain [0x0x7786d03b+107]\n",
      "\tRtlGetAppContainerNamedObjectPath [0x0x7786cfc1+561]\n",
      "\n"
     ]
    },
    {
     "name": "stderr",
     "output_type": "stream",
     "text": [
      "Scraping NICs:   2%|▏         | 28/1127 [16:13<10:15:24, 33.60s/it]"
     ]
    },
    {
     "name": "stdout",
     "output_type": "stream",
     "text": [
      "Saved backup with 14712 results\n",
      "Error occurred while processing the table. Message: \n",
      "Stacktrace:\n",
      "\tGetHandleVerifier [0x0xce3763+63299]\n",
      "\tGetHandleVerifier [0x0xce37a4+63364]\n",
      "\t(No symbol) [0x0xb11113]\n",
      "\t(No symbol) [0x0xb5987e]\n",
      "\t(No symbol) [0x0xb59c1b]\n",
      "\t(No symbol) [0x0xba2212]\n",
      "\t(No symbol) [0x0xb7e5c4]\n",
      "\t(No symbol) [0x0xb9fa4a]\n",
      "\t(No symbol) [0x0xb7e376]\n",
      "\t(No symbol) [0x0xb4d6e0]\n",
      "\t(No symbol) [0x0xb4e544]\n",
      "\tGetHandleVerifier [0x0xf3e033+2531347]\n",
      "\tGetHandleVerifier [0x0xf39332+2511634]\n",
      "\tGetHandleVerifier [0x0xd09eda+220858]\n",
      "\tGetHandleVerifier [0x0xcfa528+156936]\n",
      "\tGetHandleVerifier [0x0xd00c5d+183357]\n",
      "\tGetHandleVerifier [0x0xceb6c8+95912]\n",
      "\tGetHandleVerifier [0x0xceb870+96336]\n",
      "\tGetHandleVerifier [0x0xcd664a+9770]\n",
      "\tBaseThreadInitThunk [0x0x75d15d49+25]\n",
      "\tRtlInitializeExceptionChain [0x0x7786d03b+107]\n",
      "\tRtlGetAppContainerNamedObjectPath [0x0x7786cfc1+561]\n",
      "\n"
     ]
    },
    {
     "name": "stderr",
     "output_type": "stream",
     "text": [
      "Scraping NICs:   3%|▎         | 29/1127 [16:33<9:02:04, 29.62s/it] "
     ]
    },
    {
     "name": "stdout",
     "output_type": "stream",
     "text": [
      "Saved backup with 14712 results\n",
      "Dropdown not found or not interactable.\n",
      "Dropdown not found or not interactable.\n",
      "Error occurred while processing the table. Message: \n",
      "Stacktrace:\n",
      "\tGetHandleVerifier [0x0xce3763+63299]\n",
      "\tGetHandleVerifier [0x0xce37a4+63364]\n",
      "\t(No symbol) [0x0xb11113]\n",
      "\t(No symbol) [0x0xb5987e]\n",
      "\t(No symbol) [0x0xb59c1b]\n",
      "\t(No symbol) [0x0xba2212]\n",
      "\t(No symbol) [0x0xb7e5c4]\n",
      "\t(No symbol) [0x0xb9fa4a]\n",
      "\t(No symbol) [0x0xb7e376]\n",
      "\t(No symbol) [0x0xb4d6e0]\n",
      "\t(No symbol) [0x0xb4e544]\n",
      "\tGetHandleVerifier [0x0xf3e033+2531347]\n",
      "\tGetHandleVerifier [0x0xf39332+2511634]\n",
      "\tGetHandleVerifier [0x0xd09eda+220858]\n",
      "\tGetHandleVerifier [0x0xcfa528+156936]\n",
      "\tGetHandleVerifier [0x0xd00c5d+183357]\n",
      "\tGetHandleVerifier [0x0xceb6c8+95912]\n",
      "\tGetHandleVerifier [0x0xceb870+96336]\n",
      "\tGetHandleVerifier [0x0xcd664a+9770]\n",
      "\tBaseThreadInitThunk [0x0x75d15d49+25]\n",
      "\tRtlInitializeExceptionChain [0x0x7786d03b+107]\n",
      "\tRtlGetAppContainerNamedObjectPath [0x0x7786cfc1+561]\n",
      "\n"
     ]
    },
    {
     "name": "stderr",
     "output_type": "stream",
     "text": [
      "Scraping NICs:   3%|▎         | 30/1127 [17:00<8:47:23, 28.85s/it]"
     ]
    },
    {
     "name": "stdout",
     "output_type": "stream",
     "text": [
      "Saved backup with 14712 results\n",
      "Error occurred while processing the table. Message: \n",
      "Stacktrace:\n",
      "\tGetHandleVerifier [0x0xce3763+63299]\n",
      "\tGetHandleVerifier [0x0xce37a4+63364]\n",
      "\t(No symbol) [0x0xb11113]\n",
      "\t(No symbol) [0x0xb5987e]\n",
      "\t(No symbol) [0x0xb59c1b]\n",
      "\t(No symbol) [0x0xba2212]\n",
      "\t(No symbol) [0x0xb7e5c4]\n",
      "\t(No symbol) [0x0xb9fa4a]\n",
      "\t(No symbol) [0x0xb7e376]\n",
      "\t(No symbol) [0x0xb4d6e0]\n",
      "\t(No symbol) [0x0xb4e544]\n",
      "\tGetHandleVerifier [0x0xf3e033+2531347]\n",
      "\tGetHandleVerifier [0x0xf39332+2511634]\n",
      "\tGetHandleVerifier [0x0xd09eda+220858]\n",
      "\tGetHandleVerifier [0x0xcfa528+156936]\n",
      "\tGetHandleVerifier [0x0xd00c5d+183357]\n",
      "\tGetHandleVerifier [0x0xceb6c8+95912]\n",
      "\tGetHandleVerifier [0x0xceb870+96336]\n",
      "\tGetHandleVerifier [0x0xcd664a+9770]\n",
      "\tBaseThreadInitThunk [0x0x75d15d49+25]\n",
      "\tRtlInitializeExceptionChain [0x0x7786d03b+107]\n",
      "\tRtlGetAppContainerNamedObjectPath [0x0x7786cfc1+561]\n",
      "\n"
     ]
    },
    {
     "name": "stderr",
     "output_type": "stream",
     "text": [
      "Scraping NICs:   3%|▎         | 31/1127 [17:20<7:58:22, 26.19s/it]"
     ]
    },
    {
     "name": "stdout",
     "output_type": "stream",
     "text": [
      "Saved backup with 14712 results\n",
      "Dropdown not found or not interactable.\n",
      "Dropdown not found or not interactable.\n",
      "Error occurred while processing the table. Message: \n",
      "Stacktrace:\n",
      "\tGetHandleVerifier [0x0xce3763+63299]\n",
      "\tGetHandleVerifier [0x0xce37a4+63364]\n",
      "\t(No symbol) [0x0xb11113]\n",
      "\t(No symbol) [0x0xb5987e]\n",
      "\t(No symbol) [0x0xb59c1b]\n",
      "\t(No symbol) [0x0xba2212]\n",
      "\t(No symbol) [0x0xb7e5c4]\n",
      "\t(No symbol) [0x0xb9fa4a]\n",
      "\t(No symbol) [0x0xb7e376]\n",
      "\t(No symbol) [0x0xb4d6e0]\n",
      "\t(No symbol) [0x0xb4e544]\n",
      "\tGetHandleVerifier [0x0xf3e033+2531347]\n",
      "\tGetHandleVerifier [0x0xf39332+2511634]\n",
      "\tGetHandleVerifier [0x0xd09eda+220858]\n",
      "\tGetHandleVerifier [0x0xcfa528+156936]\n",
      "\tGetHandleVerifier [0x0xd00c5d+183357]\n",
      "\tGetHandleVerifier [0x0xceb6c8+95912]\n",
      "\tGetHandleVerifier [0x0xceb870+96336]\n",
      "\tGetHandleVerifier [0x0xcd664a+9770]\n",
      "\tBaseThreadInitThunk [0x0x75d15d49+25]\n",
      "\tRtlInitializeExceptionChain [0x0x7786d03b+107]\n",
      "\tRtlGetAppContainerNamedObjectPath [0x0x7786cfc1+561]\n",
      "\n"
     ]
    },
    {
     "name": "stderr",
     "output_type": "stream",
     "text": [
      "Scraping NICs:   3%|▎         | 32/1127 [17:48<8:05:08, 26.58s/it]"
     ]
    },
    {
     "name": "stdout",
     "output_type": "stream",
     "text": [
      "Saved backup with 14712 results\n",
      "Error occurred while processing the table. Message: \n",
      "Stacktrace:\n",
      "\tGetHandleVerifier [0x0xce3763+63299]\n",
      "\tGetHandleVerifier [0x0xce37a4+63364]\n",
      "\t(No symbol) [0x0xb11113]\n",
      "\t(No symbol) [0x0xb5987e]\n",
      "\t(No symbol) [0x0xb59c1b]\n",
      "\t(No symbol) [0x0xba2212]\n",
      "\t(No symbol) [0x0xb7e5c4]\n",
      "\t(No symbol) [0x0xb9fa4a]\n",
      "\t(No symbol) [0x0xb7e376]\n",
      "\t(No symbol) [0x0xb4d6e0]\n",
      "\t(No symbol) [0x0xb4e544]\n",
      "\tGetHandleVerifier [0x0xf3e033+2531347]\n",
      "\tGetHandleVerifier [0x0xf39332+2511634]\n",
      "\tGetHandleVerifier [0x0xd09eda+220858]\n",
      "\tGetHandleVerifier [0x0xcfa528+156936]\n",
      "\tGetHandleVerifier [0x0xd00c5d+183357]\n",
      "\tGetHandleVerifier [0x0xceb6c8+95912]\n",
      "\tGetHandleVerifier [0x0xceb870+96336]\n",
      "\tGetHandleVerifier [0x0xcd664a+9770]\n",
      "\tBaseThreadInitThunk [0x0x75d15d49+25]\n",
      "\tRtlInitializeExceptionChain [0x0x7786d03b+107]\n",
      "\tRtlGetAppContainerNamedObjectPath [0x0x7786cfc1+561]\n",
      "\n"
     ]
    },
    {
     "name": "stderr",
     "output_type": "stream",
     "text": [
      "Scraping NICs:   3%|▎         | 33/1127 [18:08<7:28:34, 24.60s/it]"
     ]
    },
    {
     "name": "stdout",
     "output_type": "stream",
     "text": [
      "Saved backup with 14712 results\n",
      "Rows captured: 2160\n"
     ]
    },
    {
     "name": "stderr",
     "output_type": "stream",
     "text": [
      "Scraping NICs:   3%|▎         | 34/1127 [18:23<6:37:40, 21.83s/it]"
     ]
    },
    {
     "name": "stdout",
     "output_type": "stream",
     "text": [
      "Saved backup with 16872 results\n",
      "Rows captured: 2481\n"
     ]
    },
    {
     "name": "stderr",
     "output_type": "stream",
     "text": [
      "Scraping NICs:   3%|▎         | 35/1127 [23:51<34:27:56, 113.62s/it]"
     ]
    },
    {
     "name": "stdout",
     "output_type": "stream",
     "text": [
      "Saved backup with 19353 results\n",
      "Rows captured: 2737\n"
     ]
    },
    {
     "name": "stderr",
     "output_type": "stream",
     "text": [
      "Scraping NICs:   3%|▎         | 36/1127 [25:11<31:24:17, 103.63s/it]"
     ]
    },
    {
     "name": "stdout",
     "output_type": "stream",
     "text": [
      "Saved backup with 22090 results\n",
      "Rows captured: 1889\n"
     ]
    },
    {
     "name": "stderr",
     "output_type": "stream",
     "text": [
      "Scraping NICs:   3%|▎         | 37/1127 [27:28<34:19:49, 113.38s/it]"
     ]
    },
    {
     "name": "stdout",
     "output_type": "stream",
     "text": [
      "Saved backup with 23979 results\n",
      "Rows captured: 1147\n"
     ]
    },
    {
     "name": "stderr",
     "output_type": "stream",
     "text": [
      "Scraping NICs:   3%|▎         | 38/1127 [27:56<26:34:12, 87.84s/it] "
     ]
    },
    {
     "name": "stdout",
     "output_type": "stream",
     "text": [
      "Saved backup with 25126 results\n",
      "Rows captured: 3992\n"
     ]
    },
    {
     "name": "stderr",
     "output_type": "stream",
     "text": [
      "Scraping NICs:   3%|▎         | 39/1127 [28:03<19:15:25, 63.72s/it]"
     ]
    },
    {
     "name": "stdout",
     "output_type": "stream",
     "text": [
      "Saved backup with 29118 results\n",
      "Rows captured: 2929\n"
     ]
    },
    {
     "name": "stderr",
     "output_type": "stream",
     "text": [
      "Scraping NICs:   4%|▎         | 40/1127 [35:43<55:07:53, 182.59s/it]"
     ]
    },
    {
     "name": "stdout",
     "output_type": "stream",
     "text": [
      "Saved backup with 32047 results\n",
      "Rows captured: 1217\n"
     ]
    },
    {
     "name": "stderr",
     "output_type": "stream",
     "text": [
      "Scraping NICs:   4%|▎         | 41/1127 [38:55<55:54:40, 185.34s/it]"
     ]
    },
    {
     "name": "stdout",
     "output_type": "stream",
     "text": [
      "Saved backup with 33264 results\n",
      "Rows captured: 5779\n"
     ]
    },
    {
     "name": "stderr",
     "output_type": "stream",
     "text": [
      "Scraping NICs:   4%|▎         | 42/1127 [43:56<66:20:54, 220.14s/it]"
     ]
    },
    {
     "name": "stdout",
     "output_type": "stream",
     "text": [
      "Saved backup with 39043 results\n",
      "Rows captured: 744\n"
     ]
    },
    {
     "name": "stderr",
     "output_type": "stream",
     "text": [
      "Scraping NICs:   4%|▍         | 43/1127 [45:54<57:01:51, 189.40s/it]"
     ]
    },
    {
     "name": "stdout",
     "output_type": "stream",
     "text": [
      "Saved backup with 39787 results\n",
      "Rows captured: 2403\n"
     ]
    },
    {
     "name": "stderr",
     "output_type": "stream",
     "text": [
      "Scraping NICs:   4%|▍         | 44/1127 [46:18<42:03:58, 139.83s/it]"
     ]
    },
    {
     "name": "stdout",
     "output_type": "stream",
     "text": [
      "Saved backup with 42190 results\n",
      "Rows captured: 7369\n"
     ]
    },
    {
     "name": "stderr",
     "output_type": "stream",
     "text": [
      "Scraping NICs:   4%|▍         | 45/1127 [47:24<35:18:49, 117.49s/it]"
     ]
    },
    {
     "name": "stdout",
     "output_type": "stream",
     "text": [
      "Saved backup with 49559 results\n",
      "Rows captured: 859\n"
     ]
    },
    {
     "name": "stderr",
     "output_type": "stream",
     "text": [
      "Scraping NICs:   4%|▍         | 46/1127 [48:53<32:44:25, 109.03s/it]"
     ]
    },
    {
     "name": "stdout",
     "output_type": "stream",
     "text": [
      "Saved backup with 50418 results\n",
      "Rows captured: 595\n"
     ]
    },
    {
     "name": "stderr",
     "output_type": "stream",
     "text": [
      "Scraping NICs:   4%|▍         | 47/1127 [49:06<24:05:37, 80.31s/it] "
     ]
    },
    {
     "name": "stdout",
     "output_type": "stream",
     "text": [
      "Saved backup with 51013 results\n",
      "Rows captured: 1382\n"
     ]
    },
    {
     "name": "stderr",
     "output_type": "stream",
     "text": [
      "Scraping NICs:   4%|▍         | 48/1127 [50:36<24:55:33, 83.16s/it]"
     ]
    },
    {
     "name": "stdout",
     "output_type": "stream",
     "text": [
      "Saved backup with 52395 results\n",
      "Rows captured: 569\n"
     ]
    },
    {
     "name": "stderr",
     "output_type": "stream",
     "text": [
      "Scraping NICs:   4%|▍         | 49/1127 [50:52<18:53:46, 63.10s/it]"
     ]
    },
    {
     "name": "stdout",
     "output_type": "stream",
     "text": [
      "Saved backup with 52964 results\n",
      "Rows captured: 36\n"
     ]
    },
    {
     "name": "stderr",
     "output_type": "stream",
     "text": [
      "Scraping NICs:   4%|▍         | 50/1127 [51:09<14:40:35, 49.06s/it]"
     ]
    },
    {
     "name": "stdout",
     "output_type": "stream",
     "text": [
      "Saved backup with 53000 results\n",
      "Dropdown not found or not interactable.\n",
      "Rows captured: 48\n"
     ]
    },
    {
     "name": "stderr",
     "output_type": "stream",
     "text": [
      "Scraping NICs:   5%|▍         | 51/1127 [51:37<12:48:47, 42.87s/it]"
     ]
    },
    {
     "name": "stdout",
     "output_type": "stream",
     "text": [
      "Saved backup with 53048 results\n",
      "Error occurred while processing the table. Message: \n",
      "Stacktrace:\n",
      "\tGetHandleVerifier [0x0xce3763+63299]\n",
      "\tGetHandleVerifier [0x0xce37a4+63364]\n",
      "\t(No symbol) [0x0xb11113]\n",
      "\t(No symbol) [0x0xb5987e]\n",
      "\t(No symbol) [0x0xb59c1b]\n",
      "\t(No symbol) [0x0xba2212]\n",
      "\t(No symbol) [0x0xb7e5c4]\n",
      "\t(No symbol) [0x0xb9fa4a]\n",
      "\t(No symbol) [0x0xb7e376]\n",
      "\t(No symbol) [0x0xb4d6e0]\n",
      "\t(No symbol) [0x0xb4e544]\n",
      "\tGetHandleVerifier [0x0xf3e033+2531347]\n",
      "\tGetHandleVerifier [0x0xf39332+2511634]\n",
      "\tGetHandleVerifier [0x0xd09eda+220858]\n",
      "\tGetHandleVerifier [0x0xcfa528+156936]\n",
      "\tGetHandleVerifier [0x0xd00c5d+183357]\n",
      "\tGetHandleVerifier [0x0xceb6c8+95912]\n",
      "\tGetHandleVerifier [0x0xceb870+96336]\n",
      "\tGetHandleVerifier [0x0xcd664a+9770]\n",
      "\tBaseThreadInitThunk [0x0x75d15d49+25]\n",
      "\tRtlInitializeExceptionChain [0x0x7786d03b+107]\n",
      "\tRtlGetAppContainerNamedObjectPath [0x0x7786cfc1+561]\n",
      "\n"
     ]
    },
    {
     "name": "stderr",
     "output_type": "stream",
     "text": [
      "Scraping NICs:   5%|▍         | 52/1127 [51:40<9:15:31, 31.01s/it] "
     ]
    },
    {
     "name": "stdout",
     "output_type": "stream",
     "text": [
      "Saved backup with 53048 results\n",
      "Rows captured: 145\n"
     ]
    },
    {
     "name": "stderr",
     "output_type": "stream",
     "text": [
      "Scraping NICs:   5%|▍         | 53/1127 [52:27<10:38:31, 35.67s/it]"
     ]
    },
    {
     "name": "stdout",
     "output_type": "stream",
     "text": [
      "Saved backup with 53193 results\n",
      "Rows captured: 99\n"
     ]
    },
    {
     "name": "stderr",
     "output_type": "stream",
     "text": [
      "Scraping NICs:   5%|▍         | 54/1127 [53:00<10:22:10, 34.79s/it]"
     ]
    },
    {
     "name": "stdout",
     "output_type": "stream",
     "text": [
      "Saved backup with 53292 results\n",
      "Rows captured: 219\n"
     ]
    },
    {
     "name": "stderr",
     "output_type": "stream",
     "text": [
      "Scraping NICs:   5%|▍         | 55/1127 [53:34<10:20:40, 34.74s/it]"
     ]
    },
    {
     "name": "stdout",
     "output_type": "stream",
     "text": [
      "Saved backup with 53511 results\n",
      "Rows captured: 2825\n"
     ]
    },
    {
     "name": "stderr",
     "output_type": "stream",
     "text": [
      "Scraping NICs:   5%|▍         | 56/1127 [56:48<24:30:08, 82.36s/it]"
     ]
    },
    {
     "name": "stdout",
     "output_type": "stream",
     "text": [
      "Saved backup with 56336 results\n",
      "Rows captured: 2146\n"
     ]
    },
    {
     "name": "stderr",
     "output_type": "stream",
     "text": [
      "Scraping NICs:   5%|▌         | 57/1127 [59:36<32:07:50, 108.10s/it]"
     ]
    },
    {
     "name": "stdout",
     "output_type": "stream",
     "text": [
      "Saved backup with 58482 results\n",
      "Dropdown not found or not interactable.\n",
      "Error occurred while processing the table. Message: \n",
      "Stacktrace:\n",
      "\tGetHandleVerifier [0x0xce3763+63299]\n",
      "\tGetHandleVerifier [0x0xce37a4+63364]\n",
      "\t(No symbol) [0x0xb11113]\n",
      "\t(No symbol) [0x0xb5987e]\n",
      "\t(No symbol) [0x0xb59c1b]\n",
      "\t(No symbol) [0x0xba2212]\n",
      "\t(No symbol) [0x0xb7e5c4]\n",
      "\t(No symbol) [0x0xb9fa4a]\n",
      "\t(No symbol) [0x0xb7e376]\n",
      "\t(No symbol) [0x0xb4d6e0]\n",
      "\t(No symbol) [0x0xb4e544]\n",
      "\tGetHandleVerifier [0x0xf3e033+2531347]\n",
      "\tGetHandleVerifier [0x0xf39332+2511634]\n",
      "\tGetHandleVerifier [0x0xd09eda+220858]\n",
      "\tGetHandleVerifier [0x0xcfa528+156936]\n",
      "\tGetHandleVerifier [0x0xd00c5d+183357]\n",
      "\tGetHandleVerifier [0x0xceb6c8+95912]\n",
      "\tGetHandleVerifier [0x0xceb870+96336]\n",
      "\tGetHandleVerifier [0x0xcd664a+9770]\n",
      "\tBaseThreadInitThunk [0x0x75d15d49+25]\n",
      "\tRtlInitializeExceptionChain [0x0x7786d03b+107]\n",
      "\tRtlGetAppContainerNamedObjectPath [0x0x7786cfc1+561]\n",
      "\n"
     ]
    },
    {
     "name": "stderr",
     "output_type": "stream",
     "text": [
      "Scraping NICs:   5%|▌         | 58/1127 [1:00:30<27:18:17, 91.95s/it]"
     ]
    },
    {
     "name": "stdout",
     "output_type": "stream",
     "text": [
      "Saved backup with 58482 results\n",
      "Rows captured: 608\n"
     ]
    },
    {
     "name": "stderr",
     "output_type": "stream",
     "text": [
      "Scraping NICs:   5%|▌         | 59/1127 [1:02:05<27:34:19, 92.94s/it]"
     ]
    },
    {
     "name": "stdout",
     "output_type": "stream",
     "text": [
      "Saved backup with 59090 results\n",
      "Rows captured: 143\n"
     ]
    },
    {
     "name": "stderr",
     "output_type": "stream",
     "text": [
      "Scraping NICs:   5%|▌         | 60/1127 [1:02:49<23:12:03, 78.28s/it]"
     ]
    },
    {
     "name": "stdout",
     "output_type": "stream",
     "text": [
      "Saved backup with 59233 results\n",
      "Rows captured: 132\n"
     ]
    },
    {
     "name": "stderr",
     "output_type": "stream",
     "text": [
      "Scraping NICs:   5%|▌         | 61/1127 [1:03:42<20:55:13, 70.65s/it]"
     ]
    },
    {
     "name": "stdout",
     "output_type": "stream",
     "text": [
      "Saved backup with 59365 results\n",
      "Dropdown not found or not interactable.\n",
      "Error occurred while processing the table. Message: \n",
      "Stacktrace:\n",
      "\tGetHandleVerifier [0x0xce3763+63299]\n",
      "\tGetHandleVerifier [0x0xce37a4+63364]\n",
      "\t(No symbol) [0x0xb11113]\n",
      "\t(No symbol) [0x0xb5987e]\n",
      "\t(No symbol) [0x0xb59c1b]\n",
      "\t(No symbol) [0x0xba2212]\n",
      "\t(No symbol) [0x0xb7e5c4]\n",
      "\t(No symbol) [0x0xb9fa4a]\n",
      "\t(No symbol) [0x0xb7e376]\n",
      "\t(No symbol) [0x0xb4d6e0]\n",
      "\t(No symbol) [0x0xb4e544]\n",
      "\tGetHandleVerifier [0x0xf3e033+2531347]\n",
      "\tGetHandleVerifier [0x0xf39332+2511634]\n",
      "\tGetHandleVerifier [0x0xd09eda+220858]\n",
      "\tGetHandleVerifier [0x0xcfa528+156936]\n",
      "\tGetHandleVerifier [0x0xd00c5d+183357]\n",
      "\tGetHandleVerifier [0x0xceb6c8+95912]\n",
      "\tGetHandleVerifier [0x0xceb870+96336]\n",
      "\tGetHandleVerifier [0x0xcd664a+9770]\n",
      "\tBaseThreadInitThunk [0x0x75d15d49+25]\n",
      "\tRtlInitializeExceptionChain [0x0x7786d03b+107]\n",
      "\tRtlGetAppContainerNamedObjectPath [0x0x7786cfc1+561]\n",
      "\n"
     ]
    },
    {
     "name": "stderr",
     "output_type": "stream",
     "text": [
      "Scraping NICs:   6%|▌         | 62/1127 [1:04:30<18:51:27, 63.74s/it]"
     ]
    },
    {
     "name": "stdout",
     "output_type": "stream",
     "text": [
      "Saved backup with 59365 results\n",
      "Dropdown not found or not interactable.\n",
      "Error occurred while processing the table. Message: \n",
      "Stacktrace:\n",
      "\tGetHandleVerifier [0x0xce3763+63299]\n",
      "\tGetHandleVerifier [0x0xce37a4+63364]\n",
      "\t(No symbol) [0x0xb11113]\n",
      "\t(No symbol) [0x0xb5987e]\n",
      "\t(No symbol) [0x0xb59c1b]\n",
      "\t(No symbol) [0x0xba2212]\n",
      "\t(No symbol) [0x0xb7e5c4]\n",
      "\t(No symbol) [0x0xb9fa4a]\n",
      "\t(No symbol) [0x0xb7e376]\n",
      "\t(No symbol) [0x0xb4d6e0]\n",
      "\t(No symbol) [0x0xb4e544]\n",
      "\tGetHandleVerifier [0x0xf3e033+2531347]\n",
      "\tGetHandleVerifier [0x0xf39332+2511634]\n",
      "\tGetHandleVerifier [0x0xd09eda+220858]\n",
      "\tGetHandleVerifier [0x0xcfa528+156936]\n",
      "\tGetHandleVerifier [0x0xd00c5d+183357]\n",
      "\tGetHandleVerifier [0x0xceb6c8+95912]\n",
      "\tGetHandleVerifier [0x0xceb870+96336]\n",
      "\tGetHandleVerifier [0x0xcd664a+9770]\n",
      "\tBaseThreadInitThunk [0x0x75d15d49+25]\n",
      "\tRtlInitializeExceptionChain [0x0x7786d03b+107]\n",
      "\tRtlGetAppContainerNamedObjectPath [0x0x7786cfc1+561]\n",
      "\n"
     ]
    },
    {
     "name": "stderr",
     "output_type": "stream",
     "text": [
      "Scraping NICs:   6%|▌         | 63/1127 [1:05:29<18:25:49, 62.36s/it]"
     ]
    },
    {
     "name": "stdout",
     "output_type": "stream",
     "text": [
      "Saved backup with 59365 results\n",
      "Rows captured: 56\n"
     ]
    },
    {
     "name": "stderr",
     "output_type": "stream",
     "text": [
      "Scraping NICs:   6%|▌         | 64/1127 [1:06:50<20:06:20, 68.09s/it]"
     ]
    },
    {
     "name": "stdout",
     "output_type": "stream",
     "text": [
      "Saved backup with 59421 results\n",
      "Rows captured: 68\n"
     ]
    },
    {
     "name": "stderr",
     "output_type": "stream",
     "text": [
      "Scraping NICs:   6%|▌         | 65/1127 [1:08:10<21:04:41, 71.45s/it]"
     ]
    },
    {
     "name": "stdout",
     "output_type": "stream",
     "text": [
      "Saved backup with 59489 results\n",
      "Dropdown not found or not interactable.\n",
      "Error occurred while processing the table. Message: \n",
      "Stacktrace:\n",
      "\tGetHandleVerifier [0x0xce3763+63299]\n",
      "\tGetHandleVerifier [0x0xce37a4+63364]\n",
      "\t(No symbol) [0x0xb11113]\n",
      "\t(No symbol) [0x0xb5987e]\n",
      "\t(No symbol) [0x0xb59c1b]\n",
      "\t(No symbol) [0x0xba2212]\n",
      "\t(No symbol) [0x0xb7e5c4]\n",
      "\t(No symbol) [0x0xb9fa4a]\n",
      "\t(No symbol) [0x0xb7e376]\n",
      "\t(No symbol) [0x0xb4d6e0]\n",
      "\t(No symbol) [0x0xb4e544]\n",
      "\tGetHandleVerifier [0x0xf3e033+2531347]\n",
      "\tGetHandleVerifier [0x0xf39332+2511634]\n",
      "\tGetHandleVerifier [0x0xd09eda+220858]\n",
      "\tGetHandleVerifier [0x0xcfa528+156936]\n",
      "\tGetHandleVerifier [0x0xd00c5d+183357]\n",
      "\tGetHandleVerifier [0x0xceb6c8+95912]\n",
      "\tGetHandleVerifier [0x0xceb870+96336]\n",
      "\tGetHandleVerifier [0x0xcd664a+9770]\n",
      "\tBaseThreadInitThunk [0x0x75d15d49+25]\n",
      "\tRtlInitializeExceptionChain [0x0x7786d03b+107]\n",
      "\tRtlGetAppContainerNamedObjectPath [0x0x7786cfc1+561]\n",
      "\n"
     ]
    },
    {
     "name": "stderr",
     "output_type": "stream",
     "text": [
      "Scraping NICs:   6%|▌         | 66/1127 [1:09:11<20:10:56, 68.48s/it]"
     ]
    },
    {
     "name": "stdout",
     "output_type": "stream",
     "text": [
      "Saved backup with 59489 results\n",
      "Rows captured: 623\n"
     ]
    },
    {
     "name": "stderr",
     "output_type": "stream",
     "text": [
      "Scraping NICs:   6%|▌         | 67/1127 [1:12:25<31:13:15, 106.03s/it]"
     ]
    },
    {
     "name": "stdout",
     "output_type": "stream",
     "text": [
      "Saved backup with 60112 results\n",
      "Dropdown not found or not interactable.\n",
      "Error occurred while processing the table. Message: \n",
      "Stacktrace:\n",
      "\tGetHandleVerifier [0x0xce3763+63299]\n",
      "\tGetHandleVerifier [0x0xce37a4+63364]\n",
      "\t(No symbol) [0x0xb11113]\n",
      "\t(No symbol) [0x0xb5987e]\n",
      "\t(No symbol) [0x0xb59c1b]\n",
      "\t(No symbol) [0x0xba2212]\n",
      "\t(No symbol) [0x0xb7e5c4]\n",
      "\t(No symbol) [0x0xb9fa4a]\n",
      "\t(No symbol) [0x0xb7e376]\n",
      "\t(No symbol) [0x0xb4d6e0]\n",
      "\t(No symbol) [0x0xb4e544]\n",
      "\tGetHandleVerifier [0x0xf3e033+2531347]\n",
      "\tGetHandleVerifier [0x0xf39332+2511634]\n",
      "\tGetHandleVerifier [0x0xd09eda+220858]\n",
      "\tGetHandleVerifier [0x0xcfa528+156936]\n",
      "\tGetHandleVerifier [0x0xd00c5d+183357]\n",
      "\tGetHandleVerifier [0x0xceb6c8+95912]\n",
      "\tGetHandleVerifier [0x0xceb870+96336]\n",
      "\tGetHandleVerifier [0x0xcd664a+9770]\n",
      "\tBaseThreadInitThunk [0x0x75d15d49+25]\n",
      "\tRtlInitializeExceptionChain [0x0x7786d03b+107]\n",
      "\tRtlGetAppContainerNamedObjectPath [0x0x7786cfc1+561]\n",
      "\n"
     ]
    },
    {
     "name": "stderr",
     "output_type": "stream",
     "text": [
      "Scraping NICs:   6%|▌         | 68/1127 [1:13:13<26:02:10, 88.51s/it] "
     ]
    },
    {
     "name": "stdout",
     "output_type": "stream",
     "text": [
      "Saved backup with 60112 results\n",
      "Dropdown not found or not interactable.\n",
      "Error occurred while processing the table. Message: \n",
      "Stacktrace:\n",
      "\tGetHandleVerifier [0x0xce3763+63299]\n",
      "\tGetHandleVerifier [0x0xce37a4+63364]\n",
      "\t(No symbol) [0x0xb11113]\n",
      "\t(No symbol) [0x0xb5987e]\n",
      "\t(No symbol) [0x0xb59c1b]\n",
      "\t(No symbol) [0x0xba2212]\n",
      "\t(No symbol) [0x0xb7e5c4]\n",
      "\t(No symbol) [0x0xb9fa4a]\n",
      "\t(No symbol) [0x0xb7e376]\n",
      "\t(No symbol) [0x0xb4d6e0]\n",
      "\t(No symbol) [0x0xb4e544]\n",
      "\tGetHandleVerifier [0x0xf3e033+2531347]\n",
      "\tGetHandleVerifier [0x0xf39332+2511634]\n",
      "\tGetHandleVerifier [0x0xd09eda+220858]\n",
      "\tGetHandleVerifier [0x0xcfa528+156936]\n",
      "\tGetHandleVerifier [0x0xd00c5d+183357]\n",
      "\tGetHandleVerifier [0x0xceb6c8+95912]\n",
      "\tGetHandleVerifier [0x0xceb870+96336]\n",
      "\tGetHandleVerifier [0x0xcd664a+9770]\n",
      "\tBaseThreadInitThunk [0x0x75d15d49+25]\n",
      "\tRtlInitializeExceptionChain [0x0x7786d03b+107]\n",
      "\tRtlGetAppContainerNamedObjectPath [0x0x7786cfc1+561]\n",
      "\n"
     ]
    },
    {
     "name": "stderr",
     "output_type": "stream",
     "text": [
      "Scraping NICs:   6%|▌         | 69/1127 [1:14:05<22:48:52, 77.63s/it]"
     ]
    },
    {
     "name": "stdout",
     "output_type": "stream",
     "text": [
      "Saved backup with 60112 results\n",
      "Dropdown not found or not interactable.\n",
      "Error occurred while processing the table. Message: \n",
      "Stacktrace:\n",
      "\tGetHandleVerifier [0x0xce3763+63299]\n",
      "\tGetHandleVerifier [0x0xce37a4+63364]\n",
      "\t(No symbol) [0x0xb11113]\n",
      "\t(No symbol) [0x0xb5987e]\n",
      "\t(No symbol) [0x0xb59c1b]\n",
      "\t(No symbol) [0x0xba2212]\n",
      "\t(No symbol) [0x0xb7e5c4]\n",
      "\t(No symbol) [0x0xb9fa4a]\n",
      "\t(No symbol) [0x0xb7e376]\n",
      "\t(No symbol) [0x0xb4d6e0]\n",
      "\t(No symbol) [0x0xb4e544]\n",
      "\tGetHandleVerifier [0x0xf3e033+2531347]\n",
      "\tGetHandleVerifier [0x0xf39332+2511634]\n",
      "\tGetHandleVerifier [0x0xd09eda+220858]\n",
      "\tGetHandleVerifier [0x0xcfa528+156936]\n",
      "\tGetHandleVerifier [0x0xd00c5d+183357]\n",
      "\tGetHandleVerifier [0x0xceb6c8+95912]\n",
      "\tGetHandleVerifier [0x0xceb870+96336]\n",
      "\tGetHandleVerifier [0x0xcd664a+9770]\n",
      "\tBaseThreadInitThunk [0x0x75d15d49+25]\n",
      "\tRtlInitializeExceptionChain [0x0x7786d03b+107]\n",
      "\tRtlGetAppContainerNamedObjectPath [0x0x7786cfc1+561]\n",
      "\n"
     ]
    },
    {
     "name": "stderr",
     "output_type": "stream",
     "text": [
      "Scraping NICs:   6%|▌         | 70/1127 [1:15:03<21:03:26, 71.72s/it]"
     ]
    },
    {
     "name": "stdout",
     "output_type": "stream",
     "text": [
      "Saved backup with 60112 results\n",
      "Rows captured: 24\n"
     ]
    },
    {
     "name": "stderr",
     "output_type": "stream",
     "text": [
      "Scraping NICs:   6%|▋         | 71/1127 [1:15:43<18:13:55, 62.15s/it]"
     ]
    },
    {
     "name": "stdout",
     "output_type": "stream",
     "text": [
      "Saved backup with 60136 results\n",
      "Dropdown not found or not interactable.\n",
      "Error occurred while processing the table. Message: \n",
      "Stacktrace:\n",
      "\tGetHandleVerifier [0x0xce3763+63299]\n",
      "\tGetHandleVerifier [0x0xce37a4+63364]\n",
      "\t(No symbol) [0x0xb11113]\n",
      "\t(No symbol) [0x0xb5987e]\n",
      "\t(No symbol) [0x0xb59c1b]\n",
      "\t(No symbol) [0x0xba2212]\n",
      "\t(No symbol) [0x0xb7e5c4]\n",
      "\t(No symbol) [0x0xb9fa4a]\n",
      "\t(No symbol) [0x0xb7e376]\n",
      "\t(No symbol) [0x0xb4d6e0]\n",
      "\t(No symbol) [0x0xb4e544]\n",
      "\tGetHandleVerifier [0x0xf3e033+2531347]\n",
      "\tGetHandleVerifier [0x0xf39332+2511634]\n",
      "\tGetHandleVerifier [0x0xd09eda+220858]\n",
      "\tGetHandleVerifier [0x0xcfa528+156936]\n",
      "\tGetHandleVerifier [0x0xd00c5d+183357]\n",
      "\tGetHandleVerifier [0x0xceb6c8+95912]\n",
      "\tGetHandleVerifier [0x0xceb870+96336]\n",
      "\tGetHandleVerifier [0x0xcd664a+9770]\n",
      "\tBaseThreadInitThunk [0x0x75d15d49+25]\n",
      "\tRtlInitializeExceptionChain [0x0x7786d03b+107]\n",
      "\tRtlGetAppContainerNamedObjectPath [0x0x7786cfc1+561]\n",
      "\n"
     ]
    },
    {
     "name": "stderr",
     "output_type": "stream",
     "text": [
      "Scraping NICs:   6%|▋         | 72/1127 [1:16:31<16:57:57, 57.89s/it]"
     ]
    },
    {
     "name": "stdout",
     "output_type": "stream",
     "text": [
      "Saved backup with 60136 results\n",
      "Dropdown not found or not interactable.\n",
      "Error occurred while processing the table. Message: \n",
      "Stacktrace:\n",
      "\tGetHandleVerifier [0x0xce3763+63299]\n",
      "\tGetHandleVerifier [0x0xce37a4+63364]\n",
      "\t(No symbol) [0x0xb11113]\n",
      "\t(No symbol) [0x0xb5987e]\n",
      "\t(No symbol) [0x0xb59c1b]\n",
      "\t(No symbol) [0x0xba2212]\n",
      "\t(No symbol) [0x0xb7e5c4]\n",
      "\t(No symbol) [0x0xb9fa4a]\n",
      "\t(No symbol) [0x0xb7e376]\n",
      "\t(No symbol) [0x0xb4d6e0]\n",
      "\t(No symbol) [0x0xb4e544]\n",
      "\tGetHandleVerifier [0x0xf3e033+2531347]\n",
      "\tGetHandleVerifier [0x0xf39332+2511634]\n",
      "\tGetHandleVerifier [0x0xd09eda+220858]\n",
      "\tGetHandleVerifier [0x0xcfa528+156936]\n",
      "\tGetHandleVerifier [0x0xd00c5d+183357]\n",
      "\tGetHandleVerifier [0x0xceb6c8+95912]\n",
      "\tGetHandleVerifier [0x0xceb870+96336]\n",
      "\tGetHandleVerifier [0x0xcd664a+9770]\n",
      "\tBaseThreadInitThunk [0x0x75d15d49+25]\n",
      "\tRtlInitializeExceptionChain [0x0x7786d03b+107]\n",
      "\tRtlGetAppContainerNamedObjectPath [0x0x7786cfc1+561]\n",
      "\n"
     ]
    },
    {
     "name": "stderr",
     "output_type": "stream",
     "text": [
      "Scraping NICs:   6%|▋         | 73/1127 [1:17:27<16:49:51, 57.49s/it]"
     ]
    },
    {
     "name": "stdout",
     "output_type": "stream",
     "text": [
      "Saved backup with 60136 results\n",
      "Rows captured: 7926\n"
     ]
    },
    {
     "name": "stderr",
     "output_type": "stream",
     "text": [
      "Scraping NICs:   7%|▋         | 74/1127 [1:17:42<13:05:28, 44.76s/it]"
     ]
    },
    {
     "name": "stdout",
     "output_type": "stream",
     "text": [
      "Saved backup with 68062 results\n",
      "Error occurred while processing the table. HTTPConnectionPool(host='localhost', port=56627): Read timed out. (read timeout=120)\n"
     ]
    },
    {
     "name": "stderr",
     "output_type": "stream",
     "text": [
      "Scraping NICs:   7%|▋         | 75/1127 [1:19:44<19:49:07, 67.82s/it]"
     ]
    },
    {
     "name": "stdout",
     "output_type": "stream",
     "text": [
      "Saved backup with 68062 results\n",
      "Rows captured: 1232\n"
     ]
    },
    {
     "name": "stderr",
     "output_type": "stream",
     "text": [
      "Scraping NICs:   7%|▋         | 76/1127 [1:19:55<14:50:00, 50.81s/it]"
     ]
    },
    {
     "name": "stdout",
     "output_type": "stream",
     "text": [
      "Saved backup with 69294 results\n",
      "Dropdown not found or not interactable.\n",
      "Dropdown not found or not interactable.\n",
      "Error occurred while processing the table. Message: \n",
      "Stacktrace:\n",
      "\tGetHandleVerifier [0x0xce3763+63299]\n",
      "\tGetHandleVerifier [0x0xce37a4+63364]\n",
      "\t(No symbol) [0x0xb11113]\n",
      "\t(No symbol) [0x0xb5987e]\n",
      "\t(No symbol) [0x0xb59c1b]\n",
      "\t(No symbol) [0x0xba2212]\n",
      "\t(No symbol) [0x0xb7e5c4]\n",
      "\t(No symbol) [0x0xb9fa4a]\n",
      "\t(No symbol) [0x0xb7e376]\n",
      "\t(No symbol) [0x0xb4d6e0]\n",
      "\t(No symbol) [0x0xb4e544]\n",
      "\tGetHandleVerifier [0x0xf3e033+2531347]\n",
      "\tGetHandleVerifier [0x0xf39332+2511634]\n",
      "\tGetHandleVerifier [0x0xd09eda+220858]\n",
      "\tGetHandleVerifier [0x0xcfa528+156936]\n",
      "\tGetHandleVerifier [0x0xd00c5d+183357]\n",
      "\tGetHandleVerifier [0x0xceb6c8+95912]\n",
      "\tGetHandleVerifier [0x0xceb870+96336]\n",
      "\tGetHandleVerifier [0x0xcd664a+9770]\n",
      "\tBaseThreadInitThunk [0x0x75d15d49+25]\n",
      "\tRtlInitializeExceptionChain [0x0x7786d03b+107]\n",
      "\tRtlGetAppContainerNamedObjectPath [0x0x7786cfc1+561]\n",
      "\n"
     ]
    },
    {
     "name": "stderr",
     "output_type": "stream",
     "text": [
      "Scraping NICs:   7%|▋         | 77/1127 [1:20:31<13:30:55, 46.34s/it]"
     ]
    },
    {
     "name": "stdout",
     "output_type": "stream",
     "text": [
      "Saved backup with 69294 results\n",
      "Error occurred while processing the table. Message: \n",
      "Stacktrace:\n",
      "\tGetHandleVerifier [0x0xce3763+63299]\n",
      "\tGetHandleVerifier [0x0xce37a4+63364]\n",
      "\t(No symbol) [0x0xb11113]\n",
      "\t(No symbol) [0x0xb5987e]\n",
      "\t(No symbol) [0x0xb59c1b]\n",
      "\t(No symbol) [0x0xba2212]\n",
      "\t(No symbol) [0x0xb7e5c4]\n",
      "\t(No symbol) [0x0xb9fa4a]\n",
      "\t(No symbol) [0x0xb7e376]\n",
      "\t(No symbol) [0x0xb4d6e0]\n",
      "\t(No symbol) [0x0xb4e544]\n",
      "\tGetHandleVerifier [0x0xf3e033+2531347]\n",
      "\tGetHandleVerifier [0x0xf39332+2511634]\n",
      "\tGetHandleVerifier [0x0xd09eda+220858]\n",
      "\tGetHandleVerifier [0x0xcfa528+156936]\n",
      "\tGetHandleVerifier [0x0xd00c5d+183357]\n",
      "\tGetHandleVerifier [0x0xceb6c8+95912]\n",
      "\tGetHandleVerifier [0x0xceb870+96336]\n",
      "\tGetHandleVerifier [0x0xcd664a+9770]\n",
      "\tBaseThreadInitThunk [0x0x75d15d49+25]\n",
      "\tRtlInitializeExceptionChain [0x0x7786d03b+107]\n",
      "\tRtlGetAppContainerNamedObjectPath [0x0x7786cfc1+561]\n",
      "\n"
     ]
    },
    {
     "name": "stderr",
     "output_type": "stream",
     "text": [
      "Scraping NICs:   7%|▋         | 78/1127 [1:20:46<10:45:57, 36.95s/it]"
     ]
    },
    {
     "name": "stdout",
     "output_type": "stream",
     "text": [
      "Saved backup with 69294 results\n",
      "Dropdown not found or not interactable.\n",
      "Error occurred while processing the table. Message: \n",
      "Stacktrace:\n",
      "\tGetHandleVerifier [0x0xce3763+63299]\n",
      "\tGetHandleVerifier [0x0xce37a4+63364]\n",
      "\t(No symbol) [0x0xb11113]\n",
      "\t(No symbol) [0x0xb5987e]\n",
      "\t(No symbol) [0x0xb59c1b]\n",
      "\t(No symbol) [0x0xba2212]\n",
      "\t(No symbol) [0x0xb7e5c4]\n",
      "\t(No symbol) [0x0xb9fa4a]\n",
      "\t(No symbol) [0x0xb7e376]\n",
      "\t(No symbol) [0x0xb4d6e0]\n",
      "\t(No symbol) [0x0xb4e544]\n",
      "\tGetHandleVerifier [0x0xf3e033+2531347]\n",
      "\tGetHandleVerifier [0x0xf39332+2511634]\n",
      "\tGetHandleVerifier [0x0xd09eda+220858]\n",
      "\tGetHandleVerifier [0x0xcfa528+156936]\n",
      "\tGetHandleVerifier [0x0xd00c5d+183357]\n",
      "\tGetHandleVerifier [0x0xceb6c8+95912]\n",
      "\tGetHandleVerifier [0x0xceb870+96336]\n",
      "\tGetHandleVerifier [0x0xcd664a+9770]\n",
      "\tBaseThreadInitThunk [0x0x75d15d49+25]\n",
      "\tRtlInitializeExceptionChain [0x0x7786d03b+107]\n",
      "\tRtlGetAppContainerNamedObjectPath [0x0x7786cfc1+561]\n",
      "\n"
     ]
    },
    {
     "name": "stderr",
     "output_type": "stream",
     "text": [
      "Scraping NICs:   7%|▋         | 79/1127 [1:21:29<11:17:40, 38.80s/it]"
     ]
    },
    {
     "name": "stdout",
     "output_type": "stream",
     "text": [
      "Saved backup with 69294 results\n",
      "Rows captured: 8470\n"
     ]
    },
    {
     "name": "stderr",
     "output_type": "stream",
     "text": [
      "Scraping NICs:   7%|▋         | 80/1127 [1:21:32<8:10:20, 28.10s/it] "
     ]
    },
    {
     "name": "stdout",
     "output_type": "stream",
     "text": [
      "Saved backup with 77764 results\n",
      "Dropdown not found or not interactable.\n",
      "Error occurred while processing the table. Message: \n",
      "Stacktrace:\n",
      "\tGetHandleVerifier [0x0xce3763+63299]\n",
      "\tGetHandleVerifier [0x0xce37a4+63364]\n",
      "\t(No symbol) [0x0xb11113]\n",
      "\t(No symbol) [0x0xb5987e]\n",
      "\t(No symbol) [0x0xb59c1b]\n",
      "\t(No symbol) [0x0xba2212]\n",
      "\t(No symbol) [0x0xb7e5c4]\n",
      "\t(No symbol) [0x0xb9fa4a]\n",
      "\t(No symbol) [0x0xb7e376]\n",
      "\t(No symbol) [0x0xb4d6e0]\n",
      "\t(No symbol) [0x0xb4e544]\n",
      "\tGetHandleVerifier [0x0xf3e033+2531347]\n",
      "\tGetHandleVerifier [0x0xf39332+2511634]\n",
      "\tGetHandleVerifier [0x0xd09eda+220858]\n",
      "\tGetHandleVerifier [0x0xcfa528+156936]\n",
      "\tGetHandleVerifier [0x0xd00c5d+183357]\n",
      "\tGetHandleVerifier [0x0xceb6c8+95912]\n",
      "\tGetHandleVerifier [0x0xceb870+96336]\n",
      "\tGetHandleVerifier [0x0xcd664a+9770]\n",
      "\tBaseThreadInitThunk [0x0x75d15d49+25]\n",
      "\tRtlInitializeExceptionChain [0x0x7786d03b+107]\n",
      "\tRtlGetAppContainerNamedObjectPath [0x0x7786cfc1+561]\n",
      "\n"
     ]
    },
    {
     "name": "stderr",
     "output_type": "stream",
     "text": [
      "Scraping NICs:   7%|▋         | 81/1127 [1:22:27<10:30:16, 36.15s/it]"
     ]
    },
    {
     "name": "stdout",
     "output_type": "stream",
     "text": [
      "Saved backup with 77764 results\n",
      "Error occurred while processing the table. HTTPConnectionPool(host='localhost', port=56821): Read timed out. (read timeout=120)\n"
     ]
    },
    {
     "name": "stderr",
     "output_type": "stream",
     "text": [
      "Scraping NICs:   7%|▋         | 82/1127 [1:23:30<12:51:52, 44.32s/it]"
     ]
    },
    {
     "name": "stdout",
     "output_type": "stream",
     "text": [
      "Saved backup with 77764 results\n",
      "Rows captured: 1394\n"
     ]
    },
    {
     "name": "stderr",
     "output_type": "stream",
     "text": [
      "Scraping NICs:   7%|▋         | 83/1127 [1:25:26<19:05:39, 65.84s/it]"
     ]
    },
    {
     "name": "stdout",
     "output_type": "stream",
     "text": [
      "Saved backup with 79158 results\n",
      "Rows captured: 2144\n"
     ]
    },
    {
     "name": "stderr",
     "output_type": "stream",
     "text": [
      "Scraping NICs:   7%|▋         | 84/1127 [1:25:39<14:27:18, 49.89s/it]"
     ]
    },
    {
     "name": "stdout",
     "output_type": "stream",
     "text": [
      "Saved backup with 81302 results\n",
      "Rows captured: 1432\n"
     ]
    },
    {
     "name": "stderr",
     "output_type": "stream",
     "text": [
      "Scraping NICs:   8%|▊         | 85/1127 [1:26:03<12:08:54, 41.97s/it]"
     ]
    },
    {
     "name": "stdout",
     "output_type": "stream",
     "text": [
      "Saved backup with 82734 results\n",
      "Dropdown not found or not interactable.\n",
      "Error occurred while processing the table. Message: \n",
      "Stacktrace:\n",
      "\tGetHandleVerifier [0x0xce3763+63299]\n",
      "\tGetHandleVerifier [0x0xce37a4+63364]\n",
      "\t(No symbol) [0x0xb11113]\n",
      "\t(No symbol) [0x0xb5987e]\n",
      "\t(No symbol) [0x0xb59c1b]\n",
      "\t(No symbol) [0x0xba2212]\n",
      "\t(No symbol) [0x0xb7e5c4]\n",
      "\t(No symbol) [0x0xb9fa4a]\n",
      "\t(No symbol) [0x0xb7e376]\n",
      "\t(No symbol) [0x0xb4d6e0]\n",
      "\t(No symbol) [0x0xb4e544]\n",
      "\tGetHandleVerifier [0x0xf3e033+2531347]\n",
      "\tGetHandleVerifier [0x0xf39332+2511634]\n",
      "\tGetHandleVerifier [0x0xd09eda+220858]\n",
      "\tGetHandleVerifier [0x0xcfa528+156936]\n",
      "\tGetHandleVerifier [0x0xd00c5d+183357]\n",
      "\tGetHandleVerifier [0x0xceb6c8+95912]\n",
      "\tGetHandleVerifier [0x0xceb870+96336]\n",
      "\tGetHandleVerifier [0x0xcd664a+9770]\n",
      "\tBaseThreadInitThunk [0x0x75d15d49+25]\n",
      "\tRtlInitializeExceptionChain [0x0x7786d03b+107]\n",
      "\tRtlGetAppContainerNamedObjectPath [0x0x7786cfc1+561]\n",
      "\n"
     ]
    },
    {
     "name": "stderr",
     "output_type": "stream",
     "text": [
      "Scraping NICs:   8%|▊         | 86/1127 [1:27:02<13:38:19, 47.17s/it]"
     ]
    },
    {
     "name": "stdout",
     "output_type": "stream",
     "text": [
      "Saved backup with 82734 results\n",
      "Error occurred while processing the table. HTTPConnectionPool(host='localhost', port=57023): Read timed out. (read timeout=120)\n"
     ]
    },
    {
     "name": "stderr",
     "output_type": "stream",
     "text": [
      "Scraping NICs:   8%|▊         | 87/1127 [1:27:28<11:47:19, 40.81s/it]"
     ]
    },
    {
     "name": "stdout",
     "output_type": "stream",
     "text": [
      "Saved backup with 82734 results\n",
      "Dropdown not found or not interactable.\n",
      "Rows captured: 1311\n"
     ]
    },
    {
     "name": "stderr",
     "output_type": "stream",
     "text": [
      "Scraping NICs:   8%|▊         | 88/1127 [1:28:13<12:08:59, 42.10s/it]"
     ]
    },
    {
     "name": "stdout",
     "output_type": "stream",
     "text": [
      "Saved backup with 84045 results\n",
      "Error occurred while processing the table. Message: \n",
      "Stacktrace:\n",
      "\tGetHandleVerifier [0x0xce3763+63299]\n",
      "\tGetHandleVerifier [0x0xce37a4+63364]\n",
      "\t(No symbol) [0x0xb11113]\n",
      "\t(No symbol) [0x0xb5987e]\n",
      "\t(No symbol) [0x0xb59c1b]\n",
      "\t(No symbol) [0x0xba2212]\n",
      "\t(No symbol) [0x0xb7e5c4]\n",
      "\t(No symbol) [0x0xb9fa4a]\n",
      "\t(No symbol) [0x0xb7e376]\n",
      "\t(No symbol) [0x0xb4d6e0]\n",
      "\t(No symbol) [0x0xb4e544]\n",
      "\tGetHandleVerifier [0x0xf3e033+2531347]\n",
      "\tGetHandleVerifier [0x0xf39332+2511634]\n",
      "\tGetHandleVerifier [0x0xd09eda+220858]\n",
      "\tGetHandleVerifier [0x0xcfa528+156936]\n",
      "\tGetHandleVerifier [0x0xd00c5d+183357]\n",
      "\tGetHandleVerifier [0x0xceb6c8+95912]\n",
      "\tGetHandleVerifier [0x0xceb870+96336]\n",
      "\tGetHandleVerifier [0x0xcd664a+9770]\n",
      "\tBaseThreadInitThunk [0x0x75d15d49+25]\n",
      "\tRtlInitializeExceptionChain [0x0x7786d03b+107]\n",
      "\tRtlGetAppContainerNamedObjectPath [0x0x7786cfc1+561]\n",
      "\n"
     ]
    },
    {
     "name": "stderr",
     "output_type": "stream",
     "text": [
      "Scraping NICs:   8%|▊         | 89/1127 [1:28:19<9:00:16, 31.23s/it] "
     ]
    },
    {
     "name": "stdout",
     "output_type": "stream",
     "text": [
      "Saved backup with 84045 results\n",
      "Rows captured: 171\n"
     ]
    },
    {
     "name": "stderr",
     "output_type": "stream",
     "text": [
      "Scraping NICs:   8%|▊         | 90/1127 [1:29:07<10:28:40, 36.37s/it]"
     ]
    },
    {
     "name": "stdout",
     "output_type": "stream",
     "text": [
      "Saved backup with 84216 results\n",
      "Rows captured: 44\n"
     ]
    },
    {
     "name": "stderr",
     "output_type": "stream",
     "text": [
      "Scraping NICs:   8%|▊         | 91/1127 [1:29:29<9:14:38, 32.12s/it] "
     ]
    },
    {
     "name": "stdout",
     "output_type": "stream",
     "text": [
      "Saved backup with 84260 results\n",
      "Dropdown not found or not interactable.\n",
      "Rows captured: 459\n"
     ]
    },
    {
     "name": "stderr",
     "output_type": "stream",
     "text": [
      "Scraping NICs:   8%|▊         | 92/1127 [1:29:34<6:50:17, 23.79s/it]"
     ]
    },
    {
     "name": "stdout",
     "output_type": "stream",
     "text": [
      "Saved backup with 84719 results\n",
      "Error occurred while processing the table. Message: \n",
      "Stacktrace:\n",
      "\tGetHandleVerifier [0x0xce3763+63299]\n",
      "\tGetHandleVerifier [0x0xce37a4+63364]\n",
      "\t(No symbol) [0x0xb11113]\n",
      "\t(No symbol) [0x0xb5987e]\n",
      "\t(No symbol) [0x0xb59c1b]\n",
      "\t(No symbol) [0x0xba2212]\n",
      "\t(No symbol) [0x0xb7e5c4]\n",
      "\t(No symbol) [0x0xb9fa4a]\n",
      "\t(No symbol) [0x0xb7e376]\n",
      "\t(No symbol) [0x0xb4d6e0]\n",
      "\t(No symbol) [0x0xb4e544]\n",
      "\tGetHandleVerifier [0x0xf3e033+2531347]\n",
      "\tGetHandleVerifier [0x0xf39332+2511634]\n",
      "\tGetHandleVerifier [0x0xd09eda+220858]\n",
      "\tGetHandleVerifier [0x0xcfa528+156936]\n",
      "\tGetHandleVerifier [0x0xd00c5d+183357]\n",
      "\tGetHandleVerifier [0x0xceb6c8+95912]\n",
      "\tGetHandleVerifier [0x0xceb870+96336]\n",
      "\tGetHandleVerifier [0x0xcd664a+9770]\n",
      "\tBaseThreadInitThunk [0x0x75d15d49+25]\n",
      "\tRtlInitializeExceptionChain [0x0x7786d03b+107]\n",
      "\tRtlGetAppContainerNamedObjectPath [0x0x7786cfc1+561]\n",
      "\n"
     ]
    },
    {
     "name": "stderr",
     "output_type": "stream",
     "text": [
      "Scraping NICs:   8%|▊         | 93/1127 [1:29:59<6:58:35, 24.29s/it]"
     ]
    },
    {
     "name": "stdout",
     "output_type": "stream",
     "text": [
      "Saved backup with 84719 results\n",
      "Dropdown not found or not interactable.\n",
      "Rows captured: 72\n"
     ]
    },
    {
     "name": "stderr",
     "output_type": "stream",
     "text": [
      "Scraping NICs:   8%|▊         | 94/1127 [1:30:25<7:07:28, 24.83s/it]"
     ]
    },
    {
     "name": "stdout",
     "output_type": "stream",
     "text": [
      "Saved backup with 84791 results\n",
      "Error occurred while processing the table. Message: \n",
      "Stacktrace:\n",
      "\tGetHandleVerifier [0x0xce3763+63299]\n",
      "\tGetHandleVerifier [0x0xce37a4+63364]\n",
      "\t(No symbol) [0x0xb11113]\n",
      "\t(No symbol) [0x0xb5987e]\n",
      "\t(No symbol) [0x0xb59c1b]\n",
      "\t(No symbol) [0x0xba2212]\n",
      "\t(No symbol) [0x0xb7e5c4]\n",
      "\t(No symbol) [0x0xb9fa4a]\n",
      "\t(No symbol) [0x0xb7e376]\n",
      "\t(No symbol) [0x0xb4d6e0]\n",
      "\t(No symbol) [0x0xb4e544]\n",
      "\tGetHandleVerifier [0x0xf3e033+2531347]\n",
      "\tGetHandleVerifier [0x0xf39332+2511634]\n",
      "\tGetHandleVerifier [0x0xd09eda+220858]\n",
      "\tGetHandleVerifier [0x0xcfa528+156936]\n",
      "\tGetHandleVerifier [0x0xd00c5d+183357]\n",
      "\tGetHandleVerifier [0x0xceb6c8+95912]\n",
      "\tGetHandleVerifier [0x0xceb870+96336]\n",
      "\tGetHandleVerifier [0x0xcd664a+9770]\n",
      "\tBaseThreadInitThunk [0x0x75d15d49+25]\n",
      "\tRtlInitializeExceptionChain [0x0x7786d03b+107]\n",
      "\tRtlGetAppContainerNamedObjectPath [0x0x7786cfc1+561]\n",
      "\n"
     ]
    },
    {
     "name": "stderr",
     "output_type": "stream",
     "text": [
      "Scraping NICs:   8%|▊         | 95/1127 [1:30:50<7:08:40, 24.92s/it]"
     ]
    },
    {
     "name": "stdout",
     "output_type": "stream",
     "text": [
      "Saved backup with 84791 results\n",
      "Rows captured: 115\n"
     ]
    },
    {
     "name": "stderr",
     "output_type": "stream",
     "text": [
      "Scraping NICs:   9%|▊         | 96/1127 [1:31:28<8:15:22, 28.83s/it]"
     ]
    },
    {
     "name": "stdout",
     "output_type": "stream",
     "text": [
      "Saved backup with 84906 results\n",
      "Rows captured: 73\n",
      "Rows captured: 335\n",
      "Saved backup with 84979 results\n"
     ]
    },
    {
     "name": "stderr",
     "output_type": "stream",
     "text": [
      "Scraping NICs:   9%|▊         | 98/1127 [1:31:47<5:10:15, 18.09s/it]"
     ]
    },
    {
     "name": "stdout",
     "output_type": "stream",
     "text": [
      "Saved backup with 85314 results\n",
      "Dropdown not found or not interactable.\n",
      "Error occurred while processing the table. Message: \n",
      "Stacktrace:\n",
      "\tGetHandleVerifier [0x0xce3763+63299]\n",
      "\tGetHandleVerifier [0x0xce37a4+63364]\n",
      "\t(No symbol) [0x0xb11113]\n",
      "\t(No symbol) [0x0xb5987e]\n",
      "\t(No symbol) [0x0xb59c1b]\n",
      "\t(No symbol) [0x0xba2212]\n",
      "\t(No symbol) [0x0xb7e5c4]\n",
      "\t(No symbol) [0x0xb9fa4a]\n",
      "\t(No symbol) [0x0xb7e376]\n",
      "\t(No symbol) [0x0xb4d6e0]\n",
      "\t(No symbol) [0x0xb4e544]\n",
      "\tGetHandleVerifier [0x0xf3e033+2531347]\n",
      "\tGetHandleVerifier [0x0xf39332+2511634]\n",
      "\tGetHandleVerifier [0x0xd09eda+220858]\n",
      "\tGetHandleVerifier [0x0xcfa528+156936]\n",
      "\tGetHandleVerifier [0x0xd00c5d+183357]\n",
      "\tGetHandleVerifier [0x0xceb6c8+95912]\n",
      "\tGetHandleVerifier [0x0xceb870+96336]\n",
      "\tGetHandleVerifier [0x0xcd664a+9770]\n",
      "\tBaseThreadInitThunk [0x0x75d15d49+25]\n",
      "\tRtlInitializeExceptionChain [0x0x7786d03b+107]\n",
      "\tRtlGetAppContainerNamedObjectPath [0x0x7786cfc1+561]\n",
      "\n"
     ]
    },
    {
     "name": "stderr",
     "output_type": "stream",
     "text": [
      "Scraping NICs:   9%|▉         | 99/1127 [1:32:33<7:33:56, 26.49s/it]"
     ]
    },
    {
     "name": "stdout",
     "output_type": "stream",
     "text": [
      "Saved backup with 85314 results\n",
      "Rows captured: 356\n"
     ]
    },
    {
     "name": "stderr",
     "output_type": "stream",
     "text": [
      "Scraping NICs:   9%|▉         | 100/1127 [1:32:51<6:50:05, 23.96s/it]"
     ]
    },
    {
     "name": "stdout",
     "output_type": "stream",
     "text": [
      "Saved backup with 85670 results\n",
      "Dropdown not found or not interactable.\n",
      "Dropdown not found or not interactable.\n",
      "Error occurred while processing the table. Message: \n",
      "Stacktrace:\n",
      "\tGetHandleVerifier [0x0xce3763+63299]\n",
      "\tGetHandleVerifier [0x0xce37a4+63364]\n",
      "\t(No symbol) [0x0xb11113]\n",
      "\t(No symbol) [0x0xb5987e]\n",
      "\t(No symbol) [0x0xb59c1b]\n",
      "\t(No symbol) [0x0xba2212]\n",
      "\t(No symbol) [0x0xb7e5c4]\n",
      "\t(No symbol) [0x0xb9fa4a]\n",
      "\t(No symbol) [0x0xb7e376]\n",
      "\t(No symbol) [0x0xb4d6e0]\n",
      "\t(No symbol) [0x0xb4e544]\n",
      "\tGetHandleVerifier [0x0xf3e033+2531347]\n",
      "\tGetHandleVerifier [0x0xf39332+2511634]\n",
      "\tGetHandleVerifier [0x0xd09eda+220858]\n",
      "\tGetHandleVerifier [0x0xcfa528+156936]\n",
      "\tGetHandleVerifier [0x0xd00c5d+183357]\n",
      "\tGetHandleVerifier [0x0xceb6c8+95912]\n",
      "\tGetHandleVerifier [0x0xceb870+96336]\n",
      "\tGetHandleVerifier [0x0xcd664a+9770]\n",
      "\tBaseThreadInitThunk [0x0x75d15d49+25]\n",
      "\tRtlInitializeExceptionChain [0x0x7786d03b+107]\n",
      "\tRtlGetAppContainerNamedObjectPath [0x0x7786cfc1+561]\n",
      "\n"
     ]
    },
    {
     "name": "stderr",
     "output_type": "stream",
     "text": [
      "Scraping NICs:   9%|▉         | 101/1127 [1:33:24<7:34:33, 26.58s/it]"
     ]
    },
    {
     "name": "stdout",
     "output_type": "stream",
     "text": [
      "Saved backup with 85670 results\n",
      "Error occurred while processing the table. Message: \n",
      "Stacktrace:\n",
      "\tGetHandleVerifier [0x0xce3763+63299]\n",
      "\tGetHandleVerifier [0x0xce37a4+63364]\n",
      "\t(No symbol) [0x0xb11113]\n",
      "\t(No symbol) [0x0xb5987e]\n",
      "\t(No symbol) [0x0xb59c1b]\n",
      "\t(No symbol) [0x0xba2212]\n",
      "\t(No symbol) [0x0xb7e5c4]\n",
      "\t(No symbol) [0x0xb9fa4a]\n",
      "\t(No symbol) [0x0xb7e376]\n",
      "\t(No symbol) [0x0xb4d6e0]\n",
      "\t(No symbol) [0x0xb4e544]\n",
      "\tGetHandleVerifier [0x0xf3e033+2531347]\n",
      "\tGetHandleVerifier [0x0xf39332+2511634]\n",
      "\tGetHandleVerifier [0x0xd09eda+220858]\n",
      "\tGetHandleVerifier [0x0xcfa528+156936]\n",
      "\tGetHandleVerifier [0x0xd00c5d+183357]\n",
      "\tGetHandleVerifier [0x0xceb6c8+95912]\n",
      "\tGetHandleVerifier [0x0xceb870+96336]\n",
      "\tGetHandleVerifier [0x0xcd664a+9770]\n",
      "\tBaseThreadInitThunk [0x0x75d15d49+25]\n",
      "\tRtlInitializeExceptionChain [0x0x7786d03b+107]\n",
      "\tRtlGetAppContainerNamedObjectPath [0x0x7786cfc1+561]\n",
      "\n"
     ]
    },
    {
     "name": "stderr",
     "output_type": "stream",
     "text": [
      "Scraping NICs:   9%|▉         | 102/1127 [1:33:38<6:31:47, 22.93s/it]"
     ]
    },
    {
     "name": "stdout",
     "output_type": "stream",
     "text": [
      "Saved backup with 85670 results\n",
      "Dropdown not found or not interactable.\n",
      "Error occurred while processing the table. Message: \n",
      "Stacktrace:\n",
      "\tGetHandleVerifier [0x0xce3763+63299]\n",
      "\tGetHandleVerifier [0x0xce37a4+63364]\n",
      "\t(No symbol) [0x0xb11113]\n",
      "\t(No symbol) [0x0xb5987e]\n",
      "\t(No symbol) [0x0xb59c1b]\n",
      "\t(No symbol) [0x0xba2212]\n",
      "\t(No symbol) [0x0xb7e5c4]\n",
      "\t(No symbol) [0x0xb9fa4a]\n",
      "\t(No symbol) [0x0xb7e376]\n",
      "\t(No symbol) [0x0xb4d6e0]\n",
      "\t(No symbol) [0x0xb4e544]\n",
      "\tGetHandleVerifier [0x0xf3e033+2531347]\n",
      "\tGetHandleVerifier [0x0xf39332+2511634]\n",
      "\tGetHandleVerifier [0x0xd09eda+220858]\n",
      "\tGetHandleVerifier [0x0xcfa528+156936]\n",
      "\tGetHandleVerifier [0x0xd00c5d+183357]\n",
      "\tGetHandleVerifier [0x0xceb6c8+95912]\n",
      "\tGetHandleVerifier [0x0xceb870+96336]\n",
      "\tGetHandleVerifier [0x0xcd664a+9770]\n",
      "\tBaseThreadInitThunk [0x0x75d15d49+25]\n",
      "\tRtlInitializeExceptionChain [0x0x7786d03b+107]\n",
      "\tRtlGetAppContainerNamedObjectPath [0x0x7786cfc1+561]\n",
      "\n"
     ]
    },
    {
     "name": "stderr",
     "output_type": "stream",
     "text": [
      "Scraping NICs:   9%|▉         | 103/1127 [1:34:27<8:45:48, 30.81s/it]"
     ]
    },
    {
     "name": "stdout",
     "output_type": "stream",
     "text": [
      "Saved backup with 85670 results\n",
      "Dropdown not found or not interactable.\n",
      "Error occurred while processing the table. Message: \n",
      "Stacktrace:\n",
      "\tGetHandleVerifier [0x0xce3763+63299]\n",
      "\tGetHandleVerifier [0x0xce37a4+63364]\n",
      "\t(No symbol) [0x0xb11113]\n",
      "\t(No symbol) [0x0xb5987e]\n",
      "\t(No symbol) [0x0xb59c1b]\n",
      "\t(No symbol) [0x0xba2212]\n",
      "\t(No symbol) [0x0xb7e5c4]\n",
      "\t(No symbol) [0x0xb9fa4a]\n",
      "\t(No symbol) [0x0xb7e376]\n",
      "\t(No symbol) [0x0xb4d6e0]\n",
      "\t(No symbol) [0x0xb4e544]\n",
      "\tGetHandleVerifier [0x0xf3e033+2531347]\n",
      "\tGetHandleVerifier [0x0xf39332+2511634]\n",
      "\tGetHandleVerifier [0x0xd09eda+220858]\n",
      "\tGetHandleVerifier [0x0xcfa528+156936]\n",
      "\tGetHandleVerifier [0x0xd00c5d+183357]\n",
      "\tGetHandleVerifier [0x0xceb6c8+95912]\n",
      "\tGetHandleVerifier [0x0xceb870+96336]\n",
      "\tGetHandleVerifier [0x0xcd664a+9770]\n",
      "\tBaseThreadInitThunk [0x0x75d15d49+25]\n",
      "\tRtlInitializeExceptionChain [0x0x7786d03b+107]\n",
      "\tRtlGetAppContainerNamedObjectPath [0x0x7786cfc1+561]\n",
      "\n"
     ]
    },
    {
     "name": "stderr",
     "output_type": "stream",
     "text": [
      "Scraping NICs:   9%|▉         | 104/1127 [1:35:17<10:24:13, 36.61s/it]"
     ]
    },
    {
     "name": "stdout",
     "output_type": "stream",
     "text": [
      "Saved backup with 85670 results\n",
      "Rows captured: 376\n"
     ]
    },
    {
     "name": "stderr",
     "output_type": "stream",
     "text": [
      "Scraping NICs:   9%|▉         | 105/1127 [1:36:36<13:56:13, 49.09s/it]"
     ]
    },
    {
     "name": "stdout",
     "output_type": "stream",
     "text": [
      "Saved backup with 86046 results\n",
      "Rows captured: 956\n"
     ]
    },
    {
     "name": "stderr",
     "output_type": "stream",
     "text": [
      "Scraping NICs:   9%|▉         | 106/1127 [1:36:41<10:11:31, 35.94s/it]"
     ]
    },
    {
     "name": "stdout",
     "output_type": "stream",
     "text": [
      "Saved backup with 87002 results\n",
      "Dropdown not found or not interactable.\n",
      "Rows captured: 49\n"
     ]
    },
    {
     "name": "stderr",
     "output_type": "stream",
     "text": [
      "Scraping NICs:   9%|▉         | 107/1127 [1:37:04<9:08:14, 32.25s/it] "
     ]
    },
    {
     "name": "stdout",
     "output_type": "stream",
     "text": [
      "Saved backup with 87051 results\n",
      "Error occurred while processing the table. Message: \n",
      "Stacktrace:\n",
      "\tGetHandleVerifier [0x0xce3763+63299]\n",
      "\tGetHandleVerifier [0x0xce37a4+63364]\n",
      "\t(No symbol) [0x0xb11113]\n",
      "\t(No symbol) [0x0xb5987e]\n",
      "\t(No symbol) [0x0xb59c1b]\n",
      "\t(No symbol) [0x0xba2212]\n",
      "\t(No symbol) [0x0xb7e5c4]\n",
      "\t(No symbol) [0x0xb9fa4a]\n",
      "\t(No symbol) [0x0xb7e376]\n",
      "\t(No symbol) [0x0xb4d6e0]\n",
      "\t(No symbol) [0x0xb4e544]\n",
      "\tGetHandleVerifier [0x0xf3e033+2531347]\n",
      "\tGetHandleVerifier [0x0xf39332+2511634]\n",
      "\tGetHandleVerifier [0x0xd09eda+220858]\n",
      "\tGetHandleVerifier [0x0xcfa528+156936]\n",
      "\tGetHandleVerifier [0x0xd00c5d+183357]\n",
      "\tGetHandleVerifier [0x0xceb6c8+95912]\n",
      "\tGetHandleVerifier [0x0xceb870+96336]\n",
      "\tGetHandleVerifier [0x0xcd664a+9770]\n",
      "\tBaseThreadInitThunk [0x0x75d15d49+25]\n",
      "\tRtlInitializeExceptionChain [0x0x7786d03b+107]\n",
      "\tRtlGetAppContainerNamedObjectPath [0x0x7786cfc1+561]\n",
      "\n"
     ]
    },
    {
     "name": "stderr",
     "output_type": "stream",
     "text": [
      "Scraping NICs:  10%|▉         | 108/1127 [1:37:28<8:22:01, 29.56s/it]"
     ]
    },
    {
     "name": "stdout",
     "output_type": "stream",
     "text": [
      "Saved backup with 87051 results\n",
      "Dropdown not found or not interactable.\n",
      "Dropdown not found or not interactable.\n",
      "Error occurred while processing the table. Message: \n",
      "Stacktrace:\n",
      "\tGetHandleVerifier [0x0xce3763+63299]\n",
      "\tGetHandleVerifier [0x0xce37a4+63364]\n",
      "\t(No symbol) [0x0xb11113]\n",
      "\t(No symbol) [0x0xb5987e]\n",
      "\t(No symbol) [0x0xb59c1b]\n",
      "\t(No symbol) [0x0xba2212]\n",
      "\t(No symbol) [0x0xb7e5c4]\n",
      "\t(No symbol) [0x0xb9fa4a]\n",
      "\t(No symbol) [0x0xb7e376]\n",
      "\t(No symbol) [0x0xb4d6e0]\n",
      "\t(No symbol) [0x0xb4e544]\n",
      "\tGetHandleVerifier [0x0xf3e033+2531347]\n",
      "\tGetHandleVerifier [0x0xf39332+2511634]\n",
      "\tGetHandleVerifier [0x0xd09eda+220858]\n",
      "\tGetHandleVerifier [0x0xcfa528+156936]\n",
      "\tGetHandleVerifier [0x0xd00c5d+183357]\n",
      "\tGetHandleVerifier [0x0xceb6c8+95912]\n",
      "\tGetHandleVerifier [0x0xceb870+96336]\n",
      "\tGetHandleVerifier [0x0xcd664a+9770]\n",
      "\tBaseThreadInitThunk [0x0x75d15d49+25]\n",
      "\tRtlInitializeExceptionChain [0x0x7786d03b+107]\n",
      "\tRtlGetAppContainerNamedObjectPath [0x0x7786cfc1+561]\n",
      "\n"
     ]
    },
    {
     "name": "stderr",
     "output_type": "stream",
     "text": [
      "Scraping NICs:  10%|▉         | 109/1127 [1:37:56<8:17:11, 29.30s/it]"
     ]
    },
    {
     "name": "stdout",
     "output_type": "stream",
     "text": [
      "Saved backup with 87051 results\n",
      "Error occurred while processing the table. Message: \n",
      "Stacktrace:\n",
      "\tGetHandleVerifier [0x0xce3763+63299]\n",
      "\tGetHandleVerifier [0x0xce37a4+63364]\n",
      "\t(No symbol) [0x0xb11113]\n",
      "\t(No symbol) [0x0xb5987e]\n",
      "\t(No symbol) [0x0xb59c1b]\n",
      "\t(No symbol) [0x0xba2212]\n",
      "\t(No symbol) [0x0xb7e5c4]\n",
      "\t(No symbol) [0x0xb9fa4a]\n",
      "\t(No symbol) [0x0xb7e376]\n",
      "\t(No symbol) [0x0xb4d6e0]\n",
      "\t(No symbol) [0x0xb4e544]\n",
      "\tGetHandleVerifier [0x0xf3e033+2531347]\n",
      "\tGetHandleVerifier [0x0xf39332+2511634]\n",
      "\tGetHandleVerifier [0x0xd09eda+220858]\n",
      "\tGetHandleVerifier [0x0xcfa528+156936]\n",
      "\tGetHandleVerifier [0x0xd00c5d+183357]\n",
      "\tGetHandleVerifier [0x0xceb6c8+95912]\n",
      "\tGetHandleVerifier [0x0xceb870+96336]\n",
      "\tGetHandleVerifier [0x0xcd664a+9770]\n",
      "\tBaseThreadInitThunk [0x0x75d15d49+25]\n",
      "\tRtlInitializeExceptionChain [0x0x7786d03b+107]\n",
      "\tRtlGetAppContainerNamedObjectPath [0x0x7786cfc1+561]\n",
      "\n"
     ]
    },
    {
     "name": "stderr",
     "output_type": "stream",
     "text": [
      "Scraping NICs:  10%|▉         | 110/1127 [1:38:15<7:22:03, 26.08s/it]"
     ]
    },
    {
     "name": "stdout",
     "output_type": "stream",
     "text": [
      "Saved backup with 87051 results\n",
      "Dropdown not found or not interactable.\n",
      "Dropdown not found or not interactable.\n",
      "Error occurred while processing the table. Message: \n",
      "Stacktrace:\n",
      "\tGetHandleVerifier [0x0xce3763+63299]\n",
      "\tGetHandleVerifier [0x0xce37a4+63364]\n",
      "\t(No symbol) [0x0xb11113]\n",
      "\t(No symbol) [0x0xb5987e]\n",
      "\t(No symbol) [0x0xb59c1b]\n",
      "\t(No symbol) [0x0xba2212]\n",
      "\t(No symbol) [0x0xb7e5c4]\n",
      "\t(No symbol) [0x0xb9fa4a]\n",
      "\t(No symbol) [0x0xb7e376]\n",
      "\t(No symbol) [0x0xb4d6e0]\n",
      "\t(No symbol) [0x0xb4e544]\n",
      "\tGetHandleVerifier [0x0xf3e033+2531347]\n",
      "\tGetHandleVerifier [0x0xf39332+2511634]\n",
      "\tGetHandleVerifier [0x0xd09eda+220858]\n",
      "\tGetHandleVerifier [0x0xcfa528+156936]\n",
      "\tGetHandleVerifier [0x0xd00c5d+183357]\n",
      "\tGetHandleVerifier [0x0xceb6c8+95912]\n",
      "\tGetHandleVerifier [0x0xceb870+96336]\n",
      "\tGetHandleVerifier [0x0xcd664a+9770]\n",
      "\tBaseThreadInitThunk [0x0x75d15d49+25]\n",
      "\tRtlInitializeExceptionChain [0x0x7786d03b+107]\n",
      "\tRtlGetAppContainerNamedObjectPath [0x0x7786cfc1+561]\n",
      "\n"
     ]
    },
    {
     "name": "stderr",
     "output_type": "stream",
     "text": [
      "Scraping NICs:  10%|▉         | 111/1127 [1:38:44<7:37:57, 27.05s/it]"
     ]
    },
    {
     "name": "stdout",
     "output_type": "stream",
     "text": [
      "Saved backup with 87051 results\n",
      "Error occurred while processing the table. Message: \n",
      "Stacktrace:\n",
      "\tGetHandleVerifier [0x0xce3763+63299]\n",
      "\tGetHandleVerifier [0x0xce37a4+63364]\n",
      "\t(No symbol) [0x0xb11113]\n",
      "\t(No symbol) [0x0xb5987e]\n",
      "\t(No symbol) [0x0xb59c1b]\n",
      "\t(No symbol) [0x0xba2212]\n",
      "\t(No symbol) [0x0xb7e5c4]\n",
      "\t(No symbol) [0x0xb9fa4a]\n",
      "\t(No symbol) [0x0xb7e376]\n",
      "\t(No symbol) [0x0xb4d6e0]\n",
      "\t(No symbol) [0x0xb4e544]\n",
      "\tGetHandleVerifier [0x0xf3e033+2531347]\n",
      "\tGetHandleVerifier [0x0xf39332+2511634]\n",
      "\tGetHandleVerifier [0x0xd09eda+220858]\n",
      "\tGetHandleVerifier [0x0xcfa528+156936]\n",
      "\tGetHandleVerifier [0x0xd00c5d+183357]\n",
      "\tGetHandleVerifier [0x0xceb6c8+95912]\n",
      "\tGetHandleVerifier [0x0xceb870+96336]\n",
      "\tGetHandleVerifier [0x0xcd664a+9770]\n",
      "\tBaseThreadInitThunk [0x0x75d15d49+25]\n",
      "\tRtlInitializeExceptionChain [0x0x7786d03b+107]\n",
      "\tRtlGetAppContainerNamedObjectPath [0x0x7786cfc1+561]\n",
      "\n"
     ]
    },
    {
     "name": "stderr",
     "output_type": "stream",
     "text": [
      "Scraping NICs:  10%|▉         | 112/1127 [1:39:03<6:52:59, 24.41s/it]"
     ]
    },
    {
     "name": "stdout",
     "output_type": "stream",
     "text": [
      "Saved backup with 87051 results\n",
      "Rows captured: 1599\n"
     ]
    },
    {
     "name": "stderr",
     "output_type": "stream",
     "text": [
      "Scraping NICs:  10%|█         | 113/1127 [1:41:36<17:48:44, 63.24s/it]"
     ]
    },
    {
     "name": "stdout",
     "output_type": "stream",
     "text": [
      "Saved backup with 88650 results\n",
      "Rows captured: 127\n"
     ]
    },
    {
     "name": "stderr",
     "output_type": "stream",
     "text": [
      "Scraping NICs:  10%|█         | 114/1127 [1:42:20<16:08:46, 57.38s/it]"
     ]
    },
    {
     "name": "stdout",
     "output_type": "stream",
     "text": [
      "Saved backup with 88777 results\n",
      "Rows captured: 3716\n"
     ]
    },
    {
     "name": "stderr",
     "output_type": "stream",
     "text": [
      "Scraping NICs:  10%|█         | 115/1127 [1:42:28<11:57:29, 42.54s/it]"
     ]
    },
    {
     "name": "stdout",
     "output_type": "stream",
     "text": [
      "Saved backup with 92493 results\n",
      "Dropdown not found or not interactable.\n",
      "Error occurred while processing the table. Message: \n",
      "Stacktrace:\n",
      "\tGetHandleVerifier [0x0xce3763+63299]\n",
      "\tGetHandleVerifier [0x0xce37a4+63364]\n",
      "\t(No symbol) [0x0xb11113]\n",
      "\t(No symbol) [0x0xb5987e]\n",
      "\t(No symbol) [0x0xb59c1b]\n",
      "\t(No symbol) [0x0xba2212]\n",
      "\t(No symbol) [0x0xb7e5c4]\n",
      "\t(No symbol) [0x0xb9fa4a]\n",
      "\t(No symbol) [0x0xb7e376]\n",
      "\t(No symbol) [0x0xb4d6e0]\n",
      "\t(No symbol) [0x0xb4e544]\n",
      "\tGetHandleVerifier [0x0xf3e033+2531347]\n",
      "\tGetHandleVerifier [0x0xf39332+2511634]\n",
      "\tGetHandleVerifier [0x0xd09eda+220858]\n",
      "\tGetHandleVerifier [0x0xcfa528+156936]\n",
      "\tGetHandleVerifier [0x0xd00c5d+183357]\n",
      "\tGetHandleVerifier [0x0xceb6c8+95912]\n",
      "\tGetHandleVerifier [0x0xceb870+96336]\n",
      "\tGetHandleVerifier [0x0xcd664a+9770]\n",
      "\tBaseThreadInitThunk [0x0x75d15d49+25]\n",
      "\tRtlInitializeExceptionChain [0x0x7786d03b+107]\n",
      "\tRtlGetAppContainerNamedObjectPath [0x0x7786cfc1+561]\n",
      "\n"
     ]
    },
    {
     "name": "stderr",
     "output_type": "stream",
     "text": [
      "Scraping NICs:  10%|█         | 116/1127 [1:43:09<11:48:10, 42.03s/it]"
     ]
    },
    {
     "name": "stdout",
     "output_type": "stream",
     "text": [
      "Saved backup with 92493 results\n",
      "Dropdown not found or not interactable.\n",
      "Error occurred while processing the table. Message: \n",
      "Stacktrace:\n",
      "\tGetHandleVerifier [0x0xce3763+63299]\n",
      "\tGetHandleVerifier [0x0xce37a4+63364]\n",
      "\t(No symbol) [0x0xb11113]\n",
      "\t(No symbol) [0x0xb5987e]\n",
      "\t(No symbol) [0x0xb59c1b]\n",
      "\t(No symbol) [0x0xba2212]\n",
      "\t(No symbol) [0x0xb7e5c4]\n",
      "\t(No symbol) [0x0xb9fa4a]\n",
      "\t(No symbol) [0x0xb7e376]\n",
      "\t(No symbol) [0x0xb4d6e0]\n",
      "\t(No symbol) [0x0xb4e544]\n",
      "\tGetHandleVerifier [0x0xf3e033+2531347]\n",
      "\tGetHandleVerifier [0x0xf39332+2511634]\n",
      "\tGetHandleVerifier [0x0xd09eda+220858]\n",
      "\tGetHandleVerifier [0x0xcfa528+156936]\n",
      "\tGetHandleVerifier [0x0xd00c5d+183357]\n",
      "\tGetHandleVerifier [0x0xceb6c8+95912]\n",
      "\tGetHandleVerifier [0x0xceb870+96336]\n",
      "\tGetHandleVerifier [0x0xcd664a+9770]\n",
      "\tBaseThreadInitThunk [0x0x75d15d49+25]\n",
      "\tRtlInitializeExceptionChain [0x0x7786d03b+107]\n",
      "\tRtlGetAppContainerNamedObjectPath [0x0x7786cfc1+561]\n",
      "\n"
     ]
    },
    {
     "name": "stderr",
     "output_type": "stream",
     "text": [
      "Scraping NICs:  10%|█         | 117/1127 [1:44:02<12:43:52, 45.38s/it]"
     ]
    },
    {
     "name": "stdout",
     "output_type": "stream",
     "text": [
      "Saved backup with 92493 results\n",
      "Rows captured: 633\n"
     ]
    },
    {
     "name": "stderr",
     "output_type": "stream",
     "text": [
      "Scraping NICs:  10%|█         | 118/1127 [1:45:17<15:14:03, 54.35s/it]"
     ]
    },
    {
     "name": "stdout",
     "output_type": "stream",
     "text": [
      "Saved backup with 93126 results\n",
      "Dropdown not found or not interactable.\n",
      "Dropdown not found or not interactable.\n",
      "Error occurred while processing the table. Message: \n",
      "Stacktrace:\n",
      "\tGetHandleVerifier [0x0xce3763+63299]\n",
      "\tGetHandleVerifier [0x0xce37a4+63364]\n",
      "\t(No symbol) [0x0xb11113]\n",
      "\t(No symbol) [0x0xb5987e]\n",
      "\t(No symbol) [0x0xb59c1b]\n",
      "\t(No symbol) [0x0xba2212]\n",
      "\t(No symbol) [0x0xb7e5c4]\n",
      "\t(No symbol) [0x0xb9fa4a]\n",
      "\t(No symbol) [0x0xb7e376]\n",
      "\t(No symbol) [0x0xb4d6e0]\n",
      "\t(No symbol) [0x0xb4e544]\n",
      "\tGetHandleVerifier [0x0xf3e033+2531347]\n",
      "\tGetHandleVerifier [0x0xf39332+2511634]\n",
      "\tGetHandleVerifier [0x0xd09eda+220858]\n",
      "\tGetHandleVerifier [0x0xcfa528+156936]\n",
      "\tGetHandleVerifier [0x0xd00c5d+183357]\n",
      "\tGetHandleVerifier [0x0xceb6c8+95912]\n",
      "\tGetHandleVerifier [0x0xceb870+96336]\n",
      "\tGetHandleVerifier [0x0xcd664a+9770]\n",
      "\tBaseThreadInitThunk [0x0x75d15d49+25]\n",
      "\tRtlInitializeExceptionChain [0x0x7786d03b+107]\n",
      "\tRtlGetAppContainerNamedObjectPath [0x0x7786cfc1+561]\n",
      "\n"
     ]
    },
    {
     "name": "stderr",
     "output_type": "stream",
     "text": [
      "Scraping NICs:  11%|█         | 119/1127 [1:46:07<14:47:07, 52.81s/it]"
     ]
    },
    {
     "name": "stdout",
     "output_type": "stream",
     "text": [
      "Saved backup with 93126 results\n",
      "Dropdown not found or not interactable.\n",
      "Error occurred while processing the table. Message: \n",
      "Stacktrace:\n",
      "\tGetHandleVerifier [0x0xce3763+63299]\n",
      "\tGetHandleVerifier [0x0xce37a4+63364]\n",
      "\t(No symbol) [0x0xb11113]\n",
      "\t(No symbol) [0x0xb5987e]\n",
      "\t(No symbol) [0x0xb59c1b]\n",
      "\t(No symbol) [0x0xba2212]\n",
      "\t(No symbol) [0x0xb7e5c4]\n",
      "\t(No symbol) [0x0xb9fa4a]\n",
      "\t(No symbol) [0x0xb7e376]\n",
      "\t(No symbol) [0x0xb4d6e0]\n",
      "\t(No symbol) [0x0xb4e544]\n",
      "\tGetHandleVerifier [0x0xf3e033+2531347]\n",
      "\tGetHandleVerifier [0x0xf39332+2511634]\n",
      "\tGetHandleVerifier [0x0xd09eda+220858]\n",
      "\tGetHandleVerifier [0x0xcfa528+156936]\n",
      "\tGetHandleVerifier [0x0xd00c5d+183357]\n",
      "\tGetHandleVerifier [0x0xceb6c8+95912]\n",
      "\tGetHandleVerifier [0x0xceb870+96336]\n",
      "\tGetHandleVerifier [0x0xcd664a+9770]\n",
      "\tBaseThreadInitThunk [0x0x75d15d49+25]\n",
      "\tRtlInitializeExceptionChain [0x0x7786d03b+107]\n",
      "\tRtlGetAppContainerNamedObjectPath [0x0x7786cfc1+561]\n",
      "\n"
     ]
    },
    {
     "name": "stderr",
     "output_type": "stream",
     "text": [
      "Scraping NICs:  11%|█         | 120/1127 [1:46:55<14:23:59, 51.48s/it]"
     ]
    },
    {
     "name": "stdout",
     "output_type": "stream",
     "text": [
      "Saved backup with 93126 results\n",
      "Rows captured: 2817\n",
      "Dropdown not found or not interactable.\n"
     ]
    },
    {
     "name": "stderr",
     "output_type": "stream",
     "text": [
      "Scraping NICs:  11%|█         | 121/1127 [1:47:17<11:56:20, 42.72s/it]"
     ]
    },
    {
     "name": "stdout",
     "output_type": "stream",
     "text": [
      "Saved backup with 95943 results\n",
      "Error occurred while processing the table. Message: \n",
      "Stacktrace:\n",
      "\tGetHandleVerifier [0x0xce3763+63299]\n",
      "\tGetHandleVerifier [0x0xce37a4+63364]\n",
      "\t(No symbol) [0x0xb11113]\n",
      "\t(No symbol) [0x0xb5987e]\n",
      "\t(No symbol) [0x0xb59c1b]\n",
      "\t(No symbol) [0x0xba2212]\n",
      "\t(No symbol) [0x0xb7e5c4]\n",
      "\t(No symbol) [0x0xb9fa4a]\n",
      "\t(No symbol) [0x0xb7e376]\n",
      "\t(No symbol) [0x0xb4d6e0]\n",
      "\t(No symbol) [0x0xb4e544]\n",
      "\tGetHandleVerifier [0x0xf3e033+2531347]\n",
      "\tGetHandleVerifier [0x0xf39332+2511634]\n",
      "\tGetHandleVerifier [0x0xd09eda+220858]\n",
      "\tGetHandleVerifier [0x0xcfa528+156936]\n",
      "\tGetHandleVerifier [0x0xd00c5d+183357]\n",
      "\tGetHandleVerifier [0x0xceb6c8+95912]\n",
      "\tGetHandleVerifier [0x0xceb870+96336]\n",
      "\tGetHandleVerifier [0x0xcd664a+9770]\n",
      "\tBaseThreadInitThunk [0x0x75d15d49+25]\n",
      "\tRtlInitializeExceptionChain [0x0x7786d03b+107]\n",
      "\tRtlGetAppContainerNamedObjectPath [0x0x7786cfc1+561]\n",
      "\n"
     ]
    },
    {
     "name": "stderr",
     "output_type": "stream",
     "text": [
      "Scraping NICs:  11%|█         | 122/1127 [1:47:44<10:34:41, 37.89s/it]"
     ]
    },
    {
     "name": "stdout",
     "output_type": "stream",
     "text": [
      "Saved backup with 95943 results\n",
      "Dropdown not found or not interactable.\n",
      "Dropdown not found or not interactable.\n",
      "Error occurred while processing the table. Message: \n",
      "Stacktrace:\n",
      "\tGetHandleVerifier [0x0xce3763+63299]\n",
      "\tGetHandleVerifier [0x0xce37a4+63364]\n",
      "\t(No symbol) [0x0xb11113]\n",
      "\t(No symbol) [0x0xb5987e]\n",
      "\t(No symbol) [0x0xb59c1b]\n",
      "\t(No symbol) [0x0xba2212]\n",
      "\t(No symbol) [0x0xb7e5c4]\n",
      "\t(No symbol) [0x0xb9fa4a]\n",
      "\t(No symbol) [0x0xb7e376]\n",
      "\t(No symbol) [0x0xb4d6e0]\n",
      "\t(No symbol) [0x0xb4e544]\n",
      "\tGetHandleVerifier [0x0xf3e033+2531347]\n",
      "\tGetHandleVerifier [0x0xf39332+2511634]\n",
      "\tGetHandleVerifier [0x0xd09eda+220858]\n",
      "\tGetHandleVerifier [0x0xcfa528+156936]\n",
      "\tGetHandleVerifier [0x0xd00c5d+183357]\n",
      "\tGetHandleVerifier [0x0xceb6c8+95912]\n",
      "\tGetHandleVerifier [0x0xceb870+96336]\n",
      "\tGetHandleVerifier [0x0xcd664a+9770]\n",
      "\tBaseThreadInitThunk [0x0x75d15d49+25]\n",
      "\tRtlInitializeExceptionChain [0x0x7786d03b+107]\n",
      "\tRtlGetAppContainerNamedObjectPath [0x0x7786cfc1+561]\n",
      "\n"
     ]
    },
    {
     "name": "stderr",
     "output_type": "stream",
     "text": [
      "Scraping NICs:  11%|█         | 123/1127 [1:48:14<9:56:45, 35.66s/it] "
     ]
    },
    {
     "name": "stdout",
     "output_type": "stream",
     "text": [
      "Saved backup with 95943 results\n",
      "Error occurred while processing the table. Message: \n",
      "Stacktrace:\n",
      "\tGetHandleVerifier [0x0xce3763+63299]\n",
      "\tGetHandleVerifier [0x0xce37a4+63364]\n",
      "\t(No symbol) [0x0xb11113]\n",
      "\t(No symbol) [0x0xb5987e]\n",
      "\t(No symbol) [0x0xb59c1b]\n",
      "\t(No symbol) [0x0xba2212]\n",
      "\t(No symbol) [0x0xb7e5c4]\n",
      "\t(No symbol) [0x0xb9fa4a]\n",
      "\t(No symbol) [0x0xb7e376]\n",
      "\t(No symbol) [0x0xb4d6e0]\n",
      "\t(No symbol) [0x0xb4e544]\n",
      "\tGetHandleVerifier [0x0xf3e033+2531347]\n",
      "\tGetHandleVerifier [0x0xf39332+2511634]\n",
      "\tGetHandleVerifier [0x0xd09eda+220858]\n",
      "\tGetHandleVerifier [0x0xcfa528+156936]\n",
      "\tGetHandleVerifier [0x0xd00c5d+183357]\n",
      "\tGetHandleVerifier [0x0xceb6c8+95912]\n",
      "\tGetHandleVerifier [0x0xceb870+96336]\n",
      "\tGetHandleVerifier [0x0xcd664a+9770]\n",
      "\tBaseThreadInitThunk [0x0x75d15d49+25]\n",
      "\tRtlInitializeExceptionChain [0x0x7786d03b+107]\n",
      "\tRtlGetAppContainerNamedObjectPath [0x0x7786cfc1+561]\n",
      "\n"
     ]
    },
    {
     "name": "stderr",
     "output_type": "stream",
     "text": [
      "Scraping NICs:  11%|█         | 124/1127 [1:48:31<8:20:27, 29.94s/it]"
     ]
    },
    {
     "name": "stdout",
     "output_type": "stream",
     "text": [
      "Saved backup with 95943 results\n",
      "Dropdown not found or not interactable.\n",
      "Dropdown not found or not interactable.\n",
      "Error occurred while processing the table. Message: \n",
      "Stacktrace:\n",
      "\tGetHandleVerifier [0x0xce3763+63299]\n",
      "\tGetHandleVerifier [0x0xce37a4+63364]\n",
      "\t(No symbol) [0x0xb11113]\n",
      "\t(No symbol) [0x0xb5987e]\n",
      "\t(No symbol) [0x0xb59c1b]\n",
      "\t(No symbol) [0x0xba2212]\n",
      "\t(No symbol) [0x0xb7e5c4]\n",
      "\t(No symbol) [0x0xb9fa4a]\n",
      "\t(No symbol) [0x0xb7e376]\n",
      "\t(No symbol) [0x0xb4d6e0]\n",
      "\t(No symbol) [0x0xb4e544]\n",
      "\tGetHandleVerifier [0x0xf3e033+2531347]\n",
      "\tGetHandleVerifier [0x0xf39332+2511634]\n",
      "\tGetHandleVerifier [0x0xd09eda+220858]\n",
      "\tGetHandleVerifier [0x0xcfa528+156936]\n",
      "\tGetHandleVerifier [0x0xd00c5d+183357]\n",
      "\tGetHandleVerifier [0x0xceb6c8+95912]\n",
      "\tGetHandleVerifier [0x0xceb870+96336]\n",
      "\tGetHandleVerifier [0x0xcd664a+9770]\n",
      "\tBaseThreadInitThunk [0x0x75d15d49+25]\n",
      "\tRtlInitializeExceptionChain [0x0x7786d03b+107]\n",
      "\tRtlGetAppContainerNamedObjectPath [0x0x7786cfc1+561]\n",
      "\n"
     ]
    },
    {
     "name": "stderr",
     "output_type": "stream",
     "text": [
      "Scraping NICs:  11%|█         | 125/1127 [1:49:03<8:28:56, 30.48s/it]"
     ]
    },
    {
     "name": "stdout",
     "output_type": "stream",
     "text": [
      "Saved backup with 95943 results\n",
      "Error occurred while processing the table. Message: \n",
      "Stacktrace:\n",
      "\tGetHandleVerifier [0x0xce3763+63299]\n",
      "\tGetHandleVerifier [0x0xce37a4+63364]\n",
      "\t(No symbol) [0x0xb11113]\n",
      "\t(No symbol) [0x0xb5987e]\n",
      "\t(No symbol) [0x0xb59c1b]\n",
      "\t(No symbol) [0x0xba2212]\n",
      "\t(No symbol) [0x0xb7e5c4]\n",
      "\t(No symbol) [0x0xb9fa4a]\n",
      "\t(No symbol) [0x0xb7e376]\n",
      "\t(No symbol) [0x0xb4d6e0]\n",
      "\t(No symbol) [0x0xb4e544]\n",
      "\tGetHandleVerifier [0x0xf3e033+2531347]\n",
      "\tGetHandleVerifier [0x0xf39332+2511634]\n",
      "\tGetHandleVerifier [0x0xd09eda+220858]\n",
      "\tGetHandleVerifier [0x0xcfa528+156936]\n",
      "\tGetHandleVerifier [0x0xd00c5d+183357]\n",
      "\tGetHandleVerifier [0x0xceb6c8+95912]\n",
      "\tGetHandleVerifier [0x0xceb870+96336]\n",
      "\tGetHandleVerifier [0x0xcd664a+9770]\n",
      "\tBaseThreadInitThunk [0x0x75d15d49+25]\n",
      "\tRtlInitializeExceptionChain [0x0x7786d03b+107]\n",
      "\tRtlGetAppContainerNamedObjectPath [0x0x7786cfc1+561]\n",
      "\n"
     ]
    },
    {
     "name": "stderr",
     "output_type": "stream",
     "text": [
      "Scraping NICs:  11%|█         | 126/1127 [1:49:22<7:31:25, 27.06s/it]"
     ]
    },
    {
     "name": "stdout",
     "output_type": "stream",
     "text": [
      "Saved backup with 95943 results\n",
      "Dropdown not found or not interactable.\n",
      "Dropdown not found or not interactable.\n",
      "Error occurred while processing the table. Message: \n",
      "Stacktrace:\n",
      "\tGetHandleVerifier [0x0xce3763+63299]\n",
      "\tGetHandleVerifier [0x0xce37a4+63364]\n",
      "\t(No symbol) [0x0xb11113]\n",
      "\t(No symbol) [0x0xb5987e]\n",
      "\t(No symbol) [0x0xb59c1b]\n",
      "\t(No symbol) [0x0xba2212]\n",
      "\t(No symbol) [0x0xb7e5c4]\n",
      "\t(No symbol) [0x0xb9fa4a]\n",
      "\t(No symbol) [0x0xb7e376]\n",
      "\t(No symbol) [0x0xb4d6e0]\n",
      "\t(No symbol) [0x0xb4e544]\n",
      "\tGetHandleVerifier [0x0xf3e033+2531347]\n",
      "\tGetHandleVerifier [0x0xf39332+2511634]\n",
      "\tGetHandleVerifier [0x0xd09eda+220858]\n",
      "\tGetHandleVerifier [0x0xcfa528+156936]\n",
      "\tGetHandleVerifier [0x0xd00c5d+183357]\n",
      "\tGetHandleVerifier [0x0xceb6c8+95912]\n",
      "\tGetHandleVerifier [0x0xceb870+96336]\n",
      "\tGetHandleVerifier [0x0xcd664a+9770]\n",
      "\tBaseThreadInitThunk [0x0x75d15d49+25]\n",
      "\tRtlInitializeExceptionChain [0x0x7786d03b+107]\n",
      "\tRtlGetAppContainerNamedObjectPath [0x0x7786cfc1+561]\n",
      "\n"
     ]
    },
    {
     "name": "stderr",
     "output_type": "stream",
     "text": [
      "Scraping NICs:  11%|█▏        | 127/1127 [1:49:59<8:23:02, 30.18s/it]"
     ]
    },
    {
     "name": "stdout",
     "output_type": "stream",
     "text": [
      "Saved backup with 95943 results\n",
      "Error occurred while processing the table. Message: \n",
      "Stacktrace:\n",
      "\tGetHandleVerifier [0x0xce3763+63299]\n",
      "\tGetHandleVerifier [0x0xce37a4+63364]\n",
      "\t(No symbol) [0x0xb11113]\n",
      "\t(No symbol) [0x0xb5987e]\n",
      "\t(No symbol) [0x0xb59c1b]\n",
      "\t(No symbol) [0x0xba2212]\n",
      "\t(No symbol) [0x0xb7e5c4]\n",
      "\t(No symbol) [0x0xb9fa4a]\n",
      "\t(No symbol) [0x0xb7e376]\n",
      "\t(No symbol) [0x0xb4d6e0]\n",
      "\t(No symbol) [0x0xb4e544]\n",
      "\tGetHandleVerifier [0x0xf3e033+2531347]\n",
      "\tGetHandleVerifier [0x0xf39332+2511634]\n",
      "\tGetHandleVerifier [0x0xd09eda+220858]\n",
      "\tGetHandleVerifier [0x0xcfa528+156936]\n",
      "\tGetHandleVerifier [0x0xd00c5d+183357]\n",
      "\tGetHandleVerifier [0x0xceb6c8+95912]\n",
      "\tGetHandleVerifier [0x0xceb870+96336]\n",
      "\tGetHandleVerifier [0x0xcd664a+9770]\n",
      "\tBaseThreadInitThunk [0x0x75d15d49+25]\n",
      "\tRtlInitializeExceptionChain [0x0x7786d03b+107]\n",
      "\tRtlGetAppContainerNamedObjectPath [0x0x7786cfc1+561]\n",
      "\n"
     ]
    },
    {
     "name": "stderr",
     "output_type": "stream",
     "text": [
      "Scraping NICs:  11%|█▏        | 128/1127 [1:50:13<7:00:10, 25.24s/it]"
     ]
    },
    {
     "name": "stdout",
     "output_type": "stream",
     "text": [
      "Saved backup with 95943 results\n",
      "Dropdown not found or not interactable.\n",
      "Dropdown not found or not interactable.\n",
      "Error occurred while processing the table. Message: \n",
      "Stacktrace:\n",
      "\tGetHandleVerifier [0x0xce3763+63299]\n",
      "\tGetHandleVerifier [0x0xce37a4+63364]\n",
      "\t(No symbol) [0x0xb11113]\n",
      "\t(No symbol) [0x0xb5987e]\n",
      "\t(No symbol) [0x0xb59c1b]\n",
      "\t(No symbol) [0x0xba2212]\n",
      "\t(No symbol) [0x0xb7e5c4]\n",
      "\t(No symbol) [0x0xb9fa4a]\n",
      "\t(No symbol) [0x0xb7e376]\n",
      "\t(No symbol) [0x0xb4d6e0]\n",
      "\t(No symbol) [0x0xb4e544]\n",
      "\tGetHandleVerifier [0x0xf3e033+2531347]\n",
      "\tGetHandleVerifier [0x0xf39332+2511634]\n",
      "\tGetHandleVerifier [0x0xd09eda+220858]\n",
      "\tGetHandleVerifier [0x0xcfa528+156936]\n",
      "\tGetHandleVerifier [0x0xd00c5d+183357]\n",
      "\tGetHandleVerifier [0x0xceb6c8+95912]\n",
      "\tGetHandleVerifier [0x0xceb870+96336]\n",
      "\tGetHandleVerifier [0x0xcd664a+9770]\n",
      "\tBaseThreadInitThunk [0x0x75d15d49+25]\n",
      "\tRtlInitializeExceptionChain [0x0x7786d03b+107]\n",
      "\tRtlGetAppContainerNamedObjectPath [0x0x7786cfc1+561]\n",
      "\n"
     ]
    },
    {
     "name": "stderr",
     "output_type": "stream",
     "text": [
      "Scraping NICs:  11%|█▏        | 129/1127 [1:50:47<7:43:56, 27.89s/it]"
     ]
    },
    {
     "name": "stdout",
     "output_type": "stream",
     "text": [
      "Saved backup with 95943 results\n",
      "Error occurred while processing the table. Message: \n",
      "Stacktrace:\n",
      "\tGetHandleVerifier [0x0xce3763+63299]\n",
      "\tGetHandleVerifier [0x0xce37a4+63364]\n",
      "\t(No symbol) [0x0xb11113]\n",
      "\t(No symbol) [0x0xb5987e]\n",
      "\t(No symbol) [0x0xb59c1b]\n",
      "\t(No symbol) [0x0xba2212]\n",
      "\t(No symbol) [0x0xb7e5c4]\n",
      "\t(No symbol) [0x0xb9fa4a]\n",
      "\t(No symbol) [0x0xb7e376]\n",
      "\t(No symbol) [0x0xb4d6e0]\n",
      "\t(No symbol) [0x0xb4e544]\n",
      "\tGetHandleVerifier [0x0xf3e033+2531347]\n",
      "\tGetHandleVerifier [0x0xf39332+2511634]\n",
      "\tGetHandleVerifier [0x0xd09eda+220858]\n",
      "\tGetHandleVerifier [0x0xcfa528+156936]\n",
      "\tGetHandleVerifier [0x0xd00c5d+183357]\n",
      "\tGetHandleVerifier [0x0xceb6c8+95912]\n",
      "\tGetHandleVerifier [0x0xceb870+96336]\n",
      "\tGetHandleVerifier [0x0xcd664a+9770]\n",
      "\tBaseThreadInitThunk [0x0x75d15d49+25]\n",
      "\tRtlInitializeExceptionChain [0x0x7786d03b+107]\n",
      "\tRtlGetAppContainerNamedObjectPath [0x0x7786cfc1+561]\n",
      "\n"
     ]
    },
    {
     "name": "stderr",
     "output_type": "stream",
     "text": [
      "Scraping NICs:  12%|█▏        | 130/1127 [1:51:01<6:32:27, 23.62s/it]"
     ]
    },
    {
     "name": "stdout",
     "output_type": "stream",
     "text": [
      "Saved backup with 95943 results\n",
      "Dropdown not found or not interactable.\n",
      "Dropdown not found or not interactable.\n",
      "Error occurred while processing the table. Message: \n",
      "Stacktrace:\n",
      "\tGetHandleVerifier [0x0xce3763+63299]\n",
      "\tGetHandleVerifier [0x0xce37a4+63364]\n",
      "\t(No symbol) [0x0xb11113]\n",
      "\t(No symbol) [0x0xb5987e]\n",
      "\t(No symbol) [0x0xb59c1b]\n",
      "\t(No symbol) [0x0xba2212]\n",
      "\t(No symbol) [0x0xb7e5c4]\n",
      "\t(No symbol) [0x0xb9fa4a]\n",
      "\t(No symbol) [0x0xb7e376]\n",
      "\t(No symbol) [0x0xb4d6e0]\n",
      "\t(No symbol) [0x0xb4e544]\n",
      "\tGetHandleVerifier [0x0xf3e033+2531347]\n",
      "\tGetHandleVerifier [0x0xf39332+2511634]\n",
      "\tGetHandleVerifier [0x0xd09eda+220858]\n",
      "\tGetHandleVerifier [0x0xcfa528+156936]\n",
      "\tGetHandleVerifier [0x0xd00c5d+183357]\n",
      "\tGetHandleVerifier [0x0xceb6c8+95912]\n",
      "\tGetHandleVerifier [0x0xceb870+96336]\n",
      "\tGetHandleVerifier [0x0xcd664a+9770]\n",
      "\tBaseThreadInitThunk [0x0x75d15d49+25]\n",
      "\tRtlInitializeExceptionChain [0x0x7786d03b+107]\n",
      "\tRtlGetAppContainerNamedObjectPath [0x0x7786cfc1+561]\n",
      "\n"
     ]
    },
    {
     "name": "stderr",
     "output_type": "stream",
     "text": [
      "Scraping NICs:  12%|█▏        | 131/1127 [1:51:41<7:56:39, 28.71s/it]"
     ]
    },
    {
     "name": "stdout",
     "output_type": "stream",
     "text": [
      "Saved backup with 95943 results\n",
      "Error occurred while processing the table. Message: \n",
      "Stacktrace:\n",
      "\tGetHandleVerifier [0x0xce3763+63299]\n",
      "\tGetHandleVerifier [0x0xce37a4+63364]\n",
      "\t(No symbol) [0x0xb11113]\n",
      "\t(No symbol) [0x0xb5987e]\n",
      "\t(No symbol) [0x0xb59c1b]\n",
      "\t(No symbol) [0x0xba2212]\n",
      "\t(No symbol) [0x0xb7e5c4]\n",
      "\t(No symbol) [0x0xb9fa4a]\n",
      "\t(No symbol) [0x0xb7e376]\n",
      "\t(No symbol) [0x0xb4d6e0]\n",
      "\t(No symbol) [0x0xb4e544]\n",
      "\tGetHandleVerifier [0x0xf3e033+2531347]\n",
      "\tGetHandleVerifier [0x0xf39332+2511634]\n",
      "\tGetHandleVerifier [0x0xd09eda+220858]\n",
      "\tGetHandleVerifier [0x0xcfa528+156936]\n",
      "\tGetHandleVerifier [0x0xd00c5d+183357]\n",
      "\tGetHandleVerifier [0x0xceb6c8+95912]\n",
      "\tGetHandleVerifier [0x0xceb870+96336]\n",
      "\tGetHandleVerifier [0x0xcd664a+9770]\n",
      "\tBaseThreadInitThunk [0x0x75d15d49+25]\n",
      "\tRtlInitializeExceptionChain [0x0x7786d03b+107]\n",
      "\tRtlGetAppContainerNamedObjectPath [0x0x7786cfc1+561]\n",
      "\n"
     ]
    },
    {
     "name": "stderr",
     "output_type": "stream",
     "text": [
      "Scraping NICs:  12%|█▏        | 132/1127 [1:51:48<6:08:05, 22.20s/it]"
     ]
    },
    {
     "name": "stdout",
     "output_type": "stream",
     "text": [
      "Saved backup with 95943 results\n",
      "Dropdown not found or not interactable.\n",
      "Rows captured: 226\n"
     ]
    },
    {
     "name": "stderr",
     "output_type": "stream",
     "text": [
      "Scraping NICs:  12%|█▏        | 133/1127 [1:52:28<7:33:23, 27.37s/it]"
     ]
    },
    {
     "name": "stdout",
     "output_type": "stream",
     "text": [
      "Saved backup with 96169 results\n",
      "Rows captured: 425\n"
     ]
    },
    {
     "name": "stderr",
     "output_type": "stream",
     "text": [
      "Scraping NICs:  12%|█▏        | 134/1127 [1:53:39<11:09:53, 40.48s/it]"
     ]
    },
    {
     "name": "stdout",
     "output_type": "stream",
     "text": [
      "Saved backup with 96594 results\n",
      "Dropdown not found or not interactable.\n",
      "Rows captured: 768\n"
     ]
    },
    {
     "name": "stderr",
     "output_type": "stream",
     "text": [
      "Scraping NICs:  12%|█▏        | 135/1127 [1:54:17<10:56:38, 39.72s/it]"
     ]
    },
    {
     "name": "stdout",
     "output_type": "stream",
     "text": [
      "Saved backup with 97362 results\n",
      "Error occurred while processing the table. Message: \n",
      "Stacktrace:\n",
      "\tGetHandleVerifier [0x0xce3763+63299]\n",
      "\tGetHandleVerifier [0x0xce37a4+63364]\n",
      "\t(No symbol) [0x0xb11113]\n",
      "\t(No symbol) [0x0xb5987e]\n",
      "\t(No symbol) [0x0xb59c1b]\n",
      "\t(No symbol) [0x0xba2212]\n",
      "\t(No symbol) [0x0xb7e5c4]\n",
      "\t(No symbol) [0x0xb9fa4a]\n",
      "\t(No symbol) [0x0xb7e376]\n",
      "\t(No symbol) [0x0xb4d6e0]\n",
      "\t(No symbol) [0x0xb4e544]\n",
      "\tGetHandleVerifier [0x0xf3e033+2531347]\n",
      "\tGetHandleVerifier [0x0xf39332+2511634]\n",
      "\tGetHandleVerifier [0x0xd09eda+220858]\n",
      "\tGetHandleVerifier [0x0xcfa528+156936]\n",
      "\tGetHandleVerifier [0x0xd00c5d+183357]\n",
      "\tGetHandleVerifier [0x0xceb6c8+95912]\n",
      "\tGetHandleVerifier [0x0xceb870+96336]\n",
      "\tGetHandleVerifier [0x0xcd664a+9770]\n",
      "\tBaseThreadInitThunk [0x0x75d15d49+25]\n",
      "\tRtlInitializeExceptionChain [0x0x7786d03b+107]\n",
      "\tRtlGetAppContainerNamedObjectPath [0x0x7786cfc1+561]\n",
      "\n"
     ]
    },
    {
     "name": "stderr",
     "output_type": "stream",
     "text": [
      "Scraping NICs:  12%|█▏        | 136/1127 [1:54:30<8:43:39, 31.70s/it] "
     ]
    },
    {
     "name": "stdout",
     "output_type": "stream",
     "text": [
      "Saved backup with 97362 results\n",
      "Dropdown not found or not interactable.\n",
      "Dropdown not found or not interactable.\n",
      "Error occurred while processing the table. Message: \n",
      "Stacktrace:\n",
      "\tGetHandleVerifier [0x0xce3763+63299]\n",
      "\tGetHandleVerifier [0x0xce37a4+63364]\n",
      "\t(No symbol) [0x0xb11113]\n",
      "\t(No symbol) [0x0xb5987e]\n",
      "\t(No symbol) [0x0xb59c1b]\n",
      "\t(No symbol) [0x0xba2212]\n",
      "\t(No symbol) [0x0xb7e5c4]\n",
      "\t(No symbol) [0x0xb9fa4a]\n",
      "\t(No symbol) [0x0xb7e376]\n",
      "\t(No symbol) [0x0xb4d6e0]\n",
      "\t(No symbol) [0x0xb4e544]\n",
      "\tGetHandleVerifier [0x0xf3e033+2531347]\n",
      "\tGetHandleVerifier [0x0xf39332+2511634]\n",
      "\tGetHandleVerifier [0x0xd09eda+220858]\n",
      "\tGetHandleVerifier [0x0xcfa528+156936]\n",
      "\tGetHandleVerifier [0x0xd00c5d+183357]\n",
      "\tGetHandleVerifier [0x0xceb6c8+95912]\n",
      "\tGetHandleVerifier [0x0xceb870+96336]\n",
      "\tGetHandleVerifier [0x0xcd664a+9770]\n",
      "\tBaseThreadInitThunk [0x0x75d15d49+25]\n",
      "\tRtlInitializeExceptionChain [0x0x7786d03b+107]\n",
      "\tRtlGetAppContainerNamedObjectPath [0x0x7786cfc1+561]\n",
      "\n"
     ]
    },
    {
     "name": "stderr",
     "output_type": "stream",
     "text": [
      "Scraping NICs:  12%|█▏        | 137/1127 [1:55:04<8:55:02, 32.43s/it]"
     ]
    },
    {
     "name": "stdout",
     "output_type": "stream",
     "text": [
      "Saved backup with 97362 results\n",
      "Error occurred while processing the table. Message: \n",
      "Stacktrace:\n",
      "\tGetHandleVerifier [0x0xce3763+63299]\n",
      "\tGetHandleVerifier [0x0xce37a4+63364]\n",
      "\t(No symbol) [0x0xb11113]\n",
      "\t(No symbol) [0x0xb5987e]\n",
      "\t(No symbol) [0x0xb59c1b]\n",
      "\t(No symbol) [0x0xba2212]\n",
      "\t(No symbol) [0x0xb7e5c4]\n",
      "\t(No symbol) [0x0xb9fa4a]\n",
      "\t(No symbol) [0x0xb7e376]\n",
      "\t(No symbol) [0x0xb4d6e0]\n",
      "\t(No symbol) [0x0xb4e544]\n",
      "\tGetHandleVerifier [0x0xf3e033+2531347]\n",
      "\tGetHandleVerifier [0x0xf39332+2511634]\n",
      "\tGetHandleVerifier [0x0xd09eda+220858]\n",
      "\tGetHandleVerifier [0x0xcfa528+156936]\n",
      "\tGetHandleVerifier [0x0xd00c5d+183357]\n",
      "\tGetHandleVerifier [0x0xceb6c8+95912]\n",
      "\tGetHandleVerifier [0x0xceb870+96336]\n",
      "\tGetHandleVerifier [0x0xcd664a+9770]\n",
      "\tBaseThreadInitThunk [0x0x75d15d49+25]\n",
      "\tRtlInitializeExceptionChain [0x0x7786d03b+107]\n",
      "\tRtlGetAppContainerNamedObjectPath [0x0x7786cfc1+561]\n",
      "\n"
     ]
    },
    {
     "name": "stderr",
     "output_type": "stream",
     "text": [
      "Scraping NICs:  12%|█▏        | 138/1127 [1:55:20<7:34:22, 27.57s/it]"
     ]
    },
    {
     "name": "stdout",
     "output_type": "stream",
     "text": [
      "Saved backup with 97362 results\n",
      "Dropdown not found or not interactable.\n",
      "Dropdown not found or not interactable.\n",
      "Error occurred while processing the table. Message: \n",
      "Stacktrace:\n",
      "\tGetHandleVerifier [0x0xce3763+63299]\n",
      "\tGetHandleVerifier [0x0xce37a4+63364]\n",
      "\t(No symbol) [0x0xb11113]\n",
      "\t(No symbol) [0x0xb5987e]\n",
      "\t(No symbol) [0x0xb59c1b]\n",
      "\t(No symbol) [0x0xba2212]\n",
      "\t(No symbol) [0x0xb7e5c4]\n",
      "\t(No symbol) [0x0xb9fa4a]\n",
      "\t(No symbol) [0x0xb7e376]\n",
      "\t(No symbol) [0x0xb4d6e0]\n",
      "\t(No symbol) [0x0xb4e544]\n",
      "\tGetHandleVerifier [0x0xf3e033+2531347]\n",
      "\tGetHandleVerifier [0x0xf39332+2511634]\n",
      "\tGetHandleVerifier [0x0xd09eda+220858]\n",
      "\tGetHandleVerifier [0x0xcfa528+156936]\n",
      "\tGetHandleVerifier [0x0xd00c5d+183357]\n",
      "\tGetHandleVerifier [0x0xceb6c8+95912]\n",
      "\tGetHandleVerifier [0x0xceb870+96336]\n",
      "\tGetHandleVerifier [0x0xcd664a+9770]\n",
      "\tBaseThreadInitThunk [0x0x75d15d49+25]\n",
      "\tRtlInitializeExceptionChain [0x0x7786d03b+107]\n",
      "\tRtlGetAppContainerNamedObjectPath [0x0x7786cfc1+561]\n",
      "\n"
     ]
    },
    {
     "name": "stderr",
     "output_type": "stream",
     "text": [
      "Scraping NICs:  12%|█▏        | 139/1127 [1:55:51<7:50:32, 28.58s/it]"
     ]
    },
    {
     "name": "stdout",
     "output_type": "stream",
     "text": [
      "Saved backup with 97362 results\n",
      "Error occurred while processing the table. Message: \n",
      "Stacktrace:\n",
      "\tGetHandleVerifier [0x0xce3763+63299]\n",
      "\tGetHandleVerifier [0x0xce37a4+63364]\n",
      "\t(No symbol) [0x0xb11113]\n",
      "\t(No symbol) [0x0xb5987e]\n",
      "\t(No symbol) [0x0xb59c1b]\n",
      "\t(No symbol) [0x0xba2212]\n",
      "\t(No symbol) [0x0xb7e5c4]\n",
      "\t(No symbol) [0x0xb9fa4a]\n",
      "\t(No symbol) [0x0xb7e376]\n",
      "\t(No symbol) [0x0xb4d6e0]\n",
      "\t(No symbol) [0x0xb4e544]\n",
      "\tGetHandleVerifier [0x0xf3e033+2531347]\n",
      "\tGetHandleVerifier [0x0xf39332+2511634]\n",
      "\tGetHandleVerifier [0x0xd09eda+220858]\n",
      "\tGetHandleVerifier [0x0xcfa528+156936]\n",
      "\tGetHandleVerifier [0x0xd00c5d+183357]\n",
      "\tGetHandleVerifier [0x0xceb6c8+95912]\n",
      "\tGetHandleVerifier [0x0xceb870+96336]\n",
      "\tGetHandleVerifier [0x0xcd664a+9770]\n",
      "\tBaseThreadInitThunk [0x0x75d15d49+25]\n",
      "\tRtlInitializeExceptionChain [0x0x7786d03b+107]\n",
      "\tRtlGetAppContainerNamedObjectPath [0x0x7786cfc1+561]\n",
      "\n"
     ]
    },
    {
     "name": "stderr",
     "output_type": "stream",
     "text": [
      "Scraping NICs:  12%|█▏        | 140/1127 [1:56:08<6:51:49, 25.03s/it]"
     ]
    },
    {
     "name": "stdout",
     "output_type": "stream",
     "text": [
      "Saved backup with 97362 results\n",
      "Dropdown not found or not interactable.\n",
      "Dropdown not found or not interactable.\n",
      "Error occurred while processing the table. Message: \n",
      "Stacktrace:\n",
      "\tGetHandleVerifier [0x0xce3763+63299]\n",
      "\tGetHandleVerifier [0x0xce37a4+63364]\n",
      "\t(No symbol) [0x0xb11113]\n",
      "\t(No symbol) [0x0xb5987e]\n",
      "\t(No symbol) [0x0xb59c1b]\n",
      "\t(No symbol) [0x0xba2212]\n",
      "\t(No symbol) [0x0xb7e5c4]\n",
      "\t(No symbol) [0x0xb9fa4a]\n",
      "\t(No symbol) [0x0xb7e376]\n",
      "\t(No symbol) [0x0xb4d6e0]\n",
      "\t(No symbol) [0x0xb4e544]\n",
      "\tGetHandleVerifier [0x0xf3e033+2531347]\n",
      "\tGetHandleVerifier [0x0xf39332+2511634]\n",
      "\tGetHandleVerifier [0x0xd09eda+220858]\n",
      "\tGetHandleVerifier [0x0xcfa528+156936]\n",
      "\tGetHandleVerifier [0x0xd00c5d+183357]\n",
      "\tGetHandleVerifier [0x0xceb6c8+95912]\n",
      "\tGetHandleVerifier [0x0xceb870+96336]\n",
      "\tGetHandleVerifier [0x0xcd664a+9770]\n",
      "\tBaseThreadInitThunk [0x0x75d15d49+25]\n",
      "\tRtlInitializeExceptionChain [0x0x7786d03b+107]\n",
      "\tRtlGetAppContainerNamedObjectPath [0x0x7786cfc1+561]\n",
      "\n"
     ]
    },
    {
     "name": "stderr",
     "output_type": "stream",
     "text": [
      "Scraping NICs:  13%|█▎        | 141/1127 [1:56:38<7:15:25, 26.50s/it]"
     ]
    },
    {
     "name": "stdout",
     "output_type": "stream",
     "text": [
      "Saved backup with 97362 results\n",
      "Error occurred while processing the table. Message: \n",
      "Stacktrace:\n",
      "\tGetHandleVerifier [0x0xce3763+63299]\n",
      "\tGetHandleVerifier [0x0xce37a4+63364]\n",
      "\t(No symbol) [0x0xb11113]\n",
      "\t(No symbol) [0x0xb5987e]\n",
      "\t(No symbol) [0x0xb59c1b]\n",
      "\t(No symbol) [0x0xba2212]\n",
      "\t(No symbol) [0x0xb7e5c4]\n",
      "\t(No symbol) [0x0xb9fa4a]\n",
      "\t(No symbol) [0x0xb7e376]\n",
      "\t(No symbol) [0x0xb4d6e0]\n",
      "\t(No symbol) [0x0xb4e544]\n",
      "\tGetHandleVerifier [0x0xf3e033+2531347]\n",
      "\tGetHandleVerifier [0x0xf39332+2511634]\n",
      "\tGetHandleVerifier [0x0xd09eda+220858]\n",
      "\tGetHandleVerifier [0x0xcfa528+156936]\n",
      "\tGetHandleVerifier [0x0xd00c5d+183357]\n",
      "\tGetHandleVerifier [0x0xceb6c8+95912]\n",
      "\tGetHandleVerifier [0x0xceb870+96336]\n",
      "\tGetHandleVerifier [0x0xcd664a+9770]\n",
      "\tBaseThreadInitThunk [0x0x75d15d49+25]\n",
      "\tRtlInitializeExceptionChain [0x0x7786d03b+107]\n",
      "\tRtlGetAppContainerNamedObjectPath [0x0x7786cfc1+561]\n",
      "\n"
     ]
    },
    {
     "name": "stderr",
     "output_type": "stream",
     "text": [
      "Scraping NICs:  13%|█▎        | 142/1127 [1:56:56<6:32:50, 23.93s/it]"
     ]
    },
    {
     "name": "stdout",
     "output_type": "stream",
     "text": [
      "Saved backup with 97362 results\n",
      "Dropdown not found or not interactable.\n",
      "Dropdown not found or not interactable.\n",
      "Error occurred while processing the table. Message: \n",
      "Stacktrace:\n",
      "\tGetHandleVerifier [0x0xce3763+63299]\n",
      "\tGetHandleVerifier [0x0xce37a4+63364]\n",
      "\t(No symbol) [0x0xb11113]\n",
      "\t(No symbol) [0x0xb5987e]\n",
      "\t(No symbol) [0x0xb59c1b]\n",
      "\t(No symbol) [0x0xba2212]\n",
      "\t(No symbol) [0x0xb7e5c4]\n",
      "\t(No symbol) [0x0xb9fa4a]\n",
      "\t(No symbol) [0x0xb7e376]\n",
      "\t(No symbol) [0x0xb4d6e0]\n",
      "\t(No symbol) [0x0xb4e544]\n",
      "\tGetHandleVerifier [0x0xf3e033+2531347]\n",
      "\tGetHandleVerifier [0x0xf39332+2511634]\n",
      "\tGetHandleVerifier [0x0xd09eda+220858]\n",
      "\tGetHandleVerifier [0x0xcfa528+156936]\n",
      "\tGetHandleVerifier [0x0xd00c5d+183357]\n",
      "\tGetHandleVerifier [0x0xceb6c8+95912]\n",
      "\tGetHandleVerifier [0x0xceb870+96336]\n",
      "\tGetHandleVerifier [0x0xcd664a+9770]\n",
      "\tBaseThreadInitThunk [0x0x75d15d49+25]\n",
      "\tRtlInitializeExceptionChain [0x0x7786d03b+107]\n",
      "\tRtlGetAppContainerNamedObjectPath [0x0x7786cfc1+561]\n",
      "\n"
     ]
    },
    {
     "name": "stderr",
     "output_type": "stream",
     "text": [
      "Scraping NICs:  13%|█▎        | 143/1127 [1:57:26<7:06:38, 26.01s/it]"
     ]
    },
    {
     "name": "stdout",
     "output_type": "stream",
     "text": [
      "Saved backup with 97362 results\n",
      "Error occurred while processing the table. Message: \n",
      "Stacktrace:\n",
      "\tGetHandleVerifier [0x0xce3763+63299]\n",
      "\tGetHandleVerifier [0x0xce37a4+63364]\n",
      "\t(No symbol) [0x0xb11113]\n",
      "\t(No symbol) [0x0xb5987e]\n",
      "\t(No symbol) [0x0xb59c1b]\n",
      "\t(No symbol) [0x0xba2212]\n",
      "\t(No symbol) [0x0xb7e5c4]\n",
      "\t(No symbol) [0x0xb9fa4a]\n",
      "\t(No symbol) [0x0xb7e376]\n",
      "\t(No symbol) [0x0xb4d6e0]\n",
      "\t(No symbol) [0x0xb4e544]\n",
      "\tGetHandleVerifier [0x0xf3e033+2531347]\n",
      "\tGetHandleVerifier [0x0xf39332+2511634]\n",
      "\tGetHandleVerifier [0x0xd09eda+220858]\n",
      "\tGetHandleVerifier [0x0xcfa528+156936]\n",
      "\tGetHandleVerifier [0x0xd00c5d+183357]\n",
      "\tGetHandleVerifier [0x0xceb6c8+95912]\n",
      "\tGetHandleVerifier [0x0xceb870+96336]\n",
      "\tGetHandleVerifier [0x0xcd664a+9770]\n",
      "\tBaseThreadInitThunk [0x0x75d15d49+25]\n",
      "\tRtlInitializeExceptionChain [0x0x7786d03b+107]\n",
      "\tRtlGetAppContainerNamedObjectPath [0x0x7786cfc1+561]\n",
      "\n"
     ]
    },
    {
     "name": "stderr",
     "output_type": "stream",
     "text": [
      "Scraping NICs:  13%|█▎        | 144/1127 [1:57:43<6:21:15, 23.27s/it]"
     ]
    },
    {
     "name": "stdout",
     "output_type": "stream",
     "text": [
      "Saved backup with 97362 results\n",
      "Dropdown not found or not interactable.\n",
      "Dropdown not found or not interactable.\n",
      "Error occurred while processing the table. Message: \n",
      "Stacktrace:\n",
      "\tGetHandleVerifier [0x0xce3763+63299]\n",
      "\tGetHandleVerifier [0x0xce37a4+63364]\n",
      "\t(No symbol) [0x0xb11113]\n",
      "\t(No symbol) [0x0xb5987e]\n",
      "\t(No symbol) [0x0xb59c1b]\n",
      "\t(No symbol) [0x0xba2212]\n",
      "\t(No symbol) [0x0xb7e5c4]\n",
      "\t(No symbol) [0x0xb9fa4a]\n",
      "\t(No symbol) [0x0xb7e376]\n",
      "\t(No symbol) [0x0xb4d6e0]\n",
      "\t(No symbol) [0x0xb4e544]\n",
      "\tGetHandleVerifier [0x0xf3e033+2531347]\n",
      "\tGetHandleVerifier [0x0xf39332+2511634]\n",
      "\tGetHandleVerifier [0x0xd09eda+220858]\n",
      "\tGetHandleVerifier [0x0xcfa528+156936]\n",
      "\tGetHandleVerifier [0x0xd00c5d+183357]\n",
      "\tGetHandleVerifier [0x0xceb6c8+95912]\n",
      "\tGetHandleVerifier [0x0xceb870+96336]\n",
      "\tGetHandleVerifier [0x0xcd664a+9770]\n",
      "\tBaseThreadInitThunk [0x0x75d15d49+25]\n",
      "\tRtlInitializeExceptionChain [0x0x7786d03b+107]\n",
      "\tRtlGetAppContainerNamedObjectPath [0x0x7786cfc1+561]\n",
      "\n"
     ]
    },
    {
     "name": "stderr",
     "output_type": "stream",
     "text": [
      "Scraping NICs:  13%|█▎        | 145/1127 [1:58:14<6:55:26, 25.38s/it]"
     ]
    },
    {
     "name": "stdout",
     "output_type": "stream",
     "text": [
      "Saved backup with 97362 results\n",
      "Error occurred while processing the table. Message: \n",
      "Stacktrace:\n",
      "\tGetHandleVerifier [0x0xce3763+63299]\n",
      "\tGetHandleVerifier [0x0xce37a4+63364]\n",
      "\t(No symbol) [0x0xb11113]\n",
      "\t(No symbol) [0x0xb5987e]\n",
      "\t(No symbol) [0x0xb59c1b]\n",
      "\t(No symbol) [0x0xba2212]\n",
      "\t(No symbol) [0x0xb7e5c4]\n",
      "\t(No symbol) [0x0xb9fa4a]\n",
      "\t(No symbol) [0x0xb7e376]\n",
      "\t(No symbol) [0x0xb4d6e0]\n",
      "\t(No symbol) [0x0xb4e544]\n",
      "\tGetHandleVerifier [0x0xf3e033+2531347]\n",
      "\tGetHandleVerifier [0x0xf39332+2511634]\n",
      "\tGetHandleVerifier [0x0xd09eda+220858]\n",
      "\tGetHandleVerifier [0x0xcfa528+156936]\n",
      "\tGetHandleVerifier [0x0xd00c5d+183357]\n",
      "\tGetHandleVerifier [0x0xceb6c8+95912]\n",
      "\tGetHandleVerifier [0x0xceb870+96336]\n",
      "\tGetHandleVerifier [0x0xcd664a+9770]\n",
      "\tBaseThreadInitThunk [0x0x75d15d49+25]\n",
      "\tRtlInitializeExceptionChain [0x0x7786d03b+107]\n",
      "\tRtlGetAppContainerNamedObjectPath [0x0x7786cfc1+561]\n",
      "\n"
     ]
    },
    {
     "name": "stderr",
     "output_type": "stream",
     "text": [
      "Scraping NICs:  13%|█▎        | 146/1127 [1:58:30<6:13:18, 22.83s/it]"
     ]
    },
    {
     "name": "stdout",
     "output_type": "stream",
     "text": [
      "Saved backup with 97362 results\n",
      "Rows captured: 51\n"
     ]
    },
    {
     "name": "stderr",
     "output_type": "stream",
     "text": [
      "Scraping NICs:  13%|█▎        | 147/1127 [1:59:05<7:10:37, 26.36s/it]"
     ]
    },
    {
     "name": "stdout",
     "output_type": "stream",
     "text": [
      "Saved backup with 97413 results\n",
      "Rows captured: 129\n"
     ]
    },
    {
     "name": "stderr",
     "output_type": "stream",
     "text": [
      "Scraping NICs:  13%|█▎        | 148/1127 [1:59:43<8:08:17, 29.93s/it]"
     ]
    },
    {
     "name": "stdout",
     "output_type": "stream",
     "text": [
      "Saved backup with 97542 results\n",
      "Dropdown not found or not interactable.\n",
      "Rows captured: 297\n"
     ]
    },
    {
     "name": "stderr",
     "output_type": "stream",
     "text": [
      "Scraping NICs:  13%|█▎        | 149/1127 [2:00:28<9:21:48, 34.47s/it]"
     ]
    },
    {
     "name": "stdout",
     "output_type": "stream",
     "text": [
      "Saved backup with 97839 results\n",
      "Error occurred while processing the table. Message: \n",
      "Stacktrace:\n",
      "\tGetHandleVerifier [0x0xce3763+63299]\n",
      "\tGetHandleVerifier [0x0xce37a4+63364]\n",
      "\t(No symbol) [0x0xb11113]\n",
      "\t(No symbol) [0x0xb5987e]\n",
      "\t(No symbol) [0x0xb59c1b]\n",
      "\t(No symbol) [0x0xba2212]\n",
      "\t(No symbol) [0x0xb7e5c4]\n",
      "\t(No symbol) [0x0xb9fa4a]\n",
      "\t(No symbol) [0x0xb7e376]\n",
      "\t(No symbol) [0x0xb4d6e0]\n",
      "\t(No symbol) [0x0xb4e544]\n",
      "\tGetHandleVerifier [0x0xf3e033+2531347]\n",
      "\tGetHandleVerifier [0x0xf39332+2511634]\n",
      "\tGetHandleVerifier [0x0xd09eda+220858]\n",
      "\tGetHandleVerifier [0x0xcfa528+156936]\n",
      "\tGetHandleVerifier [0x0xd00c5d+183357]\n",
      "\tGetHandleVerifier [0x0xceb6c8+95912]\n",
      "\tGetHandleVerifier [0x0xceb870+96336]\n",
      "\tGetHandleVerifier [0x0xcd664a+9770]\n",
      "\tBaseThreadInitThunk [0x0x75d15d49+25]\n",
      "\tRtlInitializeExceptionChain [0x0x7786d03b+107]\n",
      "\tRtlGetAppContainerNamedObjectPath [0x0x7786cfc1+561]\n",
      "\n"
     ]
    },
    {
     "name": "stderr",
     "output_type": "stream",
     "text": [
      "Scraping NICs:  13%|█▎        | 150/1127 [2:00:36<7:10:04, 26.41s/it]"
     ]
    },
    {
     "name": "stdout",
     "output_type": "stream",
     "text": [
      "Saved backup with 97839 results\n",
      "Dropdown not found or not interactable.\n",
      "Rows captured: 206\n"
     ]
    },
    {
     "name": "stderr",
     "output_type": "stream",
     "text": [
      "Scraping NICs:  13%|█▎        | 151/1127 [2:01:20<8:34:39, 31.64s/it]"
     ]
    },
    {
     "name": "stdout",
     "output_type": "stream",
     "text": [
      "Saved backup with 98045 results\n",
      "Error occurred while processing the table. Message: \n",
      "Stacktrace:\n",
      "\tGetHandleVerifier [0x0xce3763+63299]\n",
      "\tGetHandleVerifier [0x0xce37a4+63364]\n",
      "\t(No symbol) [0x0xb11113]\n",
      "\t(No symbol) [0x0xb5987e]\n",
      "\t(No symbol) [0x0xb59c1b]\n",
      "\t(No symbol) [0x0xba2212]\n",
      "\t(No symbol) [0x0xb7e5c4]\n",
      "\t(No symbol) [0x0xb9fa4a]\n",
      "\t(No symbol) [0x0xb7e376]\n",
      "\t(No symbol) [0x0xb4d6e0]\n",
      "\t(No symbol) [0x0xb4e544]\n",
      "\tGetHandleVerifier [0x0xf3e033+2531347]\n",
      "\tGetHandleVerifier [0x0xf39332+2511634]\n",
      "\tGetHandleVerifier [0x0xd09eda+220858]\n",
      "\tGetHandleVerifier [0x0xcfa528+156936]\n",
      "\tGetHandleVerifier [0x0xd00c5d+183357]\n",
      "\tGetHandleVerifier [0x0xceb6c8+95912]\n",
      "\tGetHandleVerifier [0x0xceb870+96336]\n",
      "\tGetHandleVerifier [0x0xcd664a+9770]\n",
      "\tBaseThreadInitThunk [0x0x75d15d49+25]\n",
      "\tRtlInitializeExceptionChain [0x0x7786d03b+107]\n",
      "\tRtlGetAppContainerNamedObjectPath [0x0x7786cfc1+561]\n",
      "\n"
     ]
    },
    {
     "name": "stderr",
     "output_type": "stream",
     "text": [
      "Scraping NICs:  13%|█▎        | 152/1127 [2:01:23<6:13:44, 23.00s/it]"
     ]
    },
    {
     "name": "stdout",
     "output_type": "stream",
     "text": [
      "Saved backup with 98045 results\n",
      "Dropdown not found or not interactable.\n",
      "Dropdown not found or not interactable.\n",
      "Error occurred while processing the table. Message: \n",
      "Stacktrace:\n",
      "\tGetHandleVerifier [0x0xce3763+63299]\n",
      "\tGetHandleVerifier [0x0xce37a4+63364]\n",
      "\t(No symbol) [0x0xb11113]\n",
      "\t(No symbol) [0x0xb5987e]\n",
      "\t(No symbol) [0x0xb59c1b]\n",
      "\t(No symbol) [0x0xba2212]\n",
      "\t(No symbol) [0x0xb7e5c4]\n",
      "\t(No symbol) [0x0xb9fa4a]\n",
      "\t(No symbol) [0x0xb7e376]\n",
      "\t(No symbol) [0x0xb4d6e0]\n",
      "\t(No symbol) [0x0xb4e544]\n",
      "\tGetHandleVerifier [0x0xf3e033+2531347]\n",
      "\tGetHandleVerifier [0x0xf39332+2511634]\n",
      "\tGetHandleVerifier [0x0xd09eda+220858]\n",
      "\tGetHandleVerifier [0x0xcfa528+156936]\n",
      "\tGetHandleVerifier [0x0xd00c5d+183357]\n",
      "\tGetHandleVerifier [0x0xceb6c8+95912]\n",
      "\tGetHandleVerifier [0x0xceb870+96336]\n",
      "\tGetHandleVerifier [0x0xcd664a+9770]\n",
      "\tBaseThreadInitThunk [0x0x75d15d49+25]\n",
      "\tRtlInitializeExceptionChain [0x0x7786d03b+107]\n",
      "\tRtlGetAppContainerNamedObjectPath [0x0x7786cfc1+561]\n",
      "\n",
      "Error occurred while processing the table. Message: \n",
      "Stacktrace:\n",
      "\tGetHandleVerifier [0x0xce3763+63299]\n",
      "\tGetHandleVerifier [0x0xce37a4+63364]\n",
      "\t(No symbol) [0x0xb11113]\n",
      "\t(No symbol) [0x0xb5987e]\n",
      "\t(No symbol) [0x0xb59c1b]\n",
      "\t(No symbol) [0x0xba2212]\n",
      "\t(No symbol) [0x0xb7e5c4]\n",
      "\t(No symbol) [0x0xb9fa4a]\n",
      "\t(No symbol) [0x0xb7e376]\n",
      "\t(No symbol) [0x0xb4d6e0]\n",
      "\t(No symbol) [0x0xb4e544]\n",
      "\tGetHandleVerifier [0x0xf3e033+2531347]\n",
      "\tGetHandleVerifier [0x0xf39332+2511634]\n",
      "\tGetHandleVerifier [0x0xd09eda+220858]\n",
      "\tGetHandleVerifier [0x0xcfa528+156936]\n",
      "\tGetHandleVerifier [0x0xd00c5d+183357]\n",
      "\tGetHandleVerifier [0x0xceb6c8+95912]\n",
      "\tGetHandleVerifier [0x0xceb870+96336]\n",
      "\tGetHandleVerifier [0x0xcd664a+9770]\n",
      "\tBaseThreadInitThunk [0x0x75d15d49+25]\n",
      "\tRtlInitializeExceptionChain [0x0x7786d03b+107]\n",
      "\tRtlGetAppContainerNamedObjectPath [0x0x7786cfc1+561]\n",
      "\n"
     ]
    },
    {
     "name": "stderr",
     "output_type": "stream",
     "text": [
      "Scraping NICs:  14%|█▎        | 153/1127 [2:02:10<8:12:01, 30.31s/it]"
     ]
    },
    {
     "name": "stdout",
     "output_type": "stream",
     "text": [
      "Saved backup with 98045 results\n"
     ]
    },
    {
     "name": "stderr",
     "output_type": "stream",
     "text": [
      "Scraping NICs:  14%|█▎        | 154/1127 [2:02:11<5:49:48, 21.57s/it]"
     ]
    },
    {
     "name": "stdout",
     "output_type": "stream",
     "text": [
      "Saved backup with 98045 results\n",
      "Dropdown not found or not interactable.\n",
      "Error occurred while processing the table. Message: \n",
      "Stacktrace:\n",
      "\tGetHandleVerifier [0x0xce3763+63299]\n",
      "\tGetHandleVerifier [0x0xce37a4+63364]\n",
      "\t(No symbol) [0x0xb11113]\n",
      "\t(No symbol) [0x0xb5987e]\n",
      "\t(No symbol) [0x0xb59c1b]\n",
      "\t(No symbol) [0x0xba2212]\n",
      "\t(No symbol) [0x0xb7e5c4]\n",
      "\t(No symbol) [0x0xb9fa4a]\n",
      "\t(No symbol) [0x0xb7e376]\n",
      "\t(No symbol) [0x0xb4d6e0]\n",
      "\t(No symbol) [0x0xb4e544]\n",
      "\tGetHandleVerifier [0x0xf3e033+2531347]\n",
      "\tGetHandleVerifier [0x0xf39332+2511634]\n",
      "\tGetHandleVerifier [0x0xd09eda+220858]\n",
      "\tGetHandleVerifier [0x0xcfa528+156936]\n",
      "\tGetHandleVerifier [0x0xd00c5d+183357]\n",
      "\tGetHandleVerifier [0x0xceb6c8+95912]\n",
      "\tGetHandleVerifier [0x0xceb870+96336]\n",
      "\tGetHandleVerifier [0x0xcd664a+9770]\n",
      "\tBaseThreadInitThunk [0x0x75d15d49+25]\n",
      "\tRtlInitializeExceptionChain [0x0x7786d03b+107]\n",
      "\tRtlGetAppContainerNamedObjectPath [0x0x7786cfc1+561]\n",
      "\n"
     ]
    },
    {
     "name": "stderr",
     "output_type": "stream",
     "text": [
      "Scraping NICs:  14%|█▍        | 155/1127 [2:02:57<7:47:45, 28.87s/it]"
     ]
    },
    {
     "name": "stdout",
     "output_type": "stream",
     "text": [
      "Saved backup with 98045 results\n",
      "Rows captured: 38\n",
      "Dropdown not found or not interactable.\n"
     ]
    },
    {
     "name": "stderr",
     "output_type": "stream",
     "text": [
      "Scraping NICs:  14%|█▍        | 156/1127 [2:03:19<7:11:48, 26.68s/it]"
     ]
    },
    {
     "name": "stdout",
     "output_type": "stream",
     "text": [
      "Saved backup with 98083 results\n",
      "Dropdown not found or not interactable.\n",
      "Error occurred while processing the table. Message: \n",
      "Stacktrace:\n",
      "\tGetHandleVerifier [0x0xce3763+63299]\n",
      "\tGetHandleVerifier [0x0xce37a4+63364]\n",
      "\t(No symbol) [0x0xb11113]\n",
      "\t(No symbol) [0x0xb5987e]\n",
      "\t(No symbol) [0x0xb59c1b]\n",
      "\t(No symbol) [0x0xba2212]\n",
      "\t(No symbol) [0x0xb7e5c4]\n",
      "\t(No symbol) [0x0xb9fa4a]\n",
      "\t(No symbol) [0x0xb7e376]\n",
      "\t(No symbol) [0x0xb4d6e0]\n",
      "\t(No symbol) [0x0xb4e544]\n",
      "\tGetHandleVerifier [0x0xf3e033+2531347]\n",
      "\tGetHandleVerifier [0x0xf39332+2511634]\n",
      "\tGetHandleVerifier [0x0xd09eda+220858]\n",
      "\tGetHandleVerifier [0x0xcfa528+156936]\n",
      "\tGetHandleVerifier [0x0xd00c5d+183357]\n",
      "\tGetHandleVerifier [0x0xceb6c8+95912]\n",
      "\tGetHandleVerifier [0x0xceb870+96336]\n",
      "\tGetHandleVerifier [0x0xcd664a+9770]\n",
      "\tBaseThreadInitThunk [0x0x75d15d49+25]\n",
      "\tRtlInitializeExceptionChain [0x0x7786d03b+107]\n",
      "\tRtlGetAppContainerNamedObjectPath [0x0x7786cfc1+561]\n",
      "\n"
     ]
    },
    {
     "name": "stderr",
     "output_type": "stream",
     "text": [
      "Scraping NICs:  14%|█▍        | 157/1127 [2:03:44<7:06:55, 26.41s/it]"
     ]
    },
    {
     "name": "stdout",
     "output_type": "stream",
     "text": [
      "Saved backup with 98083 results\n",
      "Error occurred while processing the table. Message: \n",
      "Stacktrace:\n",
      "\tGetHandleVerifier [0x0xce3763+63299]\n",
      "\tGetHandleVerifier [0x0xce37a4+63364]\n",
      "\t(No symbol) [0x0xb11113]\n",
      "\t(No symbol) [0x0xb5987e]\n",
      "\t(No symbol) [0x0xb59c1b]\n",
      "\t(No symbol) [0x0xba2212]\n",
      "\t(No symbol) [0x0xb7e5c4]\n",
      "\t(No symbol) [0x0xb9fa4a]\n",
      "\t(No symbol) [0x0xb7e376]\n",
      "\t(No symbol) [0x0xb4d6e0]\n",
      "\t(No symbol) [0x0xb4e544]\n",
      "\tGetHandleVerifier [0x0xf3e033+2531347]\n",
      "\tGetHandleVerifier [0x0xf39332+2511634]\n",
      "\tGetHandleVerifier [0x0xd09eda+220858]\n",
      "\tGetHandleVerifier [0x0xcfa528+156936]\n",
      "\tGetHandleVerifier [0x0xd00c5d+183357]\n",
      "\tGetHandleVerifier [0x0xceb6c8+95912]\n",
      "\tGetHandleVerifier [0x0xceb870+96336]\n",
      "\tGetHandleVerifier [0x0xcd664a+9770]\n",
      "\tBaseThreadInitThunk [0x0x75d15d49+25]\n",
      "\tRtlInitializeExceptionChain [0x0x7786d03b+107]\n",
      "\tRtlGetAppContainerNamedObjectPath [0x0x7786cfc1+561]\n",
      "\n"
     ]
    },
    {
     "name": "stderr",
     "output_type": "stream",
     "text": [
      "Scraping NICs:  14%|█▍        | 158/1127 [2:04:07<6:49:50, 25.38s/it]"
     ]
    },
    {
     "name": "stdout",
     "output_type": "stream",
     "text": [
      "Saved backup with 98083 results\n",
      "Dropdown not found or not interactable.\n",
      "Error occurred while processing the table. Message: \n",
      "Stacktrace:\n",
      "\tGetHandleVerifier [0x0xce3763+63299]\n",
      "\tGetHandleVerifier [0x0xce37a4+63364]\n",
      "\t(No symbol) [0x0xb11113]\n",
      "\t(No symbol) [0x0xb5987e]\n",
      "\t(No symbol) [0x0xb59c1b]\n",
      "\t(No symbol) [0x0xba2212]\n",
      "\t(No symbol) [0x0xb7e5c4]\n",
      "\t(No symbol) [0x0xb9fa4a]\n",
      "\t(No symbol) [0x0xb7e376]\n",
      "\t(No symbol) [0x0xb4d6e0]\n",
      "\t(No symbol) [0x0xb4e544]\n",
      "\tGetHandleVerifier [0x0xf3e033+2531347]\n",
      "\tGetHandleVerifier [0x0xf39332+2511634]\n",
      "\tGetHandleVerifier [0x0xd09eda+220858]\n",
      "\tGetHandleVerifier [0x0xcfa528+156936]\n",
      "\tGetHandleVerifier [0x0xd00c5d+183357]\n",
      "\tGetHandleVerifier [0x0xceb6c8+95912]\n",
      "\tGetHandleVerifier [0x0xceb870+96336]\n",
      "\tGetHandleVerifier [0x0xcd664a+9770]\n",
      "\tBaseThreadInitThunk [0x0x75d15d49+25]\n",
      "\tRtlInitializeExceptionChain [0x0x7786d03b+107]\n",
      "\tRtlGetAppContainerNamedObjectPath [0x0x7786cfc1+561]\n",
      "\n"
     ]
    },
    {
     "name": "stderr",
     "output_type": "stream",
     "text": [
      "Scraping NICs:  14%|█▍        | 159/1127 [2:04:57<8:45:22, 32.56s/it]"
     ]
    },
    {
     "name": "stdout",
     "output_type": "stream",
     "text": [
      "Saved backup with 98083 results\n",
      "Rows captured: 630\n"
     ]
    },
    {
     "name": "stderr",
     "output_type": "stream",
     "text": [
      "Scraping NICs:  14%|█▍        | 160/1127 [2:05:44<9:57:53, 37.10s/it]"
     ]
    },
    {
     "name": "stdout",
     "output_type": "stream",
     "text": [
      "Saved backup with 98713 results\n",
      "Dropdown not found or not interactable.\n",
      "Rows captured: 197\n"
     ]
    },
    {
     "name": "stderr",
     "output_type": "stream",
     "text": [
      "Scraping NICs:  14%|█▍        | 161/1127 [2:06:15<9:25:28, 35.12s/it]"
     ]
    },
    {
     "name": "stdout",
     "output_type": "stream",
     "text": [
      "Saved backup with 98910 results\n",
      "Error occurred while processing the table. Message: \n",
      "Stacktrace:\n",
      "\tGetHandleVerifier [0x0xce3763+63299]\n",
      "\tGetHandleVerifier [0x0xce37a4+63364]\n",
      "\t(No symbol) [0x0xb11113]\n",
      "\t(No symbol) [0x0xb5987e]\n",
      "\t(No symbol) [0x0xb59c1b]\n",
      "\t(No symbol) [0x0xba2212]\n",
      "\t(No symbol) [0x0xb7e5c4]\n",
      "\t(No symbol) [0x0xb9fa4a]\n",
      "\t(No symbol) [0x0xb7e376]\n",
      "\t(No symbol) [0x0xb4d6e0]\n",
      "\t(No symbol) [0x0xb4e544]\n",
      "\tGetHandleVerifier [0x0xf3e033+2531347]\n",
      "\tGetHandleVerifier [0x0xf39332+2511634]\n",
      "\tGetHandleVerifier [0x0xd09eda+220858]\n",
      "\tGetHandleVerifier [0x0xcfa528+156936]\n",
      "\tGetHandleVerifier [0x0xd00c5d+183357]\n",
      "\tGetHandleVerifier [0x0xceb6c8+95912]\n",
      "\tGetHandleVerifier [0x0xceb870+96336]\n",
      "\tGetHandleVerifier [0x0xcd664a+9770]\n",
      "\tBaseThreadInitThunk [0x0x75d15d49+25]\n",
      "\tRtlInitializeExceptionChain [0x0x7786d03b+107]\n",
      "\tRtlGetAppContainerNamedObjectPath [0x0x7786cfc1+561]\n",
      "\n"
     ]
    },
    {
     "name": "stderr",
     "output_type": "stream",
     "text": [
      "Scraping NICs:  14%|█▍        | 162/1127 [2:06:32<7:56:42, 29.64s/it]"
     ]
    },
    {
     "name": "stdout",
     "output_type": "stream",
     "text": [
      "Saved backup with 98910 results\n",
      "Dropdown not found or not interactable.\n",
      "Dropdown not found or not interactable.\n",
      "Error occurred while processing the table. Message: \n",
      "Stacktrace:\n",
      "\tGetHandleVerifier [0x0xce3763+63299]\n",
      "\tGetHandleVerifier [0x0xce37a4+63364]\n",
      "\t(No symbol) [0x0xb11113]\n",
      "\t(No symbol) [0x0xb5987e]\n",
      "\t(No symbol) [0x0xb59c1b]\n",
      "\t(No symbol) [0x0xba2212]\n",
      "\t(No symbol) [0x0xb7e5c4]\n",
      "\t(No symbol) [0x0xb9fa4a]\n",
      "\t(No symbol) [0x0xb7e376]\n",
      "\t(No symbol) [0x0xb4d6e0]\n",
      "\t(No symbol) [0x0xb4e544]\n",
      "\tGetHandleVerifier [0x0xf3e033+2531347]\n",
      "\tGetHandleVerifier [0x0xf39332+2511634]\n",
      "\tGetHandleVerifier [0x0xd09eda+220858]\n",
      "\tGetHandleVerifier [0x0xcfa528+156936]\n",
      "\tGetHandleVerifier [0x0xd00c5d+183357]\n",
      "\tGetHandleVerifier [0x0xceb6c8+95912]\n",
      "\tGetHandleVerifier [0x0xceb870+96336]\n",
      "\tGetHandleVerifier [0x0xcd664a+9770]\n",
      "\tBaseThreadInitThunk [0x0x75d15d49+25]\n",
      "\tRtlInitializeExceptionChain [0x0x7786d03b+107]\n",
      "\tRtlGetAppContainerNamedObjectPath [0x0x7786cfc1+561]\n",
      "\n"
     ]
    },
    {
     "name": "stderr",
     "output_type": "stream",
     "text": [
      "Scraping NICs:  14%|█▍        | 163/1127 [2:07:02<8:00:58, 29.94s/it]"
     ]
    },
    {
     "name": "stdout",
     "output_type": "stream",
     "text": [
      "Saved backup with 98910 results\n",
      "Error occurred while processing the table. Message: \n",
      "Stacktrace:\n",
      "\tGetHandleVerifier [0x0xce3763+63299]\n",
      "\tGetHandleVerifier [0x0xce37a4+63364]\n",
      "\t(No symbol) [0x0xb11113]\n",
      "\t(No symbol) [0x0xb5987e]\n",
      "\t(No symbol) [0x0xb59c1b]\n",
      "\t(No symbol) [0x0xba2212]\n",
      "\t(No symbol) [0x0xb7e5c4]\n",
      "\t(No symbol) [0x0xb9fa4a]\n",
      "\t(No symbol) [0x0xb7e376]\n",
      "\t(No symbol) [0x0xb4d6e0]\n",
      "\t(No symbol) [0x0xb4e544]\n",
      "\tGetHandleVerifier [0x0xf3e033+2531347]\n",
      "\tGetHandleVerifier [0x0xf39332+2511634]\n",
      "\tGetHandleVerifier [0x0xd09eda+220858]\n",
      "\tGetHandleVerifier [0x0xcfa528+156936]\n",
      "\tGetHandleVerifier [0x0xd00c5d+183357]\n",
      "\tGetHandleVerifier [0x0xceb6c8+95912]\n",
      "\tGetHandleVerifier [0x0xceb870+96336]\n",
      "\tGetHandleVerifier [0x0xcd664a+9770]\n",
      "\tBaseThreadInitThunk [0x0x75d15d49+25]\n",
      "\tRtlInitializeExceptionChain [0x0x7786d03b+107]\n",
      "\tRtlGetAppContainerNamedObjectPath [0x0x7786cfc1+561]\n",
      "\n"
     ]
    },
    {
     "name": "stderr",
     "output_type": "stream",
     "text": [
      "Scraping NICs:  15%|█▍        | 164/1127 [2:07:25<7:24:54, 27.72s/it]"
     ]
    },
    {
     "name": "stdout",
     "output_type": "stream",
     "text": [
      "Saved backup with 98910 results\n",
      "Dropdown not found or not interactable.\n",
      "Error occurred while processing the table. Message: \n",
      "Stacktrace:\n",
      "\tGetHandleVerifier [0x0xce3763+63299]\n",
      "\tGetHandleVerifier [0x0xce37a4+63364]\n",
      "\t(No symbol) [0x0xb11113]\n",
      "\t(No symbol) [0x0xb5987e]\n",
      "\t(No symbol) [0x0xb59c1b]\n",
      "\t(No symbol) [0x0xba2212]\n",
      "\t(No symbol) [0x0xb7e5c4]\n",
      "\t(No symbol) [0x0xb9fa4a]\n",
      "\t(No symbol) [0x0xb7e376]\n",
      "\t(No symbol) [0x0xb4d6e0]\n",
      "\t(No symbol) [0x0xb4e544]\n",
      "\tGetHandleVerifier [0x0xf3e033+2531347]\n",
      "\tGetHandleVerifier [0x0xf39332+2511634]\n",
      "\tGetHandleVerifier [0x0xd09eda+220858]\n",
      "\tGetHandleVerifier [0x0xcfa528+156936]\n",
      "\tGetHandleVerifier [0x0xd00c5d+183357]\n",
      "\tGetHandleVerifier [0x0xceb6c8+95912]\n",
      "\tGetHandleVerifier [0x0xceb870+96336]\n",
      "\tGetHandleVerifier [0x0xcd664a+9770]\n",
      "\tBaseThreadInitThunk [0x0x75d15d49+25]\n",
      "\tRtlInitializeExceptionChain [0x0x7786d03b+107]\n",
      "\tRtlGetAppContainerNamedObjectPath [0x0x7786cfc1+561]\n",
      "\n"
     ]
    },
    {
     "name": "stderr",
     "output_type": "stream",
     "text": [
      "Scraping NICs:  15%|█▍        | 165/1127 [2:08:16<9:14:29, 34.58s/it]"
     ]
    },
    {
     "name": "stdout",
     "output_type": "stream",
     "text": [
      "Saved backup with 98910 results\n",
      "Error occurred while processing the table. HTTPConnectionPool(host='localhost', port=59783): Read timed out. (read timeout=120)\n"
     ]
    },
    {
     "name": "stderr",
     "output_type": "stream",
     "text": [
      "Scraping NICs:  15%|█▍        | 166/1127 [2:10:17<16:12:51, 60.74s/it]"
     ]
    },
    {
     "name": "stdout",
     "output_type": "stream",
     "text": [
      "Saved backup with 98910 results\n",
      "Dropdown not found or not interactable.\n",
      "Error occurred while processing the table. Message: \n",
      "Stacktrace:\n",
      "\tGetHandleVerifier [0x0xce3763+63299]\n",
      "\tGetHandleVerifier [0x0xce37a4+63364]\n",
      "\t(No symbol) [0x0xb11113]\n",
      "\t(No symbol) [0x0xb5987e]\n",
      "\t(No symbol) [0x0xb59c1b]\n",
      "\t(No symbol) [0x0xba2212]\n",
      "\t(No symbol) [0x0xb7e5c4]\n",
      "\t(No symbol) [0x0xb9fa4a]\n",
      "\t(No symbol) [0x0xb7e376]\n",
      "\t(No symbol) [0x0xb4d6e0]\n",
      "\t(No symbol) [0x0xb4e544]\n",
      "\tGetHandleVerifier [0x0xf3e033+2531347]\n",
      "\tGetHandleVerifier [0x0xf39332+2511634]\n",
      "\tGetHandleVerifier [0x0xd09eda+220858]\n",
      "\tGetHandleVerifier [0x0xcfa528+156936]\n",
      "\tGetHandleVerifier [0x0xd00c5d+183357]\n",
      "\tGetHandleVerifier [0x0xceb6c8+95912]\n",
      "\tGetHandleVerifier [0x0xceb870+96336]\n",
      "\tGetHandleVerifier [0x0xcd664a+9770]\n",
      "\tBaseThreadInitThunk [0x0x75d15d49+25]\n",
      "\tRtlInitializeExceptionChain [0x0x7786d03b+107]\n",
      "\tRtlGetAppContainerNamedObjectPath [0x0x7786cfc1+561]\n",
      "\n",
      "Rows captured: 874\n"
     ]
    },
    {
     "name": "stderr",
     "output_type": "stream",
     "text": [
      "Scraping NICs:  15%|█▍        | 167/1127 [2:11:05<15:06:48, 56.68s/it]"
     ]
    },
    {
     "name": "stdout",
     "output_type": "stream",
     "text": [
      "Saved backup with 98910 results\n"
     ]
    },
    {
     "name": "stderr",
     "output_type": "stream",
     "text": [
      "Scraping NICs:  15%|█▍        | 168/1127 [2:11:07<10:44:26, 40.32s/it]"
     ]
    },
    {
     "name": "stdout",
     "output_type": "stream",
     "text": [
      "Saved backup with 99784 results\n",
      "Dropdown not found or not interactable.\n",
      "Dropdown not found or not interactable.\n",
      "Error occurred while processing the table. Message: \n",
      "Stacktrace:\n",
      "\tGetHandleVerifier [0x0xce3763+63299]\n",
      "\tGetHandleVerifier [0x0xce37a4+63364]\n",
      "\t(No symbol) [0x0xb11113]\n",
      "\t(No symbol) [0x0xb5987e]\n",
      "\t(No symbol) [0x0xb59c1b]\n",
      "\t(No symbol) [0x0xba2212]\n",
      "\t(No symbol) [0x0xb7e5c4]\n",
      "\t(No symbol) [0x0xb9fa4a]\n",
      "\t(No symbol) [0x0xb7e376]\n",
      "\t(No symbol) [0x0xb4d6e0]\n",
      "\t(No symbol) [0x0xb4e544]\n",
      "\tGetHandleVerifier [0x0xf3e033+2531347]\n",
      "\tGetHandleVerifier [0x0xf39332+2511634]\n",
      "\tGetHandleVerifier [0x0xd09eda+220858]\n",
      "\tGetHandleVerifier [0x0xcfa528+156936]\n",
      "\tGetHandleVerifier [0x0xd00c5d+183357]\n",
      "\tGetHandleVerifier [0x0xceb6c8+95912]\n",
      "\tGetHandleVerifier [0x0xceb870+96336]\n",
      "\tGetHandleVerifier [0x0xcd664a+9770]\n",
      "\tBaseThreadInitThunk [0x0x75d15d49+25]\n",
      "\tRtlInitializeExceptionChain [0x0x7786d03b+107]\n",
      "\tRtlGetAppContainerNamedObjectPath [0x0x7786cfc1+561]\n",
      "\n",
      "Error occurred while processing the table. Message: \n",
      "Stacktrace:\n",
      "\tGetHandleVerifier [0x0xce3763+63299]\n",
      "\tGetHandleVerifier [0x0xce37a4+63364]\n",
      "\t(No symbol) [0x0xb11113]\n",
      "\t(No symbol) [0x0xb5987e]\n",
      "\t(No symbol) [0x0xb59c1b]\n",
      "\t(No symbol) [0x0xba2212]\n",
      "\t(No symbol) [0x0xb7e5c4]\n",
      "\t(No symbol) [0x0xb9fa4a]\n",
      "\t(No symbol) [0x0xb7e376]\n",
      "\t(No symbol) [0x0xb4d6e0]\n",
      "\t(No symbol) [0x0xb4e544]\n",
      "\tGetHandleVerifier [0x0xf3e033+2531347]\n",
      "\tGetHandleVerifier [0x0xf39332+2511634]\n",
      "\tGetHandleVerifier [0x0xd09eda+220858]\n",
      "\tGetHandleVerifier [0x0xcfa528+156936]\n",
      "\tGetHandleVerifier [0x0xd00c5d+183357]\n",
      "\tGetHandleVerifier [0x0xceb6c8+95912]\n",
      "\tGetHandleVerifier [0x0xceb870+96336]\n",
      "\tGetHandleVerifier [0x0xcd664a+9770]\n",
      "\tBaseThreadInitThunk [0x0x75d15d49+25]\n",
      "\tRtlInitializeExceptionChain [0x0x7786d03b+107]\n",
      "\tRtlGetAppContainerNamedObjectPath [0x0x7786cfc1+561]\n",
      "\n"
     ]
    },
    {
     "name": "stderr",
     "output_type": "stream",
     "text": [
      "Scraping NICs:  15%|█▍        | 169/1127 [2:11:54<11:16:13, 42.35s/it]"
     ]
    },
    {
     "name": "stdout",
     "output_type": "stream",
     "text": [
      "Saved backup with 99784 results\n"
     ]
    },
    {
     "name": "stderr",
     "output_type": "stream",
     "text": [
      "Scraping NICs:  15%|█▌        | 170/1127 [2:11:55<8:00:45, 30.14s/it] "
     ]
    },
    {
     "name": "stdout",
     "output_type": "stream",
     "text": [
      "Saved backup with 99784 results\n",
      "Dropdown not found or not interactable.\n",
      "Dropdown not found or not interactable.\n",
      "Error occurred while processing the table. Message: \n",
      "Stacktrace:\n",
      "\tGetHandleVerifier [0x0xce3763+63299]\n",
      "\tGetHandleVerifier [0x0xce37a4+63364]\n",
      "\t(No symbol) [0x0xb11113]\n",
      "\t(No symbol) [0x0xb5987e]\n",
      "\t(No symbol) [0x0xb59c1b]\n",
      "\t(No symbol) [0x0xba2212]\n",
      "\t(No symbol) [0x0xb7e5c4]\n",
      "\t(No symbol) [0x0xb9fa4a]\n",
      "\t(No symbol) [0x0xb7e376]\n",
      "\t(No symbol) [0x0xb4d6e0]\n",
      "\t(No symbol) [0x0xb4e544]\n",
      "\tGetHandleVerifier [0x0xf3e033+2531347]\n",
      "\tGetHandleVerifier [0x0xf39332+2511634]\n",
      "\tGetHandleVerifier [0x0xd09eda+220858]\n",
      "\tGetHandleVerifier [0x0xcfa528+156936]\n",
      "\tGetHandleVerifier [0x0xd00c5d+183357]\n",
      "\tGetHandleVerifier [0x0xceb6c8+95912]\n",
      "\tGetHandleVerifier [0x0xceb870+96336]\n",
      "\tGetHandleVerifier [0x0xcd664a+9770]\n",
      "\tBaseThreadInitThunk [0x0x75d15d49+25]\n",
      "\tRtlInitializeExceptionChain [0x0x7786d03b+107]\n",
      "\tRtlGetAppContainerNamedObjectPath [0x0x7786cfc1+561]\n",
      "\n",
      "Error occurred while processing the table. Message: \n",
      "Stacktrace:\n",
      "\tGetHandleVerifier [0x0xce3763+63299]\n",
      "\tGetHandleVerifier [0x0xce37a4+63364]\n",
      "\t(No symbol) [0x0xb11113]\n",
      "\t(No symbol) [0x0xb5987e]\n",
      "\t(No symbol) [0x0xb59c1b]\n",
      "\t(No symbol) [0x0xba2212]\n",
      "\t(No symbol) [0x0xb7e5c4]\n",
      "\t(No symbol) [0x0xb9fa4a]\n",
      "\t(No symbol) [0x0xb7e376]\n",
      "\t(No symbol) [0x0xb4d6e0]\n",
      "\t(No symbol) [0x0xb4e544]\n",
      "\tGetHandleVerifier [0x0xf3e033+2531347]\n",
      "\tGetHandleVerifier [0x0xf39332+2511634]\n",
      "\tGetHandleVerifier [0x0xd09eda+220858]\n",
      "\tGetHandleVerifier [0x0xcfa528+156936]\n",
      "\tGetHandleVerifier [0x0xd00c5d+183357]\n",
      "\tGetHandleVerifier [0x0xceb6c8+95912]\n",
      "\tGetHandleVerifier [0x0xceb870+96336]\n",
      "\tGetHandleVerifier [0x0xcd664a+9770]\n",
      "\tBaseThreadInitThunk [0x0x75d15d49+25]\n",
      "\tRtlInitializeExceptionChain [0x0x7786d03b+107]\n",
      "\tRtlGetAppContainerNamedObjectPath [0x0x7786cfc1+561]\n",
      "\n"
     ]
    },
    {
     "name": "stderr",
     "output_type": "stream",
     "text": [
      "Scraping NICs:  15%|█▌        | 171/1127 [2:12:46<9:36:57, 36.21s/it]"
     ]
    },
    {
     "name": "stdout",
     "output_type": "stream",
     "text": [
      "Saved backup with 99784 results\n"
     ]
    },
    {
     "name": "stderr",
     "output_type": "stream",
     "text": [
      "Scraping NICs:  15%|█▌        | 172/1127 [2:12:48<6:51:43, 25.87s/it]"
     ]
    },
    {
     "name": "stdout",
     "output_type": "stream",
     "text": [
      "Saved backup with 99784 results\n",
      "Dropdown not found or not interactable.\n",
      "Dropdown not found or not interactable.\n",
      "Error occurred while processing the table. Message: \n",
      "Stacktrace:\n",
      "\tGetHandleVerifier [0x0xce3763+63299]\n",
      "\tGetHandleVerifier [0x0xce37a4+63364]\n",
      "\t(No symbol) [0x0xb11113]\n",
      "\t(No symbol) [0x0xb5987e]\n",
      "\t(No symbol) [0x0xb59c1b]\n",
      "\t(No symbol) [0x0xba2212]\n",
      "\t(No symbol) [0x0xb7e5c4]\n",
      "\t(No symbol) [0x0xb9fa4a]\n",
      "\t(No symbol) [0x0xb7e376]\n",
      "\t(No symbol) [0x0xb4d6e0]\n",
      "\t(No symbol) [0x0xb4e544]\n",
      "\tGetHandleVerifier [0x0xf3e033+2531347]\n",
      "\tGetHandleVerifier [0x0xf39332+2511634]\n",
      "\tGetHandleVerifier [0x0xd09eda+220858]\n",
      "\tGetHandleVerifier [0x0xcfa528+156936]\n",
      "\tGetHandleVerifier [0x0xd00c5d+183357]\n",
      "\tGetHandleVerifier [0x0xceb6c8+95912]\n",
      "\tGetHandleVerifier [0x0xceb870+96336]\n",
      "\tGetHandleVerifier [0x0xcd664a+9770]\n",
      "\tBaseThreadInitThunk [0x0x75d15d49+25]\n",
      "\tRtlInitializeExceptionChain [0x0x7786d03b+107]\n",
      "\tRtlGetAppContainerNamedObjectPath [0x0x7786cfc1+561]\n",
      "\n",
      "Error occurred while processing the table. Message: \n",
      "Stacktrace:\n",
      "\tGetHandleVerifier [0x0xce3763+63299]\n",
      "\tGetHandleVerifier [0x0xce37a4+63364]\n",
      "\t(No symbol) [0x0xb11113]\n",
      "\t(No symbol) [0x0xb5987e]\n",
      "\t(No symbol) [0x0xb59c1b]\n",
      "\t(No symbol) [0x0xba2212]\n",
      "\t(No symbol) [0x0xb7e5c4]\n",
      "\t(No symbol) [0x0xb9fa4a]\n",
      "\t(No symbol) [0x0xb7e376]\n",
      "\t(No symbol) [0x0xb4d6e0]\n",
      "\t(No symbol) [0x0xb4e544]\n",
      "\tGetHandleVerifier [0x0xf3e033+2531347]\n",
      "\tGetHandleVerifier [0x0xf39332+2511634]\n",
      "\tGetHandleVerifier [0x0xd09eda+220858]\n",
      "\tGetHandleVerifier [0x0xcfa528+156936]\n",
      "\tGetHandleVerifier [0x0xd00c5d+183357]\n",
      "\tGetHandleVerifier [0x0xceb6c8+95912]\n",
      "\tGetHandleVerifier [0x0xceb870+96336]\n",
      "\tGetHandleVerifier [0x0xcd664a+9770]\n",
      "\tBaseThreadInitThunk [0x0x75d15d49+25]\n",
      "\tRtlInitializeExceptionChain [0x0x7786d03b+107]\n",
      "\tRtlGetAppContainerNamedObjectPath [0x0x7786cfc1+561]\n",
      "\n"
     ]
    },
    {
     "name": "stderr",
     "output_type": "stream",
     "text": [
      "Scraping NICs:  15%|█▌        | 173/1127 [2:13:34<8:28:25, 31.98s/it]"
     ]
    },
    {
     "name": "stdout",
     "output_type": "stream",
     "text": [
      "Saved backup with 99784 results\n"
     ]
    },
    {
     "name": "stderr",
     "output_type": "stream",
     "text": [
      "Scraping NICs:  15%|█▌        | 174/1127 [2:13:35<6:03:22, 22.88s/it]"
     ]
    },
    {
     "name": "stdout",
     "output_type": "stream",
     "text": [
      "Saved backup with 99784 results\n",
      "Dropdown not found or not interactable.\n",
      "Error occurred while processing the table. Message: \n",
      "Stacktrace:\n",
      "\tGetHandleVerifier [0x0xce3763+63299]\n",
      "\tGetHandleVerifier [0x0xce37a4+63364]\n",
      "\t(No symbol) [0x0xb11113]\n",
      "\t(No symbol) [0x0xb5987e]\n",
      "\t(No symbol) [0x0xb59c1b]\n",
      "\t(No symbol) [0x0xba2212]\n",
      "\t(No symbol) [0x0xb7e5c4]\n",
      "\t(No symbol) [0x0xb9fa4a]\n",
      "\t(No symbol) [0x0xb7e376]\n",
      "\t(No symbol) [0x0xb4d6e0]\n",
      "\t(No symbol) [0x0xb4e544]\n",
      "\tGetHandleVerifier [0x0xf3e033+2531347]\n",
      "\tGetHandleVerifier [0x0xf39332+2511634]\n",
      "\tGetHandleVerifier [0x0xd09eda+220858]\n",
      "\tGetHandleVerifier [0x0xcfa528+156936]\n",
      "\tGetHandleVerifier [0x0xd00c5d+183357]\n",
      "\tGetHandleVerifier [0x0xceb6c8+95912]\n",
      "\tGetHandleVerifier [0x0xceb870+96336]\n",
      "\tGetHandleVerifier [0x0xcd664a+9770]\n",
      "\tBaseThreadInitThunk [0x0x75d15d49+25]\n",
      "\tRtlInitializeExceptionChain [0x0x7786d03b+107]\n",
      "\tRtlGetAppContainerNamedObjectPath [0x0x7786cfc1+561]\n",
      "\n"
     ]
    },
    {
     "name": "stderr",
     "output_type": "stream",
     "text": [
      "Scraping NICs:  16%|█▌        | 175/1127 [2:14:25<8:08:43, 30.80s/it]"
     ]
    },
    {
     "name": "stdout",
     "output_type": "stream",
     "text": [
      "Saved backup with 99784 results\n",
      "Dropdown not found or not interactable.\n",
      "Error occurred while processing the table. Message: \n",
      "Stacktrace:\n",
      "\tGetHandleVerifier [0x0xce3763+63299]\n",
      "\tGetHandleVerifier [0x0xce37a4+63364]\n",
      "\t(No symbol) [0x0xb11113]\n",
      "\t(No symbol) [0x0xb5987e]\n",
      "\t(No symbol) [0x0xb59c1b]\n",
      "\t(No symbol) [0x0xba2212]\n",
      "\t(No symbol) [0x0xb7e5c4]\n",
      "\t(No symbol) [0x0xb9fa4a]\n",
      "\t(No symbol) [0x0xb7e376]\n",
      "\t(No symbol) [0x0xb4d6e0]\n",
      "\t(No symbol) [0x0xb4e544]\n",
      "\tGetHandleVerifier [0x0xf3e033+2531347]\n",
      "\tGetHandleVerifier [0x0xf39332+2511634]\n",
      "\tGetHandleVerifier [0x0xd09eda+220858]\n",
      "\tGetHandleVerifier [0x0xcfa528+156936]\n",
      "\tGetHandleVerifier [0x0xd00c5d+183357]\n",
      "\tGetHandleVerifier [0x0xceb6c8+95912]\n",
      "\tGetHandleVerifier [0x0xceb870+96336]\n",
      "\tGetHandleVerifier [0x0xcd664a+9770]\n",
      "\tBaseThreadInitThunk [0x0x75d15d49+25]\n",
      "\tRtlInitializeExceptionChain [0x0x7786d03b+107]\n",
      "\tRtlGetAppContainerNamedObjectPath [0x0x7786cfc1+561]\n",
      "\n",
      "Rows captured: 111\n"
     ]
    },
    {
     "name": "stderr",
     "output_type": "stream",
     "text": [
      "Scraping NICs:  16%|█▌        | 176/1127 [2:15:13<9:33:39, 36.19s/it]"
     ]
    },
    {
     "name": "stdout",
     "output_type": "stream",
     "text": [
      "Saved backup with 99784 results\n"
     ]
    },
    {
     "name": "stderr",
     "output_type": "stream",
     "text": [
      "Scraping NICs:  16%|█▌        | 177/1127 [2:15:15<6:49:03, 25.83s/it]"
     ]
    },
    {
     "name": "stdout",
     "output_type": "stream",
     "text": [
      "Saved backup with 99895 results\n",
      "Dropdown not found or not interactable.\n",
      "Dropdown not found or not interactable.\n",
      "Error occurred while processing the table. Message: \n",
      "Stacktrace:\n",
      "\tGetHandleVerifier [0x0xce3763+63299]\n",
      "\tGetHandleVerifier [0x0xce37a4+63364]\n",
      "\t(No symbol) [0x0xb11113]\n",
      "\t(No symbol) [0x0xb5987e]\n",
      "\t(No symbol) [0x0xb59c1b]\n",
      "\t(No symbol) [0x0xba2212]\n",
      "\t(No symbol) [0x0xb7e5c4]\n",
      "\t(No symbol) [0x0xb9fa4a]\n",
      "\t(No symbol) [0x0xb7e376]\n",
      "\t(No symbol) [0x0xb4d6e0]\n",
      "\t(No symbol) [0x0xb4e544]\n",
      "\tGetHandleVerifier [0x0xf3e033+2531347]\n",
      "\tGetHandleVerifier [0x0xf39332+2511634]\n",
      "\tGetHandleVerifier [0x0xd09eda+220858]\n",
      "\tGetHandleVerifier [0x0xcfa528+156936]\n",
      "\tGetHandleVerifier [0x0xd00c5d+183357]\n",
      "\tGetHandleVerifier [0x0xceb6c8+95912]\n",
      "\tGetHandleVerifier [0x0xceb870+96336]\n",
      "\tGetHandleVerifier [0x0xcd664a+9770]\n",
      "\tBaseThreadInitThunk [0x0x75d15d49+25]\n",
      "\tRtlInitializeExceptionChain [0x0x7786d03b+107]\n",
      "\tRtlGetAppContainerNamedObjectPath [0x0x7786cfc1+561]\n",
      "\n",
      "Error occurred while processing the table. Message: \n",
      "Stacktrace:\n",
      "\tGetHandleVerifier [0x0xce3763+63299]\n",
      "\tGetHandleVerifier [0x0xce37a4+63364]\n",
      "\t(No symbol) [0x0xb11113]\n",
      "\t(No symbol) [0x0xb5987e]\n",
      "\t(No symbol) [0x0xb59c1b]\n",
      "\t(No symbol) [0x0xba2212]\n",
      "\t(No symbol) [0x0xb7e5c4]\n",
      "\t(No symbol) [0x0xb9fa4a]\n",
      "\t(No symbol) [0x0xb7e376]\n",
      "\t(No symbol) [0x0xb4d6e0]\n",
      "\t(No symbol) [0x0xb4e544]\n",
      "\tGetHandleVerifier [0x0xf3e033+2531347]\n",
      "\tGetHandleVerifier [0x0xf39332+2511634]\n",
      "\tGetHandleVerifier [0x0xd09eda+220858]\n",
      "\tGetHandleVerifier [0x0xcfa528+156936]\n",
      "\tGetHandleVerifier [0x0xd00c5d+183357]\n",
      "\tGetHandleVerifier [0x0xceb6c8+95912]\n",
      "\tGetHandleVerifier [0x0xceb870+96336]\n",
      "\tGetHandleVerifier [0x0xcd664a+9770]\n",
      "\tBaseThreadInitThunk [0x0x75d15d49+25]\n",
      "\tRtlInitializeExceptionChain [0x0x7786d03b+107]\n",
      "\tRtlGetAppContainerNamedObjectPath [0x0x7786cfc1+561]\n",
      "\n"
     ]
    },
    {
     "name": "stderr",
     "output_type": "stream",
     "text": [
      "Scraping NICs:  16%|█▌        | 178/1127 [2:16:05<8:42:17, 33.02s/it]"
     ]
    },
    {
     "name": "stdout",
     "output_type": "stream",
     "text": [
      "Saved backup with 99895 results\n"
     ]
    },
    {
     "name": "stderr",
     "output_type": "stream",
     "text": [
      "Scraping NICs:  16%|█▌        | 179/1127 [2:16:07<6:13:21, 23.63s/it]"
     ]
    },
    {
     "name": "stdout",
     "output_type": "stream",
     "text": [
      "Saved backup with 99895 results\n",
      "Dropdown not found or not interactable.\n",
      "Dropdown not found or not interactable.\n",
      "Error occurred while processing the table. Message: \n",
      "Stacktrace:\n",
      "\tGetHandleVerifier [0x0xce3763+63299]\n",
      "\tGetHandleVerifier [0x0xce37a4+63364]\n",
      "\t(No symbol) [0x0xb11113]\n",
      "\t(No symbol) [0x0xb5987e]\n",
      "\t(No symbol) [0x0xb59c1b]\n",
      "\t(No symbol) [0x0xba2212]\n",
      "\t(No symbol) [0x0xb7e5c4]\n",
      "\t(No symbol) [0x0xb9fa4a]\n",
      "\t(No symbol) [0x0xb7e376]\n",
      "\t(No symbol) [0x0xb4d6e0]\n",
      "\t(No symbol) [0x0xb4e544]\n",
      "\tGetHandleVerifier [0x0xf3e033+2531347]\n",
      "\tGetHandleVerifier [0x0xf39332+2511634]\n",
      "\tGetHandleVerifier [0x0xd09eda+220858]\n",
      "\tGetHandleVerifier [0x0xcfa528+156936]\n",
      "\tGetHandleVerifier [0x0xd00c5d+183357]\n",
      "\tGetHandleVerifier [0x0xceb6c8+95912]\n",
      "\tGetHandleVerifier [0x0xceb870+96336]\n",
      "\tGetHandleVerifier [0x0xcd664a+9770]\n",
      "\tBaseThreadInitThunk [0x0x75d15d49+25]\n",
      "\tRtlInitializeExceptionChain [0x0x7786d03b+107]\n",
      "\tRtlGetAppContainerNamedObjectPath [0x0x7786cfc1+561]\n",
      "\n",
      "Error occurred while processing the table. Message: \n",
      "Stacktrace:\n",
      "\tGetHandleVerifier [0x0xce3763+63299]\n",
      "\tGetHandleVerifier [0x0xce37a4+63364]\n",
      "\t(No symbol) [0x0xb11113]\n",
      "\t(No symbol) [0x0xb5987e]\n",
      "\t(No symbol) [0x0xb59c1b]\n",
      "\t(No symbol) [0x0xba2212]\n",
      "\t(No symbol) [0x0xb7e5c4]\n",
      "\t(No symbol) [0x0xb9fa4a]\n",
      "\t(No symbol) [0x0xb7e376]\n",
      "\t(No symbol) [0x0xb4d6e0]\n",
      "\t(No symbol) [0x0xb4e544]\n",
      "\tGetHandleVerifier [0x0xf3e033+2531347]\n",
      "\tGetHandleVerifier [0x0xf39332+2511634]\n",
      "\tGetHandleVerifier [0x0xd09eda+220858]\n",
      "\tGetHandleVerifier [0x0xcfa528+156936]\n",
      "\tGetHandleVerifier [0x0xd00c5d+183357]\n",
      "\tGetHandleVerifier [0x0xceb6c8+95912]\n",
      "\tGetHandleVerifier [0x0xceb870+96336]\n",
      "\tGetHandleVerifier [0x0xcd664a+9770]\n",
      "\tBaseThreadInitThunk [0x0x75d15d49+25]\n",
      "\tRtlInitializeExceptionChain [0x0x7786d03b+107]\n",
      "\tRtlGetAppContainerNamedObjectPath [0x0x7786cfc1+561]\n",
      "\n"
     ]
    },
    {
     "name": "stderr",
     "output_type": "stream",
     "text": [
      "Scraping NICs:  16%|█▌        | 180/1127 [2:16:52<7:54:40, 30.07s/it]"
     ]
    },
    {
     "name": "stdout",
     "output_type": "stream",
     "text": [
      "Saved backup with 99895 results\n"
     ]
    },
    {
     "name": "stderr",
     "output_type": "stream",
     "text": [
      "Scraping NICs:  16%|█▌        | 181/1127 [2:16:54<5:40:42, 21.61s/it]"
     ]
    },
    {
     "name": "stdout",
     "output_type": "stream",
     "text": [
      "Saved backup with 99895 results\n",
      "Dropdown not found or not interactable.\n",
      "Error occurred while processing the table. Message: \n",
      "Stacktrace:\n",
      "\tGetHandleVerifier [0x0xce3763+63299]\n",
      "\tGetHandleVerifier [0x0xce37a4+63364]\n",
      "\t(No symbol) [0x0xb11113]\n",
      "\t(No symbol) [0x0xb5987e]\n",
      "\t(No symbol) [0x0xb59c1b]\n",
      "\t(No symbol) [0x0xba2212]\n",
      "\t(No symbol) [0x0xb7e5c4]\n",
      "\t(No symbol) [0x0xb9fa4a]\n",
      "\t(No symbol) [0x0xb7e376]\n",
      "\t(No symbol) [0x0xb4d6e0]\n",
      "\t(No symbol) [0x0xb4e544]\n",
      "\tGetHandleVerifier [0x0xf3e033+2531347]\n",
      "\tGetHandleVerifier [0x0xf39332+2511634]\n",
      "\tGetHandleVerifier [0x0xd09eda+220858]\n",
      "\tGetHandleVerifier [0x0xcfa528+156936]\n",
      "\tGetHandleVerifier [0x0xd00c5d+183357]\n",
      "\tGetHandleVerifier [0x0xceb6c8+95912]\n",
      "\tGetHandleVerifier [0x0xceb870+96336]\n",
      "\tGetHandleVerifier [0x0xcd664a+9770]\n",
      "\tBaseThreadInitThunk [0x0x75d15d49+25]\n",
      "\tRtlInitializeExceptionChain [0x0x7786d03b+107]\n",
      "\tRtlGetAppContainerNamedObjectPath [0x0x7786cfc1+561]\n",
      "\n"
     ]
    },
    {
     "name": "stderr",
     "output_type": "stream",
     "text": [
      "Scraping NICs:  16%|█▌        | 182/1127 [2:17:39<7:33:51, 28.82s/it]"
     ]
    },
    {
     "name": "stdout",
     "output_type": "stream",
     "text": [
      "Saved backup with 99895 results\n",
      "Dropdown not found or not interactable.\n",
      "Error occurred while processing the table. Message: \n",
      "Stacktrace:\n",
      "\tGetHandleVerifier [0x0xce3763+63299]\n",
      "\tGetHandleVerifier [0x0xce37a4+63364]\n",
      "\t(No symbol) [0x0xb11113]\n",
      "\t(No symbol) [0x0xb5987e]\n",
      "\t(No symbol) [0x0xb59c1b]\n",
      "\t(No symbol) [0x0xba2212]\n",
      "\t(No symbol) [0x0xb7e5c4]\n",
      "\t(No symbol) [0x0xb9fa4a]\n",
      "\t(No symbol) [0x0xb7e376]\n",
      "\t(No symbol) [0x0xb4d6e0]\n",
      "\t(No symbol) [0x0xb4e544]\n",
      "\tGetHandleVerifier [0x0xf3e033+2531347]\n",
      "\tGetHandleVerifier [0x0xf39332+2511634]\n",
      "\tGetHandleVerifier [0x0xd09eda+220858]\n",
      "\tGetHandleVerifier [0x0xcfa528+156936]\n",
      "\tGetHandleVerifier [0x0xd00c5d+183357]\n",
      "\tGetHandleVerifier [0x0xceb6c8+95912]\n",
      "\tGetHandleVerifier [0x0xceb870+96336]\n",
      "\tGetHandleVerifier [0x0xcd664a+9770]\n",
      "\tBaseThreadInitThunk [0x0x75d15d49+25]\n",
      "\tRtlInitializeExceptionChain [0x0x7786d03b+107]\n",
      "\tRtlGetAppContainerNamedObjectPath [0x0x7786cfc1+561]\n",
      "\n"
     ]
    },
    {
     "name": "stderr",
     "output_type": "stream",
     "text": [
      "Scraping NICs:  16%|█▌        | 183/1127 [2:18:27<9:01:11, 34.40s/it]"
     ]
    },
    {
     "name": "stdout",
     "output_type": "stream",
     "text": [
      "Saved backup with 99895 results\n",
      "Rows captured: 74\n"
     ]
    },
    {
     "name": "stderr",
     "output_type": "stream",
     "text": [
      "Scraping NICs:  16%|█▋        | 184/1127 [2:18:37<7:09:14, 27.31s/it]"
     ]
    },
    {
     "name": "stdout",
     "output_type": "stream",
     "text": [
      "Saved backup with 99969 results\n",
      "Dropdown not found or not interactable.\n",
      "Error occurred while processing the table. Message: \n",
      "Stacktrace:\n",
      "\tGetHandleVerifier [0x0xce3763+63299]\n",
      "\tGetHandleVerifier [0x0xce37a4+63364]\n",
      "\t(No symbol) [0x0xb11113]\n",
      "\t(No symbol) [0x0xb5987e]\n",
      "\t(No symbol) [0x0xb59c1b]\n",
      "\t(No symbol) [0x0xba2212]\n",
      "\t(No symbol) [0x0xb7e5c4]\n",
      "\t(No symbol) [0x0xb9fa4a]\n",
      "\t(No symbol) [0x0xb7e376]\n",
      "\t(No symbol) [0x0xb4d6e0]\n",
      "\t(No symbol) [0x0xb4e544]\n",
      "\tGetHandleVerifier [0x0xf3e033+2531347]\n",
      "\tGetHandleVerifier [0x0xf39332+2511634]\n",
      "\tGetHandleVerifier [0x0xd09eda+220858]\n",
      "\tGetHandleVerifier [0x0xcfa528+156936]\n",
      "\tGetHandleVerifier [0x0xd00c5d+183357]\n",
      "\tGetHandleVerifier [0x0xceb6c8+95912]\n",
      "\tGetHandleVerifier [0x0xceb870+96336]\n",
      "\tGetHandleVerifier [0x0xcd664a+9770]\n",
      "\tBaseThreadInitThunk [0x0x75d15d49+25]\n",
      "\tRtlInitializeExceptionChain [0x0x7786d03b+107]\n",
      "\tRtlGetAppContainerNamedObjectPath [0x0x7786cfc1+561]\n",
      "\n"
     ]
    },
    {
     "name": "stderr",
     "output_type": "stream",
     "text": [
      "Scraping NICs:  16%|█▋        | 185/1127 [2:19:28<8:57:41, 34.25s/it]"
     ]
    },
    {
     "name": "stdout",
     "output_type": "stream",
     "text": [
      "Saved backup with 99969 results\n",
      "Rows captured: 1148\n"
     ]
    },
    {
     "name": "stderr",
     "output_type": "stream",
     "text": [
      "Scraping NICs:  17%|█▋        | 186/1127 [2:24:14<28:43:33, 109.90s/it]"
     ]
    },
    {
     "name": "stdout",
     "output_type": "stream",
     "text": [
      "Saved backup with 101117 results\n",
      "Dropdown not found or not interactable.\n",
      "Error occurred while processing the table. Message: \n",
      "Stacktrace:\n",
      "\tGetHandleVerifier [0x0xce3763+63299]\n",
      "\tGetHandleVerifier [0x0xce37a4+63364]\n",
      "\t(No symbol) [0x0xb11113]\n",
      "\t(No symbol) [0x0xb5987e]\n",
      "\t(No symbol) [0x0xb59c1b]\n",
      "\t(No symbol) [0x0xba2212]\n",
      "\t(No symbol) [0x0xb7e5c4]\n",
      "\t(No symbol) [0x0xb9fa4a]\n",
      "\t(No symbol) [0x0xb7e376]\n",
      "\t(No symbol) [0x0xb4d6e0]\n",
      "\t(No symbol) [0x0xb4e544]\n",
      "\tGetHandleVerifier [0x0xf3e033+2531347]\n",
      "\tGetHandleVerifier [0x0xf39332+2511634]\n",
      "\tGetHandleVerifier [0x0xd09eda+220858]\n",
      "\tGetHandleVerifier [0x0xcfa528+156936]\n",
      "\tGetHandleVerifier [0x0xd00c5d+183357]\n",
      "\tGetHandleVerifier [0x0xceb6c8+95912]\n",
      "\tGetHandleVerifier [0x0xceb870+96336]\n",
      "\tGetHandleVerifier [0x0xcd664a+9770]\n",
      "\tBaseThreadInitThunk [0x0x75d15d49+25]\n",
      "\tRtlInitializeExceptionChain [0x0x7786d03b+107]\n",
      "\tRtlGetAppContainerNamedObjectPath [0x0x7786cfc1+561]\n",
      "\n"
     ]
    },
    {
     "name": "stderr",
     "output_type": "stream",
     "text": [
      "Scraping NICs:  17%|█▋        | 187/1127 [2:25:02<23:47:59, 91.15s/it] "
     ]
    },
    {
     "name": "stdout",
     "output_type": "stream",
     "text": [
      "Saved backup with 101117 results\n",
      "Rows captured: 2556\n"
     ]
    },
    {
     "name": "stderr",
     "output_type": "stream",
     "text": [
      "Scraping NICs:  17%|█▋        | 188/1127 [2:27:03<26:07:43, 100.17s/it]"
     ]
    },
    {
     "name": "stdout",
     "output_type": "stream",
     "text": [
      "Saved backup with 103673 results\n",
      "Rows captured: 346\n"
     ]
    },
    {
     "name": "stderr",
     "output_type": "stream",
     "text": [
      "Scraping NICs:  17%|█▋        | 189/1127 [2:27:13<19:03:05, 73.12s/it] "
     ]
    },
    {
     "name": "stdout",
     "output_type": "stream",
     "text": [
      "Saved backup with 104019 results\n",
      "Dropdown not found or not interactable.\n",
      "Dropdown not found or not interactable.\n",
      "Error occurred while processing the table. Message: \n",
      "Stacktrace:\n",
      "\tGetHandleVerifier [0x0xce3763+63299]\n",
      "\tGetHandleVerifier [0x0xce37a4+63364]\n",
      "\t(No symbol) [0x0xb11113]\n",
      "\t(No symbol) [0x0xb5987e]\n",
      "\t(No symbol) [0x0xb59c1b]\n",
      "\t(No symbol) [0x0xba2212]\n",
      "\t(No symbol) [0x0xb7e5c4]\n",
      "\t(No symbol) [0x0xb9fa4a]\n",
      "\t(No symbol) [0x0xb7e376]\n",
      "\t(No symbol) [0x0xb4d6e0]\n",
      "\t(No symbol) [0x0xb4e544]\n",
      "\tGetHandleVerifier [0x0xf3e033+2531347]\n",
      "\tGetHandleVerifier [0x0xf39332+2511634]\n",
      "\tGetHandleVerifier [0x0xd09eda+220858]\n",
      "\tGetHandleVerifier [0x0xcfa528+156936]\n",
      "\tGetHandleVerifier [0x0xd00c5d+183357]\n",
      "\tGetHandleVerifier [0x0xceb6c8+95912]\n",
      "\tGetHandleVerifier [0x0xceb870+96336]\n",
      "\tGetHandleVerifier [0x0xcd664a+9770]\n",
      "\tBaseThreadInitThunk [0x0x75d15d49+25]\n",
      "\tRtlInitializeExceptionChain [0x0x7786d03b+107]\n",
      "\tRtlGetAppContainerNamedObjectPath [0x0x7786cfc1+561]\n",
      "\n"
     ]
    },
    {
     "name": "stderr",
     "output_type": "stream",
     "text": [
      "Scraping NICs:  17%|█▋        | 190/1127 [2:27:57<16:48:05, 64.55s/it]"
     ]
    },
    {
     "name": "stdout",
     "output_type": "stream",
     "text": [
      "Saved backup with 104019 results\n",
      "Error occurred while processing the table. Message: \n",
      "Stacktrace:\n",
      "\tGetHandleVerifier [0x0xce3763+63299]\n",
      "\tGetHandleVerifier [0x0xce37a4+63364]\n",
      "\t(No symbol) [0x0xb11113]\n",
      "\t(No symbol) [0x0xb5987e]\n",
      "\t(No symbol) [0x0xb59c1b]\n",
      "\t(No symbol) [0x0xba2212]\n",
      "\t(No symbol) [0x0xb7e5c4]\n",
      "\t(No symbol) [0x0xb9fa4a]\n",
      "\t(No symbol) [0x0xb7e376]\n",
      "\t(No symbol) [0x0xb4d6e0]\n",
      "\t(No symbol) [0x0xb4e544]\n",
      "\tGetHandleVerifier [0x0xf3e033+2531347]\n",
      "\tGetHandleVerifier [0x0xf39332+2511634]\n",
      "\tGetHandleVerifier [0x0xd09eda+220858]\n",
      "\tGetHandleVerifier [0x0xcfa528+156936]\n",
      "\tGetHandleVerifier [0x0xd00c5d+183357]\n",
      "\tGetHandleVerifier [0x0xceb6c8+95912]\n",
      "\tGetHandleVerifier [0x0xceb870+96336]\n",
      "\tGetHandleVerifier [0x0xcd664a+9770]\n",
      "\tBaseThreadInitThunk [0x0x75d15d49+25]\n",
      "\tRtlInitializeExceptionChain [0x0x7786d03b+107]\n",
      "\tRtlGetAppContainerNamedObjectPath [0x0x7786cfc1+561]\n",
      "\n"
     ]
    },
    {
     "name": "stderr",
     "output_type": "stream",
     "text": [
      "Scraping NICs:  17%|█▋        | 191/1127 [2:28:01<11:59:05, 46.10s/it]"
     ]
    },
    {
     "name": "stdout",
     "output_type": "stream",
     "text": [
      "Saved backup with 104019 results\n",
      "Dropdown not found or not interactable.\n",
      "Dropdown not found or not interactable.\n",
      "Error occurred while processing the table. Message: \n",
      "Stacktrace:\n",
      "\tGetHandleVerifier [0x0xce3763+63299]\n",
      "\tGetHandleVerifier [0x0xce37a4+63364]\n",
      "\t(No symbol) [0x0xb11113]\n",
      "\t(No symbol) [0x0xb5987e]\n",
      "\t(No symbol) [0x0xb59c1b]\n",
      "\t(No symbol) [0x0xba2212]\n",
      "\t(No symbol) [0x0xb7e5c4]\n",
      "\t(No symbol) [0x0xb9fa4a]\n",
      "\t(No symbol) [0x0xb7e376]\n",
      "\t(No symbol) [0x0xb4d6e0]\n",
      "\t(No symbol) [0x0xb4e544]\n",
      "\tGetHandleVerifier [0x0xf3e033+2531347]\n",
      "\tGetHandleVerifier [0x0xf39332+2511634]\n",
      "\tGetHandleVerifier [0x0xd09eda+220858]\n",
      "\tGetHandleVerifier [0x0xcfa528+156936]\n",
      "\tGetHandleVerifier [0x0xd00c5d+183357]\n",
      "\tGetHandleVerifier [0x0xceb6c8+95912]\n",
      "\tGetHandleVerifier [0x0xceb870+96336]\n",
      "\tGetHandleVerifier [0x0xcd664a+9770]\n",
      "\tBaseThreadInitThunk [0x0x75d15d49+25]\n",
      "\tRtlInitializeExceptionChain [0x0x7786d03b+107]\n",
      "\tRtlGetAppContainerNamedObjectPath [0x0x7786cfc1+561]\n",
      "\n",
      "Error occurred while processing the table. Message: \n",
      "Stacktrace:\n",
      "\tGetHandleVerifier [0x0xce3763+63299]\n",
      "\tGetHandleVerifier [0x0xce37a4+63364]\n",
      "\t(No symbol) [0x0xb11113]\n",
      "\t(No symbol) [0x0xb5987e]\n",
      "\t(No symbol) [0x0xb59c1b]\n",
      "\t(No symbol) [0x0xba2212]\n",
      "\t(No symbol) [0x0xb7e5c4]\n",
      "\t(No symbol) [0x0xb9fa4a]\n",
      "\t(No symbol) [0x0xb7e376]\n",
      "\t(No symbol) [0x0xb4d6e0]\n",
      "\t(No symbol) [0x0xb4e544]\n",
      "\tGetHandleVerifier [0x0xf3e033+2531347]\n",
      "\tGetHandleVerifier [0x0xf39332+2511634]\n",
      "\tGetHandleVerifier [0x0xd09eda+220858]\n",
      "\tGetHandleVerifier [0x0xcfa528+156936]\n",
      "\tGetHandleVerifier [0x0xd00c5d+183357]\n",
      "\tGetHandleVerifier [0x0xceb6c8+95912]\n",
      "\tGetHandleVerifier [0x0xceb870+96336]\n",
      "\tGetHandleVerifier [0x0xcd664a+9770]\n",
      "\tBaseThreadInitThunk [0x0x75d15d49+25]\n",
      "\tRtlInitializeExceptionChain [0x0x7786d03b+107]\n",
      "\tRtlGetAppContainerNamedObjectPath [0x0x7786cfc1+561]\n",
      "\n"
     ]
    },
    {
     "name": "stderr",
     "output_type": "stream",
     "text": [
      "Scraping NICs:  17%|█▋        | 192/1127 [2:28:55<12:39:06, 48.71s/it]"
     ]
    },
    {
     "name": "stdout",
     "output_type": "stream",
     "text": [
      "Saved backup with 104019 results\n"
     ]
    },
    {
     "name": "stderr",
     "output_type": "stream",
     "text": [
      "Scraping NICs:  17%|█▋        | 193/1127 [2:28:57<8:59:05, 34.63s/it] "
     ]
    },
    {
     "name": "stdout",
     "output_type": "stream",
     "text": [
      "Saved backup with 104019 results\n",
      "Dropdown not found or not interactable.\n",
      "Dropdown not found or not interactable.\n",
      "Error occurred while processing the table. Message: \n",
      "Stacktrace:\n",
      "\tGetHandleVerifier [0x0xce3763+63299]\n",
      "\tGetHandleVerifier [0x0xce37a4+63364]\n",
      "\t(No symbol) [0x0xb11113]\n",
      "\t(No symbol) [0x0xb5987e]\n",
      "\t(No symbol) [0x0xb59c1b]\n",
      "\t(No symbol) [0x0xba2212]\n",
      "\t(No symbol) [0x0xb7e5c4]\n",
      "\t(No symbol) [0x0xb9fa4a]\n",
      "\t(No symbol) [0x0xb7e376]\n",
      "\t(No symbol) [0x0xb4d6e0]\n",
      "\t(No symbol) [0x0xb4e544]\n",
      "\tGetHandleVerifier [0x0xf3e033+2531347]\n",
      "\tGetHandleVerifier [0x0xf39332+2511634]\n",
      "\tGetHandleVerifier [0x0xd09eda+220858]\n",
      "\tGetHandleVerifier [0x0xcfa528+156936]\n",
      "\tGetHandleVerifier [0x0xd00c5d+183357]\n",
      "\tGetHandleVerifier [0x0xceb6c8+95912]\n",
      "\tGetHandleVerifier [0x0xceb870+96336]\n",
      "\tGetHandleVerifier [0x0xcd664a+9770]\n",
      "\tBaseThreadInitThunk [0x0x75d15d49+25]\n",
      "\tRtlInitializeExceptionChain [0x0x7786d03b+107]\n",
      "\tRtlGetAppContainerNamedObjectPath [0x0x7786cfc1+561]\n",
      "\n",
      "Error occurred while processing the table. Message: \n",
      "Stacktrace:\n",
      "\tGetHandleVerifier [0x0xce3763+63299]\n",
      "\tGetHandleVerifier [0x0xce37a4+63364]\n",
      "\t(No symbol) [0x0xb11113]\n",
      "\t(No symbol) [0x0xb5987e]\n",
      "\t(No symbol) [0x0xb59c1b]\n",
      "\t(No symbol) [0x0xba2212]\n",
      "\t(No symbol) [0x0xb7e5c4]\n",
      "\t(No symbol) [0x0xb9fa4a]\n",
      "\t(No symbol) [0x0xb7e376]\n",
      "\t(No symbol) [0x0xb4d6e0]\n",
      "\t(No symbol) [0x0xb4e544]\n",
      "\tGetHandleVerifier [0x0xf3e033+2531347]\n",
      "\tGetHandleVerifier [0x0xf39332+2511634]\n",
      "\tGetHandleVerifier [0x0xd09eda+220858]\n",
      "\tGetHandleVerifier [0x0xcfa528+156936]\n",
      "\tGetHandleVerifier [0x0xd00c5d+183357]\n",
      "\tGetHandleVerifier [0x0xceb6c8+95912]\n",
      "\tGetHandleVerifier [0x0xceb870+96336]\n",
      "\tGetHandleVerifier [0x0xcd664a+9770]\n",
      "\tBaseThreadInitThunk [0x0x75d15d49+25]\n",
      "\tRtlInitializeExceptionChain [0x0x7786d03b+107]\n",
      "\tRtlGetAppContainerNamedObjectPath [0x0x7786cfc1+561]\n",
      "\n"
     ]
    },
    {
     "name": "stderr",
     "output_type": "stream",
     "text": [
      "Scraping NICs:  17%|█▋        | 194/1127 [2:29:50<10:24:08, 40.14s/it]"
     ]
    },
    {
     "name": "stdout",
     "output_type": "stream",
     "text": [
      "Saved backup with 104019 results\n"
     ]
    },
    {
     "name": "stderr",
     "output_type": "stream",
     "text": [
      "Scraping NICs:  17%|█▋        | 195/1127 [2:29:52<7:24:58, 28.65s/it] "
     ]
    },
    {
     "name": "stdout",
     "output_type": "stream",
     "text": [
      "Saved backup with 104019 results\n",
      "Dropdown not found or not interactable.Dropdown not found or not interactable.\n",
      "\n",
      "Error occurred while processing the table.Error occurred while processing the table. Message: \n",
      "Stacktrace:\n",
      "\tGetHandleVerifier [0x0xce3763+63299]\n",
      "\tGetHandleVerifier [0x0xce37a4+63364]\n",
      "\t(No symbol) [0x0xb11113]\n",
      "\t(No symbol) [0x0xb5987e]\n",
      "\t(No symbol) [0x0xb59c1b]\n",
      "\t(No symbol) [0x0xba2212]\n",
      "\t(No symbol) [0x0xb7e5c4]\n",
      "\t(No symbol) [0x0xb9fa4a]\n",
      "\t(No symbol) [0x0xb7e376]\n",
      "\t(No symbol) [0x0xb4d6e0]\n",
      "\t(No symbol) [0x0xb4e544]\n",
      "\tGetHandleVerifier [0x0xf3e033+2531347]\n",
      "\tGetHandleVerifier [0x0xf39332+2511634]\n",
      "\tGetHandleVerifier [0x0xd09eda+220858]\n",
      "\tGetHandleVerifier [0x0xcfa528+156936]\n",
      "\tGetHandleVerifier [0x0xd00c5d+183357]\n",
      "\tGetHandleVerifier [0x0xceb6c8+95912]\n",
      "\tGetHandleVerifier [0x0xceb870+96336]\n",
      "\tGetHandleVerifier [0x0xcd664a+9770]\n",
      "\tBaseThreadInitThunk [0x0x75d15d49+25]\n",
      "\tRtlInitializeExceptionChain [0x0x7786d03b+107]\n",
      "\tRtlGetAppContainerNamedObjectPath [0x0x7786cfc1+561]\n",
      "\n",
      " Message: \n",
      "Stacktrace:\n",
      "\tGetHandleVerifier [0x0xce3763+63299]\n",
      "\tGetHandleVerifier [0x0xce37a4+63364]\n",
      "\t(No symbol) [0x0xb11113]\n",
      "\t(No symbol) [0x0xb5987e]\n",
      "\t(No symbol) [0x0xb59c1b]\n",
      "\t(No symbol) [0x0xba2212]\n",
      "\t(No symbol) [0x0xb7e5c4]\n",
      "\t(No symbol) [0x0xb9fa4a]\n",
      "\t(No symbol) [0x0xb7e376]\n",
      "\t(No symbol) [0x0xb4d6e0]\n",
      "\t(No symbol) [0x0xb4e544]\n",
      "\tGetHandleVerifier [0x0xf3e033+2531347]\n",
      "\tGetHandleVerifier [0x0xf39332+2511634]\n",
      "\tGetHandleVerifier [0x0xd09eda+220858]\n",
      "\tGetHandleVerifier [0x0xcfa528+156936]\n",
      "\tGetHandleVerifier [0x0xd00c5d+183357]\n",
      "\tGetHandleVerifier [0x0xceb6c8+95912]\n",
      "\tGetHandleVerifier [0x0xceb870+96336]\n",
      "\tGetHandleVerifier [0x0xcd664a+9770]\n",
      "\tBaseThreadInitThunk [0x0x75d15d49+25]\n",
      "\tRtlInitializeExceptionChain [0x0x7786d03b+107]\n",
      "\tRtlGetAppContainerNamedObjectPath [0x0x7786cfc1+561]\n",
      "\n"
     ]
    },
    {
     "name": "stderr",
     "output_type": "stream",
     "text": [
      "Scraping NICs:  17%|█▋        | 196/1127 [2:30:42<9:03:30, 35.03s/it]"
     ]
    },
    {
     "name": "stdout",
     "output_type": "stream",
     "text": [
      "Saved backup with 104019 results\n"
     ]
    },
    {
     "name": "stderr",
     "output_type": "stream",
     "text": [
      "Scraping NICs:  17%|█▋        | 197/1127 [2:30:44<6:28:36, 25.07s/it]"
     ]
    },
    {
     "name": "stdout",
     "output_type": "stream",
     "text": [
      "Saved backup with 104019 results\n",
      "Dropdown not found or not interactable.\n",
      "Dropdown not found or not interactable.\n",
      "Error occurred while processing the table. Message: \n",
      "Stacktrace:\n",
      "\tGetHandleVerifier [0x0xce3763+63299]\n",
      "\tGetHandleVerifier [0x0xce37a4+63364]\n",
      "\t(No symbol) [0x0xb11113]\n",
      "\t(No symbol) [0x0xb5987e]\n",
      "\t(No symbol) [0x0xb59c1b]\n",
      "\t(No symbol) [0x0xba2212]\n",
      "\t(No symbol) [0x0xb7e5c4]\n",
      "\t(No symbol) [0x0xb9fa4a]\n",
      "\t(No symbol) [0x0xb7e376]\n",
      "\t(No symbol) [0x0xb4d6e0]\n",
      "\t(No symbol) [0x0xb4e544]\n",
      "\tGetHandleVerifier [0x0xf3e033+2531347]\n",
      "\tGetHandleVerifier [0x0xf39332+2511634]\n",
      "\tGetHandleVerifier [0x0xd09eda+220858]\n",
      "\tGetHandleVerifier [0x0xcfa528+156936]\n",
      "\tGetHandleVerifier [0x0xd00c5d+183357]\n",
      "\tGetHandleVerifier [0x0xceb6c8+95912]\n",
      "\tGetHandleVerifier [0x0xceb870+96336]\n",
      "\tGetHandleVerifier [0x0xcd664a+9770]\n",
      "\tBaseThreadInitThunk [0x0x75d15d49+25]\n",
      "\tRtlInitializeExceptionChain [0x0x7786d03b+107]\n",
      "\tRtlGetAppContainerNamedObjectPath [0x0x7786cfc1+561]\n",
      "\n",
      "Error occurred while processing the table. Message: \n",
      "Stacktrace:\n",
      "\tGetHandleVerifier [0x0xce3763+63299]\n",
      "\tGetHandleVerifier [0x0xce37a4+63364]\n",
      "\t(No symbol) [0x0xb11113]\n",
      "\t(No symbol) [0x0xb5987e]\n",
      "\t(No symbol) [0x0xb59c1b]\n",
      "\t(No symbol) [0x0xba2212]\n",
      "\t(No symbol) [0x0xb7e5c4]\n",
      "\t(No symbol) [0x0xb9fa4a]\n",
      "\t(No symbol) [0x0xb7e376]\n",
      "\t(No symbol) [0x0xb4d6e0]\n",
      "\t(No symbol) [0x0xb4e544]\n",
      "\tGetHandleVerifier [0x0xf3e033+2531347]\n",
      "\tGetHandleVerifier [0x0xf39332+2511634]\n",
      "\tGetHandleVerifier [0x0xd09eda+220858]\n",
      "\tGetHandleVerifier [0x0xcfa528+156936]\n",
      "\tGetHandleVerifier [0x0xd00c5d+183357]\n",
      "\tGetHandleVerifier [0x0xceb6c8+95912]\n",
      "\tGetHandleVerifier [0x0xceb870+96336]\n",
      "\tGetHandleVerifier [0x0xcd664a+9770]\n",
      "\tBaseThreadInitThunk [0x0x75d15d49+25]\n",
      "\tRtlInitializeExceptionChain [0x0x7786d03b+107]\n",
      "\tRtlGetAppContainerNamedObjectPath [0x0x7786cfc1+561]\n",
      "\n"
     ]
    },
    {
     "name": "stderr",
     "output_type": "stream",
     "text": [
      "Scraping NICs:  18%|█▊        | 198/1127 [2:31:30<8:05:26, 31.35s/it]"
     ]
    },
    {
     "name": "stdout",
     "output_type": "stream",
     "text": [
      "Saved backup with 104019 results\n"
     ]
    },
    {
     "name": "stderr",
     "output_type": "stream",
     "text": [
      "Scraping NICs:  18%|█▊        | 199/1127 [2:31:32<5:47:48, 22.49s/it]"
     ]
    },
    {
     "name": "stdout",
     "output_type": "stream",
     "text": [
      "Saved backup with 104019 results\n",
      "Dropdown not found or not interactable.\n",
      "Error occurred while processing the table. Message: \n",
      "Stacktrace:\n",
      "\tGetHandleVerifier [0x0xce3763+63299]\n",
      "\tGetHandleVerifier [0x0xce37a4+63364]\n",
      "\t(No symbol) [0x0xb11113]\n",
      "\t(No symbol) [0x0xb5987e]\n",
      "\t(No symbol) [0x0xb59c1b]\n",
      "\t(No symbol) [0x0xba2212]\n",
      "\t(No symbol) [0x0xb7e5c4]\n",
      "\t(No symbol) [0x0xb9fa4a]\n",
      "\t(No symbol) [0x0xb7e376]\n",
      "\t(No symbol) [0x0xb4d6e0]\n",
      "\t(No symbol) [0x0xb4e544]\n",
      "\tGetHandleVerifier [0x0xf3e033+2531347]\n",
      "\tGetHandleVerifier [0x0xf39332+2511634]\n",
      "\tGetHandleVerifier [0x0xd09eda+220858]\n",
      "\tGetHandleVerifier [0x0xcfa528+156936]\n",
      "\tGetHandleVerifier [0x0xd00c5d+183357]\n",
      "\tGetHandleVerifier [0x0xceb6c8+95912]\n",
      "\tGetHandleVerifier [0x0xceb870+96336]\n",
      "\tGetHandleVerifier [0x0xcd664a+9770]\n",
      "\tBaseThreadInitThunk [0x0x75d15d49+25]\n",
      "\tRtlInitializeExceptionChain [0x0x7786d03b+107]\n",
      "\tRtlGetAppContainerNamedObjectPath [0x0x7786cfc1+561]\n",
      "\n"
     ]
    },
    {
     "name": "stderr",
     "output_type": "stream",
     "text": [
      "Scraping NICs:  18%|█▊        | 200/1127 [2:32:28<8:26:21, 32.77s/it]"
     ]
    },
    {
     "name": "stdout",
     "output_type": "stream",
     "text": [
      "Saved backup with 104019 results\n",
      "Rows captured: 447\n"
     ]
    },
    {
     "name": "stderr",
     "output_type": "stream",
     "text": [
      "Scraping NICs:  18%|█▊        | 201/1127 [2:34:04<13:16:53, 51.63s/it]"
     ]
    },
    {
     "name": "stdout",
     "output_type": "stream",
     "text": [
      "Saved backup with 104466 results\n",
      "Dropdown not found or not interactable.\n",
      "Error occurred while processing the table. Message: \n",
      "Stacktrace:\n",
      "\tGetHandleVerifier [0x0xce3763+63299]\n",
      "\tGetHandleVerifier [0x0xce37a4+63364]\n",
      "\t(No symbol) [0x0xb11113]\n",
      "\t(No symbol) [0x0xb5987e]\n",
      "\t(No symbol) [0x0xb59c1b]\n",
      "\t(No symbol) [0x0xba2212]\n",
      "\t(No symbol) [0x0xb7e5c4]\n",
      "\t(No symbol) [0x0xb9fa4a]\n",
      "\t(No symbol) [0x0xb7e376]\n",
      "\t(No symbol) [0x0xb4d6e0]\n",
      "\t(No symbol) [0x0xb4e544]\n",
      "\tGetHandleVerifier [0x0xf3e033+2531347]\n",
      "\tGetHandleVerifier [0x0xf39332+2511634]\n",
      "\tGetHandleVerifier [0x0xd09eda+220858]\n",
      "\tGetHandleVerifier [0x0xcfa528+156936]\n",
      "\tGetHandleVerifier [0x0xd00c5d+183357]\n",
      "\tGetHandleVerifier [0x0xceb6c8+95912]\n",
      "\tGetHandleVerifier [0x0xceb870+96336]\n",
      "\tGetHandleVerifier [0x0xcd664a+9770]\n",
      "\tBaseThreadInitThunk [0x0x75d15d49+25]\n",
      "\tRtlInitializeExceptionChain [0x0x7786d03b+107]\n",
      "\tRtlGetAppContainerNamedObjectPath [0x0x7786cfc1+561]\n",
      "\n"
     ]
    },
    {
     "name": "stderr",
     "output_type": "stream",
     "text": [
      "Scraping NICs:  18%|█▊        | 202/1127 [2:34:52<12:59:47, 50.58s/it]"
     ]
    },
    {
     "name": "stdout",
     "output_type": "stream",
     "text": [
      "Saved backup with 104466 results\n",
      "Dropdown not found or not interactable.\n",
      "Error occurred while processing the table. Message: \n",
      "Stacktrace:\n",
      "\tGetHandleVerifier [0x0xce3763+63299]\n",
      "\tGetHandleVerifier [0x0xce37a4+63364]\n",
      "\t(No symbol) [0x0xb11113]\n",
      "\t(No symbol) [0x0xb5987e]\n",
      "\t(No symbol) [0x0xb59c1b]\n",
      "\t(No symbol) [0x0xba2212]\n",
      "\t(No symbol) [0x0xb7e5c4]\n",
      "\t(No symbol) [0x0xb9fa4a]\n",
      "\t(No symbol) [0x0xb7e376]\n",
      "\t(No symbol) [0x0xb4d6e0]\n",
      "\t(No symbol) [0x0xb4e544]\n",
      "\tGetHandleVerifier [0x0xf3e033+2531347]\n",
      "\tGetHandleVerifier [0x0xf39332+2511634]\n",
      "\tGetHandleVerifier [0x0xd09eda+220858]\n",
      "\tGetHandleVerifier [0x0xcfa528+156936]\n",
      "\tGetHandleVerifier [0x0xd00c5d+183357]\n",
      "\tGetHandleVerifier [0x0xceb6c8+95912]\n",
      "\tGetHandleVerifier [0x0xceb870+96336]\n",
      "\tGetHandleVerifier [0x0xcd664a+9770]\n",
      "\tBaseThreadInitThunk [0x0x75d15d49+25]\n",
      "\tRtlInitializeExceptionChain [0x0x7786d03b+107]\n",
      "\tRtlGetAppContainerNamedObjectPath [0x0x7786cfc1+561]\n",
      "\n"
     ]
    },
    {
     "name": "stderr",
     "output_type": "stream",
     "text": [
      "Scraping NICs:  18%|█▊        | 203/1127 [2:35:48<13:22:37, 52.12s/it]"
     ]
    },
    {
     "name": "stdout",
     "output_type": "stream",
     "text": [
      "Saved backup with 104466 results\n",
      "Rows captured: 740\n"
     ]
    },
    {
     "name": "stderr",
     "output_type": "stream",
     "text": [
      "Scraping NICs:  18%|█▊        | 204/1127 [2:35:57<10:06:05, 39.40s/it]"
     ]
    },
    {
     "name": "stdout",
     "output_type": "stream",
     "text": [
      "Saved backup with 105206 results\n",
      "Dropdown not found or not interactable.\n",
      "Dropdown not found or not interactable.\n",
      "Error occurred while processing the table. Message: \n",
      "Stacktrace:\n",
      "\tGetHandleVerifier [0x0xce3763+63299]\n",
      "\tGetHandleVerifier [0x0xce37a4+63364]\n",
      "\t(No symbol) [0x0xb11113]\n",
      "\t(No symbol) [0x0xb5987e]\n",
      "\t(No symbol) [0x0xb59c1b]\n",
      "\t(No symbol) [0x0xba2212]\n",
      "\t(No symbol) [0x0xb7e5c4]\n",
      "\t(No symbol) [0x0xb9fa4a]\n",
      "\t(No symbol) [0x0xb7e376]\n",
      "\t(No symbol) [0x0xb4d6e0]\n",
      "\t(No symbol) [0x0xb4e544]\n",
      "\tGetHandleVerifier [0x0xf3e033+2531347]\n",
      "\tGetHandleVerifier [0x0xf39332+2511634]\n",
      "\tGetHandleVerifier [0x0xd09eda+220858]\n",
      "\tGetHandleVerifier [0x0xcfa528+156936]\n",
      "\tGetHandleVerifier [0x0xd00c5d+183357]\n",
      "\tGetHandleVerifier [0x0xceb6c8+95912]\n",
      "\tGetHandleVerifier [0x0xceb870+96336]\n",
      "\tGetHandleVerifier [0x0xcd664a+9770]\n",
      "\tBaseThreadInitThunk [0x0x75d15d49+25]\n",
      "\tRtlInitializeExceptionChain [0x0x7786d03b+107]\n",
      "\tRtlGetAppContainerNamedObjectPath [0x0x7786cfc1+561]\n",
      "\n"
     ]
    },
    {
     "name": "stderr",
     "output_type": "stream",
     "text": [
      "Scraping NICs:  18%|█▊        | 205/1127 [2:36:36<10:02:17, 39.19s/it]"
     ]
    },
    {
     "name": "stdout",
     "output_type": "stream",
     "text": [
      "Saved backup with 105206 results\n",
      "Error occurred while processing the table. Message: \n",
      "Stacktrace:\n",
      "\tGetHandleVerifier [0x0xce3763+63299]\n",
      "\tGetHandleVerifier [0x0xce37a4+63364]\n",
      "\t(No symbol) [0x0xb11113]\n",
      "\t(No symbol) [0x0xb5987e]\n",
      "\t(No symbol) [0x0xb59c1b]\n",
      "\t(No symbol) [0x0xba2212]\n",
      "\t(No symbol) [0x0xb7e5c4]\n",
      "\t(No symbol) [0x0xb9fa4a]\n",
      "\t(No symbol) [0x0xb7e376]\n",
      "\t(No symbol) [0x0xb4d6e0]\n",
      "\t(No symbol) [0x0xb4e544]\n",
      "\tGetHandleVerifier [0x0xf3e033+2531347]\n",
      "\tGetHandleVerifier [0x0xf39332+2511634]\n",
      "\tGetHandleVerifier [0x0xd09eda+220858]\n",
      "\tGetHandleVerifier [0x0xcfa528+156936]\n",
      "\tGetHandleVerifier [0x0xd00c5d+183357]\n",
      "\tGetHandleVerifier [0x0xceb6c8+95912]\n",
      "\tGetHandleVerifier [0x0xceb870+96336]\n",
      "\tGetHandleVerifier [0x0xcd664a+9770]\n",
      "\tBaseThreadInitThunk [0x0x75d15d49+25]\n",
      "\tRtlInitializeExceptionChain [0x0x7786d03b+107]\n",
      "\tRtlGetAppContainerNamedObjectPath [0x0x7786cfc1+561]\n",
      "\n"
     ]
    },
    {
     "name": "stderr",
     "output_type": "stream",
     "text": [
      "Scraping NICs:  18%|█▊        | 206/1127 [2:36:55<8:26:34, 33.00s/it] "
     ]
    },
    {
     "name": "stdout",
     "output_type": "stream",
     "text": [
      "Saved backup with 105206 results\n",
      "Dropdown not found or not interactable.\n",
      "Dropdown not found or not interactable.\n",
      "Error occurred while processing the table. Message: \n",
      "Stacktrace:\n",
      "\tGetHandleVerifier [0x0xce3763+63299]\n",
      "\tGetHandleVerifier [0x0xce37a4+63364]\n",
      "\t(No symbol) [0x0xb11113]\n",
      "\t(No symbol) [0x0xb5987e]\n",
      "\t(No symbol) [0x0xb59c1b]\n",
      "\t(No symbol) [0x0xba2212]\n",
      "\t(No symbol) [0x0xb7e5c4]\n",
      "\t(No symbol) [0x0xb9fa4a]\n",
      "\t(No symbol) [0x0xb7e376]\n",
      "\t(No symbol) [0x0xb4d6e0]\n",
      "\t(No symbol) [0x0xb4e544]\n",
      "\tGetHandleVerifier [0x0xf3e033+2531347]\n",
      "\tGetHandleVerifier [0x0xf39332+2511634]\n",
      "\tGetHandleVerifier [0x0xd09eda+220858]\n",
      "\tGetHandleVerifier [0x0xcfa528+156936]\n",
      "\tGetHandleVerifier [0x0xd00c5d+183357]\n",
      "\tGetHandleVerifier [0x0xceb6c8+95912]\n",
      "\tGetHandleVerifier [0x0xceb870+96336]\n",
      "\tGetHandleVerifier [0x0xcd664a+9770]\n",
      "\tBaseThreadInitThunk [0x0x75d15d49+25]\n",
      "\tRtlInitializeExceptionChain [0x0x7786d03b+107]\n",
      "\tRtlGetAppContainerNamedObjectPath [0x0x7786cfc1+561]\n",
      "\n"
     ]
    },
    {
     "name": "stderr",
     "output_type": "stream",
     "text": [
      "Scraping NICs:  18%|█▊        | 207/1127 [2:37:28<8:27:17, 33.08s/it]"
     ]
    },
    {
     "name": "stdout",
     "output_type": "stream",
     "text": [
      "Saved backup with 105206 results\n",
      "Error occurred while processing the table. Message: \n",
      "Stacktrace:\n",
      "\tGetHandleVerifier [0x0xce3763+63299]\n",
      "\tGetHandleVerifier [0x0xce37a4+63364]\n",
      "\t(No symbol) [0x0xb11113]\n",
      "\t(No symbol) [0x0xb5987e]\n",
      "\t(No symbol) [0x0xb59c1b]\n",
      "\t(No symbol) [0x0xba2212]\n",
      "\t(No symbol) [0x0xb7e5c4]\n",
      "\t(No symbol) [0x0xb9fa4a]\n",
      "\t(No symbol) [0x0xb7e376]\n",
      "\t(No symbol) [0x0xb4d6e0]\n",
      "\t(No symbol) [0x0xb4e544]\n",
      "\tGetHandleVerifier [0x0xf3e033+2531347]\n",
      "\tGetHandleVerifier [0x0xf39332+2511634]\n",
      "\tGetHandleVerifier [0x0xd09eda+220858]\n",
      "\tGetHandleVerifier [0x0xcfa528+156936]\n",
      "\tGetHandleVerifier [0x0xd00c5d+183357]\n",
      "\tGetHandleVerifier [0x0xceb6c8+95912]\n",
      "\tGetHandleVerifier [0x0xceb870+96336]\n",
      "\tGetHandleVerifier [0x0xcd664a+9770]\n",
      "\tBaseThreadInitThunk [0x0x75d15d49+25]\n",
      "\tRtlInitializeExceptionChain [0x0x7786d03b+107]\n",
      "\tRtlGetAppContainerNamedObjectPath [0x0x7786cfc1+561]\n",
      "\n"
     ]
    },
    {
     "name": "stderr",
     "output_type": "stream",
     "text": [
      "Scraping NICs:  18%|█▊        | 208/1127 [2:37:48<7:24:50, 29.04s/it]"
     ]
    },
    {
     "name": "stdout",
     "output_type": "stream",
     "text": [
      "Saved backup with 105206 results\n",
      "Dropdown not found or not interactable.\n",
      "Error occurred while processing the table. Message: \n",
      "Stacktrace:\n",
      "\tGetHandleVerifier [0x0xce3763+63299]\n",
      "\tGetHandleVerifier [0x0xce37a4+63364]\n",
      "\t(No symbol) [0x0xb11113]\n",
      "\t(No symbol) [0x0xb5987e]\n",
      "\t(No symbol) [0x0xb59c1b]\n",
      "\t(No symbol) [0x0xba2212]\n",
      "\t(No symbol) [0x0xb7e5c4]\n",
      "\t(No symbol) [0x0xb9fa4a]\n",
      "\t(No symbol) [0x0xb7e376]\n",
      "\t(No symbol) [0x0xb4d6e0]\n",
      "\t(No symbol) [0x0xb4e544]\n",
      "\tGetHandleVerifier [0x0xf3e033+2531347]\n",
      "\tGetHandleVerifier [0x0xf39332+2511634]\n",
      "\tGetHandleVerifier [0x0xd09eda+220858]\n",
      "\tGetHandleVerifier [0x0xcfa528+156936]\n",
      "\tGetHandleVerifier [0x0xd00c5d+183357]\n",
      "\tGetHandleVerifier [0x0xceb6c8+95912]\n",
      "\tGetHandleVerifier [0x0xceb870+96336]\n",
      "\tGetHandleVerifier [0x0xcd664a+9770]\n",
      "\tBaseThreadInitThunk [0x0x75d15d49+25]\n",
      "\tRtlInitializeExceptionChain [0x0x7786d03b+107]\n",
      "\tRtlGetAppContainerNamedObjectPath [0x0x7786cfc1+561]\n",
      "\n"
     ]
    },
    {
     "name": "stderr",
     "output_type": "stream",
     "text": [
      "Scraping NICs:  19%|█▊        | 209/1127 [2:38:35<8:49:17, 34.59s/it]"
     ]
    },
    {
     "name": "stdout",
     "output_type": "stream",
     "text": [
      "Saved backup with 105206 results\n",
      "Rows captured: 220\n"
     ]
    },
    {
     "name": "stderr",
     "output_type": "stream",
     "text": [
      "Scraping NICs:  19%|█▊        | 210/1127 [2:38:57<7:49:59, 30.75s/it]"
     ]
    },
    {
     "name": "stdout",
     "output_type": "stream",
     "text": [
      "Saved backup with 105426 results\n",
      "Dropdown not found or not interactable.\n",
      "Rows captured: 217\n"
     ]
    },
    {
     "name": "stderr",
     "output_type": "stream",
     "text": [
      "Scraping NICs:  19%|█▊        | 211/1127 [2:40:19<11:44:00, 46.11s/it]"
     ]
    },
    {
     "name": "stdout",
     "output_type": "stream",
     "text": [
      "Saved backup with 105643 results\n",
      "Rows captured: 121\n"
     ]
    },
    {
     "name": "stderr",
     "output_type": "stream",
     "text": [
      "Scraping NICs:  19%|█▉        | 212/1127 [2:40:43<10:04:02, 39.61s/it]"
     ]
    },
    {
     "name": "stdout",
     "output_type": "stream",
     "text": [
      "Saved backup with 105764 results\n",
      "Dropdown not found or not interactable.\n",
      "Error occurred while processing the table. Message: \n",
      "Stacktrace:\n",
      "\tGetHandleVerifier [0x0xce3763+63299]\n",
      "\tGetHandleVerifier [0x0xce37a4+63364]\n",
      "\t(No symbol) [0x0xb11113]\n",
      "\t(No symbol) [0x0xb5987e]\n",
      "\t(No symbol) [0x0xb59c1b]\n",
      "\t(No symbol) [0x0xba2212]\n",
      "\t(No symbol) [0x0xb7e5c4]\n",
      "\t(No symbol) [0x0xb9fa4a]\n",
      "\t(No symbol) [0x0xb7e376]\n",
      "\t(No symbol) [0x0xb4d6e0]\n",
      "\t(No symbol) [0x0xb4e544]\n",
      "\tGetHandleVerifier [0x0xf3e033+2531347]\n",
      "\tGetHandleVerifier [0x0xf39332+2511634]\n",
      "\tGetHandleVerifier [0x0xd09eda+220858]\n",
      "\tGetHandleVerifier [0x0xcfa528+156936]\n",
      "\tGetHandleVerifier [0x0xd00c5d+183357]\n",
      "\tGetHandleVerifier [0x0xceb6c8+95912]\n",
      "\tGetHandleVerifier [0x0xceb870+96336]\n",
      "\tGetHandleVerifier [0x0xcd664a+9770]\n",
      "\tBaseThreadInitThunk [0x0x75d15d49+25]\n",
      "\tRtlInitializeExceptionChain [0x0x7786d03b+107]\n",
      "\tRtlGetAppContainerNamedObjectPath [0x0x7786cfc1+561]\n",
      "\n"
     ]
    },
    {
     "name": "stderr",
     "output_type": "stream",
     "text": [
      "Scraping NICs:  19%|█▉        | 213/1127 [2:41:31<10:39:39, 41.99s/it]"
     ]
    },
    {
     "name": "stdout",
     "output_type": "stream",
     "text": [
      "Saved backup with 105764 results\n",
      "Rows captured: 285\n"
     ]
    },
    {
     "name": "stderr",
     "output_type": "stream",
     "text": [
      "Scraping NICs:  19%|█▉        | 214/1127 [2:42:55<13:52:44, 54.73s/it]"
     ]
    },
    {
     "name": "stdout",
     "output_type": "stream",
     "text": [
      "Saved backup with 106049 results\n",
      "Rows captured: 523\n"
     ]
    },
    {
     "name": "stderr",
     "output_type": "stream",
     "text": [
      "Scraping NICs:  19%|█▉        | 215/1127 [2:43:01<10:08:38, 40.04s/it]"
     ]
    },
    {
     "name": "stdout",
     "output_type": "stream",
     "text": [
      "Saved backup with 106572 results\n",
      "Dropdown not found or not interactable.\n",
      "Dropdown not found or not interactable.\n",
      "Error occurred while processing the table. Message: \n",
      "Stacktrace:\n",
      "\tGetHandleVerifier [0x0xce3763+63299]\n",
      "\tGetHandleVerifier [0x0xce37a4+63364]\n",
      "\t(No symbol) [0x0xb11113]\n",
      "\t(No symbol) [0x0xb5987e]\n",
      "\t(No symbol) [0x0xb59c1b]\n",
      "\t(No symbol) [0x0xba2212]\n",
      "\t(No symbol) [0x0xb7e5c4]\n",
      "\t(No symbol) [0x0xb9fa4a]\n",
      "\t(No symbol) [0x0xb7e376]\n",
      "\t(No symbol) [0x0xb4d6e0]\n",
      "\t(No symbol) [0x0xb4e544]\n",
      "\tGetHandleVerifier [0x0xf3e033+2531347]\n",
      "\tGetHandleVerifier [0x0xf39332+2511634]\n",
      "\tGetHandleVerifier [0x0xd09eda+220858]\n",
      "\tGetHandleVerifier [0x0xcfa528+156936]\n",
      "\tGetHandleVerifier [0x0xd00c5d+183357]\n",
      "\tGetHandleVerifier [0x0xceb6c8+95912]\n",
      "\tGetHandleVerifier [0x0xceb870+96336]\n",
      "\tGetHandleVerifier [0x0xcd664a+9770]\n",
      "\tBaseThreadInitThunk [0x0x75d15d49+25]\n",
      "\tRtlInitializeExceptionChain [0x0x7786d03b+107]\n",
      "\tRtlGetAppContainerNamedObjectPath [0x0x7786cfc1+561]\n",
      "\n"
     ]
    },
    {
     "name": "stderr",
     "output_type": "stream",
     "text": [
      "Scraping NICs:  19%|█▉        | 216/1127 [2:43:43<10:16:08, 40.58s/it]"
     ]
    },
    {
     "name": "stdout",
     "output_type": "stream",
     "text": [
      "Saved backup with 106572 results\n",
      "Error occurred while processing the table. Message: \n",
      "Stacktrace:\n",
      "\tGetHandleVerifier [0x0xce3763+63299]\n",
      "\tGetHandleVerifier [0x0xce37a4+63364]\n",
      "\t(No symbol) [0x0xb11113]\n",
      "\t(No symbol) [0x0xb5987e]\n",
      "\t(No symbol) [0x0xb59c1b]\n",
      "\t(No symbol) [0x0xba2212]\n",
      "\t(No symbol) [0x0xb7e5c4]\n",
      "\t(No symbol) [0x0xb9fa4a]\n",
      "\t(No symbol) [0x0xb7e376]\n",
      "\t(No symbol) [0x0xb4d6e0]\n",
      "\t(No symbol) [0x0xb4e544]\n",
      "\tGetHandleVerifier [0x0xf3e033+2531347]\n",
      "\tGetHandleVerifier [0x0xf39332+2511634]\n",
      "\tGetHandleVerifier [0x0xd09eda+220858]\n",
      "\tGetHandleVerifier [0x0xcfa528+156936]\n",
      "\tGetHandleVerifier [0x0xd00c5d+183357]\n",
      "\tGetHandleVerifier [0x0xceb6c8+95912]\n",
      "\tGetHandleVerifier [0x0xceb870+96336]\n",
      "\tGetHandleVerifier [0x0xcd664a+9770]\n",
      "\tBaseThreadInitThunk [0x0x75d15d49+25]\n",
      "\tRtlInitializeExceptionChain [0x0x7786d03b+107]\n",
      "\tRtlGetAppContainerNamedObjectPath [0x0x7786cfc1+561]\n",
      "\n"
     ]
    },
    {
     "name": "stderr",
     "output_type": "stream",
     "text": [
      "Scraping NICs:  19%|█▉        | 217/1127 [2:43:52<7:49:45, 30.97s/it] "
     ]
    },
    {
     "name": "stdout",
     "output_type": "stream",
     "text": [
      "Saved backup with 106572 results\n",
      "Dropdown not found or not interactable.\n",
      "Dropdown not found or not interactable.\n",
      "Error occurred while processing the table. Message: \n",
      "Stacktrace:\n",
      "\tGetHandleVerifier [0x0xce3763+63299]\n",
      "\tGetHandleVerifier [0x0xce37a4+63364]\n",
      "\t(No symbol) [0x0xb11113]\n",
      "\t(No symbol) [0x0xb5987e]\n",
      "\t(No symbol) [0x0xb59c1b]\n",
      "\t(No symbol) [0x0xba2212]\n",
      "\t(No symbol) [0x0xb7e5c4]\n",
      "\t(No symbol) [0x0xb9fa4a]\n",
      "\t(No symbol) [0x0xb7e376]\n",
      "\t(No symbol) [0x0xb4d6e0]\n",
      "\t(No symbol) [0x0xb4e544]\n",
      "\tGetHandleVerifier [0x0xf3e033+2531347]\n",
      "\tGetHandleVerifier [0x0xf39332+2511634]\n",
      "\tGetHandleVerifier [0x0xd09eda+220858]\n",
      "\tGetHandleVerifier [0x0xcfa528+156936]\n",
      "\tGetHandleVerifier [0x0xd00c5d+183357]\n",
      "\tGetHandleVerifier [0x0xceb6c8+95912]\n",
      "\tGetHandleVerifier [0x0xceb870+96336]\n",
      "\tGetHandleVerifier [0x0xcd664a+9770]\n",
      "\tBaseThreadInitThunk [0x0x75d15d49+25]\n",
      "\tRtlInitializeExceptionChain [0x0x7786d03b+107]\n",
      "\tRtlGetAppContainerNamedObjectPath [0x0x7786cfc1+561]\n",
      "\n"
     ]
    },
    {
     "name": "stderr",
     "output_type": "stream",
     "text": [
      "Scraping NICs:  19%|█▉        | 218/1127 [2:44:35<8:46:26, 34.75s/it]"
     ]
    },
    {
     "name": "stdout",
     "output_type": "stream",
     "text": [
      "Saved backup with 106572 results\n",
      "Error occurred while processing the table. Message: \n",
      "Stacktrace:\n",
      "\tGetHandleVerifier [0x0xce3763+63299]\n",
      "\tGetHandleVerifier [0x0xce37a4+63364]\n",
      "\t(No symbol) [0x0xb11113]\n",
      "\t(No symbol) [0x0xb5987e]\n",
      "\t(No symbol) [0x0xb59c1b]\n",
      "\t(No symbol) [0x0xba2212]\n",
      "\t(No symbol) [0x0xb7e5c4]\n",
      "\t(No symbol) [0x0xb9fa4a]\n",
      "\t(No symbol) [0x0xb7e376]\n",
      "\t(No symbol) [0x0xb4d6e0]\n",
      "\t(No symbol) [0x0xb4e544]\n",
      "\tGetHandleVerifier [0x0xf3e033+2531347]\n",
      "\tGetHandleVerifier [0x0xf39332+2511634]\n",
      "\tGetHandleVerifier [0x0xd09eda+220858]\n",
      "\tGetHandleVerifier [0x0xcfa528+156936]\n",
      "\tGetHandleVerifier [0x0xd00c5d+183357]\n",
      "\tGetHandleVerifier [0x0xceb6c8+95912]\n",
      "\tGetHandleVerifier [0x0xceb870+96336]\n",
      "\tGetHandleVerifier [0x0xcd664a+9770]\n",
      "\tBaseThreadInitThunk [0x0x75d15d49+25]\n",
      "\tRtlInitializeExceptionChain [0x0x7786d03b+107]\n",
      "\tRtlGetAppContainerNamedObjectPath [0x0x7786cfc1+561]\n",
      "\n"
     ]
    },
    {
     "name": "stderr",
     "output_type": "stream",
     "text": [
      "Scraping NICs:  19%|█▉        | 219/1127 [2:44:39<6:25:53, 25.50s/it]"
     ]
    },
    {
     "name": "stdout",
     "output_type": "stream",
     "text": [
      "Saved backup with 106572 results\n",
      "Dropdown not found or not interactable.\n",
      "Dropdown not found or not interactable.\n",
      "Error occurred while processing the table. Message: \n",
      "Stacktrace:\n",
      "\tGetHandleVerifier [0x0xce3763+63299]\n",
      "\tGetHandleVerifier [0x0xce37a4+63364]\n",
      "\t(No symbol) [0x0xb11113]\n",
      "\t(No symbol) [0x0xb5987e]\n",
      "\t(No symbol) [0x0xb59c1b]\n",
      "\t(No symbol) [0x0xba2212]\n",
      "\t(No symbol) [0x0xb7e5c4]\n",
      "\t(No symbol) [0x0xb9fa4a]\n",
      "\t(No symbol) [0x0xb7e376]\n",
      "\t(No symbol) [0x0xb4d6e0]\n",
      "\t(No symbol) [0x0xb4e544]\n",
      "\tGetHandleVerifier [0x0xf3e033+2531347]\n",
      "\tGetHandleVerifier [0x0xf39332+2511634]\n",
      "\tGetHandleVerifier [0x0xd09eda+220858]\n",
      "\tGetHandleVerifier [0x0xcfa528+156936]\n",
      "\tGetHandleVerifier [0x0xd00c5d+183357]\n",
      "\tGetHandleVerifier [0x0xceb6c8+95912]\n",
      "\tGetHandleVerifier [0x0xceb870+96336]\n",
      "\tGetHandleVerifier [0x0xcd664a+9770]\n",
      "\tBaseThreadInitThunk [0x0x75d15d49+25]\n",
      "\tRtlInitializeExceptionChain [0x0x7786d03b+107]\n",
      "\tRtlGetAppContainerNamedObjectPath [0x0x7786cfc1+561]\n",
      "\n"
     ]
    },
    {
     "name": "stderr",
     "output_type": "stream",
     "text": [
      "Scraping NICs:  20%|█▉        | 220/1127 [2:45:24<7:55:16, 31.44s/it]"
     ]
    },
    {
     "name": "stdout",
     "output_type": "stream",
     "text": [
      "Saved backup with 106572 results\n",
      "Dropdown not found or not interactable.\n",
      "Error occurred while processing the table. Message: \n",
      "Stacktrace:\n",
      "\tGetHandleVerifier [0x0xce3763+63299]\n",
      "\tGetHandleVerifier [0x0xce37a4+63364]\n",
      "\t(No symbol) [0x0xb11113]\n",
      "\t(No symbol) [0x0xb5987e]\n",
      "\t(No symbol) [0x0xb59c1b]\n",
      "\t(No symbol) [0x0xba2212]\n",
      "\t(No symbol) [0x0xb7e5c4]\n",
      "\t(No symbol) [0x0xb9fa4a]\n",
      "\t(No symbol) [0x0xb7e376]\n",
      "\t(No symbol) [0x0xb4d6e0]\n",
      "\t(No symbol) [0x0xb4e544]\n",
      "\tGetHandleVerifier [0x0xf3e033+2531347]\n",
      "\tGetHandleVerifier [0x0xf39332+2511634]\n",
      "\tGetHandleVerifier [0x0xd09eda+220858]\n",
      "\tGetHandleVerifier [0x0xcfa528+156936]\n",
      "\tGetHandleVerifier [0x0xd00c5d+183357]\n",
      "\tGetHandleVerifier [0x0xceb6c8+95912]\n",
      "\tGetHandleVerifier [0x0xceb870+96336]\n",
      "\tGetHandleVerifier [0x0xcd664a+9770]\n",
      "\tBaseThreadInitThunk [0x0x75d15d49+25]\n",
      "\tRtlInitializeExceptionChain [0x0x7786d03b+107]\n",
      "\tRtlGetAppContainerNamedObjectPath [0x0x7786cfc1+561]\n",
      "\n"
     ]
    },
    {
     "name": "stderr",
     "output_type": "stream",
     "text": [
      "Scraping NICs:  20%|█▉        | 221/1127 [2:46:15<9:20:28, 37.12s/it]"
     ]
    },
    {
     "name": "stdout",
     "output_type": "stream",
     "text": [
      "Saved backup with 106572 results\n",
      "Dropdown not found or not interactable.\n",
      "Error occurred while processing the table. Message: \n",
      "Stacktrace:\n",
      "\tGetHandleVerifier [0x0xce3763+63299]\n",
      "\tGetHandleVerifier [0x0xce37a4+63364]\n",
      "\t(No symbol) [0x0xb11113]\n",
      "\t(No symbol) [0x0xb5987e]\n",
      "\t(No symbol) [0x0xb59c1b]\n",
      "\t(No symbol) [0x0xba2212]\n",
      "\t(No symbol) [0x0xb7e5c4]\n",
      "\t(No symbol) [0x0xb9fa4a]\n",
      "\t(No symbol) [0x0xb7e376]\n",
      "\t(No symbol) [0x0xb4d6e0]\n",
      "\t(No symbol) [0x0xb4e544]\n",
      "\tGetHandleVerifier [0x0xf3e033+2531347]\n",
      "\tGetHandleVerifier [0x0xf39332+2511634]\n",
      "\tGetHandleVerifier [0x0xd09eda+220858]\n",
      "\tGetHandleVerifier [0x0xcfa528+156936]\n",
      "\tGetHandleVerifier [0x0xd00c5d+183357]\n",
      "\tGetHandleVerifier [0x0xceb6c8+95912]\n",
      "\tGetHandleVerifier [0x0xceb870+96336]\n",
      "\tGetHandleVerifier [0x0xcd664a+9770]\n",
      "\tBaseThreadInitThunk [0x0x75d15d49+25]\n",
      "\tRtlInitializeExceptionChain [0x0x7786d03b+107]\n",
      "\tRtlGetAppContainerNamedObjectPath [0x0x7786cfc1+561]\n",
      "\n"
     ]
    },
    {
     "name": "stderr",
     "output_type": "stream",
     "text": [
      "Scraping NICs:  20%|█▉        | 222/1127 [2:47:06<10:25:06, 41.44s/it]"
     ]
    },
    {
     "name": "stdout",
     "output_type": "stream",
     "text": [
      "Saved backup with 106572 results\n",
      "Rows captured: 708\n"
     ]
    },
    {
     "name": "stderr",
     "output_type": "stream",
     "text": [
      "Scraping NICs:  20%|█▉        | 223/1127 [2:47:30<9:04:14, 36.12s/it] "
     ]
    },
    {
     "name": "stdout",
     "output_type": "stream",
     "text": [
      "Saved backup with 107280 results\n",
      "Dropdown not found or not interactable.\n",
      "Dropdown not found or not interactable.\n",
      "Error occurred while processing the table. Message: \n",
      "Stacktrace:\n",
      "\tGetHandleVerifier [0x0xce3763+63299]\n",
      "\tGetHandleVerifier [0x0xce37a4+63364]\n",
      "\t(No symbol) [0x0xb11113]\n",
      "\t(No symbol) [0x0xb5987e]\n",
      "\t(No symbol) [0x0xb59c1b]\n",
      "\t(No symbol) [0x0xba2212]\n",
      "\t(No symbol) [0x0xb7e5c4]\n",
      "\t(No symbol) [0x0xb9fa4a]\n",
      "\t(No symbol) [0x0xb7e376]\n",
      "\t(No symbol) [0x0xb4d6e0]\n",
      "\t(No symbol) [0x0xb4e544]\n",
      "\tGetHandleVerifier [0x0xf3e033+2531347]\n",
      "\tGetHandleVerifier [0x0xf39332+2511634]\n",
      "\tGetHandleVerifier [0x0xd09eda+220858]\n",
      "\tGetHandleVerifier [0x0xcfa528+156936]\n",
      "\tGetHandleVerifier [0x0xd00c5d+183357]\n",
      "\tGetHandleVerifier [0x0xceb6c8+95912]\n",
      "\tGetHandleVerifier [0x0xceb870+96336]\n",
      "\tGetHandleVerifier [0x0xcd664a+9770]\n",
      "\tBaseThreadInitThunk [0x0x75d15d49+25]\n",
      "\tRtlInitializeExceptionChain [0x0x7786d03b+107]\n",
      "\tRtlGetAppContainerNamedObjectPath [0x0x7786cfc1+561]\n",
      "\n"
     ]
    },
    {
     "name": "stderr",
     "output_type": "stream",
     "text": [
      "Scraping NICs:  20%|█▉        | 224/1127 [2:48:06<9:03:04, 36.08s/it]"
     ]
    },
    {
     "name": "stdout",
     "output_type": "stream",
     "text": [
      "Saved backup with 107280 results\n",
      "Error occurred while processing the table. Message: \n",
      "Stacktrace:\n",
      "\tGetHandleVerifier [0x0xce3763+63299]\n",
      "\tGetHandleVerifier [0x0xce37a4+63364]\n",
      "\t(No symbol) [0x0xb11113]\n",
      "\t(No symbol) [0x0xb5987e]\n",
      "\t(No symbol) [0x0xb59c1b]\n",
      "\t(No symbol) [0x0xba2212]\n",
      "\t(No symbol) [0x0xb7e5c4]\n",
      "\t(No symbol) [0x0xb9fa4a]\n",
      "\t(No symbol) [0x0xb7e376]\n",
      "\t(No symbol) [0x0xb4d6e0]\n",
      "\t(No symbol) [0x0xb4e544]\n",
      "\tGetHandleVerifier [0x0xf3e033+2531347]\n",
      "\tGetHandleVerifier [0x0xf39332+2511634]\n",
      "\tGetHandleVerifier [0x0xd09eda+220858]\n",
      "\tGetHandleVerifier [0x0xcfa528+156936]\n",
      "\tGetHandleVerifier [0x0xd00c5d+183357]\n",
      "\tGetHandleVerifier [0x0xceb6c8+95912]\n",
      "\tGetHandleVerifier [0x0xceb870+96336]\n",
      "\tGetHandleVerifier [0x0xcd664a+9770]\n",
      "\tBaseThreadInitThunk [0x0x75d15d49+25]\n",
      "\tRtlInitializeExceptionChain [0x0x7786d03b+107]\n",
      "\tRtlGetAppContainerNamedObjectPath [0x0x7786cfc1+561]\n",
      "\n"
     ]
    },
    {
     "name": "stderr",
     "output_type": "stream",
     "text": [
      "Scraping NICs:  20%|█▉        | 225/1127 [2:48:19<7:18:09, 29.15s/it]"
     ]
    },
    {
     "name": "stdout",
     "output_type": "stream",
     "text": [
      "Saved backup with 107280 results\n",
      "Dropdown not found or not interactable.\n",
      "Error occurred while processing the table. Message: \n",
      "Stacktrace:\n",
      "\tGetHandleVerifier [0x0xce3763+63299]\n",
      "\tGetHandleVerifier [0x0xce37a4+63364]\n",
      "\t(No symbol) [0x0xb11113]\n",
      "\t(No symbol) [0x0xb5987e]\n",
      "\t(No symbol) [0x0xb59c1b]\n",
      "\t(No symbol) [0x0xba2212]\n",
      "\t(No symbol) [0x0xb7e5c4]\n",
      "\t(No symbol) [0x0xb9fa4a]\n",
      "\t(No symbol) [0x0xb7e376]\n",
      "\t(No symbol) [0x0xb4d6e0]\n",
      "\t(No symbol) [0x0xb4e544]\n",
      "\tGetHandleVerifier [0x0xf3e033+2531347]\n",
      "\tGetHandleVerifier [0x0xf39332+2511634]\n",
      "\tGetHandleVerifier [0x0xd09eda+220858]\n",
      "\tGetHandleVerifier [0x0xcfa528+156936]\n",
      "\tGetHandleVerifier [0x0xd00c5d+183357]\n",
      "\tGetHandleVerifier [0x0xceb6c8+95912]\n",
      "\tGetHandleVerifier [0x0xceb870+96336]\n",
      "\tGetHandleVerifier [0x0xcd664a+9770]\n",
      "\tBaseThreadInitThunk [0x0x75d15d49+25]\n",
      "\tRtlInitializeExceptionChain [0x0x7786d03b+107]\n",
      "\tRtlGetAppContainerNamedObjectPath [0x0x7786cfc1+561]\n",
      "\n"
     ]
    },
    {
     "name": "stderr",
     "output_type": "stream",
     "text": [
      "Scraping NICs:  20%|██        | 226/1127 [2:49:08<8:45:30, 35.00s/it]"
     ]
    },
    {
     "name": "stdout",
     "output_type": "stream",
     "text": [
      "Saved backup with 107280 results\n",
      "Dropdown not found or not interactable.\n",
      "Rows captured: 21470\n"
     ]
    },
    {
     "name": "stderr",
     "output_type": "stream",
     "text": [
      "Scraping NICs:  20%|██        | 227/1127 [2:49:50<9:19:49, 37.32s/it]"
     ]
    },
    {
     "name": "stdout",
     "output_type": "stream",
     "text": [
      "Saved backup with 128750 results\n",
      "Error occurred while processing the table. Message: \n",
      "Stacktrace:\n",
      "\tGetHandleVerifier [0x0xce3763+63299]\n",
      "\tGetHandleVerifier [0x0xce37a4+63364]\n",
      "\t(No symbol) [0x0xb11113]\n",
      "\t(No symbol) [0x0xb5987e]\n",
      "\t(No symbol) [0x0xb59c1b]\n",
      "\t(No symbol) [0x0xba2212]\n",
      "\t(No symbol) [0x0xb7e5c4]\n",
      "\t(No symbol) [0x0xb9fa4a]\n",
      "\t(No symbol) [0x0xb7e376]\n",
      "\t(No symbol) [0x0xb4d6e0]\n",
      "\t(No symbol) [0x0xb4e544]\n",
      "\tGetHandleVerifier [0x0xf3e033+2531347]\n",
      "\tGetHandleVerifier [0x0xf39332+2511634]\n",
      "\tGetHandleVerifier [0x0xd09eda+220858]\n",
      "\tGetHandleVerifier [0x0xcfa528+156936]\n",
      "\tGetHandleVerifier [0x0xd00c5d+183357]\n",
      "\tGetHandleVerifier [0x0xceb6c8+95912]\n",
      "\tGetHandleVerifier [0x0xceb870+96336]\n",
      "\tGetHandleVerifier [0x0xcd664a+9770]\n",
      "\tBaseThreadInitThunk [0x0x75d15d49+25]\n",
      "\tRtlInitializeExceptionChain [0x0x7786d03b+107]\n",
      "\tRtlGetAppContainerNamedObjectPath [0x0x7786cfc1+561]\n",
      "\n"
     ]
    },
    {
     "name": "stderr",
     "output_type": "stream",
     "text": [
      "Scraping NICs:  20%|██        | 228/1127 [2:49:59<7:12:50, 28.89s/it]"
     ]
    },
    {
     "name": "stdout",
     "output_type": "stream",
     "text": [
      "Saved backup with 128750 results\n",
      "Dropdown not found or not interactable.\n",
      "Error occurred while processing the table. Message: \n",
      "Stacktrace:\n",
      "\tGetHandleVerifier [0x0xce3763+63299]\n",
      "\tGetHandleVerifier [0x0xce37a4+63364]\n",
      "\t(No symbol) [0x0xb11113]\n",
      "\t(No symbol) [0x0xb5987e]\n",
      "\t(No symbol) [0x0xb59c1b]\n",
      "\t(No symbol) [0x0xba2212]\n",
      "\t(No symbol) [0x0xb7e5c4]\n",
      "\t(No symbol) [0x0xb9fa4a]\n",
      "\t(No symbol) [0x0xb7e376]\n",
      "\t(No symbol) [0x0xb4d6e0]\n",
      "\t(No symbol) [0x0xb4e544]\n",
      "\tGetHandleVerifier [0x0xf3e033+2531347]\n",
      "\tGetHandleVerifier [0x0xf39332+2511634]\n",
      "\tGetHandleVerifier [0x0xd09eda+220858]\n",
      "\tGetHandleVerifier [0x0xcfa528+156936]\n",
      "\tGetHandleVerifier [0x0xd00c5d+183357]\n",
      "\tGetHandleVerifier [0x0xceb6c8+95912]\n",
      "\tGetHandleVerifier [0x0xceb870+96336]\n",
      "\tGetHandleVerifier [0x0xcd664a+9770]\n",
      "\tBaseThreadInitThunk [0x0x75d15d49+25]\n",
      "\tRtlInitializeExceptionChain [0x0x7786d03b+107]\n",
      "\tRtlGetAppContainerNamedObjectPath [0x0x7786cfc1+561]\n",
      "\n"
     ]
    },
    {
     "name": "stderr",
     "output_type": "stream",
     "text": [
      "Scraping NICs:  20%|██        | 229/1127 [2:50:39<8:02:20, 32.23s/it]"
     ]
    },
    {
     "name": "stdout",
     "output_type": "stream",
     "text": [
      "Saved backup with 128750 results\n",
      "Rows captured: 1019\n"
     ]
    },
    {
     "name": "stderr",
     "output_type": "stream",
     "text": [
      "Scraping NICs:  20%|██        | 230/1127 [2:52:07<12:10:30, 48.86s/it]"
     ]
    },
    {
     "name": "stdout",
     "output_type": "stream",
     "text": [
      "Saved backup with 129769 results\n",
      "Rows captured: 622\n"
     ]
    },
    {
     "name": "stderr",
     "output_type": "stream",
     "text": [
      "Scraping NICs:  20%|██        | 231/1127 [2:52:50<11:42:05, 47.02s/it]"
     ]
    },
    {
     "name": "stdout",
     "output_type": "stream",
     "text": [
      "Saved backup with 130391 results\n",
      "Dropdown not found or not interactable.\n",
      "Error occurred while processing the table. Message: \n",
      "Stacktrace:\n",
      "\tGetHandleVerifier [0x0xce3763+63299]\n",
      "\tGetHandleVerifier [0x0xce37a4+63364]\n",
      "\t(No symbol) [0x0xb11113]\n",
      "\t(No symbol) [0x0xb5987e]\n",
      "\t(No symbol) [0x0xb59c1b]\n",
      "\t(No symbol) [0x0xba2212]\n",
      "\t(No symbol) [0x0xb7e5c4]\n",
      "\t(No symbol) [0x0xb9fa4a]\n",
      "\t(No symbol) [0x0xb7e376]\n",
      "\t(No symbol) [0x0xb4d6e0]\n",
      "\t(No symbol) [0x0xb4e544]\n",
      "\tGetHandleVerifier [0x0xf3e033+2531347]\n",
      "\tGetHandleVerifier [0x0xf39332+2511634]\n",
      "\tGetHandleVerifier [0x0xd09eda+220858]\n",
      "\tGetHandleVerifier [0x0xcfa528+156936]\n",
      "\tGetHandleVerifier [0x0xd00c5d+183357]\n",
      "\tGetHandleVerifier [0x0xceb6c8+95912]\n",
      "\tGetHandleVerifier [0x0xceb870+96336]\n",
      "\tGetHandleVerifier [0x0xcd664a+9770]\n",
      "\tBaseThreadInitThunk [0x0x75d15d49+25]\n",
      "\tRtlInitializeExceptionChain [0x0x7786d03b+107]\n",
      "\tRtlGetAppContainerNamedObjectPath [0x0x7786cfc1+561]\n",
      "\n"
     ]
    },
    {
     "name": "stderr",
     "output_type": "stream",
     "text": [
      "Scraping NICs:  21%|██        | 232/1127 [2:53:42<12:02:58, 48.47s/it]"
     ]
    },
    {
     "name": "stdout",
     "output_type": "stream",
     "text": [
      "Saved backup with 130391 results\n",
      "Dropdown not found or not interactable.\n",
      "Error occurred while processing the table. Message: \n",
      "Stacktrace:\n",
      "\tGetHandleVerifier [0x0xce3763+63299]\n",
      "\tGetHandleVerifier [0x0xce37a4+63364]\n",
      "\t(No symbol) [0x0xb11113]\n",
      "\t(No symbol) [0x0xb5987e]\n",
      "\t(No symbol) [0x0xb59c1b]\n",
      "\t(No symbol) [0x0xba2212]\n",
      "\t(No symbol) [0x0xb7e5c4]\n",
      "\t(No symbol) [0x0xb9fa4a]\n",
      "\t(No symbol) [0x0xb7e376]\n",
      "\t(No symbol) [0x0xb4d6e0]\n",
      "\t(No symbol) [0x0xb4e544]\n",
      "\tGetHandleVerifier [0x0xf3e033+2531347]\n",
      "\tGetHandleVerifier [0x0xf39332+2511634]\n",
      "\tGetHandleVerifier [0x0xd09eda+220858]\n",
      "\tGetHandleVerifier [0x0xcfa528+156936]\n",
      "\tGetHandleVerifier [0x0xd00c5d+183357]\n",
      "\tGetHandleVerifier [0x0xceb6c8+95912]\n",
      "\tGetHandleVerifier [0x0xceb870+96336]\n",
      "\tGetHandleVerifier [0x0xcd664a+9770]\n",
      "\tBaseThreadInitThunk [0x0x75d15d49+25]\n",
      "\tRtlInitializeExceptionChain [0x0x7786d03b+107]\n",
      "\tRtlGetAppContainerNamedObjectPath [0x0x7786cfc1+561]\n",
      "\n"
     ]
    },
    {
     "name": "stderr",
     "output_type": "stream",
     "text": [
      "Scraping NICs:  21%|██        | 233/1127 [2:54:30<11:59:32, 48.29s/it]"
     ]
    },
    {
     "name": "stdout",
     "output_type": "stream",
     "text": [
      "Saved backup with 130391 results\n",
      "Rows captured: 490\n"
     ]
    },
    {
     "name": "stderr",
     "output_type": "stream",
     "text": [
      "Scraping NICs:  21%|██        | 234/1127 [2:54:58<10:31:50, 42.45s/it]"
     ]
    },
    {
     "name": "stdout",
     "output_type": "stream",
     "text": [
      "Saved backup with 130881 results\n",
      "Dropdown not found or not interactable.\n",
      "Dropdown not found or not interactable.\n",
      "Error occurred while processing the table. Message: \n",
      "Stacktrace:\n",
      "\tGetHandleVerifier [0x0xce3763+63299]\n",
      "\tGetHandleVerifier [0x0xce37a4+63364]\n",
      "\t(No symbol) [0x0xb11113]\n",
      "\t(No symbol) [0x0xb5987e]\n",
      "\t(No symbol) [0x0xb59c1b]\n",
      "\t(No symbol) [0x0xba2212]\n",
      "\t(No symbol) [0x0xb7e5c4]\n",
      "\t(No symbol) [0x0xb9fa4a]\n",
      "\t(No symbol) [0x0xb7e376]\n",
      "\t(No symbol) [0x0xb4d6e0]\n",
      "\t(No symbol) [0x0xb4e544]\n",
      "\tGetHandleVerifier [0x0xf3e033+2531347]\n",
      "\tGetHandleVerifier [0x0xf39332+2511634]\n",
      "\tGetHandleVerifier [0x0xd09eda+220858]\n",
      "\tGetHandleVerifier [0x0xcfa528+156936]\n",
      "\tGetHandleVerifier [0x0xd00c5d+183357]\n",
      "\tGetHandleVerifier [0x0xceb6c8+95912]\n",
      "\tGetHandleVerifier [0x0xceb870+96336]\n",
      "\tGetHandleVerifier [0x0xcd664a+9770]\n",
      "\tBaseThreadInitThunk [0x0x75d15d49+25]\n",
      "\tRtlInitializeExceptionChain [0x0x7786d03b+107]\n",
      "\tRtlGetAppContainerNamedObjectPath [0x0x7786cfc1+561]\n",
      "\n"
     ]
    },
    {
     "name": "stderr",
     "output_type": "stream",
     "text": [
      "Scraping NICs:  21%|██        | 235/1127 [2:55:27<9:30:02, 38.34s/it] "
     ]
    },
    {
     "name": "stdout",
     "output_type": "stream",
     "text": [
      "Saved backup with 130881 results\n",
      "Error occurred while processing the table. Message: \n",
      "Stacktrace:\n",
      "\tGetHandleVerifier [0x0xce3763+63299]\n",
      "\tGetHandleVerifier [0x0xce37a4+63364]\n",
      "\t(No symbol) [0x0xb11113]\n",
      "\t(No symbol) [0x0xb5987e]\n",
      "\t(No symbol) [0x0xb59c1b]\n",
      "\t(No symbol) [0x0xba2212]\n",
      "\t(No symbol) [0x0xb7e5c4]\n",
      "\t(No symbol) [0x0xb9fa4a]\n",
      "\t(No symbol) [0x0xb7e376]\n",
      "\t(No symbol) [0x0xb4d6e0]\n",
      "\t(No symbol) [0x0xb4e544]\n",
      "\tGetHandleVerifier [0x0xf3e033+2531347]\n",
      "\tGetHandleVerifier [0x0xf39332+2511634]\n",
      "\tGetHandleVerifier [0x0xd09eda+220858]\n",
      "\tGetHandleVerifier [0x0xcfa528+156936]\n",
      "\tGetHandleVerifier [0x0xd00c5d+183357]\n",
      "\tGetHandleVerifier [0x0xceb6c8+95912]\n",
      "\tGetHandleVerifier [0x0xceb870+96336]\n",
      "\tGetHandleVerifier [0x0xcd664a+9770]\n",
      "\tBaseThreadInitThunk [0x0x75d15d49+25]\n",
      "\tRtlInitializeExceptionChain [0x0x7786d03b+107]\n",
      "\tRtlGetAppContainerNamedObjectPath [0x0x7786cfc1+561]\n",
      "\n"
     ]
    },
    {
     "name": "stderr",
     "output_type": "stream",
     "text": [
      "Scraping NICs:  21%|██        | 236/1127 [2:55:46<8:00:21, 32.35s/it]"
     ]
    },
    {
     "name": "stdout",
     "output_type": "stream",
     "text": [
      "Saved backup with 130881 results\n",
      "Dropdown not found or not interactable.\n",
      "Error occurred while processing the table. Message: \n",
      "Stacktrace:\n",
      "\tGetHandleVerifier [0x0xce3763+63299]\n",
      "\tGetHandleVerifier [0x0xce37a4+63364]\n",
      "\t(No symbol) [0x0xb11113]\n",
      "\t(No symbol) [0x0xb5987e]\n",
      "\t(No symbol) [0x0xb59c1b]\n",
      "\t(No symbol) [0x0xba2212]\n",
      "\t(No symbol) [0x0xb7e5c4]\n",
      "\t(No symbol) [0x0xb9fa4a]\n",
      "\t(No symbol) [0x0xb7e376]\n",
      "\t(No symbol) [0x0xb4d6e0]\n",
      "\t(No symbol) [0x0xb4e544]\n",
      "\tGetHandleVerifier [0x0xf3e033+2531347]\n",
      "\tGetHandleVerifier [0x0xf39332+2511634]\n",
      "\tGetHandleVerifier [0x0xd09eda+220858]\n",
      "\tGetHandleVerifier [0x0xcfa528+156936]\n",
      "\tGetHandleVerifier [0x0xd00c5d+183357]\n",
      "\tGetHandleVerifier [0x0xceb6c8+95912]\n",
      "\tGetHandleVerifier [0x0xceb870+96336]\n",
      "\tGetHandleVerifier [0x0xcd664a+9770]\n",
      "\tBaseThreadInitThunk [0x0x75d15d49+25]\n",
      "\tRtlInitializeExceptionChain [0x0x7786d03b+107]\n",
      "\tRtlGetAppContainerNamedObjectPath [0x0x7786cfc1+561]\n",
      "\n"
     ]
    },
    {
     "name": "stderr",
     "output_type": "stream",
     "text": [
      "Scraping NICs:  21%|██        | 237/1127 [2:56:22<8:20:03, 33.71s/it]"
     ]
    },
    {
     "name": "stdout",
     "output_type": "stream",
     "text": [
      "Saved backup with 130881 results\n",
      "Dropdown not found or not interactable.\n",
      "Error occurred while processing the table. Message: \n",
      "Stacktrace:\n",
      "\tGetHandleVerifier [0x0xce3763+63299]\n",
      "\tGetHandleVerifier [0x0xce37a4+63364]\n",
      "\t(No symbol) [0x0xb11113]\n",
      "\t(No symbol) [0x0xb5987e]\n",
      "\t(No symbol) [0x0xb59c1b]\n",
      "\t(No symbol) [0x0xba2212]\n",
      "\t(No symbol) [0x0xb7e5c4]\n",
      "\t(No symbol) [0x0xb9fa4a]\n",
      "\t(No symbol) [0x0xb7e376]\n",
      "\t(No symbol) [0x0xb4d6e0]\n",
      "\t(No symbol) [0x0xb4e544]\n",
      "\tGetHandleVerifier [0x0xf3e033+2531347]\n",
      "\tGetHandleVerifier [0x0xf39332+2511634]\n",
      "\tGetHandleVerifier [0x0xd09eda+220858]\n",
      "\tGetHandleVerifier [0x0xcfa528+156936]\n",
      "\tGetHandleVerifier [0x0xd00c5d+183357]\n",
      "\tGetHandleVerifier [0x0xceb6c8+95912]\n",
      "\tGetHandleVerifier [0x0xceb870+96336]\n",
      "\tGetHandleVerifier [0x0xcd664a+9770]\n",
      "\tBaseThreadInitThunk [0x0x75d15d49+25]\n",
      "\tRtlInitializeExceptionChain [0x0x7786d03b+107]\n",
      "\tRtlGetAppContainerNamedObjectPath [0x0x7786cfc1+561]\n",
      "\n"
     ]
    },
    {
     "name": "stderr",
     "output_type": "stream",
     "text": [
      "Scraping NICs:  21%|██        | 238/1127 [2:57:17<9:52:15, 39.97s/it]"
     ]
    },
    {
     "name": "stdout",
     "output_type": "stream",
     "text": [
      "Saved backup with 130881 results\n",
      "Dropdown not found or not interactable.\n",
      "Error occurred while processing the table. Message: \n",
      "Stacktrace:\n",
      "\tGetHandleVerifier [0x0xce3763+63299]\n",
      "\tGetHandleVerifier [0x0xce37a4+63364]\n",
      "\t(No symbol) [0x0xb11113]\n",
      "\t(No symbol) [0x0xb5987e]\n",
      "\t(No symbol) [0x0xb59c1b]\n",
      "\t(No symbol) [0x0xba2212]\n",
      "\t(No symbol) [0x0xb7e5c4]\n",
      "\t(No symbol) [0x0xb9fa4a]\n",
      "\t(No symbol) [0x0xb7e376]\n",
      "\t(No symbol) [0x0xb4d6e0]\n",
      "\t(No symbol) [0x0xb4e544]\n",
      "\tGetHandleVerifier [0x0xf3e033+2531347]\n",
      "\tGetHandleVerifier [0x0xf39332+2511634]\n",
      "\tGetHandleVerifier [0x0xd09eda+220858]\n",
      "\tGetHandleVerifier [0x0xcfa528+156936]\n",
      "\tGetHandleVerifier [0x0xd00c5d+183357]\n",
      "\tGetHandleVerifier [0x0xceb6c8+95912]\n",
      "\tGetHandleVerifier [0x0xceb870+96336]\n",
      "\tGetHandleVerifier [0x0xcd664a+9770]\n",
      "\tBaseThreadInitThunk [0x0x75d15d49+25]\n",
      "\tRtlInitializeExceptionChain [0x0x7786d03b+107]\n",
      "\tRtlGetAppContainerNamedObjectPath [0x0x7786cfc1+561]\n",
      "\n"
     ]
    },
    {
     "name": "stderr",
     "output_type": "stream",
     "text": [
      "Scraping NICs:  21%|██        | 239/1127 [2:58:14<11:08:08, 45.14s/it]"
     ]
    },
    {
     "name": "stdout",
     "output_type": "stream",
     "text": [
      "Saved backup with 130881 results\n",
      "Rows captured: 2112\n"
     ]
    },
    {
     "name": "stderr",
     "output_type": "stream",
     "text": [
      "Scraping NICs:  21%|██▏       | 240/1127 [2:58:33<9:10:03, 37.21s/it] "
     ]
    },
    {
     "name": "stdout",
     "output_type": "stream",
     "text": [
      "Saved backup with 132993 results\n",
      "Dropdown not found or not interactable.\n",
      "Dropdown not found or not interactable.\n",
      "Error occurred while processing the table. Message: \n",
      "Stacktrace:\n",
      "\tGetHandleVerifier [0x0xce3763+63299]\n",
      "\tGetHandleVerifier [0x0xce37a4+63364]\n",
      "\t(No symbol) [0x0xb11113]\n",
      "\t(No symbol) [0x0xb5987e]\n",
      "\t(No symbol) [0x0xb59c1b]\n",
      "\t(No symbol) [0x0xba2212]\n",
      "\t(No symbol) [0x0xb7e5c4]\n",
      "\t(No symbol) [0x0xb9fa4a]\n",
      "\t(No symbol) [0x0xb7e376]\n",
      "\t(No symbol) [0x0xb4d6e0]\n",
      "\t(No symbol) [0x0xb4e544]\n",
      "\tGetHandleVerifier [0x0xf3e033+2531347]\n",
      "\tGetHandleVerifier [0x0xf39332+2511634]\n",
      "\tGetHandleVerifier [0x0xd09eda+220858]\n",
      "\tGetHandleVerifier [0x0xcfa528+156936]\n",
      "\tGetHandleVerifier [0x0xd00c5d+183357]\n",
      "\tGetHandleVerifier [0x0xceb6c8+95912]\n",
      "\tGetHandleVerifier [0x0xceb870+96336]\n",
      "\tGetHandleVerifier [0x0xcd664a+9770]\n",
      "\tBaseThreadInitThunk [0x0x75d15d49+25]\n",
      "\tRtlInitializeExceptionChain [0x0x7786d03b+107]\n",
      "\tRtlGetAppContainerNamedObjectPath [0x0x7786cfc1+561]\n",
      "\n"
     ]
    },
    {
     "name": "stderr",
     "output_type": "stream",
     "text": [
      "Scraping NICs:  21%|██▏       | 241/1127 [2:59:01<8:31:04, 34.61s/it]"
     ]
    },
    {
     "name": "stdout",
     "output_type": "stream",
     "text": [
      "Saved backup with 132993 results\n",
      "Error occurred while processing the table. Message: \n",
      "Stacktrace:\n",
      "\tGetHandleVerifier [0x0xce3763+63299]\n",
      "\tGetHandleVerifier [0x0xce37a4+63364]\n",
      "\t(No symbol) [0x0xb11113]\n",
      "\t(No symbol) [0x0xb5987e]\n",
      "\t(No symbol) [0x0xb59c1b]\n",
      "\t(No symbol) [0x0xba2212]\n",
      "\t(No symbol) [0x0xb7e5c4]\n",
      "\t(No symbol) [0x0xb9fa4a]\n",
      "\t(No symbol) [0x0xb7e376]\n",
      "\t(No symbol) [0x0xb4d6e0]\n",
      "\t(No symbol) [0x0xb4e544]\n",
      "\tGetHandleVerifier [0x0xf3e033+2531347]\n",
      "\tGetHandleVerifier [0x0xf39332+2511634]\n",
      "\tGetHandleVerifier [0x0xd09eda+220858]\n",
      "\tGetHandleVerifier [0x0xcfa528+156936]\n",
      "\tGetHandleVerifier [0x0xd00c5d+183357]\n",
      "\tGetHandleVerifier [0x0xceb6c8+95912]\n",
      "\tGetHandleVerifier [0x0xceb870+96336]\n",
      "\tGetHandleVerifier [0x0xcd664a+9770]\n",
      "\tBaseThreadInitThunk [0x0x75d15d49+25]\n",
      "\tRtlInitializeExceptionChain [0x0x7786d03b+107]\n",
      "\tRtlGetAppContainerNamedObjectPath [0x0x7786cfc1+561]\n",
      "\n"
     ]
    },
    {
     "name": "stderr",
     "output_type": "stream",
     "text": [
      "Scraping NICs:  21%|██▏       | 242/1127 [2:59:21<7:21:57, 29.96s/it]"
     ]
    },
    {
     "name": "stdout",
     "output_type": "stream",
     "text": [
      "Saved backup with 132993 results\n",
      "Dropdown not found or not interactable.\n",
      "Dropdown not found or not interactable.\n",
      "Error occurred while processing the table. Message: \n",
      "Stacktrace:\n",
      "\tGetHandleVerifier [0x0xce3763+63299]\n",
      "\tGetHandleVerifier [0x0xce37a4+63364]\n",
      "\t(No symbol) [0x0xb11113]\n",
      "\t(No symbol) [0x0xb5987e]\n",
      "\t(No symbol) [0x0xb59c1b]\n",
      "\t(No symbol) [0x0xba2212]\n",
      "\t(No symbol) [0x0xb7e5c4]\n",
      "\t(No symbol) [0x0xb9fa4a]\n",
      "\t(No symbol) [0x0xb7e376]\n",
      "\t(No symbol) [0x0xb4d6e0]\n",
      "\t(No symbol) [0x0xb4e544]\n",
      "\tGetHandleVerifier [0x0xf3e033+2531347]\n",
      "\tGetHandleVerifier [0x0xf39332+2511634]\n",
      "\tGetHandleVerifier [0x0xd09eda+220858]\n",
      "\tGetHandleVerifier [0x0xcfa528+156936]\n",
      "\tGetHandleVerifier [0x0xd00c5d+183357]\n",
      "\tGetHandleVerifier [0x0xceb6c8+95912]\n",
      "\tGetHandleVerifier [0x0xceb870+96336]\n",
      "\tGetHandleVerifier [0x0xcd664a+9770]\n",
      "\tBaseThreadInitThunk [0x0x75d15d49+25]\n",
      "\tRtlInitializeExceptionChain [0x0x7786d03b+107]\n",
      "\tRtlGetAppContainerNamedObjectPath [0x0x7786cfc1+561]\n",
      "\n"
     ]
    },
    {
     "name": "stderr",
     "output_type": "stream",
     "text": [
      "Scraping NICs:  22%|██▏       | 243/1127 [2:59:50<7:17:56, 29.73s/it]"
     ]
    },
    {
     "name": "stdout",
     "output_type": "stream",
     "text": [
      "Saved backup with 132993 results\n",
      "Error occurred while processing the table. Message: \n",
      "Stacktrace:\n",
      "\tGetHandleVerifier [0x0xce3763+63299]\n",
      "\tGetHandleVerifier [0x0xce37a4+63364]\n",
      "\t(No symbol) [0x0xb11113]\n",
      "\t(No symbol) [0x0xb5987e]\n",
      "\t(No symbol) [0x0xb59c1b]\n",
      "\t(No symbol) [0x0xba2212]\n",
      "\t(No symbol) [0x0xb7e5c4]\n",
      "\t(No symbol) [0x0xb9fa4a]\n",
      "\t(No symbol) [0x0xb7e376]\n",
      "\t(No symbol) [0x0xb4d6e0]\n",
      "\t(No symbol) [0x0xb4e544]\n",
      "\tGetHandleVerifier [0x0xf3e033+2531347]\n",
      "\tGetHandleVerifier [0x0xf39332+2511634]\n",
      "\tGetHandleVerifier [0x0xd09eda+220858]\n",
      "\tGetHandleVerifier [0x0xcfa528+156936]\n",
      "\tGetHandleVerifier [0x0xd00c5d+183357]\n",
      "\tGetHandleVerifier [0x0xceb6c8+95912]\n",
      "\tGetHandleVerifier [0x0xceb870+96336]\n",
      "\tGetHandleVerifier [0x0xcd664a+9770]\n",
      "\tBaseThreadInitThunk [0x0x75d15d49+25]\n",
      "\tRtlInitializeExceptionChain [0x0x7786d03b+107]\n",
      "\tRtlGetAppContainerNamedObjectPath [0x0x7786cfc1+561]\n",
      "\n"
     ]
    },
    {
     "name": "stderr",
     "output_type": "stream",
     "text": [
      "Scraping NICs:  22%|██▏       | 244/1127 [3:00:09<6:32:29, 26.67s/it]"
     ]
    },
    {
     "name": "stdout",
     "output_type": "stream",
     "text": [
      "Saved backup with 132993 results\n",
      "Rows captured: 1117\n"
     ]
    },
    {
     "name": "stderr",
     "output_type": "stream",
     "text": [
      "Scraping NICs:  22%|██▏       | 245/1127 [3:00:25<5:44:25, 23.43s/it]"
     ]
    },
    {
     "name": "stdout",
     "output_type": "stream",
     "text": [
      "Saved backup with 134110 results\n",
      "Dropdown not found or not interactable.\n",
      "Dropdown not found or not interactable.\n",
      "Error occurred while processing the table. Message: \n",
      "Stacktrace:\n",
      "\tGetHandleVerifier [0x0xce3763+63299]\n",
      "\tGetHandleVerifier [0x0xce37a4+63364]\n",
      "\t(No symbol) [0x0xb11113]\n",
      "\t(No symbol) [0x0xb5987e]\n",
      "\t(No symbol) [0x0xb59c1b]\n",
      "\t(No symbol) [0x0xba2212]\n",
      "\t(No symbol) [0x0xb7e5c4]\n",
      "\t(No symbol) [0x0xb9fa4a]\n",
      "\t(No symbol) [0x0xb7e376]\n",
      "\t(No symbol) [0x0xb4d6e0]\n",
      "\t(No symbol) [0x0xb4e544]\n",
      "\tGetHandleVerifier [0x0xf3e033+2531347]\n",
      "\tGetHandleVerifier [0x0xf39332+2511634]\n",
      "\tGetHandleVerifier [0x0xd09eda+220858]\n",
      "\tGetHandleVerifier [0x0xcfa528+156936]\n",
      "\tGetHandleVerifier [0x0xd00c5d+183357]\n",
      "\tGetHandleVerifier [0x0xceb6c8+95912]\n",
      "\tGetHandleVerifier [0x0xceb870+96336]\n",
      "\tGetHandleVerifier [0x0xcd664a+9770]\n",
      "\tBaseThreadInitThunk [0x0x75d15d49+25]\n",
      "\tRtlInitializeExceptionChain [0x0x7786d03b+107]\n",
      "\tRtlGetAppContainerNamedObjectPath [0x0x7786cfc1+561]\n",
      "\n"
     ]
    },
    {
     "name": "stderr",
     "output_type": "stream",
     "text": [
      "Scraping NICs:  22%|██▏       | 246/1127 [3:01:02<6:42:03, 27.38s/it]"
     ]
    },
    {
     "name": "stdout",
     "output_type": "stream",
     "text": [
      "Saved backup with 134110 results\n",
      "Error occurred while processing the table. Message: \n",
      "Stacktrace:\n",
      "\tGetHandleVerifier [0x0xce3763+63299]\n",
      "\tGetHandleVerifier [0x0xce37a4+63364]\n",
      "\t(No symbol) [0x0xb11113]\n",
      "\t(No symbol) [0x0xb5987e]\n",
      "\t(No symbol) [0x0xb59c1b]\n",
      "\t(No symbol) [0x0xba2212]\n",
      "\t(No symbol) [0x0xb7e5c4]\n",
      "\t(No symbol) [0x0xb9fa4a]\n",
      "\t(No symbol) [0x0xb7e376]\n",
      "\t(No symbol) [0x0xb4d6e0]\n",
      "\t(No symbol) [0x0xb4e544]\n",
      "\tGetHandleVerifier [0x0xf3e033+2531347]\n",
      "\tGetHandleVerifier [0x0xf39332+2511634]\n",
      "\tGetHandleVerifier [0x0xd09eda+220858]\n",
      "\tGetHandleVerifier [0x0xcfa528+156936]\n",
      "\tGetHandleVerifier [0x0xd00c5d+183357]\n",
      "\tGetHandleVerifier [0x0xceb6c8+95912]\n",
      "\tGetHandleVerifier [0x0xceb870+96336]\n",
      "\tGetHandleVerifier [0x0xcd664a+9770]\n",
      "\tBaseThreadInitThunk [0x0x75d15d49+25]\n",
      "\tRtlInitializeExceptionChain [0x0x7786d03b+107]\n",
      "\tRtlGetAppContainerNamedObjectPath [0x0x7786cfc1+561]\n",
      "\n"
     ]
    },
    {
     "name": "stderr",
     "output_type": "stream",
     "text": [
      "Scraping NICs:  22%|██▏       | 247/1127 [3:01:18<5:51:43, 23.98s/it]"
     ]
    },
    {
     "name": "stdout",
     "output_type": "stream",
     "text": [
      "Saved backup with 134110 results\n",
      "Rows captured: 127\n"
     ]
    },
    {
     "name": "stderr",
     "output_type": "stream",
     "text": [
      "Scraping NICs:  22%|██▏       | 248/1127 [3:01:28<4:48:37, 19.70s/it]"
     ]
    },
    {
     "name": "stdout",
     "output_type": "stream",
     "text": [
      "Dropdown not found or not interactable.\n",
      "Saved backup with 134237 results\n",
      "Dropdown not found or not interactable.\n",
      "Dropdown not found or not interactable.\n",
      "Error occurred while processing the table. Message: \n",
      "Stacktrace:\n",
      "\tGetHandleVerifier [0x0xce3763+63299]\n",
      "\tGetHandleVerifier [0x0xce37a4+63364]\n",
      "\t(No symbol) [0x0xb11113]\n",
      "\t(No symbol) [0x0xb5987e]\n",
      "\t(No symbol) [0x0xb59c1b]\n",
      "\t(No symbol) [0x0xba2212]\n",
      "\t(No symbol) [0x0xb7e5c4]\n",
      "\t(No symbol) [0x0xb9fa4a]\n",
      "\t(No symbol) [0x0xb7e376]\n",
      "\t(No symbol) [0x0xb4d6e0]\n",
      "\t(No symbol) [0x0xb4e544]\n",
      "\tGetHandleVerifier [0x0xf3e033+2531347]\n",
      "\tGetHandleVerifier [0x0xf39332+2511634]\n",
      "\tGetHandleVerifier [0x0xd09eda+220858]\n",
      "\tGetHandleVerifier [0x0xcfa528+156936]\n",
      "\tGetHandleVerifier [0x0xd00c5d+183357]\n",
      "\tGetHandleVerifier [0x0xceb6c8+95912]\n",
      "\tGetHandleVerifier [0x0xceb870+96336]\n",
      "\tGetHandleVerifier [0x0xcd664a+9770]\n",
      "\tBaseThreadInitThunk [0x0x75d15d49+25]\n",
      "\tRtlInitializeExceptionChain [0x0x7786d03b+107]\n",
      "\tRtlGetAppContainerNamedObjectPath [0x0x7786cfc1+561]\n",
      "\n"
     ]
    },
    {
     "name": "stderr",
     "output_type": "stream",
     "text": [
      "Scraping NICs:  22%|██▏       | 249/1127 [3:01:55<5:22:38, 22.05s/it]"
     ]
    },
    {
     "name": "stdout",
     "output_type": "stream",
     "text": [
      "Saved backup with 134237 results\n",
      "Error occurred while processing the table. Message: \n",
      "Stacktrace:\n",
      "\tGetHandleVerifier [0x0xce3763+63299]\n",
      "\tGetHandleVerifier [0x0xce37a4+63364]\n",
      "\t(No symbol) [0x0xb11113]\n",
      "\t(No symbol) [0x0xb5987e]\n",
      "\t(No symbol) [0x0xb59c1b]\n",
      "\t(No symbol) [0x0xba2212]\n",
      "\t(No symbol) [0x0xb7e5c4]\n",
      "\t(No symbol) [0x0xb9fa4a]\n",
      "\t(No symbol) [0x0xb7e376]\n",
      "\t(No symbol) [0x0xb4d6e0]\n",
      "\t(No symbol) [0x0xb4e544]\n",
      "\tGetHandleVerifier [0x0xf3e033+2531347]\n",
      "\tGetHandleVerifier [0x0xf39332+2511634]\n",
      "\tGetHandleVerifier [0x0xd09eda+220858]\n",
      "\tGetHandleVerifier [0x0xcfa528+156936]\n",
      "\tGetHandleVerifier [0x0xd00c5d+183357]\n",
      "\tGetHandleVerifier [0x0xceb6c8+95912]\n",
      "\tGetHandleVerifier [0x0xceb870+96336]\n",
      "\tGetHandleVerifier [0x0xcd664a+9770]\n",
      "\tBaseThreadInitThunk [0x0x75d15d49+25]\n",
      "\tRtlInitializeExceptionChain [0x0x7786d03b+107]\n",
      "\tRtlGetAppContainerNamedObjectPath [0x0x7786cfc1+561]\n",
      "\n",
      "Error occurred while processing the table. Message: \n",
      "Stacktrace:\n",
      "\tGetHandleVerifier [0x0xce3763+63299]\n",
      "\tGetHandleVerifier [0x0xce37a4+63364]\n",
      "\t(No symbol) [0x0xb11113]\n",
      "\t(No symbol) [0x0xb5987e]\n",
      "\t(No symbol) [0x0xb59c1b]\n",
      "\t(No symbol) [0x0xba2212]\n",
      "\t(No symbol) [0x0xb7e5c4]\n",
      "\t(No symbol) [0x0xb9fa4a]\n",
      "\t(No symbol) [0x0xb7e376]\n",
      "\t(No symbol) [0x0xb4d6e0]\n",
      "\t(No symbol) [0x0xb4e544]\n",
      "\tGetHandleVerifier [0x0xf3e033+2531347]\n",
      "\tGetHandleVerifier [0x0xf39332+2511634]\n",
      "\tGetHandleVerifier [0x0xd09eda+220858]\n",
      "\tGetHandleVerifier [0x0xcfa528+156936]\n",
      "\tGetHandleVerifier [0x0xd00c5d+183357]\n",
      "\tGetHandleVerifier [0x0xceb6c8+95912]\n",
      "\tGetHandleVerifier [0x0xceb870+96336]\n",
      "\tGetHandleVerifier [0x0xcd664a+9770]\n",
      "\tBaseThreadInitThunk [0x0x75d15d49+25]\n",
      "\tRtlInitializeExceptionChain [0x0x7786d03b+107]\n",
      "\tRtlGetAppContainerNamedObjectPath [0x0x7786cfc1+561]\n",
      "\n"
     ]
    },
    {
     "name": "stderr",
     "output_type": "stream",
     "text": [
      "Scraping NICs:  22%|██▏       | 250/1127 [3:02:14<5:08:44, 21.12s/it]"
     ]
    },
    {
     "name": "stdout",
     "output_type": "stream",
     "text": [
      "Saved backup with 134237 results\n"
     ]
    },
    {
     "name": "stderr",
     "output_type": "stream",
     "text": [
      "Scraping NICs:  22%|██▏       | 251/1127 [3:02:16<3:45:04, 15.42s/it]"
     ]
    },
    {
     "name": "stdout",
     "output_type": "stream",
     "text": [
      "Saved backup with 134237 results\n",
      "Dropdown not found or not interactable.Dropdown not found or not interactable.\n",
      "\n",
      "Error occurred while processing the table.Error occurred while processing the table. Message: \n",
      "Stacktrace:\n",
      "\tGetHandleVerifier [0x0xce3763+63299]\n",
      "\tGetHandleVerifier [0x0xce37a4+63364]\n",
      "\t(No symbol) [0x0xb11113]\n",
      "\t(No symbol) [0x0xb5987e]\n",
      "\t(No symbol) [0x0xb59c1b]\n",
      "\t(No symbol) [0x0xba2212]\n",
      "\t(No symbol) [0x0xb7e5c4]\n",
      "\t(No symbol) [0x0xb9fa4a]\n",
      "\t(No symbol) [0x0xb7e376]\n",
      "\t(No symbol) [0x0xb4d6e0]\n",
      "\t(No symbol) [0x0xb4e544]\n",
      "\tGetHandleVerifier [0x0xf3e033+2531347]\n",
      "\tGetHandleVerifier [0x0xf39332+2511634]\n",
      "\tGetHandleVerifier [0x0xd09eda+220858]\n",
      "\tGetHandleVerifier [0x0xcfa528+156936]\n",
      "\tGetHandleVerifier [0x0xd00c5d+183357]\n",
      "\tGetHandleVerifier [0x0xceb6c8+95912]\n",
      "\tGetHandleVerifier [0x0xceb870+96336]\n",
      "\tGetHandleVerifier [0x0xcd664a+9770]\n",
      "\tBaseThreadInitThunk [0x0x75d15d49+25]\n",
      "\tRtlInitializeExceptionChain [0x0x7786d03b+107]\n",
      "\tRtlGetAppContainerNamedObjectPath [0x0x7786cfc1+561]\n",
      "\n",
      " Message: \n",
      "Stacktrace:\n",
      "\tGetHandleVerifier [0x0xce3763+63299]\n",
      "\tGetHandleVerifier [0x0xce37a4+63364]\n",
      "\t(No symbol) [0x0xb11113]\n",
      "\t(No symbol) [0x0xb5987e]\n",
      "\t(No symbol) [0x0xb59c1b]\n",
      "\t(No symbol) [0x0xba2212]\n",
      "\t(No symbol) [0x0xb7e5c4]\n",
      "\t(No symbol) [0x0xb9fa4a]\n",
      "\t(No symbol) [0x0xb7e376]\n",
      "\t(No symbol) [0x0xb4d6e0]\n",
      "\t(No symbol) [0x0xb4e544]\n",
      "\tGetHandleVerifier [0x0xf3e033+2531347]\n",
      "\tGetHandleVerifier [0x0xf39332+2511634]\n",
      "\tGetHandleVerifier [0x0xd09eda+220858]\n",
      "\tGetHandleVerifier [0x0xcfa528+156936]\n",
      "\tGetHandleVerifier [0x0xd00c5d+183357]\n",
      "\tGetHandleVerifier [0x0xceb6c8+95912]\n",
      "\tGetHandleVerifier [0x0xceb870+96336]\n",
      "\tGetHandleVerifier [0x0xcd664a+9770]\n",
      "\tBaseThreadInitThunk [0x0x75d15d49+25]\n",
      "\tRtlInitializeExceptionChain [0x0x7786d03b+107]\n",
      "\tRtlGetAppContainerNamedObjectPath [0x0x7786cfc1+561]\n",
      "\n"
     ]
    },
    {
     "name": "stderr",
     "output_type": "stream",
     "text": [
      "Scraping NICs:  22%|██▏       | 252/1127 [3:03:04<6:08:30, 25.27s/it]"
     ]
    },
    {
     "name": "stdout",
     "output_type": "stream",
     "text": [
      "Saved backup with 134237 results\n"
     ]
    },
    {
     "name": "stderr",
     "output_type": "stream",
     "text": [
      "Scraping NICs:  22%|██▏       | 253/1127 [3:03:06<4:26:29, 18.29s/it]"
     ]
    },
    {
     "name": "stdout",
     "output_type": "stream",
     "text": [
      "Saved backup with 134237 results\n",
      "Rows captured: 41\n"
     ]
    },
    {
     "name": "stderr",
     "output_type": "stream",
     "text": [
      "Scraping NICs:  23%|██▎       | 254/1127 [3:03:19<4:00:35, 16.54s/it]"
     ]
    },
    {
     "name": "stdout",
     "output_type": "stream",
     "text": [
      "Saved backup with 134278 results\n",
      "Dropdown not found or not interactable.\n",
      "Error occurred while processing the table. Message: \n",
      "Stacktrace:\n",
      "\tGetHandleVerifier [0x0xce3763+63299]\n",
      "\tGetHandleVerifier [0x0xce37a4+63364]\n",
      "\t(No symbol) [0x0xb11113]\n",
      "\t(No symbol) [0x0xb5987e]\n",
      "\t(No symbol) [0x0xb59c1b]\n",
      "\t(No symbol) [0x0xba2212]\n",
      "\t(No symbol) [0x0xb7e5c4]\n",
      "\t(No symbol) [0x0xb9fa4a]\n",
      "\t(No symbol) [0x0xb7e376]\n",
      "\t(No symbol) [0x0xb4d6e0]\n",
      "\t(No symbol) [0x0xb4e544]\n",
      "\tGetHandleVerifier [0x0xf3e033+2531347]\n",
      "\tGetHandleVerifier [0x0xf39332+2511634]\n",
      "\tGetHandleVerifier [0x0xd09eda+220858]\n",
      "\tGetHandleVerifier [0x0xcfa528+156936]\n",
      "\tGetHandleVerifier [0x0xd00c5d+183357]\n",
      "\tGetHandleVerifier [0x0xceb6c8+95912]\n",
      "\tGetHandleVerifier [0x0xceb870+96336]\n",
      "\tGetHandleVerifier [0x0xcd664a+9770]\n",
      "\tBaseThreadInitThunk [0x0x75d15d49+25]\n",
      "\tRtlInitializeExceptionChain [0x0x7786d03b+107]\n",
      "\tRtlGetAppContainerNamedObjectPath [0x0x7786cfc1+561]\n",
      "\n"
     ]
    },
    {
     "name": "stderr",
     "output_type": "stream",
     "text": [
      "Scraping NICs:  23%|██▎       | 255/1127 [3:04:07<6:19:19, 26.10s/it]"
     ]
    },
    {
     "name": "stdout",
     "output_type": "stream",
     "text": [
      "Saved backup with 134278 results\n",
      "Dropdown not found or not interactable.\n",
      "Rows captured: 153\n"
     ]
    },
    {
     "name": "stderr",
     "output_type": "stream",
     "text": [
      "Scraping NICs:  23%|██▎       | 256/1127 [3:04:36<6:31:40, 26.98s/it]"
     ]
    },
    {
     "name": "stdout",
     "output_type": "stream",
     "text": [
      "Saved backup with 134431 results\n",
      "Error occurred while processing the table. Message: \n",
      "Stacktrace:\n",
      "\tGetHandleVerifier [0x0xce3763+63299]\n",
      "\tGetHandleVerifier [0x0xce37a4+63364]\n",
      "\t(No symbol) [0x0xb11113]\n",
      "\t(No symbol) [0x0xb5987e]\n",
      "\t(No symbol) [0x0xb59c1b]\n",
      "\t(No symbol) [0x0xba2212]\n",
      "\t(No symbol) [0x0xb7e5c4]\n",
      "\t(No symbol) [0x0xb9fa4a]\n",
      "\t(No symbol) [0x0xb7e376]\n",
      "\t(No symbol) [0x0xb4d6e0]\n",
      "\t(No symbol) [0x0xb4e544]\n",
      "\tGetHandleVerifier [0x0xf3e033+2531347]\n",
      "\tGetHandleVerifier [0x0xf39332+2511634]\n",
      "\tGetHandleVerifier [0x0xd09eda+220858]\n",
      "\tGetHandleVerifier [0x0xcfa528+156936]\n",
      "\tGetHandleVerifier [0x0xd00c5d+183357]\n",
      "\tGetHandleVerifier [0x0xceb6c8+95912]\n",
      "\tGetHandleVerifier [0x0xceb870+96336]\n",
      "\tGetHandleVerifier [0x0xcd664a+9770]\n",
      "\tBaseThreadInitThunk [0x0x75d15d49+25]\n",
      "\tRtlInitializeExceptionChain [0x0x7786d03b+107]\n",
      "\tRtlGetAppContainerNamedObjectPath [0x0x7786cfc1+561]\n",
      "\n"
     ]
    },
    {
     "name": "stderr",
     "output_type": "stream",
     "text": [
      "Scraping NICs:  23%|██▎       | 257/1127 [3:04:54<5:51:24, 24.23s/it]"
     ]
    },
    {
     "name": "stdout",
     "output_type": "stream",
     "text": [
      "Saved backup with 134431 results\n",
      "Dropdown not found or not interactable.\n",
      "Error occurred while processing the table. Message: \n",
      "Stacktrace:\n",
      "\tGetHandleVerifier [0x0xce3763+63299]\n",
      "\tGetHandleVerifier [0x0xce37a4+63364]\n",
      "\t(No symbol) [0x0xb11113]\n",
      "\t(No symbol) [0x0xb5987e]\n",
      "\t(No symbol) [0x0xb59c1b]\n",
      "\t(No symbol) [0x0xba2212]\n",
      "\t(No symbol) [0x0xb7e5c4]\n",
      "\t(No symbol) [0x0xb9fa4a]\n",
      "\t(No symbol) [0x0xb7e376]\n",
      "\t(No symbol) [0x0xb4d6e0]\n",
      "\t(No symbol) [0x0xb4e544]\n",
      "\tGetHandleVerifier [0x0xf3e033+2531347]\n",
      "\tGetHandleVerifier [0x0xf39332+2511634]\n",
      "\tGetHandleVerifier [0x0xd09eda+220858]\n",
      "\tGetHandleVerifier [0x0xcfa528+156936]\n",
      "\tGetHandleVerifier [0x0xd00c5d+183357]\n",
      "\tGetHandleVerifier [0x0xceb6c8+95912]\n",
      "\tGetHandleVerifier [0x0xceb870+96336]\n",
      "\tGetHandleVerifier [0x0xcd664a+9770]\n",
      "\tBaseThreadInitThunk [0x0x75d15d49+25]\n",
      "\tRtlInitializeExceptionChain [0x0x7786d03b+107]\n",
      "\tRtlGetAppContainerNamedObjectPath [0x0x7786cfc1+561]\n",
      "\n"
     ]
    },
    {
     "name": "stderr",
     "output_type": "stream",
     "text": [
      "Scraping NICs:  23%|██▎       | 258/1127 [3:05:24<6:14:56, 25.89s/it]"
     ]
    },
    {
     "name": "stdout",
     "output_type": "stream",
     "text": [
      "Saved backup with 134431 results\n",
      "Rows captured: 527\n"
     ]
    },
    {
     "name": "stderr",
     "output_type": "stream",
     "text": [
      "Scraping NICs:  23%|██▎       | 259/1127 [3:05:39<5:27:43, 22.65s/it]"
     ]
    },
    {
     "name": "stdout",
     "output_type": "stream",
     "text": [
      "Saved backup with 134958 results\n",
      "Dropdown not found or not interactable.\n",
      "Error occurred while processing the table. Message: \n",
      "Stacktrace:\n",
      "\tGetHandleVerifier [0x0xce3763+63299]\n",
      "\tGetHandleVerifier [0x0xce37a4+63364]\n",
      "\t(No symbol) [0x0xb11113]\n",
      "\t(No symbol) [0x0xb5987e]\n",
      "\t(No symbol) [0x0xb59c1b]\n",
      "\t(No symbol) [0x0xba2212]\n",
      "\t(No symbol) [0x0xb7e5c4]\n",
      "\t(No symbol) [0x0xb9fa4a]\n",
      "\t(No symbol) [0x0xb7e376]\n",
      "\t(No symbol) [0x0xb4d6e0]\n",
      "\t(No symbol) [0x0xb4e544]\n",
      "\tGetHandleVerifier [0x0xf3e033+2531347]\n",
      "\tGetHandleVerifier [0x0xf39332+2511634]\n",
      "\tGetHandleVerifier [0x0xd09eda+220858]\n",
      "\tGetHandleVerifier [0x0xcfa528+156936]\n",
      "\tGetHandleVerifier [0x0xd00c5d+183357]\n",
      "\tGetHandleVerifier [0x0xceb6c8+95912]\n",
      "\tGetHandleVerifier [0x0xceb870+96336]\n",
      "\tGetHandleVerifier [0x0xcd664a+9770]\n",
      "\tBaseThreadInitThunk [0x0x75d15d49+25]\n",
      "\tRtlInitializeExceptionChain [0x0x7786d03b+107]\n",
      "\tRtlGetAppContainerNamedObjectPath [0x0x7786cfc1+561]\n",
      "\n"
     ]
    },
    {
     "name": "stderr",
     "output_type": "stream",
     "text": [
      "Scraping NICs:  23%|██▎       | 260/1127 [3:06:30<7:29:16, 31.09s/it]"
     ]
    },
    {
     "name": "stdout",
     "output_type": "stream",
     "text": [
      "Saved backup with 134958 results\n",
      "Rows captured: 78\n"
     ]
    },
    {
     "name": "stderr",
     "output_type": "stream",
     "text": [
      "Scraping NICs:  23%|██▎       | 261/1127 [3:06:38<5:48:24, 24.14s/it]"
     ]
    },
    {
     "name": "stdout",
     "output_type": "stream",
     "text": [
      "Saved backup with 135036 results\n",
      "Dropdown not found or not interactable.\n",
      "Rows captured: 167\n"
     ]
    },
    {
     "name": "stderr",
     "output_type": "stream",
     "text": [
      "Scraping NICs:  23%|██▎       | 262/1127 [3:06:53<5:08:39, 21.41s/it]"
     ]
    },
    {
     "name": "stdout",
     "output_type": "stream",
     "text": [
      "Saved backup with 135203 results\n",
      "Error occurred while processing the table. Message: \n",
      "Stacktrace:\n",
      "\tGetHandleVerifier [0x0xce3763+63299]\n",
      "\tGetHandleVerifier [0x0xce37a4+63364]\n",
      "\t(No symbol) [0x0xb11113]\n",
      "\t(No symbol) [0x0xb5987e]\n",
      "\t(No symbol) [0x0xb59c1b]\n",
      "\t(No symbol) [0x0xba2212]\n",
      "\t(No symbol) [0x0xb7e5c4]\n",
      "\t(No symbol) [0x0xb9fa4a]\n",
      "\t(No symbol) [0x0xb7e376]\n",
      "\t(No symbol) [0x0xb4d6e0]\n",
      "\t(No symbol) [0x0xb4e544]\n",
      "\tGetHandleVerifier [0x0xf3e033+2531347]\n",
      "\tGetHandleVerifier [0x0xf39332+2511634]\n",
      "\tGetHandleVerifier [0x0xd09eda+220858]\n",
      "\tGetHandleVerifier [0x0xcfa528+156936]\n",
      "\tGetHandleVerifier [0x0xd00c5d+183357]\n",
      "\tGetHandleVerifier [0x0xceb6c8+95912]\n",
      "\tGetHandleVerifier [0x0xceb870+96336]\n",
      "\tGetHandleVerifier [0x0xcd664a+9770]\n",
      "\tBaseThreadInitThunk [0x0x75d15d49+25]\n",
      "\tRtlInitializeExceptionChain [0x0x7786d03b+107]\n",
      "\tRtlGetAppContainerNamedObjectPath [0x0x7786cfc1+561]\n",
      "\n"
     ]
    },
    {
     "name": "stderr",
     "output_type": "stream",
     "text": [
      "Scraping NICs:  23%|██▎       | 263/1127 [3:07:17<5:21:35, 22.33s/it]"
     ]
    },
    {
     "name": "stdout",
     "output_type": "stream",
     "text": [
      "Saved backup with 135203 results\n",
      "Dropdown not found or not interactable.\n",
      "Dropdown not found or not interactable.\n",
      "Error occurred while processing the table. Message: \n",
      "Stacktrace:\n",
      "\tGetHandleVerifier [0x0xce3763+63299]\n",
      "\tGetHandleVerifier [0x0xce37a4+63364]\n",
      "\t(No symbol) [0x0xb11113]\n",
      "\t(No symbol) [0x0xb5987e]\n",
      "\t(No symbol) [0x0xb59c1b]\n",
      "\t(No symbol) [0x0xba2212]\n",
      "\t(No symbol) [0x0xb7e5c4]\n",
      "\t(No symbol) [0x0xb9fa4a]\n",
      "\t(No symbol) [0x0xb7e376]\n",
      "\t(No symbol) [0x0xb4d6e0]\n",
      "\t(No symbol) [0x0xb4e544]\n",
      "\tGetHandleVerifier [0x0xf3e033+2531347]\n",
      "\tGetHandleVerifier [0x0xf39332+2511634]\n",
      "\tGetHandleVerifier [0x0xd09eda+220858]\n",
      "\tGetHandleVerifier [0x0xcfa528+156936]\n",
      "\tGetHandleVerifier [0x0xd00c5d+183357]\n",
      "\tGetHandleVerifier [0x0xceb6c8+95912]\n",
      "\tGetHandleVerifier [0x0xceb870+96336]\n",
      "\tGetHandleVerifier [0x0xcd664a+9770]\n",
      "\tBaseThreadInitThunk [0x0x75d15d49+25]\n",
      "\tRtlInitializeExceptionChain [0x0x7786d03b+107]\n",
      "\tRtlGetAppContainerNamedObjectPath [0x0x7786cfc1+561]\n",
      "\n"
     ]
    },
    {
     "name": "stderr",
     "output_type": "stream",
     "text": [
      "Scraping NICs:  23%|██▎       | 264/1127 [3:07:49<6:02:10, 25.18s/it]"
     ]
    },
    {
     "name": "stdout",
     "output_type": "stream",
     "text": [
      "Saved backup with 135203 results\n",
      "Error occurred while processing the table. Message: \n",
      "Stacktrace:\n",
      "\tGetHandleVerifier [0x0xce3763+63299]\n",
      "\tGetHandleVerifier [0x0xce37a4+63364]\n",
      "\t(No symbol) [0x0xb11113]\n",
      "\t(No symbol) [0x0xb5987e]\n",
      "\t(No symbol) [0x0xb59c1b]\n",
      "\t(No symbol) [0x0xba2212]\n",
      "\t(No symbol) [0x0xb7e5c4]\n",
      "\t(No symbol) [0x0xb9fa4a]\n",
      "\t(No symbol) [0x0xb7e376]\n",
      "\t(No symbol) [0x0xb4d6e0]\n",
      "\t(No symbol) [0x0xb4e544]\n",
      "\tGetHandleVerifier [0x0xf3e033+2531347]\n",
      "\tGetHandleVerifier [0x0xf39332+2511634]\n",
      "\tGetHandleVerifier [0x0xd09eda+220858]\n",
      "\tGetHandleVerifier [0x0xcfa528+156936]\n",
      "\tGetHandleVerifier [0x0xd00c5d+183357]\n",
      "\tGetHandleVerifier [0x0xceb6c8+95912]\n",
      "\tGetHandleVerifier [0x0xceb870+96336]\n",
      "\tGetHandleVerifier [0x0xcd664a+9770]\n",
      "\tBaseThreadInitThunk [0x0x75d15d49+25]\n",
      "\tRtlInitializeExceptionChain [0x0x7786d03b+107]\n",
      "\tRtlGetAppContainerNamedObjectPath [0x0x7786cfc1+561]\n",
      "\n"
     ]
    },
    {
     "name": "stderr",
     "output_type": "stream",
     "text": [
      "Scraping NICs:  24%|██▎       | 265/1127 [3:08:07<5:32:00, 23.11s/it]"
     ]
    },
    {
     "name": "stdout",
     "output_type": "stream",
     "text": [
      "Saved backup with 135203 results\n",
      "Rows captured: 76\n"
     ]
    },
    {
     "name": "stderr",
     "output_type": "stream",
     "text": [
      "Scraping NICs:  24%|██▎       | 266/1127 [3:08:22<4:57:05, 20.70s/it]"
     ]
    },
    {
     "name": "stdout",
     "output_type": "stream",
     "text": [
      "Saved backup with 135279 results\n",
      "Dropdown not found or not interactable.\n",
      "Dropdown not found or not interactable.\n",
      "Error occurred while processing the table. Message: \n",
      "Stacktrace:\n",
      "\tGetHandleVerifier [0x0xce3763+63299]\n",
      "\tGetHandleVerifier [0x0xce37a4+63364]\n",
      "\t(No symbol) [0x0xb11113]\n",
      "\t(No symbol) [0x0xb5987e]\n",
      "\t(No symbol) [0x0xb59c1b]\n",
      "\t(No symbol) [0x0xba2212]\n",
      "\t(No symbol) [0x0xb7e5c4]\n",
      "\t(No symbol) [0x0xb9fa4a]\n",
      "\t(No symbol) [0x0xb7e376]\n",
      "\t(No symbol) [0x0xb4d6e0]\n",
      "\t(No symbol) [0x0xb4e544]\n",
      "\tGetHandleVerifier [0x0xf3e033+2531347]\n",
      "\tGetHandleVerifier [0x0xf39332+2511634]\n",
      "\tGetHandleVerifier [0x0xd09eda+220858]\n",
      "\tGetHandleVerifier [0x0xcfa528+156936]\n",
      "\tGetHandleVerifier [0x0xd00c5d+183357]\n",
      "\tGetHandleVerifier [0x0xceb6c8+95912]\n",
      "\tGetHandleVerifier [0x0xceb870+96336]\n",
      "\tGetHandleVerifier [0x0xcd664a+9770]\n",
      "\tBaseThreadInitThunk [0x0x75d15d49+25]\n",
      "\tRtlInitializeExceptionChain [0x0x7786d03b+107]\n",
      "\tRtlGetAppContainerNamedObjectPath [0x0x7786cfc1+561]\n",
      "\n"
     ]
    },
    {
     "name": "stderr",
     "output_type": "stream",
     "text": [
      "Scraping NICs:  24%|██▎       | 267/1127 [3:09:00<6:10:32, 25.85s/it]"
     ]
    },
    {
     "name": "stdout",
     "output_type": "stream",
     "text": [
      "Saved backup with 135279 results\n",
      "Error occurred while processing the table. Message: \n",
      "Stacktrace:\n",
      "\tGetHandleVerifier [0x0xce3763+63299]\n",
      "\tGetHandleVerifier [0x0xce37a4+63364]\n",
      "\t(No symbol) [0x0xb11113]\n",
      "\t(No symbol) [0x0xb5987e]\n",
      "\t(No symbol) [0x0xb59c1b]\n",
      "\t(No symbol) [0x0xba2212]\n",
      "\t(No symbol) [0x0xb7e5c4]\n",
      "\t(No symbol) [0x0xb9fa4a]\n",
      "\t(No symbol) [0x0xb7e376]\n",
      "\t(No symbol) [0x0xb4d6e0]\n",
      "\t(No symbol) [0x0xb4e544]\n",
      "\tGetHandleVerifier [0x0xf3e033+2531347]\n",
      "\tGetHandleVerifier [0x0xf39332+2511634]\n",
      "\tGetHandleVerifier [0x0xd09eda+220858]\n",
      "\tGetHandleVerifier [0x0xcfa528+156936]\n",
      "\tGetHandleVerifier [0x0xd00c5d+183357]\n",
      "\tGetHandleVerifier [0x0xceb6c8+95912]\n",
      "\tGetHandleVerifier [0x0xceb870+96336]\n",
      "\tGetHandleVerifier [0x0xcd664a+9770]\n",
      "\tBaseThreadInitThunk [0x0x75d15d49+25]\n",
      "\tRtlInitializeExceptionChain [0x0x7786d03b+107]\n",
      "\tRtlGetAppContainerNamedObjectPath [0x0x7786cfc1+561]\n",
      "\n"
     ]
    },
    {
     "name": "stderr",
     "output_type": "stream",
     "text": [
      "Scraping NICs:  24%|██▍       | 268/1127 [3:09:11<5:05:55, 21.37s/it]"
     ]
    },
    {
     "name": "stdout",
     "output_type": "stream",
     "text": [
      "Saved backup with 135279 results\n",
      "Dropdown not found or not interactable.\n",
      "Dropdown not found or not interactable.\n",
      "Error occurred while processing the table. Message: \n",
      "Stacktrace:\n",
      "\tGetHandleVerifier [0x0xce3763+63299]\n",
      "\tGetHandleVerifier [0x0xce37a4+63364]\n",
      "\t(No symbol) [0x0xb11113]\n",
      "\t(No symbol) [0x0xb5987e]\n",
      "\t(No symbol) [0x0xb59c1b]\n",
      "\t(No symbol) [0x0xba2212]\n",
      "\t(No symbol) [0x0xb7e5c4]\n",
      "\t(No symbol) [0x0xb9fa4a]\n",
      "\t(No symbol) [0x0xb7e376]\n",
      "\t(No symbol) [0x0xb4d6e0]\n",
      "\t(No symbol) [0x0xb4e544]\n",
      "\tGetHandleVerifier [0x0xf3e033+2531347]\n",
      "\tGetHandleVerifier [0x0xf39332+2511634]\n",
      "\tGetHandleVerifier [0x0xd09eda+220858]\n",
      "\tGetHandleVerifier [0x0xcfa528+156936]\n",
      "\tGetHandleVerifier [0x0xd00c5d+183357]\n",
      "\tGetHandleVerifier [0x0xceb6c8+95912]\n",
      "\tGetHandleVerifier [0x0xceb870+96336]\n",
      "\tGetHandleVerifier [0x0xcd664a+9770]\n",
      "\tBaseThreadInitThunk [0x0x75d15d49+25]\n",
      "\tRtlInitializeExceptionChain [0x0x7786d03b+107]\n",
      "\tRtlGetAppContainerNamedObjectPath [0x0x7786cfc1+561]\n",
      "\n"
     ]
    },
    {
     "name": "stderr",
     "output_type": "stream",
     "text": [
      "Scraping NICs:  24%|██▍       | 269/1127 [3:09:48<6:12:05, 26.02s/it]"
     ]
    },
    {
     "name": "stdout",
     "output_type": "stream",
     "text": [
      "Saved backup with 135279 results\n",
      "Error occurred while processing the table. Message: \n",
      "Stacktrace:\n",
      "\tGetHandleVerifier [0x0xce3763+63299]\n",
      "\tGetHandleVerifier [0x0xce37a4+63364]\n",
      "\t(No symbol) [0x0xb11113]\n",
      "\t(No symbol) [0x0xb5987e]\n",
      "\t(No symbol) [0x0xb59c1b]\n",
      "\t(No symbol) [0x0xba2212]\n",
      "\t(No symbol) [0x0xb7e5c4]\n",
      "\t(No symbol) [0x0xb9fa4a]\n",
      "\t(No symbol) [0x0xb7e376]\n",
      "\t(No symbol) [0x0xb4d6e0]\n",
      "\t(No symbol) [0x0xb4e544]\n",
      "\tGetHandleVerifier [0x0xf3e033+2531347]\n",
      "\tGetHandleVerifier [0x0xf39332+2511634]\n",
      "\tGetHandleVerifier [0x0xd09eda+220858]\n",
      "\tGetHandleVerifier [0x0xcfa528+156936]\n",
      "\tGetHandleVerifier [0x0xd00c5d+183357]\n",
      "\tGetHandleVerifier [0x0xceb6c8+95912]\n",
      "\tGetHandleVerifier [0x0xceb870+96336]\n",
      "\tGetHandleVerifier [0x0xcd664a+9770]\n",
      "\tBaseThreadInitThunk [0x0x75d15d49+25]\n",
      "\tRtlInitializeExceptionChain [0x0x7786d03b+107]\n",
      "\tRtlGetAppContainerNamedObjectPath [0x0x7786cfc1+561]\n",
      "\n"
     ]
    },
    {
     "name": "stderr",
     "output_type": "stream",
     "text": [
      "Scraping NICs:  24%|██▍       | 270/1127 [3:09:59<5:06:04, 21.43s/it]"
     ]
    },
    {
     "name": "stdout",
     "output_type": "stream",
     "text": [
      "Saved backup with 135279 results\n",
      "Dropdown not found or not interactable.\n",
      "Rows captured: 387\n"
     ]
    },
    {
     "name": "stderr",
     "output_type": "stream",
     "text": [
      "Scraping NICs:  24%|██▍       | 271/1127 [3:10:18<4:56:46, 20.80s/it]"
     ]
    },
    {
     "name": "stdout",
     "output_type": "stream",
     "text": [
      "Saved backup with 135666 results\n",
      "Error occurred while processing the table. Message: \n",
      "Stacktrace:\n",
      "\tGetHandleVerifier [0x0xce3763+63299]\n",
      "\tGetHandleVerifier [0x0xce37a4+63364]\n",
      "\t(No symbol) [0x0xb11113]\n",
      "\t(No symbol) [0x0xb5987e]\n",
      "\t(No symbol) [0x0xb59c1b]\n",
      "\t(No symbol) [0x0xba2212]\n",
      "\t(No symbol) [0x0xb7e5c4]\n",
      "\t(No symbol) [0x0xb9fa4a]\n",
      "\t(No symbol) [0x0xb7e376]\n",
      "\t(No symbol) [0x0xb4d6e0]\n",
      "\t(No symbol) [0x0xb4e544]\n",
      "\tGetHandleVerifier [0x0xf3e033+2531347]\n",
      "\tGetHandleVerifier [0x0xf39332+2511634]\n",
      "\tGetHandleVerifier [0x0xd09eda+220858]\n",
      "\tGetHandleVerifier [0x0xcfa528+156936]\n",
      "\tGetHandleVerifier [0x0xd00c5d+183357]\n",
      "\tGetHandleVerifier [0x0xceb6c8+95912]\n",
      "\tGetHandleVerifier [0x0xceb870+96336]\n",
      "\tGetHandleVerifier [0x0xcd664a+9770]\n",
      "\tBaseThreadInitThunk [0x0x75d15d49+25]\n",
      "\tRtlInitializeExceptionChain [0x0x7786d03b+107]\n",
      "\tRtlGetAppContainerNamedObjectPath [0x0x7786cfc1+561]\n",
      "\n"
     ]
    },
    {
     "name": "stderr",
     "output_type": "stream",
     "text": [
      "Scraping NICs:  24%|██▍       | 272/1127 [3:10:36<4:46:07, 20.08s/it]"
     ]
    },
    {
     "name": "stdout",
     "output_type": "stream",
     "text": [
      "Saved backup with 135666 results\n",
      "Dropdown not found or not interactable.\n",
      "Error occurred while processing the table. Message: \n",
      "Stacktrace:\n",
      "\tGetHandleVerifier [0x0xce3763+63299]\n",
      "\tGetHandleVerifier [0x0xce37a4+63364]\n",
      "\t(No symbol) [0x0xb11113]\n",
      "\t(No symbol) [0x0xb5987e]\n",
      "\t(No symbol) [0x0xb59c1b]\n",
      "\t(No symbol) [0x0xba2212]\n",
      "\t(No symbol) [0x0xb7e5c4]\n",
      "\t(No symbol) [0x0xb9fa4a]\n",
      "\t(No symbol) [0x0xb7e376]\n",
      "\t(No symbol) [0x0xb4d6e0]\n",
      "\t(No symbol) [0x0xb4e544]\n",
      "\tGetHandleVerifier [0x0xf3e033+2531347]\n",
      "\tGetHandleVerifier [0x0xf39332+2511634]\n",
      "\tGetHandleVerifier [0x0xd09eda+220858]\n",
      "\tGetHandleVerifier [0x0xcfa528+156936]\n",
      "\tGetHandleVerifier [0x0xd00c5d+183357]\n",
      "\tGetHandleVerifier [0x0xceb6c8+95912]\n",
      "\tGetHandleVerifier [0x0xceb870+96336]\n",
      "\tGetHandleVerifier [0x0xcd664a+9770]\n",
      "\tBaseThreadInitThunk [0x0x75d15d49+25]\n",
      "\tRtlInitializeExceptionChain [0x0x7786d03b+107]\n",
      "\tRtlGetAppContainerNamedObjectPath [0x0x7786cfc1+561]\n",
      "\n"
     ]
    },
    {
     "name": "stderr",
     "output_type": "stream",
     "text": [
      "Scraping NICs:  24%|██▍       | 273/1127 [3:11:12<5:50:59, 24.66s/it]"
     ]
    },
    {
     "name": "stdout",
     "output_type": "stream",
     "text": [
      "Saved backup with 135666 results\n",
      "Dropdown not found or not interactable.\n",
      "Rows captured: 189\n"
     ]
    },
    {
     "name": "stderr",
     "output_type": "stream",
     "text": [
      "Scraping NICs:  24%|██▍       | 274/1127 [3:11:38<5:59:02, 25.26s/it]"
     ]
    },
    {
     "name": "stdout",
     "output_type": "stream",
     "text": [
      "Saved backup with 135855 results\n",
      "Error occurred while processing the table. Message: \n",
      "Stacktrace:\n",
      "\tGetHandleVerifier [0x0xce3763+63299]\n",
      "\tGetHandleVerifier [0x0xce37a4+63364]\n",
      "\t(No symbol) [0x0xb11113]\n",
      "\t(No symbol) [0x0xb5987e]\n",
      "\t(No symbol) [0x0xb59c1b]\n",
      "\t(No symbol) [0x0xba2212]\n",
      "\t(No symbol) [0x0xb7e5c4]\n",
      "\t(No symbol) [0x0xb9fa4a]\n",
      "\t(No symbol) [0x0xb7e376]\n",
      "\t(No symbol) [0x0xb4d6e0]\n",
      "\t(No symbol) [0x0xb4e544]\n",
      "\tGetHandleVerifier [0x0xf3e033+2531347]\n",
      "\tGetHandleVerifier [0x0xf39332+2511634]\n",
      "\tGetHandleVerifier [0x0xd09eda+220858]\n",
      "\tGetHandleVerifier [0x0xcfa528+156936]\n",
      "\tGetHandleVerifier [0x0xd00c5d+183357]\n",
      "\tGetHandleVerifier [0x0xceb6c8+95912]\n",
      "\tGetHandleVerifier [0x0xceb870+96336]\n",
      "\tGetHandleVerifier [0x0xcd664a+9770]\n",
      "\tBaseThreadInitThunk [0x0x75d15d49+25]\n",
      "\tRtlInitializeExceptionChain [0x0x7786d03b+107]\n",
      "\tRtlGetAppContainerNamedObjectPath [0x0x7786cfc1+561]\n",
      "\n",
      "Dropdown not found or not interactable.\n"
     ]
    },
    {
     "name": "stderr",
     "output_type": "stream",
     "text": [
      "Scraping NICs:  24%|██▍       | 275/1127 [3:11:59<5:39:06, 23.88s/it]"
     ]
    },
    {
     "name": "stdout",
     "output_type": "stream",
     "text": [
      "Saved backup with 135855 results\n",
      "Dropdown not found or not interactable.\n",
      "Error occurred while processing the table. Message: \n",
      "Stacktrace:\n",
      "\tGetHandleVerifier [0x0xce3763+63299]\n",
      "\tGetHandleVerifier [0x0xce37a4+63364]\n",
      "\t(No symbol) [0x0xb11113]\n",
      "\t(No symbol) [0x0xb5987e]\n",
      "\t(No symbol) [0x0xb59c1b]\n",
      "\t(No symbol) [0x0xba2212]\n",
      "\t(No symbol) [0x0xb7e5c4]\n",
      "\t(No symbol) [0x0xb9fa4a]\n",
      "\t(No symbol) [0x0xb7e376]\n",
      "\t(No symbol) [0x0xb4d6e0]\n",
      "\t(No symbol) [0x0xb4e544]\n",
      "\tGetHandleVerifier [0x0xf3e033+2531347]\n",
      "\tGetHandleVerifier [0x0xf39332+2511634]\n",
      "\tGetHandleVerifier [0x0xd09eda+220858]\n",
      "\tGetHandleVerifier [0x0xcfa528+156936]\n",
      "\tGetHandleVerifier [0x0xd00c5d+183357]\n",
      "\tGetHandleVerifier [0x0xceb6c8+95912]\n",
      "\tGetHandleVerifier [0x0xceb870+96336]\n",
      "\tGetHandleVerifier [0x0xcd664a+9770]\n",
      "\tBaseThreadInitThunk [0x0x75d15d49+25]\n",
      "\tRtlInitializeExceptionChain [0x0x7786d03b+107]\n",
      "\tRtlGetAppContainerNamedObjectPath [0x0x7786cfc1+561]\n",
      "\n"
     ]
    },
    {
     "name": "stderr",
     "output_type": "stream",
     "text": [
      "Scraping NICs:  24%|██▍       | 276/1127 [3:12:26<5:51:58, 24.82s/it]"
     ]
    },
    {
     "name": "stdout",
     "output_type": "stream",
     "text": [
      "Saved backup with 135855 results\n",
      "Error occurred while processing the table. Message: \n",
      "Stacktrace:\n",
      "\tGetHandleVerifier [0x0xce3763+63299]\n",
      "\tGetHandleVerifier [0x0xce37a4+63364]\n",
      "\t(No symbol) [0x0xb11113]\n",
      "\t(No symbol) [0x0xb5987e]\n",
      "\t(No symbol) [0x0xb59c1b]\n",
      "\t(No symbol) [0x0xba2212]\n",
      "\t(No symbol) [0x0xb7e5c4]\n",
      "\t(No symbol) [0x0xb9fa4a]\n",
      "\t(No symbol) [0x0xb7e376]\n",
      "\t(No symbol) [0x0xb4d6e0]\n",
      "\t(No symbol) [0x0xb4e544]\n",
      "\tGetHandleVerifier [0x0xf3e033+2531347]\n",
      "\tGetHandleVerifier [0x0xf39332+2511634]\n",
      "\tGetHandleVerifier [0x0xd09eda+220858]\n",
      "\tGetHandleVerifier [0x0xcfa528+156936]\n",
      "\tGetHandleVerifier [0x0xd00c5d+183357]\n",
      "\tGetHandleVerifier [0x0xceb6c8+95912]\n",
      "\tGetHandleVerifier [0x0xceb870+96336]\n",
      "\tGetHandleVerifier [0x0xcd664a+9770]\n",
      "\tBaseThreadInitThunk [0x0x75d15d49+25]\n",
      "\tRtlInitializeExceptionChain [0x0x7786d03b+107]\n",
      "\tRtlGetAppContainerNamedObjectPath [0x0x7786cfc1+561]\n",
      "\n"
     ]
    },
    {
     "name": "stderr",
     "output_type": "stream",
     "text": [
      "Scraping NICs:  25%|██▍       | 277/1127 [3:12:47<5:33:21, 23.53s/it]"
     ]
    },
    {
     "name": "stdout",
     "output_type": "stream",
     "text": [
      "Saved backup with 135855 results\n",
      "Dropdown not found or not interactable.\n",
      "Error occurred while processing the table. Message: \n",
      "Stacktrace:\n",
      "\tGetHandleVerifier [0x0xce3763+63299]\n",
      "\tGetHandleVerifier [0x0xce37a4+63364]\n",
      "\t(No symbol) [0x0xb11113]\n",
      "\t(No symbol) [0x0xb5987e]\n",
      "\t(No symbol) [0x0xb59c1b]\n",
      "\t(No symbol) [0x0xba2212]\n",
      "\t(No symbol) [0x0xb7e5c4]\n",
      "\t(No symbol) [0x0xb9fa4a]\n",
      "\t(No symbol) [0x0xb7e376]\n",
      "\t(No symbol) [0x0xb4d6e0]\n",
      "\t(No symbol) [0x0xb4e544]\n",
      "\tGetHandleVerifier [0x0xf3e033+2531347]\n",
      "\tGetHandleVerifier [0x0xf39332+2511634]\n",
      "\tGetHandleVerifier [0x0xd09eda+220858]\n",
      "\tGetHandleVerifier [0x0xcfa528+156936]\n",
      "\tGetHandleVerifier [0x0xd00c5d+183357]\n",
      "\tGetHandleVerifier [0x0xceb6c8+95912]\n",
      "\tGetHandleVerifier [0x0xceb870+96336]\n",
      "\tGetHandleVerifier [0x0xcd664a+9770]\n",
      "\tBaseThreadInitThunk [0x0x75d15d49+25]\n",
      "\tRtlInitializeExceptionChain [0x0x7786d03b+107]\n",
      "\tRtlGetAppContainerNamedObjectPath [0x0x7786cfc1+561]\n",
      "\n"
     ]
    },
    {
     "name": "stderr",
     "output_type": "stream",
     "text": [
      "Scraping NICs:  25%|██▍       | 278/1127 [3:13:36<7:24:08, 31.39s/it]"
     ]
    },
    {
     "name": "stdout",
     "output_type": "stream",
     "text": [
      "Saved backup with 135855 results\n",
      "Rows captured: 625\n"
     ]
    },
    {
     "name": "stderr",
     "output_type": "stream",
     "text": [
      "Scraping NICs:  25%|██▍       | 279/1127 [3:13:50<6:09:08, 26.12s/it]"
     ]
    },
    {
     "name": "stdout",
     "output_type": "stream",
     "text": [
      "Saved backup with 136480 results\n",
      "Dropdown not found or not interactable.\n",
      "Error occurred while processing the table. Message: \n",
      "Stacktrace:\n",
      "\tGetHandleVerifier [0x0xce3763+63299]\n",
      "\tGetHandleVerifier [0x0xce37a4+63364]\n",
      "\t(No symbol) [0x0xb11113]\n",
      "\t(No symbol) [0x0xb5987e]\n",
      "\t(No symbol) [0x0xb59c1b]\n",
      "\t(No symbol) [0x0xba2212]\n",
      "\t(No symbol) [0x0xb7e5c4]\n",
      "\t(No symbol) [0x0xb9fa4a]\n",
      "\t(No symbol) [0x0xb7e376]\n",
      "\t(No symbol) [0x0xb4d6e0]\n",
      "\t(No symbol) [0x0xb4e544]\n",
      "\tGetHandleVerifier [0x0xf3e033+2531347]\n",
      "\tGetHandleVerifier [0x0xf39332+2511634]\n",
      "\tGetHandleVerifier [0x0xd09eda+220858]\n",
      "\tGetHandleVerifier [0x0xcfa528+156936]\n",
      "\tGetHandleVerifier [0x0xd00c5d+183357]\n",
      "\tGetHandleVerifier [0x0xceb6c8+95912]\n",
      "\tGetHandleVerifier [0x0xceb870+96336]\n",
      "\tGetHandleVerifier [0x0xcd664a+9770]\n",
      "\tBaseThreadInitThunk [0x0x75d15d49+25]\n",
      "\tRtlInitializeExceptionChain [0x0x7786d03b+107]\n",
      "\tRtlGetAppContainerNamedObjectPath [0x0x7786cfc1+561]\n",
      "\n"
     ]
    },
    {
     "name": "stderr",
     "output_type": "stream",
     "text": [
      "Scraping NICs:  25%|██▍       | 280/1127 [3:14:38<7:39:29, 32.55s/it]"
     ]
    },
    {
     "name": "stdout",
     "output_type": "stream",
     "text": [
      "Saved backup with 136480 results\n",
      "Dropdown not found or not interactable.\n",
      "Error occurred while processing the table. Message: \n",
      "Stacktrace:\n",
      "\tGetHandleVerifier [0x0xce3763+63299]\n",
      "\tGetHandleVerifier [0x0xce37a4+63364]\n",
      "\t(No symbol) [0x0xb11113]\n",
      "\t(No symbol) [0x0xb5987e]\n",
      "\t(No symbol) [0x0xb59c1b]\n",
      "\t(No symbol) [0x0xba2212]\n",
      "\t(No symbol) [0x0xb7e5c4]\n",
      "\t(No symbol) [0x0xb9fa4a]\n",
      "\t(No symbol) [0x0xb7e376]\n",
      "\t(No symbol) [0x0xb4d6e0]\n",
      "\t(No symbol) [0x0xb4e544]\n",
      "\tGetHandleVerifier [0x0xf3e033+2531347]\n",
      "\tGetHandleVerifier [0x0xf39332+2511634]\n",
      "\tGetHandleVerifier [0x0xd09eda+220858]\n",
      "\tGetHandleVerifier [0x0xcfa528+156936]\n",
      "\tGetHandleVerifier [0x0xd00c5d+183357]\n",
      "\tGetHandleVerifier [0x0xceb6c8+95912]\n",
      "\tGetHandleVerifier [0x0xceb870+96336]\n",
      "\tGetHandleVerifier [0x0xcd664a+9770]\n",
      "\tBaseThreadInitThunk [0x0x75d15d49+25]\n",
      "\tRtlInitializeExceptionChain [0x0x7786d03b+107]\n",
      "\tRtlGetAppContainerNamedObjectPath [0x0x7786cfc1+561]\n",
      "\n"
     ]
    },
    {
     "name": "stderr",
     "output_type": "stream",
     "text": [
      "Scraping NICs:  25%|██▍       | 281/1127 [3:15:29<8:57:09, 38.10s/it]"
     ]
    },
    {
     "name": "stdout",
     "output_type": "stream",
     "text": [
      "Saved backup with 136480 results\n",
      "Rows captured: 746\n",
      "Dropdown not found or not interactable.\n"
     ]
    },
    {
     "name": "stderr",
     "output_type": "stream",
     "text": [
      "Scraping NICs:  25%|██▌       | 282/1127 [3:15:53<7:58:23, 33.97s/it]"
     ]
    },
    {
     "name": "stdout",
     "output_type": "stream",
     "text": [
      "Saved backup with 137226 results\n",
      "Dropdown not found or not interactable.\n",
      "Error occurred while processing the table. Message: \n",
      "Stacktrace:\n",
      "\tGetHandleVerifier [0x0xce3763+63299]\n",
      "\tGetHandleVerifier [0x0xce37a4+63364]\n",
      "\t(No symbol) [0x0xb11113]\n",
      "\t(No symbol) [0x0xb5987e]\n",
      "\t(No symbol) [0x0xb59c1b]\n",
      "\t(No symbol) [0x0xba2212]\n",
      "\t(No symbol) [0x0xb7e5c4]\n",
      "\t(No symbol) [0x0xb9fa4a]\n",
      "\t(No symbol) [0x0xb7e376]\n",
      "\t(No symbol) [0x0xb4d6e0]\n",
      "\t(No symbol) [0x0xb4e544]\n",
      "\tGetHandleVerifier [0x0xf3e033+2531347]\n",
      "\tGetHandleVerifier [0x0xf39332+2511634]\n",
      "\tGetHandleVerifier [0x0xd09eda+220858]\n",
      "\tGetHandleVerifier [0x0xcfa528+156936]\n",
      "\tGetHandleVerifier [0x0xd00c5d+183357]\n",
      "\tGetHandleVerifier [0x0xceb6c8+95912]\n",
      "\tGetHandleVerifier [0x0xceb870+96336]\n",
      "\tGetHandleVerifier [0x0xcd664a+9770]\n",
      "\tBaseThreadInitThunk [0x0x75d15d49+25]\n",
      "\tRtlInitializeExceptionChain [0x0x7786d03b+107]\n",
      "\tRtlGetAppContainerNamedObjectPath [0x0x7786cfc1+561]\n",
      "\n"
     ]
    },
    {
     "name": "stderr",
     "output_type": "stream",
     "text": [
      "Scraping NICs:  25%|██▌       | 283/1127 [3:16:20<7:28:58, 31.92s/it]"
     ]
    },
    {
     "name": "stdout",
     "output_type": "stream",
     "text": [
      "Saved backup with 137226 results\n",
      "Error occurred while processing the table. Message: \n",
      "Stacktrace:\n",
      "\tGetHandleVerifier [0x0xce3763+63299]\n",
      "\tGetHandleVerifier [0x0xce37a4+63364]\n",
      "\t(No symbol) [0x0xb11113]\n",
      "\t(No symbol) [0x0xb5987e]\n",
      "\t(No symbol) [0x0xb59c1b]\n",
      "\t(No symbol) [0x0xba2212]\n",
      "\t(No symbol) [0x0xb7e5c4]\n",
      "\t(No symbol) [0x0xb9fa4a]\n",
      "\t(No symbol) [0x0xb7e376]\n",
      "\t(No symbol) [0x0xb4d6e0]\n",
      "\t(No symbol) [0x0xb4e544]\n",
      "\tGetHandleVerifier [0x0xf3e033+2531347]\n",
      "\tGetHandleVerifier [0x0xf39332+2511634]\n",
      "\tGetHandleVerifier [0x0xd09eda+220858]\n",
      "\tGetHandleVerifier [0x0xcfa528+156936]\n",
      "\tGetHandleVerifier [0x0xd00c5d+183357]\n",
      "\tGetHandleVerifier [0x0xceb6c8+95912]\n",
      "\tGetHandleVerifier [0x0xceb870+96336]\n",
      "\tGetHandleVerifier [0x0xcd664a+9770]\n",
      "\tBaseThreadInitThunk [0x0x75d15d49+25]\n",
      "\tRtlInitializeExceptionChain [0x0x7786d03b+107]\n",
      "\tRtlGetAppContainerNamedObjectPath [0x0x7786cfc1+561]\n",
      "\n"
     ]
    },
    {
     "name": "stderr",
     "output_type": "stream",
     "text": [
      "Scraping NICs:  25%|██▌       | 284/1127 [3:16:41<6:41:06, 28.55s/it]"
     ]
    },
    {
     "name": "stdout",
     "output_type": "stream",
     "text": [
      "Saved backup with 137226 results\n",
      "Dropdown not found or not interactable.\n",
      "Dropdown not found or not interactable.\n",
      "Error occurred while processing the table. Message: \n",
      "Stacktrace:\n",
      "\tGetHandleVerifier [0x0xce3763+63299]\n",
      "\tGetHandleVerifier [0x0xce37a4+63364]\n",
      "\t(No symbol) [0x0xb11113]\n",
      "\t(No symbol) [0x0xb5987e]\n",
      "\t(No symbol) [0x0xb59c1b]\n",
      "\t(No symbol) [0x0xba2212]\n",
      "\t(No symbol) [0x0xb7e5c4]\n",
      "\t(No symbol) [0x0xb9fa4a]\n",
      "\t(No symbol) [0x0xb7e376]\n",
      "\t(No symbol) [0x0xb4d6e0]\n",
      "\t(No symbol) [0x0xb4e544]\n",
      "\tGetHandleVerifier [0x0xf3e033+2531347]\n",
      "\tGetHandleVerifier [0x0xf39332+2511634]\n",
      "\tGetHandleVerifier [0x0xd09eda+220858]\n",
      "\tGetHandleVerifier [0x0xcfa528+156936]\n",
      "\tGetHandleVerifier [0x0xd00c5d+183357]\n",
      "\tGetHandleVerifier [0x0xceb6c8+95912]\n",
      "\tGetHandleVerifier [0x0xceb870+96336]\n",
      "\tGetHandleVerifier [0x0xcd664a+9770]\n",
      "\tBaseThreadInitThunk [0x0x75d15d49+25]\n",
      "\tRtlInitializeExceptionChain [0x0x7786d03b+107]\n",
      "\tRtlGetAppContainerNamedObjectPath [0x0x7786cfc1+561]\n",
      "\n"
     ]
    },
    {
     "name": "stderr",
     "output_type": "stream",
     "text": [
      "Scraping NICs:  25%|██▌       | 285/1127 [3:17:10<6:41:28, 28.61s/it]"
     ]
    },
    {
     "name": "stdout",
     "output_type": "stream",
     "text": [
      "Saved backup with 137226 results\n",
      "Error occurred while processing the table. Message: \n",
      "Stacktrace:\n",
      "\tGetHandleVerifier [0x0xce3763+63299]\n",
      "\tGetHandleVerifier [0x0xce37a4+63364]\n",
      "\t(No symbol) [0x0xb11113]\n",
      "\t(No symbol) [0x0xb5987e]\n",
      "\t(No symbol) [0x0xb59c1b]\n",
      "\t(No symbol) [0x0xba2212]\n",
      "\t(No symbol) [0x0xb7e5c4]\n",
      "\t(No symbol) [0x0xb9fa4a]\n",
      "\t(No symbol) [0x0xb7e376]\n",
      "\t(No symbol) [0x0xb4d6e0]\n",
      "\t(No symbol) [0x0xb4e544]\n",
      "\tGetHandleVerifier [0x0xf3e033+2531347]\n",
      "\tGetHandleVerifier [0x0xf39332+2511634]\n",
      "\tGetHandleVerifier [0x0xd09eda+220858]\n",
      "\tGetHandleVerifier [0x0xcfa528+156936]\n",
      "\tGetHandleVerifier [0x0xd00c5d+183357]\n",
      "\tGetHandleVerifier [0x0xceb6c8+95912]\n",
      "\tGetHandleVerifier [0x0xceb870+96336]\n",
      "\tGetHandleVerifier [0x0xcd664a+9770]\n",
      "\tBaseThreadInitThunk [0x0x75d15d49+25]\n",
      "\tRtlInitializeExceptionChain [0x0x7786d03b+107]\n",
      "\tRtlGetAppContainerNamedObjectPath [0x0x7786cfc1+561]\n",
      "\n"
     ]
    },
    {
     "name": "stderr",
     "output_type": "stream",
     "text": [
      "Scraping NICs:  25%|██▌       | 286/1127 [3:17:28<5:59:39, 25.66s/it]"
     ]
    },
    {
     "name": "stdout",
     "output_type": "stream",
     "text": [
      "Saved backup with 137226 results\n",
      "Dropdown not found or not interactable.\n",
      "Error occurred while processing the table. Message: \n",
      "Stacktrace:\n",
      "\tGetHandleVerifier [0x0xce3763+63299]\n",
      "\tGetHandleVerifier [0x0xce37a4+63364]\n",
      "\t(No symbol) [0x0xb11113]\n",
      "\t(No symbol) [0x0xb5987e]\n",
      "\t(No symbol) [0x0xb59c1b]\n",
      "\t(No symbol) [0x0xba2212]\n",
      "\t(No symbol) [0x0xb7e5c4]\n",
      "\t(No symbol) [0x0xb9fa4a]\n",
      "\t(No symbol) [0x0xb7e376]\n",
      "\t(No symbol) [0x0xb4d6e0]\n",
      "\t(No symbol) [0x0xb4e544]\n",
      "\tGetHandleVerifier [0x0xf3e033+2531347]\n",
      "\tGetHandleVerifier [0x0xf39332+2511634]\n",
      "\tGetHandleVerifier [0x0xd09eda+220858]\n",
      "\tGetHandleVerifier [0x0xcfa528+156936]\n",
      "\tGetHandleVerifier [0x0xd00c5d+183357]\n",
      "\tGetHandleVerifier [0x0xceb6c8+95912]\n",
      "\tGetHandleVerifier [0x0xceb870+96336]\n",
      "\tGetHandleVerifier [0x0xcd664a+9770]\n",
      "\tBaseThreadInitThunk [0x0x75d15d49+25]\n",
      "\tRtlInitializeExceptionChain [0x0x7786d03b+107]\n",
      "\tRtlGetAppContainerNamedObjectPath [0x0x7786cfc1+561]\n",
      "\n"
     ]
    },
    {
     "name": "stderr",
     "output_type": "stream",
     "text": [
      "Scraping NICs:  25%|██▌       | 287/1127 [3:18:02<6:31:44, 27.98s/it]"
     ]
    },
    {
     "name": "stdout",
     "output_type": "stream",
     "text": [
      "Saved backup with 137226 results\n",
      "Dropdown not found or not interactable.\n",
      "Error occurred while processing the table. Message: \n",
      "Stacktrace:\n",
      "\tGetHandleVerifier [0x0xce3763+63299]\n",
      "\tGetHandleVerifier [0x0xce37a4+63364]\n",
      "\t(No symbol) [0x0xb11113]\n",
      "\t(No symbol) [0x0xb5987e]\n",
      "\t(No symbol) [0x0xb59c1b]\n",
      "\t(No symbol) [0x0xba2212]\n",
      "\t(No symbol) [0x0xb7e5c4]\n",
      "\t(No symbol) [0x0xb9fa4a]\n",
      "\t(No symbol) [0x0xb7e376]\n",
      "\t(No symbol) [0x0xb4d6e0]\n",
      "\t(No symbol) [0x0xb4e544]\n",
      "\tGetHandleVerifier [0x0xf3e033+2531347]\n",
      "\tGetHandleVerifier [0x0xf39332+2511634]\n",
      "\tGetHandleVerifier [0x0xd09eda+220858]\n",
      "\tGetHandleVerifier [0x0xcfa528+156936]\n",
      "\tGetHandleVerifier [0x0xd00c5d+183357]\n",
      "\tGetHandleVerifier [0x0xceb6c8+95912]\n",
      "\tGetHandleVerifier [0x0xceb870+96336]\n",
      "\tGetHandleVerifier [0x0xcd664a+9770]\n",
      "\tBaseThreadInitThunk [0x0x75d15d49+25]\n",
      "\tRtlInitializeExceptionChain [0x0x7786d03b+107]\n",
      "\tRtlGetAppContainerNamedObjectPath [0x0x7786cfc1+561]\n",
      "\n"
     ]
    },
    {
     "name": "stderr",
     "output_type": "stream",
     "text": [
      "Scraping NICs:  26%|██▌       | 288/1127 [3:18:49<7:52:43, 33.81s/it]"
     ]
    },
    {
     "name": "stdout",
     "output_type": "stream",
     "text": [
      "Saved backup with 137226 results\n",
      "Dropdown not found or not interactable.\n",
      "Rows captured: 270\n"
     ]
    },
    {
     "name": "stderr",
     "output_type": "stream",
     "text": [
      "Scraping NICs:  26%|██▌       | 289/1127 [3:19:20<7:38:05, 32.80s/it]"
     ]
    },
    {
     "name": "stdout",
     "output_type": "stream",
     "text": [
      "Saved backup with 137496 results\n",
      "Error occurred while processing the table. Message: \n",
      "Stacktrace:\n",
      "\tGetHandleVerifier [0x0xce3763+63299]\n",
      "\tGetHandleVerifier [0x0xce37a4+63364]\n",
      "\t(No symbol) [0x0xb11113]\n",
      "\t(No symbol) [0x0xb5987e]\n",
      "\t(No symbol) [0x0xb59c1b]\n",
      "\t(No symbol) [0x0xba2212]\n",
      "\t(No symbol) [0x0xb7e5c4]\n",
      "\t(No symbol) [0x0xb9fa4a]\n",
      "\t(No symbol) [0x0xb7e376]\n",
      "\t(No symbol) [0x0xb4d6e0]\n",
      "\t(No symbol) [0x0xb4e544]\n",
      "\tGetHandleVerifier [0x0xf3e033+2531347]\n",
      "\tGetHandleVerifier [0x0xf39332+2511634]\n",
      "\tGetHandleVerifier [0x0xd09eda+220858]\n",
      "\tGetHandleVerifier [0x0xcfa528+156936]\n",
      "\tGetHandleVerifier [0x0xd00c5d+183357]\n",
      "\tGetHandleVerifier [0x0xceb6c8+95912]\n",
      "\tGetHandleVerifier [0x0xceb870+96336]\n",
      "\tGetHandleVerifier [0x0xcd664a+9770]\n",
      "\tBaseThreadInitThunk [0x0x75d15d49+25]\n",
      "\tRtlInitializeExceptionChain [0x0x7786d03b+107]\n",
      "\tRtlGetAppContainerNamedObjectPath [0x0x7786cfc1+561]\n",
      "\n"
     ]
    },
    {
     "name": "stderr",
     "output_type": "stream",
     "text": [
      "Scraping NICs:  26%|██▌       | 290/1127 [3:19:37<6:31:29, 28.06s/it]"
     ]
    },
    {
     "name": "stdout",
     "output_type": "stream",
     "text": [
      "Saved backup with 137496 results\n",
      "Dropdown not found or not interactable.\n",
      "Error occurred while processing the table. Message: \n",
      "Stacktrace:\n",
      "\tGetHandleVerifier [0x0xce3763+63299]\n",
      "\tGetHandleVerifier [0x0xce37a4+63364]\n",
      "\t(No symbol) [0x0xb11113]\n",
      "\t(No symbol) [0x0xb5987e]\n",
      "\t(No symbol) [0x0xb59c1b]\n",
      "\t(No symbol) [0x0xba2212]\n",
      "\t(No symbol) [0x0xb7e5c4]\n",
      "\t(No symbol) [0x0xb9fa4a]\n",
      "\t(No symbol) [0x0xb7e376]\n",
      "\t(No symbol) [0x0xb4d6e0]\n",
      "\t(No symbol) [0x0xb4e544]\n",
      "\tGetHandleVerifier [0x0xf3e033+2531347]\n",
      "\tGetHandleVerifier [0x0xf39332+2511634]\n",
      "\tGetHandleVerifier [0x0xd09eda+220858]\n",
      "\tGetHandleVerifier [0x0xcfa528+156936]\n",
      "\tGetHandleVerifier [0x0xd00c5d+183357]\n",
      "\tGetHandleVerifier [0x0xceb6c8+95912]\n",
      "\tGetHandleVerifier [0x0xceb870+96336]\n",
      "\tGetHandleVerifier [0x0xcd664a+9770]\n",
      "\tBaseThreadInitThunk [0x0x75d15d49+25]\n",
      "\tRtlInitializeExceptionChain [0x0x7786d03b+107]\n",
      "\tRtlGetAppContainerNamedObjectPath [0x0x7786cfc1+561]\n",
      "\n"
     ]
    },
    {
     "name": "stderr",
     "output_type": "stream",
     "text": [
      "Scraping NICs:  26%|██▌       | 291/1127 [3:20:24<7:51:30, 33.84s/it]"
     ]
    },
    {
     "name": "stdout",
     "output_type": "stream",
     "text": [
      "Saved backup with 137496 results\n",
      "Rows captured: 19\n"
     ]
    },
    {
     "name": "stderr",
     "output_type": "stream",
     "text": [
      "Scraping NICs:  26%|██▌       | 292/1127 [3:20:30<5:53:25, 25.40s/it]"
     ]
    },
    {
     "name": "stdout",
     "output_type": "stream",
     "text": [
      "Saved backup with 137515 results\n",
      "Dropdown not found or not interactable.\n",
      "Error occurred while processing the table. Message: \n",
      "Stacktrace:\n",
      "\tGetHandleVerifier [0x0xce3763+63299]\n",
      "\tGetHandleVerifier [0x0xce37a4+63364]\n",
      "\t(No symbol) [0x0xb11113]\n",
      "\t(No symbol) [0x0xb5987e]\n",
      "\t(No symbol) [0x0xb59c1b]\n",
      "\t(No symbol) [0x0xba2212]\n",
      "\t(No symbol) [0x0xb7e5c4]\n",
      "\t(No symbol) [0x0xb9fa4a]\n",
      "\t(No symbol) [0x0xb7e376]\n",
      "\t(No symbol) [0x0xb4d6e0]\n",
      "\t(No symbol) [0x0xb4e544]\n",
      "\tGetHandleVerifier [0x0xf3e033+2531347]\n",
      "\tGetHandleVerifier [0x0xf39332+2511634]\n",
      "\tGetHandleVerifier [0x0xd09eda+220858]\n",
      "\tGetHandleVerifier [0x0xcfa528+156936]\n",
      "\tGetHandleVerifier [0x0xd00c5d+183357]\n",
      "\tGetHandleVerifier [0x0xceb6c8+95912]\n",
      "\tGetHandleVerifier [0x0xceb870+96336]\n",
      "\tGetHandleVerifier [0x0xcd664a+9770]\n",
      "\tBaseThreadInitThunk [0x0x75d15d49+25]\n",
      "\tRtlInitializeExceptionChain [0x0x7786d03b+107]\n",
      "\tRtlGetAppContainerNamedObjectPath [0x0x7786cfc1+561]\n",
      "\n"
     ]
    },
    {
     "name": "stderr",
     "output_type": "stream",
     "text": [
      "Scraping NICs:  26%|██▌       | 293/1127 [3:21:11<7:00:13, 30.23s/it]"
     ]
    },
    {
     "name": "stdout",
     "output_type": "stream",
     "text": [
      "Saved backup with 137515 results\n",
      "Rows captured: 1\n"
     ]
    },
    {
     "name": "stderr",
     "output_type": "stream",
     "text": [
      "Scraping NICs:  26%|██▌       | 294/1127 [3:21:34<6:29:25, 28.05s/it]"
     ]
    },
    {
     "name": "stdout",
     "output_type": "stream",
     "text": [
      "Saved backup with 137516 results\n",
      "Dropdown not found or not interactable.\n",
      "Error occurred while processing the table. Message: \n",
      "Stacktrace:\n",
      "\tGetHandleVerifier [0x0xce3763+63299]\n",
      "\tGetHandleVerifier [0x0xce37a4+63364]\n",
      "\t(No symbol) [0x0xb11113]\n",
      "\t(No symbol) [0x0xb5987e]\n",
      "\t(No symbol) [0x0xb59c1b]\n",
      "\t(No symbol) [0x0xba2212]\n",
      "\t(No symbol) [0x0xb7e5c4]\n",
      "\t(No symbol) [0x0xb9fa4a]\n",
      "\t(No symbol) [0x0xb7e376]\n",
      "\t(No symbol) [0x0xb4d6e0]\n",
      "\t(No symbol) [0x0xb4e544]\n",
      "\tGetHandleVerifier [0x0xf3e033+2531347]\n",
      "\tGetHandleVerifier [0x0xf39332+2511634]\n",
      "\tGetHandleVerifier [0x0xd09eda+220858]\n",
      "\tGetHandleVerifier [0x0xcfa528+156936]\n",
      "\tGetHandleVerifier [0x0xd00c5d+183357]\n",
      "\tGetHandleVerifier [0x0xceb6c8+95912]\n",
      "\tGetHandleVerifier [0x0xceb870+96336]\n",
      "\tGetHandleVerifier [0x0xcd664a+9770]\n",
      "\tBaseThreadInitThunk [0x0x75d15d49+25]\n",
      "\tRtlInitializeExceptionChain [0x0x7786d03b+107]\n",
      "\tRtlGetAppContainerNamedObjectPath [0x0x7786cfc1+561]\n",
      "\n"
     ]
    },
    {
     "name": "stderr",
     "output_type": "stream",
     "text": [
      "Scraping NICs:  26%|██▌       | 295/1127 [3:22:22<7:49:46, 33.88s/it]"
     ]
    },
    {
     "name": "stdout",
     "output_type": "stream",
     "text": [
      "Saved backup with 137516 results\n",
      "Dropdown not found or not interactable.\n",
      "Error occurred while processing the table. Message: \n",
      "Stacktrace:\n",
      "\tGetHandleVerifier [0x0xce3763+63299]\n",
      "\tGetHandleVerifier [0x0xce37a4+63364]\n",
      "\t(No symbol) [0x0xb11113]\n",
      "\t(No symbol) [0x0xb5987e]\n",
      "\t(No symbol) [0x0xb59c1b]\n",
      "\t(No symbol) [0x0xba2212]\n",
      "\t(No symbol) [0x0xb7e5c4]\n",
      "\t(No symbol) [0x0xb9fa4a]\n",
      "\t(No symbol) [0x0xb7e376]\n",
      "\t(No symbol) [0x0xb4d6e0]\n",
      "\t(No symbol) [0x0xb4e544]\n",
      "\tGetHandleVerifier [0x0xf3e033+2531347]\n",
      "\tGetHandleVerifier [0x0xf39332+2511634]\n",
      "\tGetHandleVerifier [0x0xd09eda+220858]\n",
      "\tGetHandleVerifier [0x0xcfa528+156936]\n",
      "\tGetHandleVerifier [0x0xd00c5d+183357]\n",
      "\tGetHandleVerifier [0x0xceb6c8+95912]\n",
      "\tGetHandleVerifier [0x0xceb870+96336]\n",
      "\tGetHandleVerifier [0x0xcd664a+9770]\n",
      "\tBaseThreadInitThunk [0x0x75d15d49+25]\n",
      "\tRtlInitializeExceptionChain [0x0x7786d03b+107]\n",
      "\tRtlGetAppContainerNamedObjectPath [0x0x7786cfc1+561]\n",
      "\n"
     ]
    },
    {
     "name": "stderr",
     "output_type": "stream",
     "text": [
      "Scraping NICs:  26%|██▋       | 296/1127 [3:23:09<8:45:37, 37.95s/it]"
     ]
    },
    {
     "name": "stdout",
     "output_type": "stream",
     "text": [
      "Saved backup with 137516 results\n",
      "Rows captured: 2669\n"
     ]
    },
    {
     "name": "stderr",
     "output_type": "stream",
     "text": [
      "Scraping NICs:  26%|██▋       | 297/1127 [3:23:22<7:01:19, 30.46s/it]"
     ]
    },
    {
     "name": "stdout",
     "output_type": "stream",
     "text": [
      "Saved backup with 140185 results\n",
      "Dropdown not found or not interactable.\n",
      "Error occurred while processing the table. Message: \n",
      "Stacktrace:\n",
      "\tGetHandleVerifier [0x0xce3763+63299]\n",
      "\tGetHandleVerifier [0x0xce37a4+63364]\n",
      "\t(No symbol) [0x0xb11113]\n",
      "\t(No symbol) [0x0xb5987e]\n",
      "\t(No symbol) [0x0xb59c1b]\n",
      "\t(No symbol) [0x0xba2212]\n",
      "\t(No symbol) [0x0xb7e5c4]\n",
      "\t(No symbol) [0x0xb9fa4a]\n",
      "\t(No symbol) [0x0xb7e376]\n",
      "\t(No symbol) [0x0xb4d6e0]\n",
      "\t(No symbol) [0x0xb4e544]\n",
      "\tGetHandleVerifier [0x0xf3e033+2531347]\n",
      "\tGetHandleVerifier [0x0xf39332+2511634]\n",
      "\tGetHandleVerifier [0x0xd09eda+220858]\n",
      "\tGetHandleVerifier [0x0xcfa528+156936]\n",
      "\tGetHandleVerifier [0x0xd00c5d+183357]\n",
      "\tGetHandleVerifier [0x0xceb6c8+95912]\n",
      "\tGetHandleVerifier [0x0xceb870+96336]\n",
      "\tGetHandleVerifier [0x0xcd664a+9770]\n",
      "\tBaseThreadInitThunk [0x0x75d15d49+25]\n",
      "\tRtlInitializeExceptionChain [0x0x7786d03b+107]\n",
      "\tRtlGetAppContainerNamedObjectPath [0x0x7786cfc1+561]\n",
      "\n"
     ]
    },
    {
     "name": "stderr",
     "output_type": "stream",
     "text": [
      "Scraping NICs:  26%|██▋       | 298/1127 [3:24:10<8:11:59, 35.61s/it]"
     ]
    },
    {
     "name": "stdout",
     "output_type": "stream",
     "text": [
      "Saved backup with 140185 results\n",
      "Rows captured: 183\n"
     ]
    },
    {
     "name": "stderr",
     "output_type": "stream",
     "text": [
      "Scraping NICs:  27%|██▋       | 299/1127 [3:25:16<10:18:01, 44.78s/it]"
     ]
    },
    {
     "name": "stdout",
     "output_type": "stream",
     "text": [
      "Saved backup with 140368 results\n",
      "Dropdown not found or not interactable.\n",
      "Error occurred while processing the table. Message: \n",
      "Stacktrace:\n",
      "\tGetHandleVerifier [0x0xce3763+63299]\n",
      "\tGetHandleVerifier [0x0xce37a4+63364]\n",
      "\t(No symbol) [0x0xb11113]\n",
      "\t(No symbol) [0x0xb5987e]\n",
      "\t(No symbol) [0x0xb59c1b]\n",
      "\t(No symbol) [0x0xba2212]\n",
      "\t(No symbol) [0x0xb7e5c4]\n",
      "\t(No symbol) [0x0xb9fa4a]\n",
      "\t(No symbol) [0x0xb7e376]\n",
      "\t(No symbol) [0x0xb4d6e0]\n",
      "\t(No symbol) [0x0xb4e544]\n",
      "\tGetHandleVerifier [0x0xf3e033+2531347]\n",
      "\tGetHandleVerifier [0x0xf39332+2511634]\n",
      "\tGetHandleVerifier [0x0xd09eda+220858]\n",
      "\tGetHandleVerifier [0x0xcfa528+156936]\n",
      "\tGetHandleVerifier [0x0xd00c5d+183357]\n",
      "\tGetHandleVerifier [0x0xceb6c8+95912]\n",
      "\tGetHandleVerifier [0x0xceb870+96336]\n",
      "\tGetHandleVerifier [0x0xcd664a+9770]\n",
      "\tBaseThreadInitThunk [0x0x75d15d49+25]\n",
      "\tRtlInitializeExceptionChain [0x0x7786d03b+107]\n",
      "\tRtlGetAppContainerNamedObjectPath [0x0x7786cfc1+561]\n",
      "\n"
     ]
    },
    {
     "name": "stderr",
     "output_type": "stream",
     "text": [
      "Scraping NICs:  27%|██▋       | 300/1127 [3:26:04<10:32:20, 45.88s/it]"
     ]
    },
    {
     "name": "stdout",
     "output_type": "stream",
     "text": [
      "Saved backup with 140368 results\n",
      "Rows captured: 569\n"
     ]
    },
    {
     "name": "stderr",
     "output_type": "stream",
     "text": [
      "Scraping NICs:  27%|██▋       | 301/1127 [3:27:01<11:17:00, 49.18s/it]"
     ]
    },
    {
     "name": "stdout",
     "output_type": "stream",
     "text": [
      "Saved backup with 140937 results\n",
      "Rows captured: 1589\n"
     ]
    },
    {
     "name": "stderr",
     "output_type": "stream",
     "text": [
      "Scraping NICs:  27%|██▋       | 302/1127 [3:27:16<8:55:12, 38.92s/it] "
     ]
    },
    {
     "name": "stdout",
     "output_type": "stream",
     "text": [
      "Saved backup with 142526 results\n",
      "Rows captured: 158\n"
     ]
    },
    {
     "name": "stderr",
     "output_type": "stream",
     "text": [
      "Scraping NICs:  27%|██▋       | 303/1127 [3:28:56<13:03:35, 57.06s/it]"
     ]
    },
    {
     "name": "stdout",
     "output_type": "stream",
     "text": [
      "Saved backup with 142684 results\n",
      "Rows captured: 775\n"
     ]
    },
    {
     "name": "stderr",
     "output_type": "stream",
     "text": [
      "Scraping NICs:  27%|██▋       | 304/1127 [3:29:15<10:26:10, 45.65s/it]"
     ]
    },
    {
     "name": "stdout",
     "output_type": "stream",
     "text": [
      "Saved backup with 143459 results\n",
      "Rows captured: 281\n"
     ]
    },
    {
     "name": "stderr",
     "output_type": "stream",
     "text": [
      "Scraping NICs:  27%|██▋       | 305/1127 [3:29:51<9:47:40, 42.90s/it] "
     ]
    },
    {
     "name": "stdout",
     "output_type": "stream",
     "text": [
      "Saved backup with 143740 results\n",
      "Rows captured: 133\n"
     ]
    },
    {
     "name": "stderr",
     "output_type": "stream",
     "text": [
      "Scraping NICs:  27%|██▋       | 306/1127 [3:30:45<10:32:42, 46.24s/it]"
     ]
    },
    {
     "name": "stdout",
     "output_type": "stream",
     "text": [
      "Saved backup with 143873 results\n",
      "Rows captured: 953\n"
     ]
    },
    {
     "name": "stderr",
     "output_type": "stream",
     "text": [
      "Scraping NICs:  27%|██▋       | 307/1127 [3:30:56<8:07:37, 35.68s/it] "
     ]
    },
    {
     "name": "stdout",
     "output_type": "stream",
     "text": [
      "Saved backup with 144826 results\n",
      "Dropdown not found or not interactable.\n",
      "Dropdown not found or not interactable.\n",
      "Error occurred while processing the table. Message: \n",
      "Stacktrace:\n",
      "\tGetHandleVerifier [0x0xce3763+63299]\n",
      "\tGetHandleVerifier [0x0xce37a4+63364]\n",
      "\t(No symbol) [0x0xb11113]\n",
      "\t(No symbol) [0x0xb5987e]\n",
      "\t(No symbol) [0x0xb59c1b]\n",
      "\t(No symbol) [0x0xba2212]\n",
      "\t(No symbol) [0x0xb7e5c4]\n",
      "\t(No symbol) [0x0xb9fa4a]\n",
      "\t(No symbol) [0x0xb7e376]\n",
      "\t(No symbol) [0x0xb4d6e0]\n",
      "\t(No symbol) [0x0xb4e544]\n",
      "\tGetHandleVerifier [0x0xf3e033+2531347]\n",
      "\tGetHandleVerifier [0x0xf39332+2511634]\n",
      "\tGetHandleVerifier [0x0xd09eda+220858]\n",
      "\tGetHandleVerifier [0x0xcfa528+156936]\n",
      "\tGetHandleVerifier [0x0xd00c5d+183357]\n",
      "\tGetHandleVerifier [0x0xceb6c8+95912]\n",
      "\tGetHandleVerifier [0x0xceb870+96336]\n",
      "\tGetHandleVerifier [0x0xcd664a+9770]\n",
      "\tBaseThreadInitThunk [0x0x75d15d49+25]\n",
      "\tRtlInitializeExceptionChain [0x0x7786d03b+107]\n",
      "\tRtlGetAppContainerNamedObjectPath [0x0x7786cfc1+561]\n",
      "\n",
      "Error occurred while processing the table. Message: \n",
      "Stacktrace:\n",
      "\tGetHandleVerifier [0x0xce3763+63299]\n",
      "\tGetHandleVerifier [0x0xce37a4+63364]\n",
      "\t(No symbol) [0x0xb11113]\n",
      "\t(No symbol) [0x0xb5987e]\n",
      "\t(No symbol) [0x0xb59c1b]\n",
      "\t(No symbol) [0x0xba2212]\n",
      "\t(No symbol) [0x0xb7e5c4]\n",
      "\t(No symbol) [0x0xb9fa4a]\n",
      "\t(No symbol) [0x0xb7e376]\n",
      "\t(No symbol) [0x0xb4d6e0]\n",
      "\t(No symbol) [0x0xb4e544]\n",
      "\tGetHandleVerifier [0x0xf3e033+2531347]\n",
      "\tGetHandleVerifier [0x0xf39332+2511634]\n",
      "\tGetHandleVerifier [0x0xd09eda+220858]\n",
      "\tGetHandleVerifier [0x0xcfa528+156936]\n",
      "\tGetHandleVerifier [0x0xd00c5d+183357]\n",
      "\tGetHandleVerifier [0x0xceb6c8+95912]\n",
      "\tGetHandleVerifier [0x0xceb870+96336]\n",
      "\tGetHandleVerifier [0x0xcd664a+9770]\n",
      "\tBaseThreadInitThunk [0x0x75d15d49+25]\n",
      "\tRtlInitializeExceptionChain [0x0x7786d03b+107]\n",
      "\tRtlGetAppContainerNamedObjectPath [0x0x7786cfc1+561]\n",
      "\n"
     ]
    },
    {
     "name": "stderr",
     "output_type": "stream",
     "text": [
      "Scraping NICs:  27%|██▋       | 308/1127 [3:31:44<8:57:28, 39.38s/it]"
     ]
    },
    {
     "name": "stdout",
     "output_type": "stream",
     "text": [
      "Saved backup with 144826 results\n"
     ]
    },
    {
     "name": "stderr",
     "output_type": "stream",
     "text": [
      "Scraping NICs:  27%|██▋       | 309/1127 [3:31:46<6:21:03, 27.95s/it]"
     ]
    },
    {
     "name": "stdout",
     "output_type": "stream",
     "text": [
      "Saved backup with 144826 results\n",
      "Rows captured: 621\n"
     ]
    },
    {
     "name": "stderr",
     "output_type": "stream",
     "text": [
      "Scraping NICs:  28%|██▊       | 310/1127 [3:31:48<4:35:33, 20.24s/it]"
     ]
    },
    {
     "name": "stdout",
     "output_type": "stream",
     "text": [
      "Saved backup with 145447 results\n",
      "Dropdown not found or not interactable.\n",
      "Dropdown not found or not interactable.\n",
      "Dropdown not found or not interactable.\n",
      "Error occurred while processing the table. Message: \n",
      "Stacktrace:\n",
      "\tGetHandleVerifier [0x0xce3763+63299]\n",
      "\tGetHandleVerifier [0x0xce37a4+63364]\n",
      "\t(No symbol) [0x0xb11113]\n",
      "\t(No symbol) [0x0xb5987e]\n",
      "\t(No symbol) [0x0xb59c1b]\n",
      "\t(No symbol) [0x0xba2212]\n",
      "\t(No symbol) [0x0xb7e5c4]\n",
      "\t(No symbol) [0x0xb9fa4a]\n",
      "\t(No symbol) [0x0xb7e376]\n",
      "\t(No symbol) [0x0xb4d6e0]\n",
      "\t(No symbol) [0x0xb4e544]\n",
      "\tGetHandleVerifier [0x0xf3e033+2531347]\n",
      "\tGetHandleVerifier [0x0xf39332+2511634]\n",
      "\tGetHandleVerifier [0x0xd09eda+220858]\n",
      "\tGetHandleVerifier [0x0xcfa528+156936]\n",
      "\tGetHandleVerifier [0x0xd00c5d+183357]\n",
      "\tGetHandleVerifier [0x0xceb6c8+95912]\n",
      "\tGetHandleVerifier [0x0xceb870+96336]\n",
      "\tGetHandleVerifier [0x0xcd664a+9770]\n",
      "\tBaseThreadInitThunk [0x0x75d15d49+25]\n",
      "\tRtlInitializeExceptionChain [0x0x7786d03b+107]\n",
      "\tRtlGetAppContainerNamedObjectPath [0x0x7786cfc1+561]\n",
      "\n"
     ]
    },
    {
     "name": "stderr",
     "output_type": "stream",
     "text": [
      "Scraping NICs:  28%|██▊       | 311/1127 [3:32:38<6:38:29, 29.30s/it]"
     ]
    },
    {
     "name": "stdout",
     "output_type": "stream",
     "text": [
      "Saved backup with 145447 results\n",
      "Rows captured: 927\n"
     ]
    },
    {
     "name": "stderr",
     "output_type": "stream",
     "text": [
      "Scraping NICs:  28%|██▊       | 312/1127 [3:33:28<8:00:38, 35.39s/it]"
     ]
    },
    {
     "name": "stdout",
     "output_type": "stream",
     "text": [
      "Saved backup with 146374 results\n",
      "Dropdown not found or not interactable.\n",
      "Rows captured: 820\n"
     ]
    },
    {
     "name": "stderr",
     "output_type": "stream",
     "text": [
      "Scraping NICs:  28%|██▊       | 313/1127 [3:33:55<7:25:50, 32.86s/it]"
     ]
    },
    {
     "name": "stdout",
     "output_type": "stream",
     "text": [
      "Saved backup with 147194 results\n",
      "Error occurred while processing the table. Message: \n",
      "Stacktrace:\n",
      "\tGetHandleVerifier [0x0xce3763+63299]\n",
      "\tGetHandleVerifier [0x0xce37a4+63364]\n",
      "\t(No symbol) [0x0xb11113]\n",
      "\t(No symbol) [0x0xb5987e]\n",
      "\t(No symbol) [0x0xb59c1b]\n",
      "\t(No symbol) [0x0xba2212]\n",
      "\t(No symbol) [0x0xb7e5c4]\n",
      "\t(No symbol) [0x0xb9fa4a]\n",
      "\t(No symbol) [0x0xb7e376]\n",
      "\t(No symbol) [0x0xb4d6e0]\n",
      "\t(No symbol) [0x0xb4e544]\n",
      "\tGetHandleVerifier [0x0xf3e033+2531347]\n",
      "\tGetHandleVerifier [0x0xf39332+2511634]\n",
      "\tGetHandleVerifier [0x0xd09eda+220858]\n",
      "\tGetHandleVerifier [0x0xcfa528+156936]\n",
      "\tGetHandleVerifier [0x0xd00c5d+183357]\n",
      "\tGetHandleVerifier [0x0xceb6c8+95912]\n",
      "\tGetHandleVerifier [0x0xceb870+96336]\n",
      "\tGetHandleVerifier [0x0xcd664a+9770]\n",
      "\tBaseThreadInitThunk [0x0x75d15d49+25]\n",
      "\tRtlInitializeExceptionChain [0x0x7786d03b+107]\n",
      "\tRtlGetAppContainerNamedObjectPath [0x0x7786cfc1+561]\n",
      "\n"
     ]
    },
    {
     "name": "stderr",
     "output_type": "stream",
     "text": [
      "Scraping NICs:  28%|██▊       | 314/1127 [3:34:19<6:49:55, 30.25s/it]"
     ]
    },
    {
     "name": "stdout",
     "output_type": "stream",
     "text": [
      "Saved backup with 147194 results\n",
      "Dropdown not found or not interactable.\n",
      "Dropdown not found or not interactable.\n",
      "Error occurred while processing the table. Message: \n",
      "Stacktrace:\n",
      "\tGetHandleVerifier [0x0xce3763+63299]\n",
      "\tGetHandleVerifier [0x0xce37a4+63364]\n",
      "\t(No symbol) [0x0xb11113]\n",
      "\t(No symbol) [0x0xb5987e]\n",
      "\t(No symbol) [0x0xb59c1b]\n",
      "\t(No symbol) [0x0xba2212]\n",
      "\t(No symbol) [0x0xb7e5c4]\n",
      "\t(No symbol) [0x0xb9fa4a]\n",
      "\t(No symbol) [0x0xb7e376]\n",
      "\t(No symbol) [0x0xb4d6e0]\n",
      "\t(No symbol) [0x0xb4e544]\n",
      "\tGetHandleVerifier [0x0xf3e033+2531347]\n",
      "\tGetHandleVerifier [0x0xf39332+2511634]\n",
      "\tGetHandleVerifier [0x0xd09eda+220858]\n",
      "\tGetHandleVerifier [0x0xcfa528+156936]\n",
      "\tGetHandleVerifier [0x0xd00c5d+183357]\n",
      "\tGetHandleVerifier [0x0xceb6c8+95912]\n",
      "\tGetHandleVerifier [0x0xceb870+96336]\n",
      "\tGetHandleVerifier [0x0xcd664a+9770]\n",
      "\tBaseThreadInitThunk [0x0x75d15d49+25]\n",
      "\tRtlInitializeExceptionChain [0x0x7786d03b+107]\n",
      "\tRtlGetAppContainerNamedObjectPath [0x0x7786cfc1+561]\n",
      "\n"
     ]
    },
    {
     "name": "stderr",
     "output_type": "stream",
     "text": [
      "Scraping NICs:  28%|██▊       | 315/1127 [3:35:07<8:01:30, 35.58s/it]"
     ]
    },
    {
     "name": "stdout",
     "output_type": "stream",
     "text": [
      "Saved backup with 147194 results\n",
      "Dropdown not found or not interactable.\n",
      "Rows captured: 197\n"
     ]
    },
    {
     "name": "stderr",
     "output_type": "stream",
     "text": [
      "Scraping NICs:  28%|██▊       | 316/1127 [3:35:34<7:27:10, 33.08s/it]"
     ]
    },
    {
     "name": "stdout",
     "output_type": "stream",
     "text": [
      "Saved backup with 147391 results\n",
      "Error occurred while processing the table. Message: \n",
      "Stacktrace:\n",
      "\tGetHandleVerifier [0x0xce3763+63299]\n",
      "\tGetHandleVerifier [0x0xce37a4+63364]\n",
      "\t(No symbol) [0x0xb11113]\n",
      "\t(No symbol) [0x0xb5987e]\n",
      "\t(No symbol) [0x0xb59c1b]\n",
      "\t(No symbol) [0x0xba2212]\n",
      "\t(No symbol) [0x0xb7e5c4]\n",
      "\t(No symbol) [0x0xb9fa4a]\n",
      "\t(No symbol) [0x0xb7e376]\n",
      "\t(No symbol) [0x0xb4d6e0]\n",
      "\t(No symbol) [0x0xb4e544]\n",
      "\tGetHandleVerifier [0x0xf3e033+2531347]\n",
      "\tGetHandleVerifier [0x0xf39332+2511634]\n",
      "\tGetHandleVerifier [0x0xd09eda+220858]\n",
      "\tGetHandleVerifier [0x0xcfa528+156936]\n",
      "\tGetHandleVerifier [0x0xd00c5d+183357]\n",
      "\tGetHandleVerifier [0x0xceb6c8+95912]\n",
      "\tGetHandleVerifier [0x0xceb870+96336]\n",
      "\tGetHandleVerifier [0x0xcd664a+9770]\n",
      "\tBaseThreadInitThunk [0x0x75d15d49+25]\n",
      "\tRtlInitializeExceptionChain [0x0x7786d03b+107]\n",
      "\tRtlGetAppContainerNamedObjectPath [0x0x7786cfc1+561]\n",
      "\n"
     ]
    },
    {
     "name": "stderr",
     "output_type": "stream",
     "text": [
      "Scraping NICs:  28%|██▊       | 317/1127 [3:35:55<6:34:57, 29.26s/it]"
     ]
    },
    {
     "name": "stdout",
     "output_type": "stream",
     "text": [
      "Saved backup with 147391 results\n",
      "Rows captured: 608\n"
     ]
    },
    {
     "name": "stderr",
     "output_type": "stream",
     "text": [
      "Scraping NICs:  28%|██▊       | 318/1127 [3:38:10<13:44:05, 61.12s/it]"
     ]
    },
    {
     "name": "stdout",
     "output_type": "stream",
     "text": [
      "Saved backup with 147999 results\n",
      "Dropdown not found or not interactable.\n",
      "Rows captured: 2004\n"
     ]
    },
    {
     "name": "stderr",
     "output_type": "stream",
     "text": [
      "Scraping NICs:  28%|██▊       | 319/1127 [3:38:46<12:02:43, 53.67s/it]"
     ]
    },
    {
     "name": "stdout",
     "output_type": "stream",
     "text": [
      "Saved backup with 150003 results\n",
      "Error occurred while processing the table. Message: \n",
      "Stacktrace:\n",
      "\tGetHandleVerifier [0x0xce3763+63299]\n",
      "\tGetHandleVerifier [0x0xce37a4+63364]\n",
      "\t(No symbol) [0x0xb11113]\n",
      "\t(No symbol) [0x0xb5987e]\n",
      "\t(No symbol) [0x0xb59c1b]\n",
      "\t(No symbol) [0x0xba2212]\n",
      "\t(No symbol) [0x0xb7e5c4]\n",
      "\t(No symbol) [0x0xb9fa4a]\n",
      "\t(No symbol) [0x0xb7e376]\n",
      "\t(No symbol) [0x0xb4d6e0]\n",
      "\t(No symbol) [0x0xb4e544]\n",
      "\tGetHandleVerifier [0x0xf3e033+2531347]\n",
      "\tGetHandleVerifier [0x0xf39332+2511634]\n",
      "\tGetHandleVerifier [0x0xd09eda+220858]\n",
      "\tGetHandleVerifier [0x0xcfa528+156936]\n",
      "\tGetHandleVerifier [0x0xd00c5d+183357]\n",
      "\tGetHandleVerifier [0x0xceb6c8+95912]\n",
      "\tGetHandleVerifier [0x0xceb870+96336]\n",
      "\tGetHandleVerifier [0x0xcd664a+9770]\n",
      "\tBaseThreadInitThunk [0x0x75d15d49+25]\n",
      "\tRtlInitializeExceptionChain [0x0x7786d03b+107]\n",
      "\tRtlGetAppContainerNamedObjectPath [0x0x7786cfc1+561]\n",
      "\n"
     ]
    },
    {
     "name": "stderr",
     "output_type": "stream",
     "text": [
      "Scraping NICs:  28%|██▊       | 320/1127 [3:39:00<9:20:11, 41.65s/it] "
     ]
    },
    {
     "name": "stdout",
     "output_type": "stream",
     "text": [
      "Saved backup with 150003 results\n",
      "Dropdown not found or not interactable.\n",
      "Dropdown not found or not interactable.\n",
      "Error occurred while processing the table. Message: \n",
      "Stacktrace:\n",
      "\tGetHandleVerifier [0x0xce3763+63299]\n",
      "\tGetHandleVerifier [0x0xce37a4+63364]\n",
      "\t(No symbol) [0x0xb11113]\n",
      "\t(No symbol) [0x0xb5987e]\n",
      "\t(No symbol) [0x0xb59c1b]\n",
      "\t(No symbol) [0x0xba2212]\n",
      "\t(No symbol) [0x0xb7e5c4]\n",
      "\t(No symbol) [0x0xb9fa4a]\n",
      "\t(No symbol) [0x0xb7e376]\n",
      "\t(No symbol) [0x0xb4d6e0]\n",
      "\t(No symbol) [0x0xb4e544]\n",
      "\tGetHandleVerifier [0x0xf3e033+2531347]\n",
      "\tGetHandleVerifier [0x0xf39332+2511634]\n",
      "\tGetHandleVerifier [0x0xd09eda+220858]\n",
      "\tGetHandleVerifier [0x0xcfa528+156936]\n",
      "\tGetHandleVerifier [0x0xd00c5d+183357]\n",
      "\tGetHandleVerifier [0x0xceb6c8+95912]\n",
      "\tGetHandleVerifier [0x0xceb870+96336]\n",
      "\tGetHandleVerifier [0x0xcd664a+9770]\n",
      "\tBaseThreadInitThunk [0x0x75d15d49+25]\n",
      "\tRtlInitializeExceptionChain [0x0x7786d03b+107]\n",
      "\tRtlGetAppContainerNamedObjectPath [0x0x7786cfc1+561]\n",
      "\n"
     ]
    },
    {
     "name": "stderr",
     "output_type": "stream",
     "text": [
      "Scraping NICs:  28%|██▊       | 321/1127 [3:39:34<8:47:38, 39.28s/it]"
     ]
    },
    {
     "name": "stdout",
     "output_type": "stream",
     "text": [
      "Saved backup with 150003 results\n",
      "Error occurred while processing the table. Message: \n",
      "Stacktrace:\n",
      "\tGetHandleVerifier [0x0xce3763+63299]\n",
      "\tGetHandleVerifier [0x0xce37a4+63364]\n",
      "\t(No symbol) [0x0xb11113]\n",
      "\t(No symbol) [0x0xb5987e]\n",
      "\t(No symbol) [0x0xb59c1b]\n",
      "\t(No symbol) [0x0xba2212]\n",
      "\t(No symbol) [0x0xb7e5c4]\n",
      "\t(No symbol) [0x0xb9fa4a]\n",
      "\t(No symbol) [0x0xb7e376]\n",
      "\t(No symbol) [0x0xb4d6e0]\n",
      "\t(No symbol) [0x0xb4e544]\n",
      "\tGetHandleVerifier [0x0xf3e033+2531347]\n",
      "\tGetHandleVerifier [0x0xf39332+2511634]\n",
      "\tGetHandleVerifier [0x0xd09eda+220858]\n",
      "\tGetHandleVerifier [0x0xcfa528+156936]\n",
      "\tGetHandleVerifier [0x0xd00c5d+183357]\n",
      "\tGetHandleVerifier [0x0xceb6c8+95912]\n",
      "\tGetHandleVerifier [0x0xceb870+96336]\n",
      "\tGetHandleVerifier [0x0xcd664a+9770]\n",
      "\tBaseThreadInitThunk [0x0x75d15d49+25]\n",
      "\tRtlInitializeExceptionChain [0x0x7786d03b+107]\n",
      "\tRtlGetAppContainerNamedObjectPath [0x0x7786cfc1+561]\n",
      "\n"
     ]
    },
    {
     "name": "stderr",
     "output_type": "stream",
     "text": [
      "Scraping NICs:  29%|██▊       | 322/1127 [3:39:49<7:08:56, 31.97s/it]"
     ]
    },
    {
     "name": "stdout",
     "output_type": "stream",
     "text": [
      "Saved backup with 150003 results\n",
      "Rows captured: 122\n"
     ]
    },
    {
     "name": "stderr",
     "output_type": "stream",
     "text": [
      "Scraping NICs:  29%|██▊       | 323/1127 [3:41:11<10:29:28, 46.98s/it]"
     ]
    },
    {
     "name": "stdout",
     "output_type": "stream",
     "text": [
      "Saved backup with 150125 results\n",
      "Rows captured: 152\n"
     ]
    },
    {
     "name": "stderr",
     "output_type": "stream",
     "text": [
      "Scraping NICs:  29%|██▊       | 324/1127 [3:41:25<8:16:36, 37.11s/it] "
     ]
    },
    {
     "name": "stdout",
     "output_type": "stream",
     "text": [
      "Saved backup with 150277 results\n",
      "Dropdown not found or not interactable.\n",
      "Dropdown not found or not interactable.\n",
      "Rows captured: 4245\n"
     ]
    },
    {
     "name": "stderr",
     "output_type": "stream",
     "text": [
      "Scraping NICs:  29%|██▉       | 325/1127 [3:41:50<7:27:25, 33.47s/it]"
     ]
    },
    {
     "name": "stdout",
     "output_type": "stream",
     "text": [
      "Saved backup with 154522 results\n",
      "Error occurred while processing the table. Message: \n",
      "Stacktrace:\n",
      "\tGetHandleVerifier [0x0xce3763+63299]\n",
      "\tGetHandleVerifier [0x0xce37a4+63364]\n",
      "\t(No symbol) [0x0xb11113]\n",
      "\t(No symbol) [0x0xb5987e]\n",
      "\t(No symbol) [0x0xb59c1b]\n",
      "\t(No symbol) [0x0xba2212]\n",
      "\t(No symbol) [0x0xb7e5c4]\n",
      "\t(No symbol) [0x0xb9fa4a]\n",
      "\t(No symbol) [0x0xb7e376]\n",
      "\t(No symbol) [0x0xb4d6e0]\n",
      "\t(No symbol) [0x0xb4e544]\n",
      "\tGetHandleVerifier [0x0xf3e033+2531347]\n",
      "\tGetHandleVerifier [0x0xf39332+2511634]\n",
      "\tGetHandleVerifier [0x0xd09eda+220858]\n",
      "\tGetHandleVerifier [0x0xcfa528+156936]\n",
      "\tGetHandleVerifier [0x0xd00c5d+183357]\n",
      "\tGetHandleVerifier [0x0xceb6c8+95912]\n",
      "\tGetHandleVerifier [0x0xceb870+96336]\n",
      "\tGetHandleVerifier [0x0xcd664a+9770]\n",
      "\tBaseThreadInitThunk [0x0x75d15d49+25]\n",
      "\tRtlInitializeExceptionChain [0x0x7786d03b+107]\n",
      "\tRtlGetAppContainerNamedObjectPath [0x0x7786cfc1+561]\n",
      "\n"
     ]
    },
    {
     "name": "stderr",
     "output_type": "stream",
     "text": [
      "Scraping NICs:  29%|██▉       | 326/1127 [3:41:57<5:44:23, 25.80s/it]"
     ]
    },
    {
     "name": "stdout",
     "output_type": "stream",
     "text": [
      "Saved backup with 154522 results\n",
      "Dropdown not found or not interactable.\n",
      "Error occurred while processing the table. Message: \n",
      "Stacktrace:\n",
      "\tGetHandleVerifier [0x0xce3763+63299]\n",
      "\tGetHandleVerifier [0x0xce37a4+63364]\n",
      "\t(No symbol) [0x0xb11113]\n",
      "\t(No symbol) [0x0xb5987e]\n",
      "\t(No symbol) [0x0xb59c1b]\n",
      "\t(No symbol) [0x0xba2212]\n",
      "\t(No symbol) [0x0xb7e5c4]\n",
      "\t(No symbol) [0x0xb9fa4a]\n",
      "\t(No symbol) [0x0xb7e376]\n",
      "\t(No symbol) [0x0xb4d6e0]\n",
      "\t(No symbol) [0x0xb4e544]\n",
      "\tGetHandleVerifier [0x0xf3e033+2531347]\n",
      "\tGetHandleVerifier [0x0xf39332+2511634]\n",
      "\tGetHandleVerifier [0x0xd09eda+220858]\n",
      "\tGetHandleVerifier [0x0xcfa528+156936]\n",
      "\tGetHandleVerifier [0x0xd00c5d+183357]\n",
      "\tGetHandleVerifier [0x0xceb6c8+95912]\n",
      "\tGetHandleVerifier [0x0xceb870+96336]\n",
      "\tGetHandleVerifier [0x0xcd664a+9770]\n",
      "\tBaseThreadInitThunk [0x0x75d15d49+25]\n",
      "\tRtlInitializeExceptionChain [0x0x7786d03b+107]\n",
      "\tRtlGetAppContainerNamedObjectPath [0x0x7786cfc1+561]\n",
      "\n"
     ]
    },
    {
     "name": "stderr",
     "output_type": "stream",
     "text": [
      "Scraping NICs:  29%|██▉       | 327/1127 [3:42:13<5:00:54, 22.57s/it]"
     ]
    },
    {
     "name": "stdout",
     "output_type": "stream",
     "text": [
      "Saved backup with 154522 results\n",
      "Dropdown not found or not interactable.\n",
      "Error occurred while processing the table. Message: \n",
      "Stacktrace:\n",
      "\tGetHandleVerifier [0x0xce3763+63299]\n",
      "\tGetHandleVerifier [0x0xce37a4+63364]\n",
      "\t(No symbol) [0x0xb11113]\n",
      "\t(No symbol) [0x0xb5987e]\n",
      "\t(No symbol) [0x0xb59c1b]\n",
      "\t(No symbol) [0x0xba2212]\n",
      "\t(No symbol) [0x0xb7e5c4]\n",
      "\t(No symbol) [0x0xb9fa4a]\n",
      "\t(No symbol) [0x0xb7e376]\n",
      "\t(No symbol) [0x0xb4d6e0]\n",
      "\t(No symbol) [0x0xb4e544]\n",
      "\tGetHandleVerifier [0x0xf3e033+2531347]\n",
      "\tGetHandleVerifier [0x0xf39332+2511634]\n",
      "\tGetHandleVerifier [0x0xd09eda+220858]\n",
      "\tGetHandleVerifier [0x0xcfa528+156936]\n",
      "\tGetHandleVerifier [0x0xd00c5d+183357]\n",
      "\tGetHandleVerifier [0x0xceb6c8+95912]\n",
      "\tGetHandleVerifier [0x0xceb870+96336]\n",
      "\tGetHandleVerifier [0x0xcd664a+9770]\n",
      "\tBaseThreadInitThunk [0x0x75d15d49+25]\n",
      "\tRtlInitializeExceptionChain [0x0x7786d03b+107]\n",
      "\tRtlGetAppContainerNamedObjectPath [0x0x7786cfc1+561]\n",
      "\n"
     ]
    },
    {
     "name": "stderr",
     "output_type": "stream",
     "text": [
      "Scraping NICs:  29%|██▉       | 328/1127 [3:42:37<5:09:20, 23.23s/it]"
     ]
    },
    {
     "name": "stdout",
     "output_type": "stream",
     "text": [
      "Saved backup with 154522 results\n",
      "Error occurred while processing the table. Message: \n",
      "Stacktrace:\n",
      "\tGetHandleVerifier [0x0xce3763+63299]\n",
      "\tGetHandleVerifier [0x0xce37a4+63364]\n",
      "\t(No symbol) [0x0xb11113]\n",
      "\t(No symbol) [0x0xb5987e]\n",
      "\t(No symbol) [0x0xb59c1b]\n",
      "\t(No symbol) [0x0xba2212]\n",
      "\t(No symbol) [0x0xb7e5c4]\n",
      "\t(No symbol) [0x0xb9fa4a]\n",
      "\t(No symbol) [0x0xb7e376]\n",
      "\t(No symbol) [0x0xb4d6e0]\n",
      "\t(No symbol) [0x0xb4e544]\n",
      "\tGetHandleVerifier [0x0xf3e033+2531347]\n",
      "\tGetHandleVerifier [0x0xf39332+2511634]\n",
      "\tGetHandleVerifier [0x0xd09eda+220858]\n",
      "\tGetHandleVerifier [0x0xcfa528+156936]\n",
      "\tGetHandleVerifier [0x0xd00c5d+183357]\n",
      "\tGetHandleVerifier [0x0xceb6c8+95912]\n",
      "\tGetHandleVerifier [0x0xceb870+96336]\n",
      "\tGetHandleVerifier [0x0xcd664a+9770]\n",
      "\tBaseThreadInitThunk [0x0x75d15d49+25]\n",
      "\tRtlInitializeExceptionChain [0x0x7786d03b+107]\n",
      "\tRtlGetAppContainerNamedObjectPath [0x0x7786cfc1+561]\n",
      "\n"
     ]
    },
    {
     "name": "stderr",
     "output_type": "stream",
     "text": [
      "Scraping NICs:  29%|██▉       | 329/1127 [3:42:49<4:24:55, 19.92s/it]"
     ]
    },
    {
     "name": "stdout",
     "output_type": "stream",
     "text": [
      "Saved backup with 154522 results\n",
      "Rows captured: 68\n"
     ]
    },
    {
     "name": "stderr",
     "output_type": "stream",
     "text": [
      "Scraping NICs:  29%|██▉       | 330/1127 [3:43:09<4:22:36, 19.77s/it]"
     ]
    },
    {
     "name": "stdout",
     "output_type": "stream",
     "text": [
      "Saved backup with 154590 results\n",
      "Rows captured: 42\n"
     ]
    },
    {
     "name": "stderr",
     "output_type": "stream",
     "text": [
      "Scraping NICs:  29%|██▉       | 331/1127 [3:44:03<6:38:44, 30.06s/it]"
     ]
    },
    {
     "name": "stdout",
     "output_type": "stream",
     "text": [
      "Saved backup with 154632 results\n",
      "Dropdown not found or not interactable.\n",
      "Error occurred while processing the table. Message: \n",
      "Stacktrace:\n",
      "\tGetHandleVerifier [0x0xce3763+63299]\n",
      "\tGetHandleVerifier [0x0xce37a4+63364]\n",
      "\t(No symbol) [0x0xb11113]\n",
      "\t(No symbol) [0x0xb5987e]\n",
      "\t(No symbol) [0x0xb59c1b]\n",
      "\t(No symbol) [0x0xba2212]\n",
      "\t(No symbol) [0x0xb7e5c4]\n",
      "\t(No symbol) [0x0xb9fa4a]\n",
      "\t(No symbol) [0x0xb7e376]\n",
      "\t(No symbol) [0x0xb4d6e0]\n",
      "\t(No symbol) [0x0xb4e544]\n",
      "\tGetHandleVerifier [0x0xf3e033+2531347]\n",
      "\tGetHandleVerifier [0x0xf39332+2511634]\n",
      "\tGetHandleVerifier [0x0xd09eda+220858]\n",
      "\tGetHandleVerifier [0x0xcfa528+156936]\n",
      "\tGetHandleVerifier [0x0xd00c5d+183357]\n",
      "\tGetHandleVerifier [0x0xceb6c8+95912]\n",
      "\tGetHandleVerifier [0x0xceb870+96336]\n",
      "\tGetHandleVerifier [0x0xcd664a+9770]\n",
      "\tBaseThreadInitThunk [0x0x75d15d49+25]\n",
      "\tRtlInitializeExceptionChain [0x0x7786d03b+107]\n",
      "\tRtlGetAppContainerNamedObjectPath [0x0x7786cfc1+561]\n",
      "\n"
     ]
    },
    {
     "name": "stderr",
     "output_type": "stream",
     "text": [
      "Scraping NICs:  29%|██▉       | 332/1127 [3:44:56<8:09:59, 36.98s/it]"
     ]
    },
    {
     "name": "stdout",
     "output_type": "stream",
     "text": [
      "Saved backup with 154632 results\n",
      "Dropdown not found or not interactable.\n",
      "Error occurred while processing the table. Message: \n",
      "Stacktrace:\n",
      "\tGetHandleVerifier [0x0xce3763+63299]\n",
      "\tGetHandleVerifier [0x0xce37a4+63364]\n",
      "\t(No symbol) [0x0xb11113]\n",
      "\t(No symbol) [0x0xb5987e]\n",
      "\t(No symbol) [0x0xb59c1b]\n",
      "\t(No symbol) [0x0xba2212]\n",
      "\t(No symbol) [0x0xb7e5c4]\n",
      "\t(No symbol) [0x0xb9fa4a]\n",
      "\t(No symbol) [0x0xb7e376]\n",
      "\t(No symbol) [0x0xb4d6e0]\n",
      "\t(No symbol) [0x0xb4e544]\n",
      "\tGetHandleVerifier [0x0xf3e033+2531347]\n",
      "\tGetHandleVerifier [0x0xf39332+2511634]\n",
      "\tGetHandleVerifier [0x0xd09eda+220858]\n",
      "\tGetHandleVerifier [0x0xcfa528+156936]\n",
      "\tGetHandleVerifier [0x0xd00c5d+183357]\n",
      "\tGetHandleVerifier [0x0xceb6c8+95912]\n",
      "\tGetHandleVerifier [0x0xceb870+96336]\n",
      "\tGetHandleVerifier [0x0xcd664a+9770]\n",
      "\tBaseThreadInitThunk [0x0x75d15d49+25]\n",
      "\tRtlInitializeExceptionChain [0x0x7786d03b+107]\n",
      "\tRtlGetAppContainerNamedObjectPath [0x0x7786cfc1+561]\n",
      "\n"
     ]
    },
    {
     "name": "stderr",
     "output_type": "stream",
     "text": [
      "Scraping NICs:  30%|██▉       | 333/1127 [3:45:44<8:52:50, 40.27s/it]"
     ]
    },
    {
     "name": "stdout",
     "output_type": "stream",
     "text": [
      "Saved backup with 154632 results\n",
      "Rows captured: 1227\n"
     ]
    },
    {
     "name": "stderr",
     "output_type": "stream",
     "text": [
      "Scraping NICs:  30%|██▉       | 334/1127 [3:46:01<7:21:25, 33.40s/it]"
     ]
    },
    {
     "name": "stdout",
     "output_type": "stream",
     "text": [
      "Saved backup with 155859 results\n",
      "Dropdown not found or not interactable.\n",
      "Dropdown not found or not interactable.\n",
      "Error occurred while processing the table. Message: \n",
      "Stacktrace:\n",
      "\tGetHandleVerifier [0x0xce3763+63299]\n",
      "\tGetHandleVerifier [0x0xce37a4+63364]\n",
      "\t(No symbol) [0x0xb11113]\n",
      "\t(No symbol) [0x0xb5987e]\n",
      "\t(No symbol) [0x0xb59c1b]\n",
      "\t(No symbol) [0x0xba2212]\n",
      "\t(No symbol) [0x0xb7e5c4]\n",
      "\t(No symbol) [0x0xb9fa4a]\n",
      "\t(No symbol) [0x0xb7e376]\n",
      "\t(No symbol) [0x0xb4d6e0]\n",
      "\t(No symbol) [0x0xb4e544]\n",
      "\tGetHandleVerifier [0x0xf3e033+2531347]\n",
      "\tGetHandleVerifier [0x0xf39332+2511634]\n",
      "\tGetHandleVerifier [0x0xd09eda+220858]\n",
      "\tGetHandleVerifier [0x0xcfa528+156936]\n",
      "\tGetHandleVerifier [0x0xd00c5d+183357]\n",
      "\tGetHandleVerifier [0x0xceb6c8+95912]\n",
      "\tGetHandleVerifier [0x0xceb870+96336]\n",
      "\tGetHandleVerifier [0x0xcd664a+9770]\n",
      "\tBaseThreadInitThunk [0x0x75d15d49+25]\n",
      "\tRtlInitializeExceptionChain [0x0x7786d03b+107]\n",
      "\tRtlGetAppContainerNamedObjectPath [0x0x7786cfc1+561]\n",
      "\n"
     ]
    },
    {
     "name": "stderr",
     "output_type": "stream",
     "text": [
      "Scraping NICs:  30%|██▉       | 335/1127 [3:46:31<7:06:40, 32.32s/it]"
     ]
    },
    {
     "name": "stdout",
     "output_type": "stream",
     "text": [
      "Saved backup with 155859 results\n",
      "Error occurred while processing the table. Message: \n",
      "Stacktrace:\n",
      "\tGetHandleVerifier [0x0xce3763+63299]\n",
      "\tGetHandleVerifier [0x0xce37a4+63364]\n",
      "\t(No symbol) [0x0xb11113]\n",
      "\t(No symbol) [0x0xb5987e]\n",
      "\t(No symbol) [0x0xb59c1b]\n",
      "\t(No symbol) [0x0xba2212]\n",
      "\t(No symbol) [0x0xb7e5c4]\n",
      "\t(No symbol) [0x0xb9fa4a]\n",
      "\t(No symbol) [0x0xb7e376]\n",
      "\t(No symbol) [0x0xb4d6e0]\n",
      "\t(No symbol) [0x0xb4e544]\n",
      "\tGetHandleVerifier [0x0xf3e033+2531347]\n",
      "\tGetHandleVerifier [0x0xf39332+2511634]\n",
      "\tGetHandleVerifier [0x0xd09eda+220858]\n",
      "\tGetHandleVerifier [0x0xcfa528+156936]\n",
      "\tGetHandleVerifier [0x0xd00c5d+183357]\n",
      "\tGetHandleVerifier [0x0xceb6c8+95912]\n",
      "\tGetHandleVerifier [0x0xceb870+96336]\n",
      "\tGetHandleVerifier [0x0xcd664a+9770]\n",
      "\tBaseThreadInitThunk [0x0x75d15d49+25]\n",
      "\tRtlInitializeExceptionChain [0x0x7786d03b+107]\n",
      "\tRtlGetAppContainerNamedObjectPath [0x0x7786cfc1+561]\n",
      "\n"
     ]
    },
    {
     "name": "stderr",
     "output_type": "stream",
     "text": [
      "Scraping NICs:  30%|██▉       | 336/1127 [3:46:49<6:06:44, 27.82s/it]"
     ]
    },
    {
     "name": "stdout",
     "output_type": "stream",
     "text": [
      "Saved backup with 155859 results\n",
      "Rows captured: 62\n",
      "Rows captured: 61\n"
     ]
    },
    {
     "name": "stderr",
     "output_type": "stream",
     "text": [
      "Scraping NICs:  30%|██▉       | 337/1127 [3:47:47<8:07:58, 37.06s/it]"
     ]
    },
    {
     "name": "stdout",
     "output_type": "stream",
     "text": [
      "Saved backup with 155921 results\n"
     ]
    },
    {
     "name": "stderr",
     "output_type": "stream",
     "text": [
      "Scraping NICs:  30%|██▉       | 338/1127 [3:47:49<5:46:50, 26.38s/it]"
     ]
    },
    {
     "name": "stdout",
     "output_type": "stream",
     "text": [
      "Saved backup with 155982 results\n",
      "Dropdown not found or not interactable.\n",
      "Rows captured: 4273\n"
     ]
    },
    {
     "name": "stderr",
     "output_type": "stream",
     "text": [
      "Scraping NICs:  30%|███       | 339/1127 [3:49:18<9:53:52, 45.22s/it]"
     ]
    },
    {
     "name": "stdout",
     "output_type": "stream",
     "text": [
      "Saved backup with 160255 results\n",
      "Rows captured: 542\n"
     ]
    },
    {
     "name": "stderr",
     "output_type": "stream",
     "text": [
      "Scraping NICs:  30%|███       | 340/1127 [3:49:30<7:43:45, 35.36s/it]"
     ]
    },
    {
     "name": "stdout",
     "output_type": "stream",
     "text": [
      "Saved backup with 160797 results\n",
      "Rows captured: 75\n"
     ]
    },
    {
     "name": "stderr",
     "output_type": "stream",
     "text": [
      "Scraping NICs:  30%|███       | 341/1127 [3:49:35<5:44:52, 26.33s/it]"
     ]
    },
    {
     "name": "stdout",
     "output_type": "stream",
     "text": [
      "Saved backup with 160872 results\n",
      "Dropdown not found or not interactable.\n",
      "Dropdown not found or not interactable.\n",
      "Error occurred while processing the table. Message: \n",
      "Stacktrace:\n",
      "\tGetHandleVerifier [0x0xce3763+63299]\n",
      "\tGetHandleVerifier [0x0xce37a4+63364]\n",
      "\t(No symbol) [0x0xb11113]\n",
      "\t(No symbol) [0x0xb5987e]\n",
      "\t(No symbol) [0x0xb59c1b]\n",
      "\t(No symbol) [0x0xba2212]\n",
      "\t(No symbol) [0x0xb7e5c4]\n",
      "\t(No symbol) [0x0xb9fa4a]\n",
      "\t(No symbol) [0x0xb7e376]\n",
      "\t(No symbol) [0x0xb4d6e0]\n",
      "\t(No symbol) [0x0xb4e544]\n",
      "\tGetHandleVerifier [0x0xf3e033+2531347]\n",
      "\tGetHandleVerifier [0x0xf39332+2511634]\n",
      "\tGetHandleVerifier [0x0xd09eda+220858]\n",
      "\tGetHandleVerifier [0x0xcfa528+156936]\n",
      "\tGetHandleVerifier [0x0xd00c5d+183357]\n",
      "\tGetHandleVerifier [0x0xceb6c8+95912]\n",
      "\tGetHandleVerifier [0x0xceb870+96336]\n",
      "\tGetHandleVerifier [0x0xcd664a+9770]\n",
      "\tBaseThreadInitThunk [0x0x75d15d49+25]\n",
      "\tRtlInitializeExceptionChain [0x0x7786d03b+107]\n",
      "\tRtlGetAppContainerNamedObjectPath [0x0x7786cfc1+561]\n",
      "\n"
     ]
    },
    {
     "name": "stderr",
     "output_type": "stream",
     "text": [
      "Scraping NICs:  30%|███       | 342/1127 [3:50:05<5:57:25, 27.32s/it]"
     ]
    },
    {
     "name": "stdout",
     "output_type": "stream",
     "text": [
      "Saved backup with 160872 results\n",
      "Error occurred while processing the table. Message: \n",
      "Stacktrace:\n",
      "\tGetHandleVerifier [0x0xce3763+63299]\n",
      "\tGetHandleVerifier [0x0xce37a4+63364]\n",
      "\t(No symbol) [0x0xb11113]\n",
      "\t(No symbol) [0x0xb5987e]\n",
      "\t(No symbol) [0x0xb59c1b]\n",
      "\t(No symbol) [0x0xba2212]\n",
      "\t(No symbol) [0x0xb7e5c4]\n",
      "\t(No symbol) [0x0xb9fa4a]\n",
      "\t(No symbol) [0x0xb7e376]\n",
      "\t(No symbol) [0x0xb4d6e0]\n",
      "\t(No symbol) [0x0xb4e544]\n",
      "\tGetHandleVerifier [0x0xf3e033+2531347]\n",
      "\tGetHandleVerifier [0x0xf39332+2511634]\n",
      "\tGetHandleVerifier [0x0xd09eda+220858]\n",
      "\tGetHandleVerifier [0x0xcfa528+156936]\n",
      "\tGetHandleVerifier [0x0xd00c5d+183357]\n",
      "\tGetHandleVerifier [0x0xceb6c8+95912]\n",
      "\tGetHandleVerifier [0x0xceb870+96336]\n",
      "\tGetHandleVerifier [0x0xcd664a+9770]\n",
      "\tBaseThreadInitThunk [0x0x75d15d49+25]\n",
      "\tRtlInitializeExceptionChain [0x0x7786d03b+107]\n",
      "\tRtlGetAppContainerNamedObjectPath [0x0x7786cfc1+561]\n",
      "\n"
     ]
    },
    {
     "name": "stderr",
     "output_type": "stream",
     "text": [
      "Scraping NICs:  30%|███       | 343/1127 [3:50:18<4:58:53, 22.87s/it]"
     ]
    },
    {
     "name": "stdout",
     "output_type": "stream",
     "text": [
      "Saved backup with 160872 results\n",
      "Dropdown not found or not interactable.\n",
      "Error occurred while processing the table. Message: \n",
      "Stacktrace:\n",
      "\tGetHandleVerifier [0x0xce3763+63299]\n",
      "\tGetHandleVerifier [0x0xce37a4+63364]\n",
      "\t(No symbol) [0x0xb11113]\n",
      "\t(No symbol) [0x0xb5987e]\n",
      "\t(No symbol) [0x0xb59c1b]\n",
      "\t(No symbol) [0x0xba2212]\n",
      "\t(No symbol) [0x0xb7e5c4]\n",
      "\t(No symbol) [0x0xb9fa4a]\n",
      "\t(No symbol) [0x0xb7e376]\n",
      "\t(No symbol) [0x0xb4d6e0]\n",
      "\t(No symbol) [0x0xb4e544]\n",
      "\tGetHandleVerifier [0x0xf3e033+2531347]\n",
      "\tGetHandleVerifier [0x0xf39332+2511634]\n",
      "\tGetHandleVerifier [0x0xd09eda+220858]\n",
      "\tGetHandleVerifier [0x0xcfa528+156936]\n",
      "\tGetHandleVerifier [0x0xd00c5d+183357]\n",
      "\tGetHandleVerifier [0x0xceb6c8+95912]\n",
      "\tGetHandleVerifier [0x0xceb870+96336]\n",
      "\tGetHandleVerifier [0x0xcd664a+9770]\n",
      "\tBaseThreadInitThunk [0x0x75d15d49+25]\n",
      "\tRtlInitializeExceptionChain [0x0x7786d03b+107]\n",
      "\tRtlGetAppContainerNamedObjectPath [0x0x7786cfc1+561]\n",
      "\n"
     ]
    },
    {
     "name": "stderr",
     "output_type": "stream",
     "text": [
      "Scraping NICs:  31%|███       | 344/1127 [3:50:53<5:48:01, 26.67s/it]"
     ]
    },
    {
     "name": "stdout",
     "output_type": "stream",
     "text": [
      "Saved backup with 160872 results\n",
      "Rows captured: 96\n"
     ]
    },
    {
     "name": "stderr",
     "output_type": "stream",
     "text": [
      "Scraping NICs:  31%|███       | 345/1127 [3:51:04<4:47:19, 22.05s/it]"
     ]
    },
    {
     "name": "stdout",
     "output_type": "stream",
     "text": [
      "Saved backup with 160968 results\n",
      "Rows captured: 59\n"
     ]
    },
    {
     "name": "stderr",
     "output_type": "stream",
     "text": [
      "Scraping NICs:  31%|███       | 346/1127 [3:51:29<4:58:05, 22.90s/it]"
     ]
    },
    {
     "name": "stdout",
     "output_type": "stream",
     "text": [
      "Saved backup with 161027 results\n",
      "Rows captured: 358\n"
     ]
    },
    {
     "name": "stderr",
     "output_type": "stream",
     "text": [
      "Scraping NICs:  31%|███       | 347/1127 [3:51:46<4:33:51, 21.07s/it]"
     ]
    },
    {
     "name": "stdout",
     "output_type": "stream",
     "text": [
      "Saved backup with 161385 results\n",
      "Dropdown not found or not interactable.\n",
      "Dropdown not found or not interactable.\n",
      "Error occurred while processing the table. Message: \n",
      "Stacktrace:\n",
      "\tGetHandleVerifier [0x0xce3763+63299]\n",
      "\tGetHandleVerifier [0x0xce37a4+63364]\n",
      "\t(No symbol) [0x0xb11113]\n",
      "\t(No symbol) [0x0xb5987e]\n",
      "\t(No symbol) [0x0xb59c1b]\n",
      "\t(No symbol) [0x0xba2212]\n",
      "\t(No symbol) [0x0xb7e5c4]\n",
      "\t(No symbol) [0x0xb9fa4a]\n",
      "\t(No symbol) [0x0xb7e376]\n",
      "\t(No symbol) [0x0xb4d6e0]\n",
      "\t(No symbol) [0x0xb4e544]\n",
      "\tGetHandleVerifier [0x0xf3e033+2531347]\n",
      "\tGetHandleVerifier [0x0xf39332+2511634]\n",
      "\tGetHandleVerifier [0x0xd09eda+220858]\n",
      "\tGetHandleVerifier [0x0xcfa528+156936]\n",
      "\tGetHandleVerifier [0x0xd00c5d+183357]\n",
      "\tGetHandleVerifier [0x0xceb6c8+95912]\n",
      "\tGetHandleVerifier [0x0xceb870+96336]\n",
      "\tGetHandleVerifier [0x0xcd664a+9770]\n",
      "\tBaseThreadInitThunk [0x0x75d15d49+25]\n",
      "\tRtlInitializeExceptionChain [0x0x7786d03b+107]\n",
      "\tRtlGetAppContainerNamedObjectPath [0x0x7786cfc1+561]\n",
      "\n"
     ]
    },
    {
     "name": "stderr",
     "output_type": "stream",
     "text": [
      "Scraping NICs:  31%|███       | 348/1127 [3:52:17<5:12:18, 24.05s/it]"
     ]
    },
    {
     "name": "stdout",
     "output_type": "stream",
     "text": [
      "Saved backup with 161385 results\n",
      "Error occurred while processing the table. Message: \n",
      "Stacktrace:\n",
      "\tGetHandleVerifier [0x0xce3763+63299]\n",
      "\tGetHandleVerifier [0x0xce37a4+63364]\n",
      "\t(No symbol) [0x0xb11113]\n",
      "\t(No symbol) [0x0xb5987e]\n",
      "\t(No symbol) [0x0xb59c1b]\n",
      "\t(No symbol) [0x0xba2212]\n",
      "\t(No symbol) [0x0xb7e5c4]\n",
      "\t(No symbol) [0x0xb9fa4a]\n",
      "\t(No symbol) [0x0xb7e376]\n",
      "\t(No symbol) [0x0xb4d6e0]\n",
      "\t(No symbol) [0x0xb4e544]\n",
      "\tGetHandleVerifier [0x0xf3e033+2531347]\n",
      "\tGetHandleVerifier [0x0xf39332+2511634]\n",
      "\tGetHandleVerifier [0x0xd09eda+220858]\n",
      "\tGetHandleVerifier [0x0xcfa528+156936]\n",
      "\tGetHandleVerifier [0x0xd00c5d+183357]\n",
      "\tGetHandleVerifier [0x0xceb6c8+95912]\n",
      "\tGetHandleVerifier [0x0xceb870+96336]\n",
      "\tGetHandleVerifier [0x0xcd664a+9770]\n",
      "\tBaseThreadInitThunk [0x0x75d15d49+25]\n",
      "\tRtlInitializeExceptionChain [0x0x7786d03b+107]\n",
      "\tRtlGetAppContainerNamedObjectPath [0x0x7786cfc1+561]\n",
      "\n"
     ]
    },
    {
     "name": "stderr",
     "output_type": "stream",
     "text": [
      "Scraping NICs:  31%|███       | 349/1127 [3:52:34<4:43:20, 21.85s/it]"
     ]
    },
    {
     "name": "stdout",
     "output_type": "stream",
     "text": [
      "Saved backup with 161385 results\n",
      "Dropdown not found or not interactable.\n",
      "Dropdown not found or not interactable.\n",
      "Error occurred while processing the table. Message: \n",
      "Stacktrace:\n",
      "\tGetHandleVerifier [0x0xce3763+63299]\n",
      "\tGetHandleVerifier [0x0xce37a4+63364]\n",
      "\t(No symbol) [0x0xb11113]\n",
      "\t(No symbol) [0x0xb5987e]\n",
      "\t(No symbol) [0x0xb59c1b]\n",
      "\t(No symbol) [0x0xba2212]\n",
      "\t(No symbol) [0x0xb7e5c4]\n",
      "\t(No symbol) [0x0xb9fa4a]\n",
      "\t(No symbol) [0x0xb7e376]\n",
      "\t(No symbol) [0x0xb4d6e0]\n",
      "\t(No symbol) [0x0xb4e544]\n",
      "\tGetHandleVerifier [0x0xf3e033+2531347]\n",
      "\tGetHandleVerifier [0x0xf39332+2511634]\n",
      "\tGetHandleVerifier [0x0xd09eda+220858]\n",
      "\tGetHandleVerifier [0x0xcfa528+156936]\n",
      "\tGetHandleVerifier [0x0xd00c5d+183357]\n",
      "\tGetHandleVerifier [0x0xceb6c8+95912]\n",
      "\tGetHandleVerifier [0x0xceb870+96336]\n",
      "\tGetHandleVerifier [0x0xcd664a+9770]\n",
      "\tBaseThreadInitThunk [0x0x75d15d49+25]\n",
      "\tRtlInitializeExceptionChain [0x0x7786d03b+107]\n",
      "\tRtlGetAppContainerNamedObjectPath [0x0x7786cfc1+561]\n",
      "\n"
     ]
    },
    {
     "name": "stderr",
     "output_type": "stream",
     "text": [
      "Scraping NICs:  31%|███       | 350/1127 [3:53:04<5:17:04, 24.48s/it]"
     ]
    },
    {
     "name": "stdout",
     "output_type": "stream",
     "text": [
      "Saved backup with 161385 results\n",
      "Error occurred while processing the table. Message: \n",
      "Stacktrace:\n",
      "\tGetHandleVerifier [0x0xce3763+63299]\n",
      "\tGetHandleVerifier [0x0xce37a4+63364]\n",
      "\t(No symbol) [0x0xb11113]\n",
      "\t(No symbol) [0x0xb5987e]\n",
      "\t(No symbol) [0x0xb59c1b]\n",
      "\t(No symbol) [0x0xba2212]\n",
      "\t(No symbol) [0x0xb7e5c4]\n",
      "\t(No symbol) [0x0xb9fa4a]\n",
      "\t(No symbol) [0x0xb7e376]\n",
      "\t(No symbol) [0x0xb4d6e0]\n",
      "\t(No symbol) [0x0xb4e544]\n",
      "\tGetHandleVerifier [0x0xf3e033+2531347]\n",
      "\tGetHandleVerifier [0x0xf39332+2511634]\n",
      "\tGetHandleVerifier [0x0xd09eda+220858]\n",
      "\tGetHandleVerifier [0x0xcfa528+156936]\n",
      "\tGetHandleVerifier [0x0xd00c5d+183357]\n",
      "\tGetHandleVerifier [0x0xceb6c8+95912]\n",
      "\tGetHandleVerifier [0x0xceb870+96336]\n",
      "\tGetHandleVerifier [0x0xcd664a+9770]\n",
      "\tBaseThreadInitThunk [0x0x75d15d49+25]\n",
      "\tRtlInitializeExceptionChain [0x0x7786d03b+107]\n",
      "\tRtlGetAppContainerNamedObjectPath [0x0x7786cfc1+561]\n",
      "\n"
     ]
    },
    {
     "name": "stderr",
     "output_type": "stream",
     "text": [
      "Scraping NICs:  31%|███       | 351/1127 [3:53:22<4:48:42, 22.32s/it]"
     ]
    },
    {
     "name": "stdout",
     "output_type": "stream",
     "text": [
      "Saved backup with 161385 results\n",
      "Rows captured: 931\n"
     ]
    },
    {
     "name": "stderr",
     "output_type": "stream",
     "text": [
      "Scraping NICs:  31%|███       | 352/1127 [3:54:06<6:15:11, 29.05s/it]"
     ]
    },
    {
     "name": "stdout",
     "output_type": "stream",
     "text": [
      "Saved backup with 162316 results\n",
      "Rows captured: 28\n"
     ]
    },
    {
     "name": "stderr",
     "output_type": "stream",
     "text": [
      "Scraping NICs:  31%|███▏      | 353/1127 [3:54:41<6:35:23, 30.65s/it]"
     ]
    },
    {
     "name": "stdout",
     "output_type": "stream",
     "text": [
      "Saved backup with 162344 results\n",
      "Rows captured: 1126\n"
     ]
    },
    {
     "name": "stderr",
     "output_type": "stream",
     "text": [
      "Scraping NICs:  31%|███▏      | 354/1127 [3:55:11<6:32:03, 30.43s/it]"
     ]
    },
    {
     "name": "stdout",
     "output_type": "stream",
     "text": [
      "Saved backup with 163470 results\n",
      "Dropdown not found or not interactable.\n",
      "Error occurred while processing the table. Message: \n",
      "Stacktrace:\n",
      "\tGetHandleVerifier [0x0xce3763+63299]\n",
      "\tGetHandleVerifier [0x0xce37a4+63364]\n",
      "\t(No symbol) [0x0xb11113]\n",
      "\t(No symbol) [0x0xb5987e]\n",
      "\t(No symbol) [0x0xb59c1b]\n",
      "\t(No symbol) [0x0xba2212]\n",
      "\t(No symbol) [0x0xb7e5c4]\n",
      "\t(No symbol) [0x0xb9fa4a]\n",
      "\t(No symbol) [0x0xb7e376]\n",
      "\t(No symbol) [0x0xb4d6e0]\n",
      "\t(No symbol) [0x0xb4e544]\n",
      "\tGetHandleVerifier [0x0xf3e033+2531347]\n",
      "\tGetHandleVerifier [0x0xf39332+2511634]\n",
      "\tGetHandleVerifier [0x0xd09eda+220858]\n",
      "\tGetHandleVerifier [0x0xcfa528+156936]\n",
      "\tGetHandleVerifier [0x0xd00c5d+183357]\n",
      "\tGetHandleVerifier [0x0xceb6c8+95912]\n",
      "\tGetHandleVerifier [0x0xceb870+96336]\n",
      "\tGetHandleVerifier [0x0xcd664a+9770]\n",
      "\tBaseThreadInitThunk [0x0x75d15d49+25]\n",
      "\tRtlInitializeExceptionChain [0x0x7786d03b+107]\n",
      "\tRtlGetAppContainerNamedObjectPath [0x0x7786cfc1+561]\n",
      "\n"
     ]
    },
    {
     "name": "stderr",
     "output_type": "stream",
     "text": [
      "Scraping NICs:  31%|███▏      | 355/1127 [3:55:59<7:39:30, 35.71s/it]"
     ]
    },
    {
     "name": "stdout",
     "output_type": "stream",
     "text": [
      "Saved backup with 163470 results\n",
      "Dropdown not found or not interactable.\n",
      "Rows captured: 692\n"
     ]
    },
    {
     "name": "stderr",
     "output_type": "stream",
     "text": [
      "Scraping NICs:  32%|███▏      | 356/1127 [3:56:52<8:45:10, 40.87s/it]"
     ]
    },
    {
     "name": "stdout",
     "output_type": "stream",
     "text": [
      "Saved backup with 164162 results\n",
      "Error occurred while processing the table. Message: \n",
      "Stacktrace:\n",
      "\tGetHandleVerifier [0x0xce3763+63299]\n",
      "\tGetHandleVerifier [0x0xce37a4+63364]\n",
      "\t(No symbol) [0x0xb11113]\n",
      "\t(No symbol) [0x0xb5987e]\n",
      "\t(No symbol) [0x0xb59c1b]\n",
      "\t(No symbol) [0x0xba2212]\n",
      "\t(No symbol) [0x0xb7e5c4]\n",
      "\t(No symbol) [0x0xb9fa4a]\n",
      "\t(No symbol) [0x0xb7e376]\n",
      "\t(No symbol) [0x0xb4d6e0]\n",
      "\t(No symbol) [0x0xb4e544]\n",
      "\tGetHandleVerifier [0x0xf3e033+2531347]\n",
      "\tGetHandleVerifier [0x0xf39332+2511634]\n",
      "\tGetHandleVerifier [0x0xd09eda+220858]\n",
      "\tGetHandleVerifier [0x0xcfa528+156936]\n",
      "\tGetHandleVerifier [0x0xd00c5d+183357]\n",
      "\tGetHandleVerifier [0x0xceb6c8+95912]\n",
      "\tGetHandleVerifier [0x0xceb870+96336]\n",
      "\tGetHandleVerifier [0x0xcd664a+9770]\n",
      "\tBaseThreadInitThunk [0x0x75d15d49+25]\n",
      "\tRtlInitializeExceptionChain [0x0x7786d03b+107]\n",
      "\tRtlGetAppContainerNamedObjectPath [0x0x7786cfc1+561]\n",
      "\n"
     ]
    },
    {
     "name": "stderr",
     "output_type": "stream",
     "text": [
      "Scraping NICs:  32%|███▏      | 357/1127 [3:56:55<6:21:08, 29.70s/it]"
     ]
    },
    {
     "name": "stdout",
     "output_type": "stream",
     "text": [
      "Saved backup with 164162 results\n",
      "Dropdown not found or not interactable.\n",
      "Rows captured: 1666\n"
     ]
    },
    {
     "name": "stderr",
     "output_type": "stream",
     "text": [
      "Scraping NICs:  32%|███▏      | 358/1127 [3:57:32<6:48:42, 31.89s/it]"
     ]
    },
    {
     "name": "stdout",
     "output_type": "stream",
     "text": [
      "Saved backup with 165828 results\n",
      "Error occurred while processing the table. Message: \n",
      "Stacktrace:\n",
      "\tGetHandleVerifier [0x0xce3763+63299]\n",
      "\tGetHandleVerifier [0x0xce37a4+63364]\n",
      "\t(No symbol) [0x0xb11113]\n",
      "\t(No symbol) [0x0xb5987e]\n",
      "\t(No symbol) [0x0xb59c1b]\n",
      "\t(No symbol) [0x0xba2212]\n",
      "\t(No symbol) [0x0xb7e5c4]\n",
      "\t(No symbol) [0x0xb9fa4a]\n",
      "\t(No symbol) [0x0xb7e376]\n",
      "\t(No symbol) [0x0xb4d6e0]\n",
      "\t(No symbol) [0x0xb4e544]\n",
      "\tGetHandleVerifier [0x0xf3e033+2531347]\n",
      "\tGetHandleVerifier [0x0xf39332+2511634]\n",
      "\tGetHandleVerifier [0x0xd09eda+220858]\n",
      "\tGetHandleVerifier [0x0xcfa528+156936]\n",
      "\tGetHandleVerifier [0x0xd00c5d+183357]\n",
      "\tGetHandleVerifier [0x0xceb6c8+95912]\n",
      "\tGetHandleVerifier [0x0xceb870+96336]\n",
      "\tGetHandleVerifier [0x0xcd664a+9770]\n",
      "\tBaseThreadInitThunk [0x0x75d15d49+25]\n",
      "\tRtlInitializeExceptionChain [0x0x7786d03b+107]\n",
      "\tRtlGetAppContainerNamedObjectPath [0x0x7786cfc1+561]\n",
      "\n"
     ]
    },
    {
     "name": "stderr",
     "output_type": "stream",
     "text": [
      "Scraping NICs:  32%|███▏      | 359/1127 [3:57:44<5:29:37, 25.75s/it]"
     ]
    },
    {
     "name": "stdout",
     "output_type": "stream",
     "text": [
      "Saved backup with 165828 results\n",
      "Rows captured: 167\n"
     ]
    },
    {
     "name": "stderr",
     "output_type": "stream",
     "text": [
      "Scraping NICs:  32%|███▏      | 360/1127 [3:58:31<6:50:40, 32.13s/it]"
     ]
    },
    {
     "name": "stdout",
     "output_type": "stream",
     "text": [
      "Saved backup with 165995 results\n",
      "Rows captured: 749\n"
     ]
    },
    {
     "name": "stderr",
     "output_type": "stream",
     "text": [
      "Scraping NICs:  32%|███▏      | 361/1127 [3:58:59<6:34:13, 30.88s/it]"
     ]
    },
    {
     "name": "stdout",
     "output_type": "stream",
     "text": [
      "Saved backup with 166744 results\n",
      "Dropdown not found or not interactable.\n",
      "Rows captured: 267\n"
     ]
    },
    {
     "name": "stderr",
     "output_type": "stream",
     "text": [
      "Scraping NICs:  32%|███▏      | 362/1127 [3:59:30<6:34:54, 30.97s/it]"
     ]
    },
    {
     "name": "stdout",
     "output_type": "stream",
     "text": [
      "Saved backup with 167011 results\n",
      "Rows captured: 174\n"
     ]
    },
    {
     "name": "stderr",
     "output_type": "stream",
     "text": [
      "Scraping NICs:  32%|███▏      | 363/1127 [3:59:43<5:27:09, 25.69s/it]"
     ]
    },
    {
     "name": "stdout",
     "output_type": "stream",
     "text": [
      "Saved backup with 167185 results\n",
      "Error occurred while processing the table. Message: \n",
      "Stacktrace:\n",
      "\tGetHandleVerifier [0x0xce3763+63299]\n",
      "\tGetHandleVerifier [0x0xce37a4+63364]\n",
      "\t(No symbol) [0x0xb11113]\n",
      "\t(No symbol) [0x0xb5987e]\n",
      "\t(No symbol) [0x0xb59c1b]\n",
      "\t(No symbol) [0x0xba2212]\n",
      "\t(No symbol) [0x0xb7e5c4]\n",
      "\t(No symbol) [0x0xb9fa4a]\n",
      "\t(No symbol) [0x0xb7e376]\n",
      "\t(No symbol) [0x0xb4d6e0]\n",
      "\t(No symbol) [0x0xb4e544]\n",
      "\tGetHandleVerifier [0x0xf3e033+2531347]\n",
      "\tGetHandleVerifier [0x0xf39332+2511634]\n",
      "\tGetHandleVerifier [0x0xd09eda+220858]\n",
      "\tGetHandleVerifier [0x0xcfa528+156936]\n",
      "\tGetHandleVerifier [0x0xd00c5d+183357]\n",
      "\tGetHandleVerifier [0x0xceb6c8+95912]\n",
      "\tGetHandleVerifier [0x0xceb870+96336]\n",
      "\tGetHandleVerifier [0x0xcd664a+9770]\n",
      "\tBaseThreadInitThunk [0x0x75d15d49+25]\n",
      "\tRtlInitializeExceptionChain [0x0x7786d03b+107]\n",
      "\tRtlGetAppContainerNamedObjectPath [0x0x7786cfc1+561]\n",
      "\n"
     ]
    },
    {
     "name": "stderr",
     "output_type": "stream",
     "text": [
      "Scraping NICs:  32%|███▏      | 364/1127 [3:59:46<3:57:36, 18.69s/it]"
     ]
    },
    {
     "name": "stdout",
     "output_type": "stream",
     "text": [
      "Saved backup with 167185 results\n",
      "Dropdown not found or not interactable.\n",
      "Error occurred while processing the table. Message: \n",
      "Stacktrace:\n",
      "\tGetHandleVerifier [0x0xce3763+63299]\n",
      "\tGetHandleVerifier [0x0xce37a4+63364]\n",
      "\t(No symbol) [0x0xb11113]\n",
      "\t(No symbol) [0x0xb5987e]\n",
      "\t(No symbol) [0x0xb59c1b]\n",
      "\t(No symbol) [0x0xba2212]\n",
      "\t(No symbol) [0x0xb7e5c4]\n",
      "\t(No symbol) [0x0xb9fa4a]\n",
      "\t(No symbol) [0x0xb7e376]\n",
      "\t(No symbol) [0x0xb4d6e0]\n",
      "\t(No symbol) [0x0xb4e544]\n",
      "\tGetHandleVerifier [0x0xf3e033+2531347]\n",
      "\tGetHandleVerifier [0x0xf39332+2511634]\n",
      "\tGetHandleVerifier [0x0xd09eda+220858]\n",
      "\tGetHandleVerifier [0x0xcfa528+156936]\n",
      "\tGetHandleVerifier [0x0xd00c5d+183357]\n",
      "\tGetHandleVerifier [0x0xceb6c8+95912]\n",
      "\tGetHandleVerifier [0x0xceb870+96336]\n",
      "\tGetHandleVerifier [0x0xcd664a+9770]\n",
      "\tBaseThreadInitThunk [0x0x75d15d49+25]\n",
      "\tRtlInitializeExceptionChain [0x0x7786d03b+107]\n",
      "\tRtlGetAppContainerNamedObjectPath [0x0x7786cfc1+561]\n",
      "\n"
     ]
    },
    {
     "name": "stderr",
     "output_type": "stream",
     "text": [
      "Scraping NICs:  32%|███▏      | 365/1127 [4:00:31<5:38:11, 26.63s/it]"
     ]
    },
    {
     "name": "stdout",
     "output_type": "stream",
     "text": [
      "Saved backup with 167185 results\n",
      "Dropdown not found or not interactable.\n",
      "Rows captured: 181\n",
      "Dropdown not found or not interactable.\n"
     ]
    },
    {
     "name": "stderr",
     "output_type": "stream",
     "text": [
      "Scraping NICs:  32%|███▏      | 366/1127 [4:00:55<5:29:48, 26.00s/it]"
     ]
    },
    {
     "name": "stdout",
     "output_type": "stream",
     "text": [
      "Saved backup with 167366 results\n",
      "Dropdown not found or not interactable.\n",
      "Error occurred while processing the table. Message: \n",
      "Stacktrace:\n",
      "\tGetHandleVerifier [0x0xce3763+63299]\n",
      "\tGetHandleVerifier [0x0xce37a4+63364]\n",
      "\t(No symbol) [0x0xb11113]\n",
      "\t(No symbol) [0x0xb5987e]\n",
      "\t(No symbol) [0x0xb59c1b]\n",
      "\t(No symbol) [0x0xba2212]\n",
      "\t(No symbol) [0x0xb7e5c4]\n",
      "\t(No symbol) [0x0xb9fa4a]\n",
      "\t(No symbol) [0x0xb7e376]\n",
      "\t(No symbol) [0x0xb4d6e0]\n",
      "\t(No symbol) [0x0xb4e544]\n",
      "\tGetHandleVerifier [0x0xf3e033+2531347]\n",
      "\tGetHandleVerifier [0x0xf39332+2511634]\n",
      "\tGetHandleVerifier [0x0xd09eda+220858]\n",
      "\tGetHandleVerifier [0x0xcfa528+156936]\n",
      "\tGetHandleVerifier [0x0xd00c5d+183357]\n",
      "\tGetHandleVerifier [0x0xceb6c8+95912]\n",
      "\tGetHandleVerifier [0x0xceb870+96336]\n",
      "\tGetHandleVerifier [0x0xcd664a+9770]\n",
      "\tBaseThreadInitThunk [0x0x75d15d49+25]\n",
      "\tRtlInitializeExceptionChain [0x0x7786d03b+107]\n",
      "\tRtlGetAppContainerNamedObjectPath [0x0x7786cfc1+561]\n",
      "\n"
     ]
    },
    {
     "name": "stderr",
     "output_type": "stream",
     "text": [
      "Scraping NICs:  33%|███▎      | 367/1127 [4:01:22<5:33:50, 26.36s/it]"
     ]
    },
    {
     "name": "stdout",
     "output_type": "stream",
     "text": [
      "Saved backup with 167366 results\n",
      "Error occurred while processing the table. Message: \n",
      "Stacktrace:\n",
      "\tGetHandleVerifier [0x0xce3763+63299]\n",
      "\tGetHandleVerifier [0x0xce37a4+63364]\n",
      "\t(No symbol) [0x0xb11113]\n",
      "\t(No symbol) [0x0xb5987e]\n",
      "\t(No symbol) [0x0xb59c1b]\n",
      "\t(No symbol) [0x0xba2212]\n",
      "\t(No symbol) [0x0xb7e5c4]\n",
      "\t(No symbol) [0x0xb9fa4a]\n",
      "\t(No symbol) [0x0xb7e376]\n",
      "\t(No symbol) [0x0xb4d6e0]\n",
      "\t(No symbol) [0x0xb4e544]\n",
      "\tGetHandleVerifier [0x0xf3e033+2531347]\n",
      "\tGetHandleVerifier [0x0xf39332+2511634]\n",
      "\tGetHandleVerifier [0x0xd09eda+220858]\n",
      "\tGetHandleVerifier [0x0xcfa528+156936]\n",
      "\tGetHandleVerifier [0x0xd00c5d+183357]\n",
      "\tGetHandleVerifier [0x0xceb6c8+95912]\n",
      "\tGetHandleVerifier [0x0xceb870+96336]\n",
      "\tGetHandleVerifier [0x0xcd664a+9770]\n",
      "\tBaseThreadInitThunk [0x0x75d15d49+25]\n",
      "\tRtlInitializeExceptionChain [0x0x7786d03b+107]\n",
      "\tRtlGetAppContainerNamedObjectPath [0x0x7786cfc1+561]\n",
      "\n"
     ]
    },
    {
     "name": "stderr",
     "output_type": "stream",
     "text": [
      "Scraping NICs:  33%|███▎      | 368/1127 [4:01:42<5:08:54, 24.42s/it]"
     ]
    },
    {
     "name": "stdout",
     "output_type": "stream",
     "text": [
      "Saved backup with 167366 results\n",
      "Dropdown not found or not interactable.\n",
      "Dropdown not found or not interactable.\n",
      "Rows captured: 391\n"
     ]
    },
    {
     "name": "stderr",
     "output_type": "stream",
     "text": [
      "Scraping NICs:  33%|███▎      | 369/1127 [4:02:07<5:10:00, 24.54s/it]"
     ]
    },
    {
     "name": "stdout",
     "output_type": "stream",
     "text": [
      "Saved backup with 167757 results\n",
      "Error occurred while processing the table. Message: \n",
      "Stacktrace:\n",
      "\tGetHandleVerifier [0x0xce3763+63299]\n",
      "\tGetHandleVerifier [0x0xce37a4+63364]\n",
      "\t(No symbol) [0x0xb11113]\n",
      "\t(No symbol) [0x0xb5987e]\n",
      "\t(No symbol) [0x0xb59c1b]\n",
      "\t(No symbol) [0x0xba2212]\n",
      "\t(No symbol) [0x0xb7e5c4]\n",
      "\t(No symbol) [0x0xb9fa4a]\n",
      "\t(No symbol) [0x0xb7e376]\n",
      "\t(No symbol) [0x0xb4d6e0]\n",
      "\t(No symbol) [0x0xb4e544]\n",
      "\tGetHandleVerifier [0x0xf3e033+2531347]\n",
      "\tGetHandleVerifier [0x0xf39332+2511634]\n",
      "\tGetHandleVerifier [0x0xd09eda+220858]\n",
      "\tGetHandleVerifier [0x0xcfa528+156936]\n",
      "\tGetHandleVerifier [0x0xd00c5d+183357]\n",
      "\tGetHandleVerifier [0x0xceb6c8+95912]\n",
      "\tGetHandleVerifier [0x0xceb870+96336]\n",
      "\tGetHandleVerifier [0x0xcd664a+9770]\n",
      "\tBaseThreadInitThunk [0x0x75d15d49+25]\n",
      "\tRtlInitializeExceptionChain [0x0x7786d03b+107]\n",
      "\tRtlGetAppContainerNamedObjectPath [0x0x7786cfc1+561]\n",
      "\n"
     ]
    },
    {
     "name": "stderr",
     "output_type": "stream",
     "text": [
      "Scraping NICs:  33%|███▎      | 370/1127 [4:02:14<4:01:46, 19.16s/it]"
     ]
    },
    {
     "name": "stdout",
     "output_type": "stream",
     "text": [
      "Saved backup with 167757 results\n",
      "Error occurred while processing the table. Message: \n",
      "Stacktrace:\n",
      "\tGetHandleVerifier [0x0xce3763+63299]\n",
      "\tGetHandleVerifier [0x0xce37a4+63364]\n",
      "\t(No symbol) [0x0xb11113]\n",
      "\t(No symbol) [0x0xb5987e]\n",
      "\t(No symbol) [0x0xb59c1b]\n",
      "\t(No symbol) [0x0xba2212]\n",
      "\t(No symbol) [0x0xb7e5c4]\n",
      "\t(No symbol) [0x0xb9fa4a]\n",
      "\t(No symbol) [0x0xb7e376]\n",
      "\t(No symbol) [0x0xb4d6e0]\n",
      "\t(No symbol) [0x0xb4e544]\n",
      "\tGetHandleVerifier [0x0xf3e033+2531347]\n",
      "\tGetHandleVerifier [0x0xf39332+2511634]\n",
      "\tGetHandleVerifier [0x0xd09eda+220858]\n",
      "\tGetHandleVerifier [0x0xcfa528+156936]\n",
      "\tGetHandleVerifier [0x0xd00c5d+183357]\n",
      "\tGetHandleVerifier [0x0xceb6c8+95912]\n",
      "\tGetHandleVerifier [0x0xceb870+96336]\n",
      "\tGetHandleVerifier [0x0xcd664a+9770]\n",
      "\tBaseThreadInitThunk [0x0x75d15d49+25]\n",
      "\tRtlInitializeExceptionChain [0x0x7786d03b+107]\n",
      "\tRtlGetAppContainerNamedObjectPath [0x0x7786cfc1+561]\n",
      "\n"
     ]
    },
    {
     "name": "stderr",
     "output_type": "stream",
     "text": [
      "Scraping NICs:  33%|███▎      | 371/1127 [4:02:31<3:54:23, 18.60s/it]"
     ]
    },
    {
     "name": "stdout",
     "output_type": "stream",
     "text": [
      "Saved backup with 167757 results\n",
      "Rows captured: 153\n"
     ]
    },
    {
     "name": "stderr",
     "output_type": "stream",
     "text": [
      "Scraping NICs:  33%|███▎      | 372/1127 [4:03:39<6:59:10, 33.31s/it]"
     ]
    },
    {
     "name": "stdout",
     "output_type": "stream",
     "text": [
      "Saved backup with 167910 results\n",
      "Rows captured: 52\n"
     ]
    },
    {
     "name": "stderr",
     "output_type": "stream",
     "text": [
      "Scraping NICs:  33%|███▎      | 373/1127 [4:03:48<5:27:20, 26.05s/it]"
     ]
    },
    {
     "name": "stdout",
     "output_type": "stream",
     "text": [
      "Saved backup with 167962 results\n",
      "Rows captured: 1104\n"
     ]
    },
    {
     "name": "stderr",
     "output_type": "stream",
     "text": [
      "Scraping NICs:  33%|███▎      | 374/1127 [4:04:00<4:33:54, 21.82s/it]"
     ]
    },
    {
     "name": "stdout",
     "output_type": "stream",
     "text": [
      "Saved backup with 169066 results\n",
      "Dropdown not found or not interactable.\n",
      "Error occurred while processing the table. Message: \n",
      "Stacktrace:\n",
      "\tGetHandleVerifier [0x0xce3763+63299]\n",
      "\tGetHandleVerifier [0x0xce37a4+63364]\n",
      "\t(No symbol) [0x0xb11113]\n",
      "\t(No symbol) [0x0xb5987e]\n",
      "\t(No symbol) [0x0xb59c1b]\n",
      "\t(No symbol) [0x0xba2212]\n",
      "\t(No symbol) [0x0xb7e5c4]\n",
      "\t(No symbol) [0x0xb9fa4a]\n",
      "\t(No symbol) [0x0xb7e376]\n",
      "\t(No symbol) [0x0xb4d6e0]\n",
      "\t(No symbol) [0x0xb4e544]\n",
      "\tGetHandleVerifier [0x0xf3e033+2531347]\n",
      "\tGetHandleVerifier [0x0xf39332+2511634]\n",
      "\tGetHandleVerifier [0x0xd09eda+220858]\n",
      "\tGetHandleVerifier [0x0xcfa528+156936]\n",
      "\tGetHandleVerifier [0x0xd00c5d+183357]\n",
      "\tGetHandleVerifier [0x0xceb6c8+95912]\n",
      "\tGetHandleVerifier [0x0xceb870+96336]\n",
      "\tGetHandleVerifier [0x0xcd664a+9770]\n",
      "\tBaseThreadInitThunk [0x0x75d15d49+25]\n",
      "\tRtlInitializeExceptionChain [0x0x7786d03b+107]\n",
      "\tRtlGetAppContainerNamedObjectPath [0x0x7786cfc1+561]\n",
      "\n"
     ]
    },
    {
     "name": "stderr",
     "output_type": "stream",
     "text": [
      "Scraping NICs:  33%|███▎      | 375/1127 [4:04:49<6:17:28, 30.12s/it]"
     ]
    },
    {
     "name": "stdout",
     "output_type": "stream",
     "text": [
      "Saved backup with 169066 results\n",
      "Rows captured: 634\n"
     ]
    },
    {
     "name": "stderr",
     "output_type": "stream",
     "text": [
      "Scraping NICs:  33%|███▎      | 376/1127 [4:05:09<5:36:50, 26.91s/it]"
     ]
    },
    {
     "name": "stdout",
     "output_type": "stream",
     "text": [
      "Saved backup with 169700 results\n",
      "Dropdown not found or not interactable.\n",
      "Dropdown not found or not interactable.\n",
      "Error occurred while processing the table. Message: \n",
      "Stacktrace:\n",
      "\tGetHandleVerifier [0x0xce3763+63299]\n",
      "\tGetHandleVerifier [0x0xce37a4+63364]\n",
      "\t(No symbol) [0x0xb11113]\n",
      "\t(No symbol) [0x0xb5987e]\n",
      "\t(No symbol) [0x0xb59c1b]\n",
      "\t(No symbol) [0x0xba2212]\n",
      "\t(No symbol) [0x0xb7e5c4]\n",
      "\t(No symbol) [0x0xb9fa4a]\n",
      "\t(No symbol) [0x0xb7e376]\n",
      "\t(No symbol) [0x0xb4d6e0]\n",
      "\t(No symbol) [0x0xb4e544]\n",
      "\tGetHandleVerifier [0x0xf3e033+2531347]\n",
      "\tGetHandleVerifier [0x0xf39332+2511634]\n",
      "\tGetHandleVerifier [0x0xd09eda+220858]\n",
      "\tGetHandleVerifier [0x0xcfa528+156936]\n",
      "\tGetHandleVerifier [0x0xd00c5d+183357]\n",
      "\tGetHandleVerifier [0x0xceb6c8+95912]\n",
      "\tGetHandleVerifier [0x0xceb870+96336]\n",
      "\tGetHandleVerifier [0x0xcd664a+9770]\n",
      "\tBaseThreadInitThunk [0x0x75d15d49+25]\n",
      "\tRtlInitializeExceptionChain [0x0x7786d03b+107]\n",
      "\tRtlGetAppContainerNamedObjectPath [0x0x7786cfc1+561]\n",
      "\n"
     ]
    },
    {
     "name": "stderr",
     "output_type": "stream",
     "text": [
      "Scraping NICs:  33%|███▎      | 377/1127 [4:05:37<5:40:24, 27.23s/it]"
     ]
    },
    {
     "name": "stdout",
     "output_type": "stream",
     "text": [
      "Saved backup with 169700 results\n",
      "Error occurred while processing the table. Message: \n",
      "Stacktrace:\n",
      "\tGetHandleVerifier [0x0xce3763+63299]\n",
      "\tGetHandleVerifier [0x0xce37a4+63364]\n",
      "\t(No symbol) [0x0xb11113]\n",
      "\t(No symbol) [0x0xb5987e]\n",
      "\t(No symbol) [0x0xb59c1b]\n",
      "\t(No symbol) [0x0xba2212]\n",
      "\t(No symbol) [0x0xb7e5c4]\n",
      "\t(No symbol) [0x0xb9fa4a]\n",
      "\t(No symbol) [0x0xb7e376]\n",
      "\t(No symbol) [0x0xb4d6e0]\n",
      "\t(No symbol) [0x0xb4e544]\n",
      "\tGetHandleVerifier [0x0xf3e033+2531347]\n",
      "\tGetHandleVerifier [0x0xf39332+2511634]\n",
      "\tGetHandleVerifier [0x0xd09eda+220858]\n",
      "\tGetHandleVerifier [0x0xcfa528+156936]\n",
      "\tGetHandleVerifier [0x0xd00c5d+183357]\n",
      "\tGetHandleVerifier [0x0xceb6c8+95912]\n",
      "\tGetHandleVerifier [0x0xceb870+96336]\n",
      "\tGetHandleVerifier [0x0xcd664a+9770]\n",
      "\tBaseThreadInitThunk [0x0x75d15d49+25]\n",
      "\tRtlInitializeExceptionChain [0x0x7786d03b+107]\n",
      "\tRtlGetAppContainerNamedObjectPath [0x0x7786cfc1+561]\n",
      "\n"
     ]
    },
    {
     "name": "stderr",
     "output_type": "stream",
     "text": [
      "Scraping NICs:  34%|███▎      | 378/1127 [4:05:56<5:11:36, 24.96s/it]"
     ]
    },
    {
     "name": "stdout",
     "output_type": "stream",
     "text": [
      "Saved backup with 169700 results\n",
      "Dropdown not found or not interactable.\n",
      "Rows captured: 769\n"
     ]
    },
    {
     "name": "stderr",
     "output_type": "stream",
     "text": [
      "Scraping NICs:  34%|███▎      | 379/1127 [4:06:33<5:53:54, 28.39s/it]"
     ]
    },
    {
     "name": "stdout",
     "output_type": "stream",
     "text": [
      "Saved backup with 170469 results\n",
      "Dropdown not found or not interactable.\n",
      "Error occurred while processing the table. Message: \n",
      "Stacktrace:\n",
      "\tGetHandleVerifier [0x0xce3763+63299]\n",
      "\tGetHandleVerifier [0x0xce37a4+63364]\n",
      "\t(No symbol) [0x0xb11113]\n",
      "\t(No symbol) [0x0xb5987e]\n",
      "\t(No symbol) [0x0xb59c1b]\n",
      "\t(No symbol) [0x0xba2212]\n",
      "\t(No symbol) [0x0xb7e5c4]\n",
      "\t(No symbol) [0x0xb9fa4a]\n",
      "\t(No symbol) [0x0xb7e376]\n",
      "\t(No symbol) [0x0xb4d6e0]\n",
      "\t(No symbol) [0x0xb4e544]\n",
      "\tGetHandleVerifier [0x0xf3e033+2531347]\n",
      "\tGetHandleVerifier [0x0xf39332+2511634]\n",
      "\tGetHandleVerifier [0x0xd09eda+220858]\n",
      "\tGetHandleVerifier [0x0xcfa528+156936]\n",
      "\tGetHandleVerifier [0x0xd00c5d+183357]\n",
      "\tGetHandleVerifier [0x0xceb6c8+95912]\n",
      "\tGetHandleVerifier [0x0xceb870+96336]\n",
      "\tGetHandleVerifier [0x0xcd664a+9770]\n",
      "\tBaseThreadInitThunk [0x0x75d15d49+25]\n",
      "\tRtlInitializeExceptionChain [0x0x7786d03b+107]\n",
      "\tRtlGetAppContainerNamedObjectPath [0x0x7786cfc1+561]\n",
      "\n"
     ]
    },
    {
     "name": "stderr",
     "output_type": "stream",
     "text": [
      "Scraping NICs:  34%|███▎      | 380/1127 [4:06:43<4:46:50, 23.04s/it]"
     ]
    },
    {
     "name": "stdout",
     "output_type": "stream",
     "text": [
      "Saved backup with 170469 results\n",
      "Dropdown not found or not interactable.\n",
      "Error occurred while processing the table. Message: \n",
      "Stacktrace:\n",
      "\tGetHandleVerifier [0x0xce3763+63299]\n",
      "\tGetHandleVerifier [0x0xce37a4+63364]\n",
      "\t(No symbol) [0x0xb11113]\n",
      "\t(No symbol) [0x0xb5987e]\n",
      "\t(No symbol) [0x0xb59c1b]\n",
      "\t(No symbol) [0x0xba2212]\n",
      "\t(No symbol) [0x0xb7e5c4]\n",
      "\t(No symbol) [0x0xb9fa4a]\n",
      "\t(No symbol) [0x0xb7e376]\n",
      "\t(No symbol) [0x0xb4d6e0]\n",
      "\t(No symbol) [0x0xb4e544]\n",
      "\tGetHandleVerifier [0x0xf3e033+2531347]\n",
      "\tGetHandleVerifier [0x0xf39332+2511634]\n",
      "\tGetHandleVerifier [0x0xd09eda+220858]\n",
      "\tGetHandleVerifier [0x0xcfa528+156936]\n",
      "\tGetHandleVerifier [0x0xd00c5d+183357]\n",
      "\tGetHandleVerifier [0x0xceb6c8+95912]\n",
      "\tGetHandleVerifier [0x0xceb870+96336]\n",
      "\tGetHandleVerifier [0x0xcd664a+9770]\n",
      "\tBaseThreadInitThunk [0x0x75d15d49+25]\n",
      "\tRtlInitializeExceptionChain [0x0x7786d03b+107]\n",
      "\tRtlGetAppContainerNamedObjectPath [0x0x7786cfc1+561]\n",
      "\n"
     ]
    },
    {
     "name": "stderr",
     "output_type": "stream",
     "text": [
      "Scraping NICs:  34%|███▍      | 381/1127 [4:07:31<6:17:42, 30.38s/it]"
     ]
    },
    {
     "name": "stdout",
     "output_type": "stream",
     "text": [
      "Saved backup with 170469 results\n",
      "Rows captured: 75\n"
     ]
    },
    {
     "name": "stderr",
     "output_type": "stream",
     "text": [
      "Scraping NICs:  34%|███▍      | 382/1127 [4:08:53<9:31:27, 46.02s/it]"
     ]
    },
    {
     "name": "stdout",
     "output_type": "stream",
     "text": [
      "Saved backup with 170544 results\n",
      "Rows captured: 699\n"
     ]
    },
    {
     "name": "stderr",
     "output_type": "stream",
     "text": [
      "Scraping NICs:  34%|███▍      | 383/1127 [4:09:04<7:20:16, 35.51s/it]"
     ]
    },
    {
     "name": "stdout",
     "output_type": "stream",
     "text": [
      "Saved backup with 171243 results\n",
      "Dropdown not found or not interactable.\n",
      "Error occurred while processing the table. Message: \n",
      "Stacktrace:\n",
      "\tGetHandleVerifier [0x0xce3763+63299]\n",
      "\tGetHandleVerifier [0x0xce37a4+63364]\n",
      "\t(No symbol) [0x0xb11113]\n",
      "\t(No symbol) [0x0xb5987e]\n",
      "\t(No symbol) [0x0xb59c1b]\n",
      "\t(No symbol) [0x0xba2212]\n",
      "\t(No symbol) [0x0xb7e5c4]\n",
      "\t(No symbol) [0x0xb9fa4a]\n",
      "\t(No symbol) [0x0xb7e376]\n",
      "\t(No symbol) [0x0xb4d6e0]\n",
      "\t(No symbol) [0x0xb4e544]\n",
      "\tGetHandleVerifier [0x0xf3e033+2531347]\n",
      "\tGetHandleVerifier [0x0xf39332+2511634]\n",
      "\tGetHandleVerifier [0x0xd09eda+220858]\n",
      "\tGetHandleVerifier [0x0xcfa528+156936]\n",
      "\tGetHandleVerifier [0x0xd00c5d+183357]\n",
      "\tGetHandleVerifier [0x0xceb6c8+95912]\n",
      "\tGetHandleVerifier [0x0xceb870+96336]\n",
      "\tGetHandleVerifier [0x0xcd664a+9770]\n",
      "\tBaseThreadInitThunk [0x0x75d15d49+25]\n",
      "\tRtlInitializeExceptionChain [0x0x7786d03b+107]\n",
      "\tRtlGetAppContainerNamedObjectPath [0x0x7786cfc1+561]\n",
      "\n"
     ]
    },
    {
     "name": "stderr",
     "output_type": "stream",
     "text": [
      "Scraping NICs:  34%|███▍      | 384/1127 [4:09:43<7:30:59, 36.42s/it]"
     ]
    },
    {
     "name": "stdout",
     "output_type": "stream",
     "text": [
      "Saved backup with 171243 results\n",
      "Dropdown not found or not interactable.\n",
      "Rows captured: 112\n"
     ]
    },
    {
     "name": "stderr",
     "output_type": "stream",
     "text": [
      "Scraping NICs:  34%|███▍      | 385/1127 [4:10:20<7:33:01, 36.63s/it]"
     ]
    },
    {
     "name": "stdout",
     "output_type": "stream",
     "text": [
      "Saved backup with 171355 results\n",
      "Error occurred while processing the table. Message: \n",
      "Stacktrace:\n",
      "\tGetHandleVerifier [0x0xce3763+63299]\n",
      "\tGetHandleVerifier [0x0xce37a4+63364]\n",
      "\t(No symbol) [0x0xb11113]\n",
      "\t(No symbol) [0x0xb5987e]\n",
      "\t(No symbol) [0x0xb59c1b]\n",
      "\t(No symbol) [0x0xba2212]\n",
      "\t(No symbol) [0x0xb7e5c4]\n",
      "\t(No symbol) [0x0xb9fa4a]\n",
      "\t(No symbol) [0x0xb7e376]\n",
      "\t(No symbol) [0x0xb4d6e0]\n",
      "\t(No symbol) [0x0xb4e544]\n",
      "\tGetHandleVerifier [0x0xf3e033+2531347]\n",
      "\tGetHandleVerifier [0x0xf39332+2511634]\n",
      "\tGetHandleVerifier [0x0xd09eda+220858]\n",
      "\tGetHandleVerifier [0x0xcfa528+156936]\n",
      "\tGetHandleVerifier [0x0xd00c5d+183357]\n",
      "\tGetHandleVerifier [0x0xceb6c8+95912]\n",
      "\tGetHandleVerifier [0x0xceb870+96336]\n",
      "\tGetHandleVerifier [0x0xcd664a+9770]\n",
      "\tBaseThreadInitThunk [0x0x75d15d49+25]\n",
      "\tRtlInitializeExceptionChain [0x0x7786d03b+107]\n",
      "\tRtlGetAppContainerNamedObjectPath [0x0x7786cfc1+561]\n",
      "\n"
     ]
    },
    {
     "name": "stderr",
     "output_type": "stream",
     "text": [
      "Scraping NICs:  34%|███▍      | 386/1127 [4:10:30<5:55:10, 28.76s/it]"
     ]
    },
    {
     "name": "stdout",
     "output_type": "stream",
     "text": [
      "Saved backup with 171355 results\n",
      "Rows captured: 156\n"
     ]
    },
    {
     "name": "stderr",
     "output_type": "stream",
     "text": [
      "Scraping NICs:  34%|███▍      | 387/1127 [4:11:52<9:10:13, 44.61s/it]"
     ]
    },
    {
     "name": "stdout",
     "output_type": "stream",
     "text": [
      "Saved backup with 171511 results\n",
      "Rows captured: 20\n"
     ]
    },
    {
     "name": "stderr",
     "output_type": "stream",
     "text": [
      "Scraping NICs:  34%|███▍      | 388/1127 [4:12:02<7:00:13, 34.12s/it]"
     ]
    },
    {
     "name": "stdout",
     "output_type": "stream",
     "text": [
      "Saved backup with 171531 results\n",
      "Rows captured: 4607\n"
     ]
    },
    {
     "name": "stderr",
     "output_type": "stream",
     "text": [
      "Scraping NICs:  35%|███▍      | 389/1127 [4:12:11<5:29:18, 26.77s/it]"
     ]
    },
    {
     "name": "stdout",
     "output_type": "stream",
     "text": [
      "Saved backup with 176138 results\n",
      "Rows captured: 78\n"
     ]
    },
    {
     "name": "stderr",
     "output_type": "stream",
     "text": [
      "Scraping NICs:  35%|███▍      | 390/1127 [4:12:34<5:15:30, 25.69s/it]"
     ]
    },
    {
     "name": "stdout",
     "output_type": "stream",
     "text": [
      "Saved backup with 176216 results\n",
      "Rows captured: 52\n"
     ]
    },
    {
     "name": "stderr",
     "output_type": "stream",
     "text": [
      "Scraping NICs:  35%|███▍      | 391/1127 [4:13:06<5:37:04, 27.48s/it]"
     ]
    },
    {
     "name": "stdout",
     "output_type": "stream",
     "text": [
      "Saved backup with 176268 results\n",
      "Rows captured: 95\n"
     ]
    },
    {
     "name": "stderr",
     "output_type": "stream",
     "text": [
      "Scraping NICs:  35%|███▍      | 392/1127 [4:13:22<4:56:00, 24.16s/it]"
     ]
    },
    {
     "name": "stdout",
     "output_type": "stream",
     "text": [
      "Saved backup with 176363 results\n",
      "Dropdown not found or not interactable.\n",
      "Dropdown not found or not interactable.\n",
      "Error occurred while processing the table. Message: \n",
      "Stacktrace:\n",
      "\tGetHandleVerifier [0x0xce3763+63299]\n",
      "\tGetHandleVerifier [0x0xce37a4+63364]\n",
      "\t(No symbol) [0x0xb11113]\n",
      "\t(No symbol) [0x0xb5987e]\n",
      "\t(No symbol) [0x0xb59c1b]\n",
      "\t(No symbol) [0x0xba2212]\n",
      "\t(No symbol) [0x0xb7e5c4]\n",
      "\t(No symbol) [0x0xb9fa4a]\n",
      "\t(No symbol) [0x0xb7e376]\n",
      "\t(No symbol) [0x0xb4d6e0]\n",
      "\t(No symbol) [0x0xb4e544]\n",
      "\tGetHandleVerifier [0x0xf3e033+2531347]\n",
      "\tGetHandleVerifier [0x0xf39332+2511634]\n",
      "\tGetHandleVerifier [0x0xd09eda+220858]\n",
      "\tGetHandleVerifier [0x0xcfa528+156936]\n",
      "\tGetHandleVerifier [0x0xd00c5d+183357]\n",
      "\tGetHandleVerifier [0x0xceb6c8+95912]\n",
      "\tGetHandleVerifier [0x0xceb870+96336]\n",
      "\tGetHandleVerifier [0x0xcd664a+9770]\n",
      "\tBaseThreadInitThunk [0x0x75d15d49+25]\n",
      "\tRtlInitializeExceptionChain [0x0x7786d03b+107]\n",
      "\tRtlGetAppContainerNamedObjectPath [0x0x7786cfc1+561]\n",
      "\n"
     ]
    },
    {
     "name": "stderr",
     "output_type": "stream",
     "text": [
      "Scraping NICs:  35%|███▍      | 393/1127 [4:13:54<5:22:00, 26.32s/it]"
     ]
    },
    {
     "name": "stdout",
     "output_type": "stream",
     "text": [
      "Saved backup with 176363 results\n",
      "Error occurred while processing the table. Message: \n",
      "Stacktrace:\n",
      "\tGetHandleVerifier [0x0xce3763+63299]\n",
      "\tGetHandleVerifier [0x0xce37a4+63364]\n",
      "\t(No symbol) [0x0xb11113]\n",
      "\t(No symbol) [0x0xb5987e]\n",
      "\t(No symbol) [0x0xb59c1b]\n",
      "\t(No symbol) [0x0xba2212]\n",
      "\t(No symbol) [0x0xb7e5c4]\n",
      "\t(No symbol) [0x0xb9fa4a]\n",
      "\t(No symbol) [0x0xb7e376]\n",
      "\t(No symbol) [0x0xb4d6e0]\n",
      "\t(No symbol) [0x0xb4e544]\n",
      "\tGetHandleVerifier [0x0xf3e033+2531347]\n",
      "\tGetHandleVerifier [0x0xf39332+2511634]\n",
      "\tGetHandleVerifier [0x0xd09eda+220858]\n",
      "\tGetHandleVerifier [0x0xcfa528+156936]\n",
      "\tGetHandleVerifier [0x0xd00c5d+183357]\n",
      "\tGetHandleVerifier [0x0xceb6c8+95912]\n",
      "\tGetHandleVerifier [0x0xceb870+96336]\n",
      "\tGetHandleVerifier [0x0xcd664a+9770]\n",
      "\tBaseThreadInitThunk [0x0x75d15d49+25]\n",
      "\tRtlInitializeExceptionChain [0x0x7786d03b+107]\n",
      "\tRtlGetAppContainerNamedObjectPath [0x0x7786cfc1+561]\n",
      "\n"
     ]
    },
    {
     "name": "stderr",
     "output_type": "stream",
     "text": [
      "Scraping NICs:  35%|███▍      | 394/1127 [4:14:10<4:43:56, 23.24s/it]"
     ]
    },
    {
     "name": "stdout",
     "output_type": "stream",
     "text": [
      "Saved backup with 176363 results\n",
      "Dropdown not found or not interactable.\n",
      "Rows captured: 1039\n",
      "Dropdown not found or not interactable.\n"
     ]
    },
    {
     "name": "stderr",
     "output_type": "stream",
     "text": [
      "Scraping NICs:  35%|███▌      | 395/1127 [4:14:32<4:38:22, 22.82s/it]"
     ]
    },
    {
     "name": "stdout",
     "output_type": "stream",
     "text": [
      "Saved backup with 177402 results\n",
      "Error occurred while processing the table. Message: \n",
      "Stacktrace:\n",
      "\tGetHandleVerifier [0x0xce3763+63299]\n",
      "\tGetHandleVerifier [0x0xce37a4+63364]\n",
      "\t(No symbol) [0x0xb11113]\n",
      "\t(No symbol) [0x0xb5987e]\n",
      "\t(No symbol) [0x0xb59c1b]\n",
      "\t(No symbol) [0x0xba2212]\n",
      "\t(No symbol) [0x0xb7e5c4]\n",
      "\t(No symbol) [0x0xb9fa4a]\n",
      "\t(No symbol) [0x0xb7e376]\n",
      "\t(No symbol) [0x0xb4d6e0]\n",
      "\t(No symbol) [0x0xb4e544]\n",
      "\tGetHandleVerifier [0x0xf3e033+2531347]\n",
      "\tGetHandleVerifier [0x0xf39332+2511634]\n",
      "\tGetHandleVerifier [0x0xd09eda+220858]\n",
      "\tGetHandleVerifier [0x0xcfa528+156936]\n",
      "\tGetHandleVerifier [0x0xd00c5d+183357]\n",
      "\tGetHandleVerifier [0x0xceb6c8+95912]\n",
      "\tGetHandleVerifier [0x0xceb870+96336]\n",
      "\tGetHandleVerifier [0x0xcd664a+9770]\n",
      "\tBaseThreadInitThunk [0x0x75d15d49+25]\n",
      "\tRtlInitializeExceptionChain [0x0x7786d03b+107]\n",
      "\tRtlGetAppContainerNamedObjectPath [0x0x7786cfc1+561]\n",
      "\n"
     ]
    },
    {
     "name": "stderr",
     "output_type": "stream",
     "text": [
      "Scraping NICs:  35%|███▌      | 396/1127 [4:14:40<3:46:34, 18.60s/it]"
     ]
    },
    {
     "name": "stdout",
     "output_type": "stream",
     "text": [
      "Saved backup with 177402 results\n",
      "Error occurred while processing the table. Message: \n",
      "Stacktrace:\n",
      "\tGetHandleVerifier [0x0xce3763+63299]\n",
      "\tGetHandleVerifier [0x0xce37a4+63364]\n",
      "\t(No symbol) [0x0xb11113]\n",
      "\t(No symbol) [0x0xb5987e]\n",
      "\t(No symbol) [0x0xb59c1b]\n",
      "\t(No symbol) [0x0xba2212]\n",
      "\t(No symbol) [0x0xb7e5c4]\n",
      "\t(No symbol) [0x0xb9fa4a]\n",
      "\t(No symbol) [0x0xb7e376]\n",
      "\t(No symbol) [0x0xb4d6e0]\n",
      "\t(No symbol) [0x0xb4e544]\n",
      "\tGetHandleVerifier [0x0xf3e033+2531347]\n",
      "\tGetHandleVerifier [0x0xf39332+2511634]\n",
      "\tGetHandleVerifier [0x0xd09eda+220858]\n",
      "\tGetHandleVerifier [0x0xcfa528+156936]\n",
      "\tGetHandleVerifier [0x0xd00c5d+183357]\n",
      "\tGetHandleVerifier [0x0xceb6c8+95912]\n",
      "\tGetHandleVerifier [0x0xceb870+96336]\n",
      "\tGetHandleVerifier [0x0xcd664a+9770]\n",
      "\tBaseThreadInitThunk [0x0x75d15d49+25]\n",
      "\tRtlInitializeExceptionChain [0x0x7786d03b+107]\n",
      "\tRtlGetAppContainerNamedObjectPath [0x0x7786cfc1+561]\n",
      "\n"
     ]
    },
    {
     "name": "stderr",
     "output_type": "stream",
     "text": [
      "Scraping NICs:  35%|███▌      | 397/1127 [4:14:57<3:38:57, 18.00s/it]"
     ]
    },
    {
     "name": "stdout",
     "output_type": "stream",
     "text": [
      "Saved backup with 177402 results\n",
      "Dropdown not found or not interactable.\n",
      "Dropdown not found or not interactable.\n",
      "Dropdown not found or not interactable.\n",
      "Error occurred while processing the table. Message: \n",
      "Stacktrace:\n",
      "\tGetHandleVerifier [0x0xce3763+63299]\n",
      "\tGetHandleVerifier [0x0xce37a4+63364]\n",
      "\t(No symbol) [0x0xb11113]\n",
      "\t(No symbol) [0x0xb5987e]\n",
      "\t(No symbol) [0x0xb59c1b]\n",
      "\t(No symbol) [0x0xba2212]\n",
      "\t(No symbol) [0x0xb7e5c4]\n",
      "\t(No symbol) [0x0xb9fa4a]\n",
      "\t(No symbol) [0x0xb7e376]\n",
      "\t(No symbol) [0x0xb4d6e0]\n",
      "\t(No symbol) [0x0xb4e544]\n",
      "\tGetHandleVerifier [0x0xf3e033+2531347]\n",
      "\tGetHandleVerifier [0x0xf39332+2511634]\n",
      "\tGetHandleVerifier [0x0xd09eda+220858]\n",
      "\tGetHandleVerifier [0x0xcfa528+156936]\n",
      "\tGetHandleVerifier [0x0xd00c5d+183357]\n",
      "\tGetHandleVerifier [0x0xceb6c8+95912]\n",
      "\tGetHandleVerifier [0x0xceb870+96336]\n",
      "\tGetHandleVerifier [0x0xcd664a+9770]\n",
      "\tBaseThreadInitThunk [0x0x75d15d49+25]\n",
      "\tRtlInitializeExceptionChain [0x0x7786d03b+107]\n",
      "\tRtlGetAppContainerNamedObjectPath [0x0x7786cfc1+561]\n",
      "\n",
      "Error occurred while processing the table. Message: \n",
      "Stacktrace:\n",
      "\tGetHandleVerifier [0x0xce3763+63299]\n",
      "\tGetHandleVerifier [0x0xce37a4+63364]\n",
      "\t(No symbol) [0x0xb11113]\n",
      "\t(No symbol) [0x0xb5987e]\n",
      "\t(No symbol) [0x0xb59c1b]\n",
      "\t(No symbol) [0x0xba2212]\n",
      "\t(No symbol) [0x0xb7e5c4]\n",
      "\t(No symbol) [0x0xb9fa4a]\n",
      "\t(No symbol) [0x0xb7e376]\n",
      "\t(No symbol) [0x0xb4d6e0]\n",
      "\t(No symbol) [0x0xb4e544]\n",
      "\tGetHandleVerifier [0x0xf3e033+2531347]\n",
      "\tGetHandleVerifier [0x0xf39332+2511634]\n",
      "\tGetHandleVerifier [0x0xd09eda+220858]\n",
      "\tGetHandleVerifier [0x0xcfa528+156936]\n",
      "\tGetHandleVerifier [0x0xd00c5d+183357]\n",
      "\tGetHandleVerifier [0x0xceb6c8+95912]\n",
      "\tGetHandleVerifier [0x0xceb870+96336]\n",
      "\tGetHandleVerifier [0x0xcd664a+9770]\n",
      "\tBaseThreadInitThunk [0x0x75d15d49+25]\n",
      "\tRtlInitializeExceptionChain [0x0x7786d03b+107]\n",
      "\tRtlGetAppContainerNamedObjectPath [0x0x7786cfc1+561]\n",
      "\n"
     ]
    },
    {
     "name": "stderr",
     "output_type": "stream",
     "text": [
      "Scraping NICs:  35%|███▌      | 398/1127 [4:15:26<4:17:12, 21.17s/it]"
     ]
    },
    {
     "name": "stdout",
     "output_type": "stream",
     "text": [
      "Saved backup with 177402 results\n"
     ]
    },
    {
     "name": "stderr",
     "output_type": "stream",
     "text": [
      "Scraping NICs:  35%|███▌      | 399/1127 [4:15:27<3:06:30, 15.37s/it]"
     ]
    },
    {
     "name": "stdout",
     "output_type": "stream",
     "text": [
      "Saved backup with 177402 results\n",
      "Error occurred while processing the table. Message: \n",
      "Stacktrace:\n",
      "\tGetHandleVerifier [0x0xce3763+63299]\n",
      "\tGetHandleVerifier [0x0xce37a4+63364]\n",
      "\t(No symbol) [0x0xb11113]\n",
      "\t(No symbol) [0x0xb5987e]\n",
      "\t(No symbol) [0x0xb59c1b]\n",
      "\t(No symbol) [0x0xba2212]\n",
      "\t(No symbol) [0x0xb7e5c4]\n",
      "\t(No symbol) [0x0xb9fa4a]\n",
      "\t(No symbol) [0x0xb7e376]\n",
      "\t(No symbol) [0x0xb4d6e0]\n",
      "\t(No symbol) [0x0xb4e544]\n",
      "\tGetHandleVerifier [0x0xf3e033+2531347]\n",
      "\tGetHandleVerifier [0x0xf39332+2511634]\n",
      "\tGetHandleVerifier [0x0xd09eda+220858]\n",
      "\tGetHandleVerifier [0x0xcfa528+156936]\n",
      "\tGetHandleVerifier [0x0xd00c5d+183357]\n",
      "\tGetHandleVerifier [0x0xceb6c8+95912]\n",
      "\tGetHandleVerifier [0x0xceb870+96336]\n",
      "\tGetHandleVerifier [0x0xcd664a+9770]\n",
      "\tBaseThreadInitThunk [0x0x75d15d49+25]\n",
      "\tRtlInitializeExceptionChain [0x0x7786d03b+107]\n",
      "\tRtlGetAppContainerNamedObjectPath [0x0x7786cfc1+561]\n",
      "\n"
     ]
    },
    {
     "name": "stderr",
     "output_type": "stream",
     "text": [
      "Scraping NICs:  35%|███▌      | 400/1127 [4:15:44<3:10:57, 15.76s/it]"
     ]
    },
    {
     "name": "stdout",
     "output_type": "stream",
     "text": [
      "Saved backup with 177402 results\n",
      "Dropdown not found or not interactable.\n",
      "Dropdown not found or not interactable.\n",
      "Error occurred while processing the table. Message: \n",
      "Stacktrace:\n",
      "\tGetHandleVerifier [0x0xce3763+63299]\n",
      "\tGetHandleVerifier [0x0xce37a4+63364]\n",
      "\t(No symbol) [0x0xb11113]\n",
      "\t(No symbol) [0x0xb5987e]\n",
      "\t(No symbol) [0x0xb59c1b]\n",
      "\t(No symbol) [0x0xba2212]\n",
      "\t(No symbol) [0x0xb7e5c4]\n",
      "\t(No symbol) [0x0xb9fa4a]\n",
      "\t(No symbol) [0x0xb7e376]\n",
      "\t(No symbol) [0x0xb4d6e0]\n",
      "\t(No symbol) [0x0xb4e544]\n",
      "\tGetHandleVerifier [0x0xf3e033+2531347]\n",
      "\tGetHandleVerifier [0x0xf39332+2511634]\n",
      "\tGetHandleVerifier [0x0xd09eda+220858]\n",
      "\tGetHandleVerifier [0x0xcfa528+156936]\n",
      "\tGetHandleVerifier [0x0xd00c5d+183357]\n",
      "\tGetHandleVerifier [0x0xceb6c8+95912]\n",
      "\tGetHandleVerifier [0x0xceb870+96336]\n",
      "\tGetHandleVerifier [0x0xcd664a+9770]\n",
      "\tBaseThreadInitThunk [0x0x75d15d49+25]\n",
      "\tRtlInitializeExceptionChain [0x0x7786d03b+107]\n",
      "\tRtlGetAppContainerNamedObjectPath [0x0x7786cfc1+561]\n",
      "\n",
      "Error occurred while processing the table. Message: \n",
      "Stacktrace:\n",
      "\tGetHandleVerifier [0x0xce3763+63299]\n",
      "\tGetHandleVerifier [0x0xce37a4+63364]\n",
      "\t(No symbol) [0x0xb11113]\n",
      "\t(No symbol) [0x0xb5987e]\n",
      "\t(No symbol) [0x0xb59c1b]\n",
      "\t(No symbol) [0x0xba2212]\n",
      "\t(No symbol) [0x0xb7e5c4]\n",
      "\t(No symbol) [0x0xb9fa4a]\n",
      "\t(No symbol) [0x0xb7e376]\n",
      "\t(No symbol) [0x0xb4d6e0]\n",
      "\t(No symbol) [0x0xb4e544]\n",
      "\tGetHandleVerifier [0x0xf3e033+2531347]\n",
      "\tGetHandleVerifier [0x0xf39332+2511634]\n",
      "\tGetHandleVerifier [0x0xd09eda+220858]\n",
      "\tGetHandleVerifier [0x0xcfa528+156936]\n",
      "\tGetHandleVerifier [0x0xd00c5d+183357]\n",
      "\tGetHandleVerifier [0x0xceb6c8+95912]\n",
      "\tGetHandleVerifier [0x0xceb870+96336]\n",
      "\tGetHandleVerifier [0x0xcd664a+9770]\n",
      "\tBaseThreadInitThunk [0x0x75d15d49+25]\n",
      "\tRtlInitializeExceptionChain [0x0x7786d03b+107]\n",
      "\tRtlGetAppContainerNamedObjectPath [0x0x7786cfc1+561]\n",
      "\n"
     ]
    },
    {
     "name": "stderr",
     "output_type": "stream",
     "text": [
      "Scraping NICs:  36%|███▌      | 401/1127 [4:16:14<4:00:41, 19.89s/it]"
     ]
    },
    {
     "name": "stdout",
     "output_type": "stream",
     "text": [
      "Saved backup with 177402 results\n"
     ]
    },
    {
     "name": "stderr",
     "output_type": "stream",
     "text": [
      "Scraping NICs:  36%|███▌      | 402/1127 [4:16:16<2:55:09, 14.50s/it]"
     ]
    },
    {
     "name": "stdout",
     "output_type": "stream",
     "text": [
      "Saved backup with 177402 results\n",
      "Dropdown not found or not interactable.\n",
      "Rows captured: 155\n"
     ]
    },
    {
     "name": "stderr",
     "output_type": "stream",
     "text": [
      "Scraping NICs:  36%|███▌      | 403/1127 [4:16:58<4:36:56, 22.95s/it]"
     ]
    },
    {
     "name": "stdout",
     "output_type": "stream",
     "text": [
      "Saved backup with 177557 results\n",
      "Error occurred while processing the table. HTTPConnectionPool(host='localhost', port=52009): Read timed out. (read timeout=120)\n"
     ]
    },
    {
     "name": "stderr",
     "output_type": "stream",
     "text": [
      "Scraping NICs:  36%|███▌      | 404/1127 [4:19:01<10:36:41, 52.84s/it]"
     ]
    },
    {
     "name": "stdout",
     "output_type": "stream",
     "text": [
      "Saved backup with 177557 results\n",
      "Rows captured: 1180\n"
     ]
    },
    {
     "name": "stderr",
     "output_type": "stream",
     "text": [
      "Scraping NICs:  36%|███▌      | 405/1127 [4:20:04<11:14:37, 56.06s/it]"
     ]
    },
    {
     "name": "stdout",
     "output_type": "stream",
     "text": [
      "Saved backup with 178737 results\n",
      "Rows captured: 572\n"
     ]
    },
    {
     "name": "stderr",
     "output_type": "stream",
     "text": [
      "Scraping NICs:  36%|███▌      | 406/1127 [4:20:33<9:33:27, 47.72s/it] "
     ]
    },
    {
     "name": "stdout",
     "output_type": "stream",
     "text": [
      "Saved backup with 179309 results\n",
      "Rows captured: 1227\n"
     ]
    },
    {
     "name": "stderr",
     "output_type": "stream",
     "text": [
      "Scraping NICs:  36%|███▌      | 407/1127 [4:20:40<7:08:21, 35.70s/it]"
     ]
    },
    {
     "name": "stdout",
     "output_type": "stream",
     "text": [
      "Saved backup with 180536 results\n",
      "Dropdown not found or not interactable.\n",
      "Rows captured: 245\n"
     ]
    },
    {
     "name": "stderr",
     "output_type": "stream",
     "text": [
      "Scraping NICs:  36%|███▌      | 408/1127 [4:21:18<7:13:52, 36.21s/it]"
     ]
    },
    {
     "name": "stdout",
     "output_type": "stream",
     "text": [
      "Saved backup with 180781 results\n",
      "Error occurred while processing the table. Message: \n",
      "Stacktrace:\n",
      "\tGetHandleVerifier [0x0xce3763+63299]\n",
      "\tGetHandleVerifier [0x0xce37a4+63364]\n",
      "\t(No symbol) [0x0xb11113]\n",
      "\t(No symbol) [0x0xb5987e]\n",
      "\t(No symbol) [0x0xb59c1b]\n",
      "\t(No symbol) [0x0xba2212]\n",
      "\t(No symbol) [0x0xb7e5c4]\n",
      "\t(No symbol) [0x0xb9fa4a]\n",
      "\t(No symbol) [0x0xb7e376]\n",
      "\t(No symbol) [0x0xb4d6e0]\n",
      "\t(No symbol) [0x0xb4e544]\n",
      "\tGetHandleVerifier [0x0xf3e033+2531347]\n",
      "\tGetHandleVerifier [0x0xf39332+2511634]\n",
      "\tGetHandleVerifier [0x0xd09eda+220858]\n",
      "\tGetHandleVerifier [0x0xcfa528+156936]\n",
      "\tGetHandleVerifier [0x0xd00c5d+183357]\n",
      "\tGetHandleVerifier [0x0xceb6c8+95912]\n",
      "\tGetHandleVerifier [0x0xceb870+96336]\n",
      "\tGetHandleVerifier [0x0xcd664a+9770]\n",
      "\tBaseThreadInitThunk [0x0x75d15d49+25]\n",
      "\tRtlInitializeExceptionChain [0x0x7786d03b+107]\n",
      "\tRtlGetAppContainerNamedObjectPath [0x0x7786cfc1+561]\n",
      "\n"
     ]
    },
    {
     "name": "stderr",
     "output_type": "stream",
     "text": [
      "Scraping NICs:  36%|███▋      | 409/1127 [4:21:28<5:40:57, 28.49s/it]"
     ]
    },
    {
     "name": "stdout",
     "output_type": "stream",
     "text": [
      "Saved backup with 180781 results\n",
      "Rows captured: 111\n"
     ]
    },
    {
     "name": "stderr",
     "output_type": "stream",
     "text": [
      "Scraping NICs:  36%|███▋      | 410/1127 [4:21:31<4:08:25, 20.79s/it]"
     ]
    },
    {
     "name": "stdout",
     "output_type": "stream",
     "text": [
      "Saved backup with 180892 results\n",
      "Dropdown not found or not interactable.\n",
      "Dropdown not found or not interactable.\n",
      "Rows captured: 234\n"
     ]
    },
    {
     "name": "stderr",
     "output_type": "stream",
     "text": [
      "Scraping NICs:  36%|███▋      | 411/1127 [4:22:01<4:42:41, 23.69s/it]"
     ]
    },
    {
     "name": "stdout",
     "output_type": "stream",
     "text": [
      "Saved backup with 181126 results\n",
      "Error occurred while processing the table. Message: \n",
      "Stacktrace:\n",
      "\tGetHandleVerifier [0x0xce3763+63299]\n",
      "\tGetHandleVerifier [0x0xce37a4+63364]\n",
      "\t(No symbol) [0x0xb11113]\n",
      "\t(No symbol) [0x0xb5987e]\n",
      "\t(No symbol) [0x0xb59c1b]\n",
      "\t(No symbol) [0x0xba2212]\n",
      "\t(No symbol) [0x0xb7e5c4]\n",
      "\t(No symbol) [0x0xb9fa4a]\n",
      "\t(No symbol) [0x0xb7e376]\n",
      "\t(No symbol) [0x0xb4d6e0]\n",
      "\t(No symbol) [0x0xb4e544]\n",
      "\tGetHandleVerifier [0x0xf3e033+2531347]\n",
      "\tGetHandleVerifier [0x0xf39332+2511634]\n",
      "\tGetHandleVerifier [0x0xd09eda+220858]\n",
      "\tGetHandleVerifier [0x0xcfa528+156936]\n",
      "\tGetHandleVerifier [0x0xd00c5d+183357]\n",
      "\tGetHandleVerifier [0x0xceb6c8+95912]\n",
      "\tGetHandleVerifier [0x0xceb870+96336]\n",
      "\tGetHandleVerifier [0x0xcd664a+9770]\n",
      "\tBaseThreadInitThunk [0x0x75d15d49+25]\n",
      "\tRtlInitializeExceptionChain [0x0x7786d03b+107]\n",
      "\tRtlGetAppContainerNamedObjectPath [0x0x7786cfc1+561]\n",
      "\n"
     ]
    },
    {
     "name": "stderr",
     "output_type": "stream",
     "text": [
      "Scraping NICs:  37%|███▋      | 412/1127 [4:22:16<4:09:41, 20.95s/it]"
     ]
    },
    {
     "name": "stdout",
     "output_type": "stream",
     "text": [
      "Saved backup with 181126 results\n",
      "Error occurred while processing the table. Message: \n",
      "Stacktrace:\n",
      "\tGetHandleVerifier [0x0xce3763+63299]\n",
      "\tGetHandleVerifier [0x0xce37a4+63364]\n",
      "\t(No symbol) [0x0xb11113]\n",
      "\t(No symbol) [0x0xb5987e]\n",
      "\t(No symbol) [0x0xb59c1b]\n",
      "\t(No symbol) [0x0xba2212]\n",
      "\t(No symbol) [0x0xb7e5c4]\n",
      "\t(No symbol) [0x0xb9fa4a]\n",
      "\t(No symbol) [0x0xb7e376]\n",
      "\t(No symbol) [0x0xb4d6e0]\n",
      "\t(No symbol) [0x0xb4e544]\n",
      "\tGetHandleVerifier [0x0xf3e033+2531347]\n",
      "\tGetHandleVerifier [0x0xf39332+2511634]\n",
      "\tGetHandleVerifier [0x0xd09eda+220858]\n",
      "\tGetHandleVerifier [0x0xcfa528+156936]\n",
      "\tGetHandleVerifier [0x0xd00c5d+183357]\n",
      "\tGetHandleVerifier [0x0xceb6c8+95912]\n",
      "\tGetHandleVerifier [0x0xceb870+96336]\n",
      "\tGetHandleVerifier [0x0xcd664a+9770]\n",
      "\tBaseThreadInitThunk [0x0x75d15d49+25]\n",
      "\tRtlInitializeExceptionChain [0x0x7786d03b+107]\n",
      "\tRtlGetAppContainerNamedObjectPath [0x0x7786cfc1+561]\n",
      "\n"
     ]
    },
    {
     "name": "stderr",
     "output_type": "stream",
     "text": [
      "Scraping NICs:  37%|███▋      | 413/1127 [4:22:19<3:03:46, 15.44s/it]"
     ]
    },
    {
     "name": "stdout",
     "output_type": "stream",
     "text": [
      "Saved backup with 181126 results\n",
      "Dropdown not found or not interactable.\n",
      "Dropdown not found or not interactable.\n",
      "Error occurred while processing the table. Message: \n",
      "Stacktrace:\n",
      "\tGetHandleVerifier [0x0xce3763+63299]\n",
      "\tGetHandleVerifier [0x0xce37a4+63364]\n",
      "\t(No symbol) [0x0xb11113]\n",
      "\t(No symbol) [0x0xb5987e]\n",
      "\t(No symbol) [0x0xb59c1b]\n",
      "\t(No symbol) [0x0xba2212]\n",
      "\t(No symbol) [0x0xb7e5c4]\n",
      "\t(No symbol) [0x0xb9fa4a]\n",
      "\t(No symbol) [0x0xb7e376]\n",
      "\t(No symbol) [0x0xb4d6e0]\n",
      "\t(No symbol) [0x0xb4e544]\n",
      "\tGetHandleVerifier [0x0xf3e033+2531347]\n",
      "\tGetHandleVerifier [0x0xf39332+2511634]\n",
      "\tGetHandleVerifier [0x0xd09eda+220858]\n",
      "\tGetHandleVerifier [0x0xcfa528+156936]\n",
      "\tGetHandleVerifier [0x0xd00c5d+183357]\n",
      "\tGetHandleVerifier [0x0xceb6c8+95912]\n",
      "\tGetHandleVerifier [0x0xceb870+96336]\n",
      "\tGetHandleVerifier [0x0xcd664a+9770]\n",
      "\tBaseThreadInitThunk [0x0x75d15d49+25]\n",
      "\tRtlInitializeExceptionChain [0x0x7786d03b+107]\n",
      "\tRtlGetAppContainerNamedObjectPath [0x0x7786cfc1+561]\n",
      "\n"
     ]
    },
    {
     "name": "stderr",
     "output_type": "stream",
     "text": [
      "Scraping NICs:  37%|███▋      | 414/1127 [4:22:49<3:58:02, 20.03s/it]"
     ]
    },
    {
     "name": "stdout",
     "output_type": "stream",
     "text": [
      "Saved backup with 181126 results\n",
      "Error occurred while processing the table. Message: \n",
      "Stacktrace:\n",
      "\tGetHandleVerifier [0x0xce3763+63299]\n",
      "\tGetHandleVerifier [0x0xce37a4+63364]\n",
      "\t(No symbol) [0x0xb11113]\n",
      "\t(No symbol) [0x0xb5987e]\n",
      "\t(No symbol) [0x0xb59c1b]\n",
      "\t(No symbol) [0x0xba2212]\n",
      "\t(No symbol) [0x0xb7e5c4]\n",
      "\t(No symbol) [0x0xb9fa4a]\n",
      "\t(No symbol) [0x0xb7e376]\n",
      "\t(No symbol) [0x0xb4d6e0]\n",
      "\t(No symbol) [0x0xb4e544]\n",
      "\tGetHandleVerifier [0x0xf3e033+2531347]\n",
      "\tGetHandleVerifier [0x0xf39332+2511634]\n",
      "\tGetHandleVerifier [0x0xd09eda+220858]\n",
      "\tGetHandleVerifier [0x0xcfa528+156936]\n",
      "\tGetHandleVerifier [0x0xd00c5d+183357]\n",
      "\tGetHandleVerifier [0x0xceb6c8+95912]\n",
      "\tGetHandleVerifier [0x0xceb870+96336]\n",
      "\tGetHandleVerifier [0x0xcd664a+9770]\n",
      "\tBaseThreadInitThunk [0x0x75d15d49+25]\n",
      "\tRtlInitializeExceptionChain [0x0x7786d03b+107]\n",
      "\tRtlGetAppContainerNamedObjectPath [0x0x7786cfc1+561]\n",
      "\n"
     ]
    },
    {
     "name": "stderr",
     "output_type": "stream",
     "text": [
      "Scraping NICs:  37%|███▋      | 415/1127 [4:23:04<3:37:16, 18.31s/it]"
     ]
    },
    {
     "name": "stdout",
     "output_type": "stream",
     "text": [
      "Saved backup with 181126 results\n",
      "Rows captured: 148\n"
     ]
    },
    {
     "name": "stderr",
     "output_type": "stream",
     "text": [
      "Scraping NICs:  37%|███▋      | 416/1127 [4:23:36<4:25:53, 22.44s/it]"
     ]
    },
    {
     "name": "stdout",
     "output_type": "stream",
     "text": [
      "Saved backup with 181274 results\n",
      "Rows captured: 66\n"
     ]
    },
    {
     "name": "stderr",
     "output_type": "stream",
     "text": [
      "Scraping NICs:  37%|███▋      | 417/1127 [4:23:46<3:41:47, 18.74s/it]"
     ]
    },
    {
     "name": "stdout",
     "output_type": "stream",
     "text": [
      "Saved backup with 181340 results\n",
      "Dropdown not found or not interactable.\n",
      "Dropdown not found or not interactable.\n",
      "Rows captured: 151\n"
     ]
    },
    {
     "name": "stderr",
     "output_type": "stream",
     "text": [
      "Scraping NICs:  37%|███▋      | 418/1127 [4:24:24<4:49:33, 24.50s/it]"
     ]
    },
    {
     "name": "stdout",
     "output_type": "stream",
     "text": [
      "Saved backup with 181491 results\n",
      "Error occurred while processing the table. Message: \n",
      "Stacktrace:\n",
      "\tGetHandleVerifier [0x0xce3763+63299]\n",
      "\tGetHandleVerifier [0x0xce37a4+63364]\n",
      "\t(No symbol) [0x0xb11113]\n",
      "\t(No symbol) [0x0xb5987e]\n",
      "\t(No symbol) [0x0xb59c1b]\n",
      "\t(No symbol) [0x0xba2212]\n",
      "\t(No symbol) [0x0xb7e5c4]\n",
      "\t(No symbol) [0x0xb9fa4a]\n",
      "\t(No symbol) [0x0xb7e376]\n",
      "\t(No symbol) [0x0xb4d6e0]\n",
      "\t(No symbol) [0x0xb4e544]\n",
      "\tGetHandleVerifier [0x0xf3e033+2531347]\n",
      "\tGetHandleVerifier [0x0xf39332+2511634]\n",
      "\tGetHandleVerifier [0x0xd09eda+220858]\n",
      "\tGetHandleVerifier [0x0xcfa528+156936]\n",
      "\tGetHandleVerifier [0x0xd00c5d+183357]\n",
      "\tGetHandleVerifier [0x0xceb6c8+95912]\n",
      "\tGetHandleVerifier [0x0xceb870+96336]\n",
      "\tGetHandleVerifier [0x0xcd664a+9770]\n",
      "\tBaseThreadInitThunk [0x0x75d15d49+25]\n",
      "\tRtlInitializeExceptionChain [0x0x7786d03b+107]\n",
      "\tRtlGetAppContainerNamedObjectPath [0x0x7786cfc1+561]\n",
      "\n"
     ]
    },
    {
     "name": "stderr",
     "output_type": "stream",
     "text": [
      "Scraping NICs:  37%|███▋      | 419/1127 [4:24:33<3:54:30, 19.87s/it]"
     ]
    },
    {
     "name": "stdout",
     "output_type": "stream",
     "text": [
      "Saved backup with 181491 results\n",
      "Dropdown not found or not interactable.\n",
      "Dropdown not found or not interactable.\n",
      "Rows captured: 350\n"
     ]
    },
    {
     "name": "stderr",
     "output_type": "stream",
     "text": [
      "Scraping NICs:  37%|███▋      | 420/1127 [4:25:09<4:50:50, 24.68s/it]"
     ]
    },
    {
     "name": "stdout",
     "output_type": "stream",
     "text": [
      "Error occurred while processing the table. Message: \n",
      "Stacktrace:\n",
      "\tGetHandleVerifier [0x0xce3763+63299]\n",
      "\tGetHandleVerifier [0x0xce37a4+63364]\n",
      "\t(No symbol) [0x0xb11113]\n",
      "\t(No symbol) [0x0xb5987e]\n",
      "\t(No symbol) [0x0xb59c1b]\n",
      "\t(No symbol) [0x0xba2212]\n",
      "\t(No symbol) [0x0xb7e5c4]\n",
      "\t(No symbol) [0x0xb9fa4a]\n",
      "\t(No symbol) [0x0xb7e376]\n",
      "\t(No symbol) [0x0xb4d6e0]\n",
      "\t(No symbol) [0x0xb4e544]\n",
      "\tGetHandleVerifier [0x0xf3e033+2531347]\n",
      "\tGetHandleVerifier [0x0xf39332+2511634]\n",
      "\tGetHandleVerifier [0x0xd09eda+220858]\n",
      "\tGetHandleVerifier [0x0xcfa528+156936]\n",
      "\tGetHandleVerifier [0x0xd00c5d+183357]\n",
      "\tGetHandleVerifier [0x0xceb6c8+95912]\n",
      "\tGetHandleVerifier [0x0xceb870+96336]\n",
      "\tGetHandleVerifier [0x0xcd664a+9770]\n",
      "\tBaseThreadInitThunk [0x0x75d15d49+25]\n",
      "\tRtlInitializeExceptionChain [0x0x7786d03b+107]\n",
      "\tRtlGetAppContainerNamedObjectPath [0x0x7786cfc1+561]\n",
      "\n",
      "Saved backup with 181841 results\n"
     ]
    },
    {
     "name": "stderr",
     "output_type": "stream",
     "text": [
      "Scraping NICs:  37%|███▋      | 421/1127 [4:25:11<3:30:30, 17.89s/it]"
     ]
    },
    {
     "name": "stdout",
     "output_type": "stream",
     "text": [
      "Saved backup with 181841 results\n",
      "Rows captured: 59\n"
     ]
    },
    {
     "name": "stderr",
     "output_type": "stream",
     "text": [
      "Scraping NICs:  37%|███▋      | 422/1127 [4:25:22<3:07:40, 15.97s/it]"
     ]
    },
    {
     "name": "stdout",
     "output_type": "stream",
     "text": [
      "Saved backup with 181900 results\n",
      "Dropdown not found or not interactable.\n",
      "Dropdown not found or not interactable.\n",
      "Error occurred while processing the table. Message: \n",
      "Stacktrace:\n",
      "\tGetHandleVerifier [0x0xce3763+63299]\n",
      "\tGetHandleVerifier [0x0xce37a4+63364]\n",
      "\t(No symbol) [0x0xb11113]\n",
      "\t(No symbol) [0x0xb5987e]\n",
      "\t(No symbol) [0x0xb59c1b]\n",
      "\t(No symbol) [0x0xba2212]\n",
      "\t(No symbol) [0x0xb7e5c4]\n",
      "\t(No symbol) [0x0xb9fa4a]\n",
      "\t(No symbol) [0x0xb7e376]\n",
      "\t(No symbol) [0x0xb4d6e0]\n",
      "\t(No symbol) [0x0xb4e544]\n",
      "\tGetHandleVerifier [0x0xf3e033+2531347]\n",
      "\tGetHandleVerifier [0x0xf39332+2511634]\n",
      "\tGetHandleVerifier [0x0xd09eda+220858]\n",
      "\tGetHandleVerifier [0x0xcfa528+156936]\n",
      "\tGetHandleVerifier [0x0xd00c5d+183357]\n",
      "\tGetHandleVerifier [0x0xceb6c8+95912]\n",
      "\tGetHandleVerifier [0x0xceb870+96336]\n",
      "\tGetHandleVerifier [0x0xcd664a+9770]\n",
      "\tBaseThreadInitThunk [0x0x75d15d49+25]\n",
      "\tRtlInitializeExceptionChain [0x0x7786d03b+107]\n",
      "\tRtlGetAppContainerNamedObjectPath [0x0x7786cfc1+561]\n",
      "\n"
     ]
    },
    {
     "name": "stderr",
     "output_type": "stream",
     "text": [
      "Scraping NICs:  38%|███▊      | 423/1127 [4:25:56<4:10:00, 21.31s/it]"
     ]
    },
    {
     "name": "stdout",
     "output_type": "stream",
     "text": [
      "Saved backup with 181900 results\n",
      "Error occurred while processing the table. Message: \n",
      "Stacktrace:\n",
      "\tGetHandleVerifier [0x0xce3763+63299]\n",
      "\tGetHandleVerifier [0x0xce37a4+63364]\n",
      "\t(No symbol) [0x0xb11113]\n",
      "\t(No symbol) [0x0xb5987e]\n",
      "\t(No symbol) [0x0xb59c1b]\n",
      "\t(No symbol) [0x0xba2212]\n",
      "\t(No symbol) [0x0xb7e5c4]\n",
      "\t(No symbol) [0x0xb9fa4a]\n",
      "\t(No symbol) [0x0xb7e376]\n",
      "\t(No symbol) [0x0xb4d6e0]\n",
      "\t(No symbol) [0x0xb4e544]\n",
      "\tGetHandleVerifier [0x0xf3e033+2531347]\n",
      "\tGetHandleVerifier [0x0xf39332+2511634]\n",
      "\tGetHandleVerifier [0x0xd09eda+220858]\n",
      "\tGetHandleVerifier [0x0xcfa528+156936]\n",
      "\tGetHandleVerifier [0x0xd00c5d+183357]\n",
      "\tGetHandleVerifier [0x0xceb6c8+95912]\n",
      "\tGetHandleVerifier [0x0xceb870+96336]\n",
      "\tGetHandleVerifier [0x0xcd664a+9770]\n",
      "\tBaseThreadInitThunk [0x0x75d15d49+25]\n",
      "\tRtlInitializeExceptionChain [0x0x7786d03b+107]\n",
      "\tRtlGetAppContainerNamedObjectPath [0x0x7786cfc1+561]\n",
      "\n"
     ]
    },
    {
     "name": "stderr",
     "output_type": "stream",
     "text": [
      "Scraping NICs:  38%|███▊      | 424/1127 [4:25:59<3:03:32, 15.66s/it]"
     ]
    },
    {
     "name": "stdout",
     "output_type": "stream",
     "text": [
      "Saved backup with 181900 results\n",
      "Dropdown not found or not interactable.\n",
      "Rows captured: 176\n"
     ]
    },
    {
     "name": "stderr",
     "output_type": "stream",
     "text": [
      "Scraping NICs:  38%|███▊      | 425/1127 [4:26:35<4:16:27, 21.92s/it]"
     ]
    },
    {
     "name": "stdout",
     "output_type": "stream",
     "text": [
      "Saved backup with 182076 results\n",
      "Error occurred while processing the table. Message: \n",
      "Stacktrace:\n",
      "\tGetHandleVerifier [0x0xce3763+63299]\n",
      "\tGetHandleVerifier [0x0xce37a4+63364]\n",
      "\t(No symbol) [0x0xb11113]\n",
      "\t(No symbol) [0x0xb5987e]\n",
      "\t(No symbol) [0x0xb59c1b]\n",
      "\t(No symbol) [0x0xba2212]\n",
      "\t(No symbol) [0x0xb7e5c4]\n",
      "\t(No symbol) [0x0xb9fa4a]\n",
      "\t(No symbol) [0x0xb7e376]\n",
      "\t(No symbol) [0x0xb4d6e0]\n",
      "\t(No symbol) [0x0xb4e544]\n",
      "\tGetHandleVerifier [0x0xf3e033+2531347]\n",
      "\tGetHandleVerifier [0x0xf39332+2511634]\n",
      "\tGetHandleVerifier [0x0xd09eda+220858]\n",
      "\tGetHandleVerifier [0x0xcfa528+156936]\n",
      "\tGetHandleVerifier [0x0xd00c5d+183357]\n",
      "\tGetHandleVerifier [0x0xceb6c8+95912]\n",
      "\tGetHandleVerifier [0x0xceb870+96336]\n",
      "\tGetHandleVerifier [0x0xcd664a+9770]\n",
      "\tBaseThreadInitThunk [0x0x75d15d49+25]\n",
      "\tRtlInitializeExceptionChain [0x0x7786d03b+107]\n",
      "\tRtlGetAppContainerNamedObjectPath [0x0x7786cfc1+561]\n",
      "\n"
     ]
    },
    {
     "name": "stderr",
     "output_type": "stream",
     "text": [
      "Scraping NICs:  38%|███▊      | 426/1127 [4:26:44<3:31:32, 18.11s/it]"
     ]
    },
    {
     "name": "stdout",
     "output_type": "stream",
     "text": [
      "Saved backup with 182076 results\n",
      "Rows captured: 17\n"
     ]
    },
    {
     "name": "stderr",
     "output_type": "stream",
     "text": [
      "Scraping NICs:  38%|███▊      | 427/1127 [4:27:11<4:00:57, 20.65s/it]"
     ]
    },
    {
     "name": "stdout",
     "output_type": "stream",
     "text": [
      "Saved backup with 182093 results\n",
      "Rows captured: 21\n"
     ]
    },
    {
     "name": "stderr",
     "output_type": "stream",
     "text": [
      "Scraping NICs:  38%|███▊      | 428/1127 [4:27:43<4:42:10, 24.22s/it]"
     ]
    },
    {
     "name": "stdout",
     "output_type": "stream",
     "text": [
      "Saved backup with 182114 results\n",
      "Rows captured: 25\n"
     ]
    },
    {
     "name": "stderr",
     "output_type": "stream",
     "text": [
      "Scraping NICs:  38%|███▊      | 429/1127 [4:28:01<4:17:19, 22.12s/it]"
     ]
    },
    {
     "name": "stdout",
     "output_type": "stream",
     "text": [
      "Saved backup with 182139 results\n",
      "Dropdown not found or not interactable.\n",
      "Dropdown not found or not interactable.\n",
      "Error occurred while processing the table. Message: \n",
      "Stacktrace:\n",
      "\tGetHandleVerifier [0x0xce3763+63299]\n",
      "\tGetHandleVerifier [0x0xce37a4+63364]\n",
      "\t(No symbol) [0x0xb11113]\n",
      "\t(No symbol) [0x0xb5987e]\n",
      "\t(No symbol) [0x0xb59c1b]\n",
      "\t(No symbol) [0x0xba2212]\n",
      "\t(No symbol) [0x0xb7e5c4]\n",
      "\t(No symbol) [0x0xb9fa4a]\n",
      "\t(No symbol) [0x0xb7e376]\n",
      "\t(No symbol) [0x0xb4d6e0]\n",
      "\t(No symbol) [0x0xb4e544]\n",
      "\tGetHandleVerifier [0x0xf3e033+2531347]\n",
      "\tGetHandleVerifier [0x0xf39332+2511634]\n",
      "\tGetHandleVerifier [0x0xd09eda+220858]\n",
      "\tGetHandleVerifier [0x0xcfa528+156936]\n",
      "\tGetHandleVerifier [0x0xd00c5d+183357]\n",
      "\tGetHandleVerifier [0x0xceb6c8+95912]\n",
      "\tGetHandleVerifier [0x0xceb870+96336]\n",
      "\tGetHandleVerifier [0x0xcd664a+9770]\n",
      "\tBaseThreadInitThunk [0x0x75d15d49+25]\n",
      "\tRtlInitializeExceptionChain [0x0x7786d03b+107]\n",
      "\tRtlGetAppContainerNamedObjectPath [0x0x7786cfc1+561]\n",
      "\n"
     ]
    },
    {
     "name": "stderr",
     "output_type": "stream",
     "text": [
      "Scraping NICs:  38%|███▊      | 430/1127 [4:28:31<4:46:03, 24.62s/it]"
     ]
    },
    {
     "name": "stdout",
     "output_type": "stream",
     "text": [
      "Saved backup with 182139 results\n",
      "Error occurred while processing the table. Message: \n",
      "Stacktrace:\n",
      "\tGetHandleVerifier [0x0xce3763+63299]\n",
      "\tGetHandleVerifier [0x0xce37a4+63364]\n",
      "\t(No symbol) [0x0xb11113]\n",
      "\t(No symbol) [0x0xb5987e]\n",
      "\t(No symbol) [0x0xb59c1b]\n",
      "\t(No symbol) [0x0xba2212]\n",
      "\t(No symbol) [0x0xb7e5c4]\n",
      "\t(No symbol) [0x0xb9fa4a]\n",
      "\t(No symbol) [0x0xb7e376]\n",
      "\t(No symbol) [0x0xb4d6e0]\n",
      "\t(No symbol) [0x0xb4e544]\n",
      "\tGetHandleVerifier [0x0xf3e033+2531347]\n",
      "\tGetHandleVerifier [0x0xf39332+2511634]\n",
      "\tGetHandleVerifier [0x0xd09eda+220858]\n",
      "\tGetHandleVerifier [0x0xcfa528+156936]\n",
      "\tGetHandleVerifier [0x0xd00c5d+183357]\n",
      "\tGetHandleVerifier [0x0xceb6c8+95912]\n",
      "\tGetHandleVerifier [0x0xceb870+96336]\n",
      "\tGetHandleVerifier [0x0xcd664a+9770]\n",
      "\tBaseThreadInitThunk [0x0x75d15d49+25]\n",
      "\tRtlInitializeExceptionChain [0x0x7786d03b+107]\n",
      "\tRtlGetAppContainerNamedObjectPath [0x0x7786cfc1+561]\n",
      "\n",
      "Rows captured: 984\n"
     ]
    },
    {
     "name": "stderr",
     "output_type": "stream",
     "text": [
      "Scraping NICs:  38%|███▊      | 431/1127 [4:28:50<4:24:19, 22.79s/it]"
     ]
    },
    {
     "name": "stdout",
     "output_type": "stream",
     "text": [
      "Saved backup with 182139 results\n"
     ]
    },
    {
     "name": "stderr",
     "output_type": "stream",
     "text": [
      "Scraping NICs:  38%|███▊      | 432/1127 [4:28:51<3:10:58, 16.49s/it]"
     ]
    },
    {
     "name": "stdout",
     "output_type": "stream",
     "text": [
      "Saved backup with 183123 results\n",
      "Dropdown not found or not interactable.\n",
      "Dropdown not found or not interactable.\n",
      "Dropdown not found or not interactable.\n",
      "Error occurred while processing the table. Message: \n",
      "Stacktrace:\n",
      "\tGetHandleVerifier [0x0xce3763+63299]\n",
      "\tGetHandleVerifier [0x0xce37a4+63364]\n",
      "\t(No symbol) [0x0xb11113]\n",
      "\t(No symbol) [0x0xb5987e]\n",
      "\t(No symbol) [0x0xb59c1b]\n",
      "\t(No symbol) [0x0xba2212]\n",
      "\t(No symbol) [0x0xb7e5c4]\n",
      "\t(No symbol) [0x0xb9fa4a]\n",
      "\t(No symbol) [0x0xb7e376]\n",
      "\t(No symbol) [0x0xb4d6e0]\n",
      "\t(No symbol) [0x0xb4e544]\n",
      "\tGetHandleVerifier [0x0xf3e033+2531347]\n",
      "\tGetHandleVerifier [0x0xf39332+2511634]\n",
      "\tGetHandleVerifier [0x0xd09eda+220858]\n",
      "\tGetHandleVerifier [0x0xcfa528+156936]\n",
      "\tGetHandleVerifier [0x0xd00c5d+183357]\n",
      "\tGetHandleVerifier [0x0xceb6c8+95912]\n",
      "\tGetHandleVerifier [0x0xceb870+96336]\n",
      "\tGetHandleVerifier [0x0xcd664a+9770]\n",
      "\tBaseThreadInitThunk [0x0x75d15d49+25]\n",
      "\tRtlInitializeExceptionChain [0x0x7786d03b+107]\n",
      "\tRtlGetAppContainerNamedObjectPath [0x0x7786cfc1+561]\n",
      "\n"
     ]
    },
    {
     "name": "stderr",
     "output_type": "stream",
     "text": [
      "Scraping NICs:  38%|███▊      | 433/1127 [4:29:23<4:03:50, 21.08s/it]"
     ]
    },
    {
     "name": "stdout",
     "output_type": "stream",
     "text": [
      "Saved backup with 183123 results\n",
      "Error occurred while processing the table.Error occurred while processing the table. Message: \n",
      "Stacktrace:\n",
      "\tGetHandleVerifier [0x0xce3763+63299]\n",
      "\tGetHandleVerifier [0x0xce37a4+63364]\n",
      "\t(No symbol) [0x0xb11113]\n",
      "\t(No symbol) [0x0xb5987e]\n",
      "\t(No symbol) [0x0xb59c1b]\n",
      "\t(No symbol) [0x0xba2212]\n",
      "\t(No symbol) [0x0xb7e5c4]\n",
      "\t(No symbol) [0x0xb9fa4a]\n",
      "\t(No symbol) [0x0xb7e376]\n",
      "\t(No symbol) [0x0xb4d6e0]\n",
      "\t(No symbol) [0x0xb4e544]\n",
      "\tGetHandleVerifier [0x0xf3e033+2531347]\n",
      "\tGetHandleVerifier [0x0xf39332+2511634]\n",
      "\tGetHandleVerifier [0x0xd09eda+220858]\n",
      "\tGetHandleVerifier [0x0xcfa528+156936]\n",
      "\tGetHandleVerifier [0x0xd00c5d+183357]\n",
      "\tGetHandleVerifier [0x0xceb6c8+95912]\n",
      "\tGetHandleVerifier [0x0xceb870+96336]\n",
      "\tGetHandleVerifier [0x0xcd664a+9770]\n",
      "\tBaseThreadInitThunk [0x0x75d15d49+25]\n",
      "\tRtlInitializeExceptionChain [0x0x7786d03b+107]\n",
      "\tRtlGetAppContainerNamedObjectPath [0x0x7786cfc1+561]\n",
      "\n",
      " Message: \n",
      "Stacktrace:\n",
      "\tGetHandleVerifier [0x0xce3763+63299]\n",
      "\tGetHandleVerifier [0x0xce37a4+63364]\n",
      "\t(No symbol) [0x0xb11113]\n",
      "\t(No symbol) [0x0xb5987e]\n",
      "\t(No symbol) [0x0xb59c1b]\n",
      "\t(No symbol) [0x0xba2212]\n",
      "\t(No symbol) [0x0xb7e5c4]\n",
      "\t(No symbol) [0x0xb9fa4a]\n",
      "\t(No symbol) [0x0xb7e376]\n",
      "\t(No symbol) [0x0xb4d6e0]\n",
      "\t(No symbol) [0x0xb4e544]\n",
      "\tGetHandleVerifier [0x0xf3e033+2531347]\n",
      "\tGetHandleVerifier [0x0xf39332+2511634]\n",
      "\tGetHandleVerifier [0x0xd09eda+220858]\n",
      "\tGetHandleVerifier [0x0xcfa528+156936]\n",
      "\tGetHandleVerifier [0x0xd00c5d+183357]\n",
      "\tGetHandleVerifier [0x0xceb6c8+95912]\n",
      "\tGetHandleVerifier [0x0xceb870+96336]\n",
      "\tGetHandleVerifier [0x0xcd664a+9770]\n",
      "\tBaseThreadInitThunk [0x0x75d15d49+25]\n",
      "\tRtlInitializeExceptionChain [0x0x7786d03b+107]\n",
      "\tRtlGetAppContainerNamedObjectPath [0x0x7786cfc1+561]\n",
      "\n"
     ]
    },
    {
     "name": "stderr",
     "output_type": "stream",
     "text": [
      "Scraping NICs:  39%|███▊      | 434/1127 [4:29:39<3:45:23, 19.51s/it]"
     ]
    },
    {
     "name": "stdout",
     "output_type": "stream",
     "text": [
      "Saved backup with 183123 results\n"
     ]
    },
    {
     "name": "stderr",
     "output_type": "stream",
     "text": [
      "Scraping NICs:  39%|███▊      | 435/1127 [4:29:40<2:41:52, 14.04s/it]"
     ]
    },
    {
     "name": "stdout",
     "output_type": "stream",
     "text": [
      "Saved backup with 183123 results\n",
      "Dropdown not found or not interactable.\n",
      "Dropdown not found or not interactable.\n",
      "Dropdown not found or not interactable.\n",
      "Error occurred while processing the table. Message: \n",
      "Stacktrace:\n",
      "\tGetHandleVerifier [0x0xce3763+63299]\n",
      "\tGetHandleVerifier [0x0xce37a4+63364]\n",
      "\t(No symbol) [0x0xb11113]\n",
      "\t(No symbol) [0x0xb5987e]\n",
      "\t(No symbol) [0x0xb59c1b]\n",
      "\t(No symbol) [0x0xba2212]\n",
      "\t(No symbol) [0x0xb7e5c4]\n",
      "\t(No symbol) [0x0xb9fa4a]\n",
      "\t(No symbol) [0x0xb7e376]\n",
      "\t(No symbol) [0x0xb4d6e0]\n",
      "\t(No symbol) [0x0xb4e544]\n",
      "\tGetHandleVerifier [0x0xf3e033+2531347]\n",
      "\tGetHandleVerifier [0x0xf39332+2511634]\n",
      "\tGetHandleVerifier [0x0xd09eda+220858]\n",
      "\tGetHandleVerifier [0x0xcfa528+156936]\n",
      "\tGetHandleVerifier [0x0xd00c5d+183357]\n",
      "\tGetHandleVerifier [0x0xceb6c8+95912]\n",
      "\tGetHandleVerifier [0x0xceb870+96336]\n",
      "\tGetHandleVerifier [0x0xcd664a+9770]\n",
      "\tBaseThreadInitThunk [0x0x75d15d49+25]\n",
      "\tRtlInitializeExceptionChain [0x0x7786d03b+107]\n",
      "\tRtlGetAppContainerNamedObjectPath [0x0x7786cfc1+561]\n",
      "\n"
     ]
    },
    {
     "name": "stderr",
     "output_type": "stream",
     "text": [
      "Scraping NICs:  39%|███▊      | 436/1127 [4:30:10<3:36:19, 18.78s/it]"
     ]
    },
    {
     "name": "stdout",
     "output_type": "stream",
     "text": [
      "Saved backup with 183123 results\n",
      "Error occurred while processing the table. Message: \n",
      "Stacktrace:\n",
      "\tGetHandleVerifier [0x0xce3763+63299]\n",
      "\tGetHandleVerifier [0x0xce37a4+63364]\n",
      "\t(No symbol) [0x0xb11113]\n",
      "\t(No symbol) [0x0xb5987e]\n",
      "\t(No symbol) [0x0xb59c1b]\n",
      "\t(No symbol) [0x0xba2212]\n",
      "\t(No symbol) [0x0xb7e5c4]\n",
      "\t(No symbol) [0x0xb9fa4a]\n",
      "\t(No symbol) [0x0xb7e376]\n",
      "\t(No symbol) [0x0xb4d6e0]\n",
      "\t(No symbol) [0x0xb4e544]\n",
      "\tGetHandleVerifier [0x0xf3e033+2531347]\n",
      "\tGetHandleVerifier [0x0xf39332+2511634]\n",
      "\tGetHandleVerifier [0x0xd09eda+220858]\n",
      "\tGetHandleVerifier [0x0xcfa528+156936]\n",
      "\tGetHandleVerifier [0x0xd00c5d+183357]\n",
      "\tGetHandleVerifier [0x0xceb6c8+95912]\n",
      "\tGetHandleVerifier [0x0xceb870+96336]\n",
      "\tGetHandleVerifier [0x0xcd664a+9770]\n",
      "\tBaseThreadInitThunk [0x0x75d15d49+25]\n",
      "\tRtlInitializeExceptionChain [0x0x7786d03b+107]\n",
      "\tRtlGetAppContainerNamedObjectPath [0x0x7786cfc1+561]\n",
      "\n",
      "Error occurred while processing the table. Message: \n",
      "Stacktrace:\n",
      "\tGetHandleVerifier [0x0xce3763+63299]\n",
      "\tGetHandleVerifier [0x0xce37a4+63364]\n",
      "\t(No symbol) [0x0xb11113]\n",
      "\t(No symbol) [0x0xb5987e]\n",
      "\t(No symbol) [0x0xb59c1b]\n",
      "\t(No symbol) [0x0xba2212]\n",
      "\t(No symbol) [0x0xb7e5c4]\n",
      "\t(No symbol) [0x0xb9fa4a]\n",
      "\t(No symbol) [0x0xb7e376]\n",
      "\t(No symbol) [0x0xb4d6e0]\n",
      "\t(No symbol) [0x0xb4e544]\n",
      "\tGetHandleVerifier [0x0xf3e033+2531347]\n",
      "\tGetHandleVerifier [0x0xf39332+2511634]\n",
      "\tGetHandleVerifier [0x0xd09eda+220858]\n",
      "\tGetHandleVerifier [0x0xcfa528+156936]\n",
      "\tGetHandleVerifier [0x0xd00c5d+183357]\n",
      "\tGetHandleVerifier [0x0xceb6c8+95912]\n",
      "\tGetHandleVerifier [0x0xceb870+96336]\n",
      "\tGetHandleVerifier [0x0xcd664a+9770]\n",
      "\tBaseThreadInitThunk [0x0x75d15d49+25]\n",
      "\tRtlInitializeExceptionChain [0x0x7786d03b+107]\n",
      "\tRtlGetAppContainerNamedObjectPath [0x0x7786cfc1+561]\n",
      "\n"
     ]
    },
    {
     "name": "stderr",
     "output_type": "stream",
     "text": [
      "Scraping NICs:  39%|███▉      | 437/1127 [4:30:27<3:28:43, 18.15s/it]"
     ]
    },
    {
     "name": "stdout",
     "output_type": "stream",
     "text": [
      "Saved backup with 183123 results\n"
     ]
    },
    {
     "name": "stderr",
     "output_type": "stream",
     "text": [
      "Scraping NICs:  39%|███▉      | 438/1127 [4:30:28<2:30:26, 13.10s/it]"
     ]
    },
    {
     "name": "stdout",
     "output_type": "stream",
     "text": [
      "Saved backup with 183123 results\n",
      "Rows captured: 241\n"
     ]
    },
    {
     "name": "stderr",
     "output_type": "stream",
     "text": [
      "Scraping NICs:  39%|███▉      | 439/1127 [4:30:50<3:00:53, 15.77s/it]"
     ]
    },
    {
     "name": "stdout",
     "output_type": "stream",
     "text": [
      "Saved backup with 183364 results\n",
      "Rows captured: 54\n"
     ]
    },
    {
     "name": "stderr",
     "output_type": "stream",
     "text": [
      "Scraping NICs:  39%|███▉      | 440/1127 [4:31:35<4:39:02, 24.37s/it]"
     ]
    },
    {
     "name": "stdout",
     "output_type": "stream",
     "text": [
      "Saved backup with 183418 results\n",
      "Rows captured: 231\n"
     ]
    },
    {
     "name": "stderr",
     "output_type": "stream",
     "text": [
      "Scraping NICs:  39%|███▉      | 441/1127 [4:31:49<4:03:34, 21.30s/it]"
     ]
    },
    {
     "name": "stdout",
     "output_type": "stream",
     "text": [
      "Saved backup with 183649 results\n",
      "Rows captured: 307\n"
     ]
    },
    {
     "name": "stderr",
     "output_type": "stream",
     "text": [
      "Scraping NICs:  39%|███▉      | 442/1127 [4:32:01<3:31:48, 18.55s/it]"
     ]
    },
    {
     "name": "stdout",
     "output_type": "stream",
     "text": [
      "Saved backup with 183956 results\n",
      "Dropdown not found or not interactable.\n",
      "Rows captured: 107\n"
     ]
    },
    {
     "name": "stderr",
     "output_type": "stream",
     "text": [
      "Scraping NICs:  39%|███▉      | 443/1127 [4:32:14<3:13:38, 16.99s/it]"
     ]
    },
    {
     "name": "stdout",
     "output_type": "stream",
     "text": [
      "Saved backup with 184063 results\n",
      "Error occurred while processing the table. Message: \n",
      "Stacktrace:\n",
      "\tGetHandleVerifier [0x0xce3763+63299]\n",
      "\tGetHandleVerifier [0x0xce37a4+63364]\n",
      "\t(No symbol) [0x0xb11113]\n",
      "\t(No symbol) [0x0xb5987e]\n",
      "\t(No symbol) [0x0xb59c1b]\n",
      "\t(No symbol) [0x0xba2212]\n",
      "\t(No symbol) [0x0xb7e5c4]\n",
      "\t(No symbol) [0x0xb9fa4a]\n",
      "\t(No symbol) [0x0xb7e376]\n",
      "\t(No symbol) [0x0xb4d6e0]\n",
      "\t(No symbol) [0x0xb4e544]\n",
      "\tGetHandleVerifier [0x0xf3e033+2531347]\n",
      "\tGetHandleVerifier [0x0xf39332+2511634]\n",
      "\tGetHandleVerifier [0x0xd09eda+220858]\n",
      "\tGetHandleVerifier [0x0xcfa528+156936]\n",
      "\tGetHandleVerifier [0x0xd00c5d+183357]\n",
      "\tGetHandleVerifier [0x0xceb6c8+95912]\n",
      "\tGetHandleVerifier [0x0xceb870+96336]\n",
      "\tGetHandleVerifier [0x0xcd664a+9770]\n",
      "\tBaseThreadInitThunk [0x0x75d15d49+25]\n",
      "\tRtlInitializeExceptionChain [0x0x7786d03b+107]\n",
      "\tRtlGetAppContainerNamedObjectPath [0x0x7786cfc1+561]\n",
      "\n"
     ]
    },
    {
     "name": "stderr",
     "output_type": "stream",
     "text": [
      "Scraping NICs:  39%|███▉      | 444/1127 [4:32:38<3:36:20, 19.01s/it]"
     ]
    },
    {
     "name": "stdout",
     "output_type": "stream",
     "text": [
      "Saved backup with 184063 results\n",
      "Rows captured: 138\n"
     ]
    },
    {
     "name": "stderr",
     "output_type": "stream",
     "text": [
      "Scraping NICs:  39%|███▉      | 445/1127 [4:32:56<3:31:48, 18.63s/it]"
     ]
    },
    {
     "name": "stdout",
     "output_type": "stream",
     "text": [
      "Saved backup with 184201 results\n",
      "Rows captured: 57\n"
     ]
    },
    {
     "name": "stderr",
     "output_type": "stream",
     "text": [
      "Scraping NICs:  40%|███▉      | 446/1127 [4:33:11<3:21:15, 17.73s/it]"
     ]
    },
    {
     "name": "stdout",
     "output_type": "stream",
     "text": [
      "Saved backup with 184258 results\n",
      "Dropdown not found or not interactable.\n",
      "Error occurred while processing the table. Message: \n",
      "Stacktrace:\n",
      "\tGetHandleVerifier [0x0xce3763+63299]\n",
      "\tGetHandleVerifier [0x0xce37a4+63364]\n",
      "\t(No symbol) [0x0xb11113]\n",
      "\t(No symbol) [0x0xb5987e]\n",
      "\t(No symbol) [0x0xb59c1b]\n",
      "\t(No symbol) [0x0xba2212]\n",
      "\t(No symbol) [0x0xb7e5c4]\n",
      "\t(No symbol) [0x0xb9fa4a]\n",
      "\t(No symbol) [0x0xb7e376]\n",
      "\t(No symbol) [0x0xb4d6e0]\n",
      "\t(No symbol) [0x0xb4e544]\n",
      "\tGetHandleVerifier [0x0xf3e033+2531347]\n",
      "\tGetHandleVerifier [0x0xf39332+2511634]\n",
      "\tGetHandleVerifier [0x0xd09eda+220858]\n",
      "\tGetHandleVerifier [0x0xcfa528+156936]\n",
      "\tGetHandleVerifier [0x0xd00c5d+183357]\n",
      "\tGetHandleVerifier [0x0xceb6c8+95912]\n",
      "\tGetHandleVerifier [0x0xceb870+96336]\n",
      "\tGetHandleVerifier [0x0xcd664a+9770]\n",
      "\tBaseThreadInitThunk [0x0x75d15d49+25]\n",
      "\tRtlInitializeExceptionChain [0x0x7786d03b+107]\n",
      "\tRtlGetAppContainerNamedObjectPath [0x0x7786cfc1+561]\n",
      "\n"
     ]
    },
    {
     "name": "stderr",
     "output_type": "stream",
     "text": [
      "Scraping NICs:  40%|███▉      | 447/1127 [4:33:48<4:25:34, 23.43s/it]"
     ]
    },
    {
     "name": "stdout",
     "output_type": "stream",
     "text": [
      "Saved backup with 184258 results\n",
      "Rows captured: 315\n"
     ]
    },
    {
     "name": "stderr",
     "output_type": "stream",
     "text": [
      "Scraping NICs:  40%|███▉      | 448/1127 [4:34:32<5:34:31, 29.56s/it]"
     ]
    },
    {
     "name": "stdout",
     "output_type": "stream",
     "text": [
      "Saved backup with 184573 results\n",
      "Dropdown not found or not interactable.\n",
      "Error occurred while processing the table. Message: \n",
      "Stacktrace:\n",
      "\tGetHandleVerifier [0x0xce3763+63299]\n",
      "\tGetHandleVerifier [0x0xce37a4+63364]\n",
      "\t(No symbol) [0x0xb11113]\n",
      "\t(No symbol) [0x0xb5987e]\n",
      "\t(No symbol) [0x0xb59c1b]\n",
      "\t(No symbol) [0x0xba2212]\n",
      "\t(No symbol) [0x0xb7e5c4]\n",
      "\t(No symbol) [0x0xb9fa4a]\n",
      "\t(No symbol) [0x0xb7e376]\n",
      "\t(No symbol) [0x0xb4d6e0]\n",
      "\t(No symbol) [0x0xb4e544]\n",
      "\tGetHandleVerifier [0x0xf3e033+2531347]\n",
      "\tGetHandleVerifier [0x0xf39332+2511634]\n",
      "\tGetHandleVerifier [0x0xd09eda+220858]\n",
      "\tGetHandleVerifier [0x0xcfa528+156936]\n",
      "\tGetHandleVerifier [0x0xd00c5d+183357]\n",
      "\tGetHandleVerifier [0x0xceb6c8+95912]\n",
      "\tGetHandleVerifier [0x0xceb870+96336]\n",
      "\tGetHandleVerifier [0x0xcd664a+9770]\n",
      "\tBaseThreadInitThunk [0x0x75d15d49+25]\n",
      "\tRtlInitializeExceptionChain [0x0x7786d03b+107]\n",
      "\tRtlGetAppContainerNamedObjectPath [0x0x7786cfc1+561]\n",
      "\n"
     ]
    },
    {
     "name": "stderr",
     "output_type": "stream",
     "text": [
      "Scraping NICs:  40%|███▉      | 449/1127 [4:35:25<6:52:39, 36.52s/it]"
     ]
    },
    {
     "name": "stdout",
     "output_type": "stream",
     "text": [
      "Saved backup with 184573 results\n",
      "Dropdown not found or not interactable.\n",
      "Rows captured: 702\n"
     ]
    },
    {
     "name": "stderr",
     "output_type": "stream",
     "text": [
      "Scraping NICs:  40%|███▉      | 450/1127 [4:35:48<6:08:32, 32.66s/it]"
     ]
    },
    {
     "name": "stdout",
     "output_type": "stream",
     "text": [
      "Saved backup with 185275 results\n",
      "Error occurred while processing the table. Message: \n",
      "Stacktrace:\n",
      "\tGetHandleVerifier [0x0xce3763+63299]\n",
      "\tGetHandleVerifier [0x0xce37a4+63364]\n",
      "\t(No symbol) [0x0xb11113]\n",
      "\t(No symbol) [0x0xb5987e]\n",
      "\t(No symbol) [0x0xb59c1b]\n",
      "\t(No symbol) [0x0xba2212]\n",
      "\t(No symbol) [0x0xb7e5c4]\n",
      "\t(No symbol) [0x0xb9fa4a]\n",
      "\t(No symbol) [0x0xb7e376]\n",
      "\t(No symbol) [0x0xb4d6e0]\n",
      "\t(No symbol) [0x0xb4e544]\n",
      "\tGetHandleVerifier [0x0xf3e033+2531347]\n",
      "\tGetHandleVerifier [0x0xf39332+2511634]\n",
      "\tGetHandleVerifier [0x0xd09eda+220858]\n",
      "\tGetHandleVerifier [0x0xcfa528+156936]\n",
      "\tGetHandleVerifier [0x0xd00c5d+183357]\n",
      "\tGetHandleVerifier [0x0xceb6c8+95912]\n",
      "\tGetHandleVerifier [0x0xceb870+96336]\n",
      "\tGetHandleVerifier [0x0xcd664a+9770]\n",
      "\tBaseThreadInitThunk [0x0x75d15d49+25]\n",
      "\tRtlInitializeExceptionChain [0x0x7786d03b+107]\n",
      "\tRtlGetAppContainerNamedObjectPath [0x0x7786cfc1+561]\n",
      "\n"
     ]
    },
    {
     "name": "stderr",
     "output_type": "stream",
     "text": [
      "Scraping NICs:  40%|████      | 451/1127 [4:36:13<5:39:26, 30.13s/it]"
     ]
    },
    {
     "name": "stdout",
     "output_type": "stream",
     "text": [
      "Saved backup with 185275 results\n",
      "Dropdown not found or not interactable.\n",
      "Error occurred while processing the table. Message: \n",
      "Stacktrace:\n",
      "\tGetHandleVerifier [0x0xce3763+63299]\n",
      "\tGetHandleVerifier [0x0xce37a4+63364]\n",
      "\t(No symbol) [0x0xb11113]\n",
      "\t(No symbol) [0x0xb5987e]\n",
      "\t(No symbol) [0x0xb59c1b]\n",
      "\t(No symbol) [0x0xba2212]\n",
      "\t(No symbol) [0x0xb7e5c4]\n",
      "\t(No symbol) [0x0xb9fa4a]\n",
      "\t(No symbol) [0x0xb7e376]\n",
      "\t(No symbol) [0x0xb4d6e0]\n",
      "\t(No symbol) [0x0xb4e544]\n",
      "\tGetHandleVerifier [0x0xf3e033+2531347]\n",
      "\tGetHandleVerifier [0x0xf39332+2511634]\n",
      "\tGetHandleVerifier [0x0xd09eda+220858]\n",
      "\tGetHandleVerifier [0x0xcfa528+156936]\n",
      "\tGetHandleVerifier [0x0xd00c5d+183357]\n",
      "\tGetHandleVerifier [0x0xceb6c8+95912]\n",
      "\tGetHandleVerifier [0x0xceb870+96336]\n",
      "\tGetHandleVerifier [0x0xcd664a+9770]\n",
      "\tBaseThreadInitThunk [0x0x75d15d49+25]\n",
      "\tRtlInitializeExceptionChain [0x0x7786d03b+107]\n",
      "\tRtlGetAppContainerNamedObjectPath [0x0x7786cfc1+561]\n",
      "\n"
     ]
    },
    {
     "name": "stderr",
     "output_type": "stream",
     "text": [
      "Scraping NICs:  40%|████      | 452/1127 [4:37:00<6:38:22, 35.41s/it]"
     ]
    },
    {
     "name": "stdout",
     "output_type": "stream",
     "text": [
      "Saved backup with 185275 results\n",
      "Dropdown not found or not interactable.\n",
      "Error occurred while processing the table. Message: \n",
      "Stacktrace:\n",
      "\tGetHandleVerifier [0x0xce3763+63299]\n",
      "\tGetHandleVerifier [0x0xce37a4+63364]\n",
      "\t(No symbol) [0x0xb11113]\n",
      "\t(No symbol) [0x0xb5987e]\n",
      "\t(No symbol) [0x0xb59c1b]\n",
      "\t(No symbol) [0x0xba2212]\n",
      "\t(No symbol) [0x0xb7e5c4]\n",
      "\t(No symbol) [0x0xb9fa4a]\n",
      "\t(No symbol) [0x0xb7e376]\n",
      "\t(No symbol) [0x0xb4d6e0]\n",
      "\t(No symbol) [0x0xb4e544]\n",
      "\tGetHandleVerifier [0x0xf3e033+2531347]\n",
      "\tGetHandleVerifier [0x0xf39332+2511634]\n",
      "\tGetHandleVerifier [0x0xd09eda+220858]\n",
      "\tGetHandleVerifier [0x0xcfa528+156936]\n",
      "\tGetHandleVerifier [0x0xd00c5d+183357]\n",
      "\tGetHandleVerifier [0x0xceb6c8+95912]\n",
      "\tGetHandleVerifier [0x0xceb870+96336]\n",
      "\tGetHandleVerifier [0x0xcd664a+9770]\n",
      "\tBaseThreadInitThunk [0x0x75d15d49+25]\n",
      "\tRtlInitializeExceptionChain [0x0x7786d03b+107]\n",
      "\tRtlGetAppContainerNamedObjectPath [0x0x7786cfc1+561]\n",
      "\n"
     ]
    },
    {
     "name": "stderr",
     "output_type": "stream",
     "text": [
      "Scraping NICs:  40%|████      | 453/1127 [4:37:51<7:29:52, 40.05s/it]"
     ]
    },
    {
     "name": "stdout",
     "output_type": "stream",
     "text": [
      "Saved backup with 185275 results\n",
      "Rows captured: 1167\n"
     ]
    },
    {
     "name": "stderr",
     "output_type": "stream",
     "text": [
      "Scraping NICs:  40%|████      | 454/1127 [4:39:48<11:48:53, 63.20s/it]"
     ]
    },
    {
     "name": "stdout",
     "output_type": "stream",
     "text": [
      "Saved backup with 186442 results\n",
      "Rows captured: 1303\n"
     ]
    },
    {
     "name": "stderr",
     "output_type": "stream",
     "text": [
      "Scraping NICs:  40%|████      | 455/1127 [4:40:13<9:36:47, 51.50s/it] "
     ]
    },
    {
     "name": "stdout",
     "output_type": "stream",
     "text": [
      "Saved backup with 187745 results\n",
      "Dropdown not found or not interactable.\n",
      "Rows captured: 2386\n"
     ]
    },
    {
     "name": "stderr",
     "output_type": "stream",
     "text": [
      "Scraping NICs:  40%|████      | 456/1127 [4:40:42<8:22:08, 44.90s/it]"
     ]
    },
    {
     "name": "stdout",
     "output_type": "stream",
     "text": [
      "Saved backup with 190131 results\n",
      "Error occurred while processing the table. Message: \n",
      "Stacktrace:\n",
      "\tGetHandleVerifier [0x0xce3763+63299]\n",
      "\tGetHandleVerifier [0x0xce37a4+63364]\n",
      "\t(No symbol) [0x0xb11113]\n",
      "\t(No symbol) [0x0xb5987e]\n",
      "\t(No symbol) [0x0xb59c1b]\n",
      "\t(No symbol) [0x0xba2212]\n",
      "\t(No symbol) [0x0xb7e5c4]\n",
      "\t(No symbol) [0x0xb9fa4a]\n",
      "\t(No symbol) [0x0xb7e376]\n",
      "\t(No symbol) [0x0xb4d6e0]\n",
      "\t(No symbol) [0x0xb4e544]\n",
      "\tGetHandleVerifier [0x0xf3e033+2531347]\n",
      "\tGetHandleVerifier [0x0xf39332+2511634]\n",
      "\tGetHandleVerifier [0x0xd09eda+220858]\n",
      "\tGetHandleVerifier [0x0xcfa528+156936]\n",
      "\tGetHandleVerifier [0x0xd00c5d+183357]\n",
      "\tGetHandleVerifier [0x0xceb6c8+95912]\n",
      "\tGetHandleVerifier [0x0xceb870+96336]\n",
      "\tGetHandleVerifier [0x0xcd664a+9770]\n",
      "\tBaseThreadInitThunk [0x0x75d15d49+25]\n",
      "\tRtlInitializeExceptionChain [0x0x7786d03b+107]\n",
      "\tRtlGetAppContainerNamedObjectPath [0x0x7786cfc1+561]\n",
      "\n"
     ]
    },
    {
     "name": "stderr",
     "output_type": "stream",
     "text": [
      "Scraping NICs:  41%|████      | 457/1127 [4:41:07<7:13:27, 38.82s/it]"
     ]
    },
    {
     "name": "stdout",
     "output_type": "stream",
     "text": [
      "Saved backup with 190131 results\n",
      "Rows captured: 241\n"
     ]
    },
    {
     "name": "stderr",
     "output_type": "stream",
     "text": [
      "Scraping NICs:  41%|████      | 458/1127 [4:41:46<7:13:35, 38.89s/it]"
     ]
    },
    {
     "name": "stdout",
     "output_type": "stream",
     "text": [
      "Saved backup with 190372 results\n",
      "Rows captured: 284\n"
     ]
    },
    {
     "name": "stderr",
     "output_type": "stream",
     "text": [
      "Scraping NICs:  41%|████      | 459/1127 [4:42:06<6:09:54, 33.23s/it]"
     ]
    },
    {
     "name": "stdout",
     "output_type": "stream",
     "text": [
      "Saved backup with 190656 results\n",
      "Rows captured: 83\n"
     ]
    },
    {
     "name": "stderr",
     "output_type": "stream",
     "text": [
      "Scraping NICs:  41%|████      | 460/1127 [4:42:38<6:06:32, 32.97s/it]"
     ]
    },
    {
     "name": "stdout",
     "output_type": "stream",
     "text": [
      "Saved backup with 190739 results\n",
      "Rows captured: 168\n"
     ]
    },
    {
     "name": "stderr",
     "output_type": "stream",
     "text": [
      "Scraping NICs:  41%|████      | 461/1127 [4:42:57<5:19:46, 28.81s/it]"
     ]
    },
    {
     "name": "stdout",
     "output_type": "stream",
     "text": [
      "Saved backup with 190907 results\n",
      "Dropdown not found or not interactable.\n",
      "Rows captured: 297\n"
     ]
    },
    {
     "name": "stderr",
     "output_type": "stream",
     "text": [
      "Scraping NICs:  41%|████      | 462/1127 [4:43:31<5:35:53, 30.31s/it]"
     ]
    },
    {
     "name": "stdout",
     "output_type": "stream",
     "text": [
      "Saved backup with 191204 results\n",
      "Error occurred while processing the table. Message: \n",
      "Stacktrace:\n",
      "\tGetHandleVerifier [0x0xce3763+63299]\n",
      "\tGetHandleVerifier [0x0xce37a4+63364]\n",
      "\t(No symbol) [0x0xb11113]\n",
      "\t(No symbol) [0x0xb5987e]\n",
      "\t(No symbol) [0x0xb59c1b]\n",
      "\t(No symbol) [0x0xba2212]\n",
      "\t(No symbol) [0x0xb7e5c4]\n",
      "\t(No symbol) [0x0xb9fa4a]\n",
      "\t(No symbol) [0x0xb7e376]\n",
      "\t(No symbol) [0x0xb4d6e0]\n",
      "\t(No symbol) [0x0xb4e544]\n",
      "\tGetHandleVerifier [0x0xf3e033+2531347]\n",
      "\tGetHandleVerifier [0x0xf39332+2511634]\n",
      "\tGetHandleVerifier [0x0xd09eda+220858]\n",
      "\tGetHandleVerifier [0x0xcfa528+156936]\n",
      "\tGetHandleVerifier [0x0xd00c5d+183357]\n",
      "\tGetHandleVerifier [0x0xceb6c8+95912]\n",
      "\tGetHandleVerifier [0x0xceb870+96336]\n",
      "\tGetHandleVerifier [0x0xcd664a+9770]\n",
      "\tBaseThreadInitThunk [0x0x75d15d49+25]\n",
      "\tRtlInitializeExceptionChain [0x0x7786d03b+107]\n",
      "\tRtlGetAppContainerNamedObjectPath [0x0x7786cfc1+561]\n",
      "\n"
     ]
    },
    {
     "name": "stderr",
     "output_type": "stream",
     "text": [
      "Scraping NICs:  41%|████      | 463/1127 [4:43:46<4:43:11, 25.59s/it]"
     ]
    },
    {
     "name": "stdout",
     "output_type": "stream",
     "text": [
      "Saved backup with 191204 results\n",
      "Dropdown not found or not interactable.\n",
      "Rows captured: 530\n"
     ]
    },
    {
     "name": "stderr",
     "output_type": "stream",
     "text": [
      "Scraping NICs:  41%|████      | 464/1127 [4:45:32<9:10:24, 49.81s/it]"
     ]
    },
    {
     "name": "stdout",
     "output_type": "stream",
     "text": [
      "Saved backup with 191734 results\n",
      "Dropdown not found or not interactable.\n",
      "Rows captured: 1660\n"
     ]
    },
    {
     "name": "stderr",
     "output_type": "stream",
     "text": [
      "Scraping NICs:  41%|████▏     | 465/1127 [4:46:05<8:13:26, 44.72s/it]"
     ]
    },
    {
     "name": "stdout",
     "output_type": "stream",
     "text": [
      "Saved backup with 193394 results\n",
      "Dropdown not found or not interactable.\n",
      "Error occurred while processing the table. Message: \n",
      "Stacktrace:\n",
      "\tGetHandleVerifier [0x0xce3763+63299]\n",
      "\tGetHandleVerifier [0x0xce37a4+63364]\n",
      "\t(No symbol) [0x0xb11113]\n",
      "\t(No symbol) [0x0xb5987e]\n",
      "\t(No symbol) [0x0xb59c1b]\n",
      "\t(No symbol) [0x0xba2212]\n",
      "\t(No symbol) [0x0xb7e5c4]\n",
      "\t(No symbol) [0x0xb9fa4a]\n",
      "\t(No symbol) [0x0xb7e376]\n",
      "\t(No symbol) [0x0xb4d6e0]\n",
      "\t(No symbol) [0x0xb4e544]\n",
      "\tGetHandleVerifier [0x0xf3e033+2531347]\n",
      "\tGetHandleVerifier [0x0xf39332+2511634]\n",
      "\tGetHandleVerifier [0x0xd09eda+220858]\n",
      "\tGetHandleVerifier [0x0xcfa528+156936]\n",
      "\tGetHandleVerifier [0x0xd00c5d+183357]\n",
      "\tGetHandleVerifier [0x0xceb6c8+95912]\n",
      "\tGetHandleVerifier [0x0xceb870+96336]\n",
      "\tGetHandleVerifier [0x0xcd664a+9770]\n",
      "\tBaseThreadInitThunk [0x0x75d15d49+25]\n",
      "\tRtlInitializeExceptionChain [0x0x7786d03b+107]\n",
      "\tRtlGetAppContainerNamedObjectPath [0x0x7786cfc1+561]\n",
      "\n"
     ]
    },
    {
     "name": "stderr",
     "output_type": "stream",
     "text": [
      "Scraping NICs:  41%|████▏     | 466/1127 [4:46:53<8:24:04, 45.75s/it]"
     ]
    },
    {
     "name": "stdout",
     "output_type": "stream",
     "text": [
      "Saved backup with 193394 results\n",
      "Rows captured: 485\n"
     ]
    },
    {
     "name": "stderr",
     "output_type": "stream",
     "text": [
      "Scraping NICs:  41%|████▏     | 467/1127 [4:46:59<6:12:44, 33.89s/it]"
     ]
    },
    {
     "name": "stdout",
     "output_type": "stream",
     "text": [
      "Saved backup with 193879 results\n",
      "Dropdown not found or not interactable.\n",
      "Error occurred while processing the table. Message: \n",
      "Stacktrace:\n",
      "\tGetHandleVerifier [0x0xce3763+63299]\n",
      "\tGetHandleVerifier [0x0xce37a4+63364]\n",
      "\t(No symbol) [0x0xb11113]\n",
      "\t(No symbol) [0x0xb5987e]\n",
      "\t(No symbol) [0x0xb59c1b]\n",
      "\t(No symbol) [0x0xba2212]\n",
      "\t(No symbol) [0x0xb7e5c4]\n",
      "\t(No symbol) [0x0xb9fa4a]\n",
      "\t(No symbol) [0x0xb7e376]\n",
      "\t(No symbol) [0x0xb4d6e0]\n",
      "\t(No symbol) [0x0xb4e544]\n",
      "\tGetHandleVerifier [0x0xf3e033+2531347]\n",
      "\tGetHandleVerifier [0x0xf39332+2511634]\n",
      "\tGetHandleVerifier [0x0xd09eda+220858]\n",
      "\tGetHandleVerifier [0x0xcfa528+156936]\n",
      "\tGetHandleVerifier [0x0xd00c5d+183357]\n",
      "\tGetHandleVerifier [0x0xceb6c8+95912]\n",
      "\tGetHandleVerifier [0x0xceb870+96336]\n",
      "\tGetHandleVerifier [0x0xcd664a+9770]\n",
      "\tBaseThreadInitThunk [0x0x75d15d49+25]\n",
      "\tRtlInitializeExceptionChain [0x0x7786d03b+107]\n",
      "\tRtlGetAppContainerNamedObjectPath [0x0x7786cfc1+561]\n",
      "\n"
     ]
    },
    {
     "name": "stderr",
     "output_type": "stream",
     "text": [
      "Scraping NICs:  42%|████▏     | 468/1127 [4:47:40<6:35:36, 36.02s/it]"
     ]
    },
    {
     "name": "stdout",
     "output_type": "stream",
     "text": [
      "Saved backup with 193879 results\n",
      "Rows captured: 280\n"
     ]
    },
    {
     "name": "stderr",
     "output_type": "stream",
     "text": [
      "Scraping NICs:  42%|████▏     | 469/1127 [4:49:27<10:26:28, 57.13s/it]"
     ]
    },
    {
     "name": "stdout",
     "output_type": "stream",
     "text": [
      "Saved backup with 194159 results\n",
      "Dropdown not found or not interactable.\n",
      "Error occurred while processing the table. Message: \n",
      "Stacktrace:\n",
      "\tGetHandleVerifier [0x0xce3763+63299]\n",
      "\tGetHandleVerifier [0x0xce37a4+63364]\n",
      "\t(No symbol) [0x0xb11113]\n",
      "\t(No symbol) [0x0xb5987e]\n",
      "\t(No symbol) [0x0xb59c1b]\n",
      "\t(No symbol) [0x0xba2212]\n",
      "\t(No symbol) [0x0xb7e5c4]\n",
      "\t(No symbol) [0x0xb9fa4a]\n",
      "\t(No symbol) [0x0xb7e376]\n",
      "\t(No symbol) [0x0xb4d6e0]\n",
      "\t(No symbol) [0x0xb4e544]\n",
      "\tGetHandleVerifier [0x0xf3e033+2531347]\n",
      "\tGetHandleVerifier [0x0xf39332+2511634]\n",
      "\tGetHandleVerifier [0x0xd09eda+220858]\n",
      "\tGetHandleVerifier [0x0xcfa528+156936]\n",
      "\tGetHandleVerifier [0x0xd00c5d+183357]\n",
      "\tGetHandleVerifier [0x0xceb6c8+95912]\n",
      "\tGetHandleVerifier [0x0xceb870+96336]\n",
      "\tGetHandleVerifier [0x0xcd664a+9770]\n",
      "\tBaseThreadInitThunk [0x0x75d15d49+25]\n",
      "\tRtlInitializeExceptionChain [0x0x7786d03b+107]\n",
      "\tRtlGetAppContainerNamedObjectPath [0x0x7786cfc1+561]\n",
      "\n"
     ]
    },
    {
     "name": "stderr",
     "output_type": "stream",
     "text": [
      "Scraping NICs:  42%|████▏     | 470/1127 [4:50:14<9:52:54, 54.15s/it] "
     ]
    },
    {
     "name": "stdout",
     "output_type": "stream",
     "text": [
      "Saved backup with 194159 results\n",
      "Dropdown not found or not interactable.\n",
      "Rows captured: 1136\n",
      "Rows captured: 4342\n"
     ]
    },
    {
     "name": "stderr",
     "output_type": "stream",
     "text": [
      "Scraping NICs:  42%|████▏     | 471/1127 [4:50:39<8:18:58, 45.64s/it]"
     ]
    },
    {
     "name": "stdout",
     "output_type": "stream",
     "text": [
      "Saved backup with 195295 results\n"
     ]
    },
    {
     "name": "stderr",
     "output_type": "stream",
     "text": [
      "Scraping NICs:  42%|████▏     | 472/1127 [4:50:41<5:53:14, 32.36s/it]"
     ]
    },
    {
     "name": "stdout",
     "output_type": "stream",
     "text": [
      "Saved backup with 199637 results\n",
      "Error occurred while processing the table. Message: \n",
      "Stacktrace:\n",
      "\tGetHandleVerifier [0x0xce3763+63299]\n",
      "\tGetHandleVerifier [0x0xce37a4+63364]\n",
      "\t(No symbol) [0x0xb11113]\n",
      "\t(No symbol) [0x0xb5987e]\n",
      "\t(No symbol) [0x0xb59c1b]\n",
      "\t(No symbol) [0x0xba2212]\n",
      "\t(No symbol) [0x0xb7e5c4]\n",
      "\t(No symbol) [0x0xb9fa4a]\n",
      "\t(No symbol) [0x0xb7e376]\n",
      "\t(No symbol) [0x0xb4d6e0]\n",
      "\t(No symbol) [0x0xb4e544]\n",
      "\tGetHandleVerifier [0x0xf3e033+2531347]\n",
      "\tGetHandleVerifier [0x0xf39332+2511634]\n",
      "\tGetHandleVerifier [0x0xd09eda+220858]\n",
      "\tGetHandleVerifier [0x0xcfa528+156936]\n",
      "\tGetHandleVerifier [0x0xd00c5d+183357]\n",
      "\tGetHandleVerifier [0x0xceb6c8+95912]\n",
      "\tGetHandleVerifier [0x0xceb870+96336]\n",
      "\tGetHandleVerifier [0x0xcd664a+9770]\n",
      "\tBaseThreadInitThunk [0x0x75d15d49+25]\n",
      "\tRtlInitializeExceptionChain [0x0x7786d03b+107]\n",
      "\tRtlGetAppContainerNamedObjectPath [0x0x7786cfc1+561]\n",
      "\n"
     ]
    },
    {
     "name": "stderr",
     "output_type": "stream",
     "text": [
      "Scraping NICs:  42%|████▏     | 473/1127 [4:51:00<5:10:56, 28.53s/it]"
     ]
    },
    {
     "name": "stdout",
     "output_type": "stream",
     "text": [
      "Saved backup with 199637 results\n",
      "Dropdown not found or not interactable.\n",
      "Dropdown not found or not interactable.\n",
      "Error occurred while processing the table. Message: \n",
      "Stacktrace:\n",
      "\tGetHandleVerifier [0x0xce3763+63299]\n",
      "\tGetHandleVerifier [0x0xce37a4+63364]\n",
      "\t(No symbol) [0x0xb11113]\n",
      "\t(No symbol) [0x0xb5987e]\n",
      "\t(No symbol) [0x0xb59c1b]\n",
      "\t(No symbol) [0x0xba2212]\n",
      "\t(No symbol) [0x0xb7e5c4]\n",
      "\t(No symbol) [0x0xb9fa4a]\n",
      "\t(No symbol) [0x0xb7e376]\n",
      "\t(No symbol) [0x0xb4d6e0]\n",
      "\t(No symbol) [0x0xb4e544]\n",
      "\tGetHandleVerifier [0x0xf3e033+2531347]\n",
      "\tGetHandleVerifier [0x0xf39332+2511634]\n",
      "\tGetHandleVerifier [0x0xd09eda+220858]\n",
      "\tGetHandleVerifier [0x0xcfa528+156936]\n",
      "\tGetHandleVerifier [0x0xd00c5d+183357]\n",
      "\tGetHandleVerifier [0x0xceb6c8+95912]\n",
      "\tGetHandleVerifier [0x0xceb870+96336]\n",
      "\tGetHandleVerifier [0x0xcd664a+9770]\n",
      "\tBaseThreadInitThunk [0x0x75d15d49+25]\n",
      "\tRtlInitializeExceptionChain [0x0x7786d03b+107]\n",
      "\tRtlGetAppContainerNamedObjectPath [0x0x7786cfc1+561]\n",
      "\n"
     ]
    },
    {
     "name": "stderr",
     "output_type": "stream",
     "text": [
      "Scraping NICs:  42%|████▏     | 474/1127 [4:51:30<5:13:24, 28.80s/it]"
     ]
    },
    {
     "name": "stdout",
     "output_type": "stream",
     "text": [
      "Saved backup with 199637 results\n",
      "Error occurred while processing the table. Message: \n",
      "Stacktrace:\n",
      "\tGetHandleVerifier [0x0xce3763+63299]\n",
      "\tGetHandleVerifier [0x0xce37a4+63364]\n",
      "\t(No symbol) [0x0xb11113]\n",
      "\t(No symbol) [0x0xb5987e]\n",
      "\t(No symbol) [0x0xb59c1b]\n",
      "\t(No symbol) [0x0xba2212]\n",
      "\t(No symbol) [0x0xb7e5c4]\n",
      "\t(No symbol) [0x0xb9fa4a]\n",
      "\t(No symbol) [0x0xb7e376]\n",
      "\t(No symbol) [0x0xb4d6e0]\n",
      "\t(No symbol) [0x0xb4e544]\n",
      "\tGetHandleVerifier [0x0xf3e033+2531347]\n",
      "\tGetHandleVerifier [0x0xf39332+2511634]\n",
      "\tGetHandleVerifier [0x0xd09eda+220858]\n",
      "\tGetHandleVerifier [0x0xcfa528+156936]\n",
      "\tGetHandleVerifier [0x0xd00c5d+183357]\n",
      "\tGetHandleVerifier [0x0xceb6c8+95912]\n",
      "\tGetHandleVerifier [0x0xceb870+96336]\n",
      "\tGetHandleVerifier [0x0xcd664a+9770]\n",
      "\tBaseThreadInitThunk [0x0x75d15d49+25]\n",
      "\tRtlInitializeExceptionChain [0x0x7786d03b+107]\n",
      "\tRtlGetAppContainerNamedObjectPath [0x0x7786cfc1+561]\n",
      "\n"
     ]
    },
    {
     "name": "stderr",
     "output_type": "stream",
     "text": [
      "Scraping NICs:  42%|████▏     | 475/1127 [4:51:48<4:39:31, 25.72s/it]"
     ]
    },
    {
     "name": "stdout",
     "output_type": "stream",
     "text": [
      "Saved backup with 199637 results\n",
      "Dropdown not found or not interactable.\n",
      "Dropdown not found or not interactable.\n",
      "Error occurred while processing the table. Message: \n",
      "Stacktrace:\n",
      "\tGetHandleVerifier [0x0xce3763+63299]\n",
      "\tGetHandleVerifier [0x0xce37a4+63364]\n",
      "\t(No symbol) [0x0xb11113]\n",
      "\t(No symbol) [0x0xb5987e]\n",
      "\t(No symbol) [0x0xb59c1b]\n",
      "\t(No symbol) [0x0xba2212]\n",
      "\t(No symbol) [0x0xb7e5c4]\n",
      "\t(No symbol) [0x0xb9fa4a]\n",
      "\t(No symbol) [0x0xb7e376]\n",
      "\t(No symbol) [0x0xb4d6e0]\n",
      "\t(No symbol) [0x0xb4e544]\n",
      "\tGetHandleVerifier [0x0xf3e033+2531347]\n",
      "\tGetHandleVerifier [0x0xf39332+2511634]\n",
      "\tGetHandleVerifier [0x0xd09eda+220858]\n",
      "\tGetHandleVerifier [0x0xcfa528+156936]\n",
      "\tGetHandleVerifier [0x0xd00c5d+183357]\n",
      "\tGetHandleVerifier [0x0xceb6c8+95912]\n",
      "\tGetHandleVerifier [0x0xceb870+96336]\n",
      "\tGetHandleVerifier [0x0xcd664a+9770]\n",
      "\tBaseThreadInitThunk [0x0x75d15d49+25]\n",
      "\tRtlInitializeExceptionChain [0x0x7786d03b+107]\n",
      "\tRtlGetAppContainerNamedObjectPath [0x0x7786cfc1+561]\n",
      "\n"
     ]
    },
    {
     "name": "stderr",
     "output_type": "stream",
     "text": [
      "Scraping NICs:  42%|████▏     | 476/1127 [4:52:18<4:51:17, 26.85s/it]"
     ]
    },
    {
     "name": "stdout",
     "output_type": "stream",
     "text": [
      "Saved backup with 199637 results\n",
      "Error occurred while processing the table. Message: \n",
      "Stacktrace:\n",
      "\tGetHandleVerifier [0x0xce3763+63299]\n",
      "\tGetHandleVerifier [0x0xce37a4+63364]\n",
      "\t(No symbol) [0x0xb11113]\n",
      "\t(No symbol) [0x0xb5987e]\n",
      "\t(No symbol) [0x0xb59c1b]\n",
      "\t(No symbol) [0x0xba2212]\n",
      "\t(No symbol) [0x0xb7e5c4]\n",
      "\t(No symbol) [0x0xb9fa4a]\n",
      "\t(No symbol) [0x0xb7e376]\n",
      "\t(No symbol) [0x0xb4d6e0]\n",
      "\t(No symbol) [0x0xb4e544]\n",
      "\tGetHandleVerifier [0x0xf3e033+2531347]\n",
      "\tGetHandleVerifier [0x0xf39332+2511634]\n",
      "\tGetHandleVerifier [0x0xd09eda+220858]\n",
      "\tGetHandleVerifier [0x0xcfa528+156936]\n",
      "\tGetHandleVerifier [0x0xd00c5d+183357]\n",
      "\tGetHandleVerifier [0x0xceb6c8+95912]\n",
      "\tGetHandleVerifier [0x0xceb870+96336]\n",
      "\tGetHandleVerifier [0x0xcd664a+9770]\n",
      "\tBaseThreadInitThunk [0x0x75d15d49+25]\n",
      "\tRtlInitializeExceptionChain [0x0x7786d03b+107]\n",
      "\tRtlGetAppContainerNamedObjectPath [0x0x7786cfc1+561]\n",
      "\n"
     ]
    },
    {
     "name": "stderr",
     "output_type": "stream",
     "text": [
      "Scraping NICs:  42%|████▏     | 477/1127 [4:52:36<4:23:04, 24.28s/it]"
     ]
    },
    {
     "name": "stdout",
     "output_type": "stream",
     "text": [
      "Saved backup with 199637 results\n",
      "Rows captured: 154\n"
     ]
    },
    {
     "name": "stderr",
     "output_type": "stream",
     "text": [
      "Scraping NICs:  42%|████▏     | 478/1127 [4:53:15<5:10:24, 28.70s/it]"
     ]
    },
    {
     "name": "stdout",
     "output_type": "stream",
     "text": [
      "Saved backup with 199791 results\n",
      "Dropdown not found or not interactable.\n",
      "Rows captured: 411\n"
     ]
    },
    {
     "name": "stderr",
     "output_type": "stream",
     "text": [
      "Scraping NICs:  43%|████▎     | 479/1127 [4:54:00<6:01:41, 33.49s/it]"
     ]
    },
    {
     "name": "stdout",
     "output_type": "stream",
     "text": [
      "Saved backup with 200202 results\n",
      "Error occurred while processing the table. Message: \n",
      "Stacktrace:\n",
      "\tGetHandleVerifier [0x0xce3763+63299]\n",
      "\tGetHandleVerifier [0x0xce37a4+63364]\n",
      "\t(No symbol) [0x0xb11113]\n",
      "\t(No symbol) [0x0xb5987e]\n",
      "\t(No symbol) [0x0xb59c1b]\n",
      "\t(No symbol) [0x0xba2212]\n",
      "\t(No symbol) [0x0xb7e5c4]\n",
      "\t(No symbol) [0x0xb9fa4a]\n",
      "\t(No symbol) [0x0xb7e376]\n",
      "\t(No symbol) [0x0xb4d6e0]\n",
      "\t(No symbol) [0x0xb4e544]\n",
      "\tGetHandleVerifier [0x0xf3e033+2531347]\n",
      "\tGetHandleVerifier [0x0xf39332+2511634]\n",
      "\tGetHandleVerifier [0x0xd09eda+220858]\n",
      "\tGetHandleVerifier [0x0xcfa528+156936]\n",
      "\tGetHandleVerifier [0x0xd00c5d+183357]\n",
      "\tGetHandleVerifier [0x0xceb6c8+95912]\n",
      "\tGetHandleVerifier [0x0xceb870+96336]\n",
      "\tGetHandleVerifier [0x0xcd664a+9770]\n",
      "\tBaseThreadInitThunk [0x0x75d15d49+25]\n",
      "\tRtlInitializeExceptionChain [0x0x7786d03b+107]\n",
      "\tRtlGetAppContainerNamedObjectPath [0x0x7786cfc1+561]\n",
      "\n"
     ]
    },
    {
     "name": "stderr",
     "output_type": "stream",
     "text": [
      "Scraping NICs:  43%|████▎     | 480/1127 [4:54:05<4:28:00, 24.85s/it]"
     ]
    },
    {
     "name": "stdout",
     "output_type": "stream",
     "text": [
      "Saved backup with 200202 results\n",
      "Dropdown not found or not interactable.\n",
      "Error occurred while processing the table. Message: \n",
      "Stacktrace:\n",
      "\tGetHandleVerifier [0x0xce3763+63299]\n",
      "\tGetHandleVerifier [0x0xce37a4+63364]\n",
      "\t(No symbol) [0x0xb11113]\n",
      "\t(No symbol) [0x0xb5987e]\n",
      "\t(No symbol) [0x0xb59c1b]\n",
      "\t(No symbol) [0x0xba2212]\n",
      "\t(No symbol) [0x0xb7e5c4]\n",
      "\t(No symbol) [0x0xb9fa4a]\n",
      "\t(No symbol) [0x0xb7e376]\n",
      "\t(No symbol) [0x0xb4d6e0]\n",
      "\t(No symbol) [0x0xb4e544]\n",
      "\tGetHandleVerifier [0x0xf3e033+2531347]\n",
      "\tGetHandleVerifier [0x0xf39332+2511634]\n",
      "\tGetHandleVerifier [0x0xd09eda+220858]\n",
      "\tGetHandleVerifier [0x0xcfa528+156936]\n",
      "\tGetHandleVerifier [0x0xd00c5d+183357]\n",
      "\tGetHandleVerifier [0x0xceb6c8+95912]\n",
      "\tGetHandleVerifier [0x0xceb870+96336]\n",
      "\tGetHandleVerifier [0x0xcd664a+9770]\n",
      "\tBaseThreadInitThunk [0x0x75d15d49+25]\n",
      "\tRtlInitializeExceptionChain [0x0x7786d03b+107]\n",
      "\tRtlGetAppContainerNamedObjectPath [0x0x7786cfc1+561]\n",
      "\n"
     ]
    },
    {
     "name": "stderr",
     "output_type": "stream",
     "text": [
      "Scraping NICs:  43%|████▎     | 481/1127 [4:54:48<5:26:05, 30.29s/it]"
     ]
    },
    {
     "name": "stdout",
     "output_type": "stream",
     "text": [
      "Saved backup with 200202 results\n",
      "Rows captured: 1296\n"
     ]
    },
    {
     "name": "stderr",
     "output_type": "stream",
     "text": [
      "Scraping NICs:  43%|████▎     | 482/1127 [4:54:51<3:58:38, 22.20s/it]"
     ]
    },
    {
     "name": "stdout",
     "output_type": "stream",
     "text": [
      "Saved backup with 201498 results\n",
      "Rows captured: 842\n"
     ]
    },
    {
     "name": "stderr",
     "output_type": "stream",
     "text": [
      "Scraping NICs:  43%|████▎     | 483/1127 [4:56:19<7:31:14, 42.04s/it]"
     ]
    },
    {
     "name": "stdout",
     "output_type": "stream",
     "text": [
      "Saved backup with 202340 results\n",
      "Rows captured: 327\n"
     ]
    },
    {
     "name": "stderr",
     "output_type": "stream",
     "text": [
      "Scraping NICs:  43%|████▎     | 484/1127 [4:56:30<5:48:55, 32.56s/it]"
     ]
    },
    {
     "name": "stdout",
     "output_type": "stream",
     "text": [
      "Saved backup with 202667 results\n",
      "Dropdown not found or not interactable.\n",
      "Dropdown not found or not interactable.\n",
      "Error occurred while processing the table. Message: \n",
      "Stacktrace:\n",
      "\tGetHandleVerifier [0x0xce3763+63299]\n",
      "\tGetHandleVerifier [0x0xce37a4+63364]\n",
      "\t(No symbol) [0x0xb11113]\n",
      "\t(No symbol) [0x0xb5987e]\n",
      "\t(No symbol) [0x0xb59c1b]\n",
      "\t(No symbol) [0x0xba2212]\n",
      "\t(No symbol) [0x0xb7e5c4]\n",
      "\t(No symbol) [0x0xb9fa4a]\n",
      "\t(No symbol) [0x0xb7e376]\n",
      "\t(No symbol) [0x0xb4d6e0]\n",
      "\t(No symbol) [0x0xb4e544]\n",
      "\tGetHandleVerifier [0x0xf3e033+2531347]\n",
      "\tGetHandleVerifier [0x0xf39332+2511634]\n",
      "\tGetHandleVerifier [0x0xd09eda+220858]\n",
      "\tGetHandleVerifier [0x0xcfa528+156936]\n",
      "\tGetHandleVerifier [0x0xd00c5d+183357]\n",
      "\tGetHandleVerifier [0x0xceb6c8+95912]\n",
      "\tGetHandleVerifier [0x0xceb870+96336]\n",
      "\tGetHandleVerifier [0x0xcd664a+9770]\n",
      "\tBaseThreadInitThunk [0x0x75d15d49+25]\n",
      "\tRtlInitializeExceptionChain [0x0x7786d03b+107]\n",
      "\tRtlGetAppContainerNamedObjectPath [0x0x7786cfc1+561]\n",
      "\n"
     ]
    },
    {
     "name": "stderr",
     "output_type": "stream",
     "text": [
      "Scraping NICs:  43%|████▎     | 485/1127 [4:57:07<6:03:10, 33.94s/it]"
     ]
    },
    {
     "name": "stdout",
     "output_type": "stream",
     "text": [
      "Saved backup with 202667 results\n",
      "Rows captured: 949\n"
     ]
    },
    {
     "name": "stderr",
     "output_type": "stream",
     "text": [
      "Scraping NICs:  43%|████▎     | 486/1127 [4:57:19<4:53:54, 27.51s/it]"
     ]
    },
    {
     "name": "stdout",
     "output_type": "stream",
     "text": [
      "Error occurred while processing the table. Message: \n",
      "Stacktrace:\n",
      "\tGetHandleVerifier [0x0xce3763+63299]\n",
      "\tGetHandleVerifier [0x0xce37a4+63364]\n",
      "\t(No symbol) [0x0xb11113]\n",
      "\t(No symbol) [0x0xb5987e]\n",
      "\t(No symbol) [0x0xb59c1b]\n",
      "\t(No symbol) [0x0xba2212]\n",
      "\t(No symbol) [0x0xb7e5c4]\n",
      "\t(No symbol) [0x0xb9fa4a]\n",
      "\t(No symbol) [0x0xb7e376]\n",
      "\t(No symbol) [0x0xb4d6e0]\n",
      "\t(No symbol) [0x0xb4e544]\n",
      "\tGetHandleVerifier [0x0xf3e033+2531347]\n",
      "\tGetHandleVerifier [0x0xf39332+2511634]\n",
      "\tGetHandleVerifier [0x0xd09eda+220858]\n",
      "\tGetHandleVerifier [0x0xcfa528+156936]\n",
      "\tGetHandleVerifier [0x0xd00c5d+183357]\n",
      "\tGetHandleVerifier [0x0xceb6c8+95912]\n",
      "\tGetHandleVerifier [0x0xceb870+96336]\n",
      "\tGetHandleVerifier [0x0xcd664a+9770]\n",
      "\tBaseThreadInitThunk [0x0x75d15d49+25]\n",
      "\tRtlInitializeExceptionChain [0x0x7786d03b+107]\n",
      "\tRtlGetAppContainerNamedObjectPath [0x0x7786cfc1+561]\n",
      "\n",
      "Saved backup with 203616 results\n"
     ]
    },
    {
     "name": "stderr",
     "output_type": "stream",
     "text": [
      "Scraping NICs:  43%|████▎     | 487/1127 [4:57:24<3:39:45, 20.60s/it]"
     ]
    },
    {
     "name": "stdout",
     "output_type": "stream",
     "text": [
      "Saved backup with 203616 results\n",
      "Dropdown not found or not interactable.\n",
      "Dropdown not found or not interactable.\n",
      "Dropdown not found or not interactable.\n",
      "Error occurred while processing the table. Message: \n",
      "Stacktrace:\n",
      "\tGetHandleVerifier [0x0xce3763+63299]\n",
      "\tGetHandleVerifier [0x0xce37a4+63364]\n",
      "\t(No symbol) [0x0xb11113]\n",
      "\t(No symbol) [0x0xb5987e]\n",
      "\t(No symbol) [0x0xb59c1b]\n",
      "\t(No symbol) [0x0xba2212]\n",
      "\t(No symbol) [0x0xb7e5c4]\n",
      "\t(No symbol) [0x0xb9fa4a]\n",
      "\t(No symbol) [0x0xb7e376]\n",
      "\t(No symbol) [0x0xb4d6e0]\n",
      "\t(No symbol) [0x0xb4e544]\n",
      "\tGetHandleVerifier [0x0xf3e033+2531347]\n",
      "\tGetHandleVerifier [0x0xf39332+2511634]\n",
      "\tGetHandleVerifier [0x0xd09eda+220858]\n",
      "\tGetHandleVerifier [0x0xcfa528+156936]\n",
      "\tGetHandleVerifier [0x0xd00c5d+183357]\n",
      "\tGetHandleVerifier [0x0xceb6c8+95912]\n",
      "\tGetHandleVerifier [0x0xceb870+96336]\n",
      "\tGetHandleVerifier [0x0xcd664a+9770]\n",
      "\tBaseThreadInitThunk [0x0x75d15d49+25]\n",
      "\tRtlInitializeExceptionChain [0x0x7786d03b+107]\n",
      "\tRtlGetAppContainerNamedObjectPath [0x0x7786cfc1+561]\n",
      "\n"
     ]
    },
    {
     "name": "stderr",
     "output_type": "stream",
     "text": [
      "Scraping NICs:  43%|████▎     | 488/1127 [4:57:54<4:08:44, 23.36s/it]"
     ]
    },
    {
     "name": "stdout",
     "output_type": "stream",
     "text": [
      "Saved backup with 203616 results\n",
      "Error occurred while processing the table. Message: \n",
      "Stacktrace:\n",
      "\tGetHandleVerifier [0x0xce3763+63299]\n",
      "\tGetHandleVerifier [0x0xce37a4+63364]\n",
      "\t(No symbol) [0x0xb11113]\n",
      "\t(No symbol) [0x0xb5987e]\n",
      "\t(No symbol) [0x0xb59c1b]\n",
      "\t(No symbol) [0x0xba2212]\n",
      "\t(No symbol) [0x0xb7e5c4]\n",
      "\t(No symbol) [0x0xb9fa4a]\n",
      "\t(No symbol) [0x0xb7e376]\n",
      "\t(No symbol) [0x0xb4d6e0]\n",
      "\t(No symbol) [0x0xb4e544]\n",
      "\tGetHandleVerifier [0x0xf3e033+2531347]\n",
      "\tGetHandleVerifier [0x0xf39332+2511634]\n",
      "\tGetHandleVerifier [0x0xd09eda+220858]\n",
      "\tGetHandleVerifier [0x0xcfa528+156936]\n",
      "\tGetHandleVerifier [0x0xd00c5d+183357]\n",
      "\tGetHandleVerifier [0x0xceb6c8+95912]\n",
      "\tGetHandleVerifier [0x0xceb870+96336]\n",
      "\tGetHandleVerifier [0x0xcd664a+9770]\n",
      "\tBaseThreadInitThunk [0x0x75d15d49+25]\n",
      "\tRtlInitializeExceptionChain [0x0x7786d03b+107]\n",
      "\tRtlGetAppContainerNamedObjectPath [0x0x7786cfc1+561]\n",
      "\n"
     ]
    },
    {
     "name": "stderr",
     "output_type": "stream",
     "text": [
      "Scraping NICs:  43%|████▎     | 489/1127 [4:58:07<3:36:46, 20.39s/it]"
     ]
    },
    {
     "name": "stdout",
     "output_type": "stream",
     "text": [
      "Saved backup with 203616 results\n",
      "Error occurred while processing the table. Message: \n",
      "Stacktrace:\n",
      "\tGetHandleVerifier [0x0xce3763+63299]\n",
      "\tGetHandleVerifier [0x0xce37a4+63364]\n",
      "\t(No symbol) [0x0xb11113]\n",
      "\t(No symbol) [0x0xb5987e]\n",
      "\t(No symbol) [0x0xb59c1b]\n",
      "\t(No symbol) [0x0xba2212]\n",
      "\t(No symbol) [0x0xb7e5c4]\n",
      "\t(No symbol) [0x0xb9fa4a]\n",
      "\t(No symbol) [0x0xb7e376]\n",
      "\t(No symbol) [0x0xb4d6e0]\n",
      "\t(No symbol) [0x0xb4e544]\n",
      "\tGetHandleVerifier [0x0xf3e033+2531347]\n",
      "\tGetHandleVerifier [0x0xf39332+2511634]\n",
      "\tGetHandleVerifier [0x0xd09eda+220858]\n",
      "\tGetHandleVerifier [0x0xcfa528+156936]\n",
      "\tGetHandleVerifier [0x0xd00c5d+183357]\n",
      "\tGetHandleVerifier [0x0xceb6c8+95912]\n",
      "\tGetHandleVerifier [0x0xceb870+96336]\n",
      "\tGetHandleVerifier [0x0xcd664a+9770]\n",
      "\tBaseThreadInitThunk [0x0x75d15d49+25]\n",
      "\tRtlInitializeExceptionChain [0x0x7786d03b+107]\n",
      "\tRtlGetAppContainerNamedObjectPath [0x0x7786cfc1+561]\n",
      "\n"
     ]
    },
    {
     "name": "stderr",
     "output_type": "stream",
     "text": [
      "Scraping NICs:  43%|████▎     | 490/1127 [4:58:11<2:43:33, 15.41s/it]"
     ]
    },
    {
     "name": "stdout",
     "output_type": "stream",
     "text": [
      "Saved backup with 203616 results\n",
      "Dropdown not found or not interactable.\n",
      "Dropdown not found or not interactable.\n",
      "Error occurred while processing the table. Message: \n",
      "Stacktrace:\n",
      "\tGetHandleVerifier [0x0xce3763+63299]\n",
      "\tGetHandleVerifier [0x0xce37a4+63364]\n",
      "\t(No symbol) [0x0xb11113]\n",
      "\t(No symbol) [0x0xb5987e]\n",
      "\t(No symbol) [0x0xb59c1b]\n",
      "\t(No symbol) [0x0xba2212]\n",
      "\t(No symbol) [0x0xb7e5c4]\n",
      "\t(No symbol) [0x0xb9fa4a]\n",
      "\t(No symbol) [0x0xb7e376]\n",
      "\t(No symbol) [0x0xb4d6e0]\n",
      "\t(No symbol) [0x0xb4e544]\n",
      "\tGetHandleVerifier [0x0xf3e033+2531347]\n",
      "\tGetHandleVerifier [0x0xf39332+2511634]\n",
      "\tGetHandleVerifier [0x0xd09eda+220858]\n",
      "\tGetHandleVerifier [0x0xcfa528+156936]\n",
      "\tGetHandleVerifier [0x0xd00c5d+183357]\n",
      "\tGetHandleVerifier [0x0xceb6c8+95912]\n",
      "\tGetHandleVerifier [0x0xceb870+96336]\n",
      "\tGetHandleVerifier [0x0xcd664a+9770]\n",
      "\tBaseThreadInitThunk [0x0x75d15d49+25]\n",
      "\tRtlInitializeExceptionChain [0x0x7786d03b+107]\n",
      "\tRtlGetAppContainerNamedObjectPath [0x0x7786cfc1+561]\n",
      "\n"
     ]
    },
    {
     "name": "stderr",
     "output_type": "stream",
     "text": [
      "Scraping NICs:  44%|████▎     | 491/1127 [4:58:41<3:29:58, 19.81s/it]"
     ]
    },
    {
     "name": "stdout",
     "output_type": "stream",
     "text": [
      "Saved backup with 203616 results\n",
      "Error occurred while processing the table. Message: \n",
      "Stacktrace:\n",
      "\tGetHandleVerifier [0x0xce3763+63299]\n",
      "\tGetHandleVerifier [0x0xce37a4+63364]\n",
      "\t(No symbol) [0x0xb11113]\n",
      "\t(No symbol) [0x0xb5987e]\n",
      "\t(No symbol) [0x0xb59c1b]\n",
      "\t(No symbol) [0x0xba2212]\n",
      "\t(No symbol) [0x0xb7e5c4]\n",
      "\t(No symbol) [0x0xb9fa4a]\n",
      "\t(No symbol) [0x0xb7e376]\n",
      "\t(No symbol) [0x0xb4d6e0]\n",
      "\t(No symbol) [0x0xb4e544]\n",
      "\tGetHandleVerifier [0x0xf3e033+2531347]\n",
      "\tGetHandleVerifier [0x0xf39332+2511634]\n",
      "\tGetHandleVerifier [0x0xd09eda+220858]\n",
      "\tGetHandleVerifier [0x0xcfa528+156936]\n",
      "\tGetHandleVerifier [0x0xd00c5d+183357]\n",
      "\tGetHandleVerifier [0x0xceb6c8+95912]\n",
      "\tGetHandleVerifier [0x0xceb870+96336]\n",
      "\tGetHandleVerifier [0x0xcd664a+9770]\n",
      "\tBaseThreadInitThunk [0x0x75d15d49+25]\n",
      "\tRtlInitializeExceptionChain [0x0x7786d03b+107]\n",
      "\tRtlGetAppContainerNamedObjectPath [0x0x7786cfc1+561]\n",
      "\n"
     ]
    },
    {
     "name": "stderr",
     "output_type": "stream",
     "text": [
      "Scraping NICs:  44%|████▎     | 492/1127 [4:58:55<3:11:06, 18.06s/it]"
     ]
    },
    {
     "name": "stdout",
     "output_type": "stream",
     "text": [
      "Saved backup with 203616 results\n",
      "Dropdown not found or not interactable.\n",
      "Dropdown not found or not interactable.\n",
      "Error occurred while processing the table. Message: \n",
      "Stacktrace:\n",
      "\tGetHandleVerifier [0x0xce3763+63299]\n",
      "\tGetHandleVerifier [0x0xce37a4+63364]\n",
      "\t(No symbol) [0x0xb11113]\n",
      "\t(No symbol) [0x0xb5987e]\n",
      "\t(No symbol) [0x0xb59c1b]\n",
      "\t(No symbol) [0x0xba2212]\n",
      "\t(No symbol) [0x0xb7e5c4]\n",
      "\t(No symbol) [0x0xb9fa4a]\n",
      "\t(No symbol) [0x0xb7e376]\n",
      "\t(No symbol) [0x0xb4d6e0]\n",
      "\t(No symbol) [0x0xb4e544]\n",
      "\tGetHandleVerifier [0x0xf3e033+2531347]\n",
      "\tGetHandleVerifier [0x0xf39332+2511634]\n",
      "\tGetHandleVerifier [0x0xd09eda+220858]\n",
      "\tGetHandleVerifier [0x0xcfa528+156936]\n",
      "\tGetHandleVerifier [0x0xd00c5d+183357]\n",
      "\tGetHandleVerifier [0x0xceb6c8+95912]\n",
      "\tGetHandleVerifier [0x0xceb870+96336]\n",
      "\tGetHandleVerifier [0x0xcd664a+9770]\n",
      "\tBaseThreadInitThunk [0x0x75d15d49+25]\n",
      "\tRtlInitializeExceptionChain [0x0x7786d03b+107]\n",
      "\tRtlGetAppContainerNamedObjectPath [0x0x7786cfc1+561]\n",
      "\n"
     ]
    },
    {
     "name": "stderr",
     "output_type": "stream",
     "text": [
      "Scraping NICs:  44%|████▎     | 493/1127 [4:59:29<4:01:19, 22.84s/it]"
     ]
    },
    {
     "name": "stdout",
     "output_type": "stream",
     "text": [
      "Saved backup with 203616 results\n",
      "Error occurred while processing the table. Message: \n",
      "Stacktrace:\n",
      "\tGetHandleVerifier [0x0xce3763+63299]\n",
      "\tGetHandleVerifier [0x0xce37a4+63364]\n",
      "\t(No symbol) [0x0xb11113]\n",
      "\t(No symbol) [0x0xb5987e]\n",
      "\t(No symbol) [0x0xb59c1b]\n",
      "\t(No symbol) [0x0xba2212]\n",
      "\t(No symbol) [0x0xb7e5c4]\n",
      "\t(No symbol) [0x0xb9fa4a]\n",
      "\t(No symbol) [0x0xb7e376]\n",
      "\t(No symbol) [0x0xb4d6e0]\n",
      "\t(No symbol) [0x0xb4e544]\n",
      "\tGetHandleVerifier [0x0xf3e033+2531347]\n",
      "\tGetHandleVerifier [0x0xf39332+2511634]\n",
      "\tGetHandleVerifier [0x0xd09eda+220858]\n",
      "\tGetHandleVerifier [0x0xcfa528+156936]\n",
      "\tGetHandleVerifier [0x0xd00c5d+183357]\n",
      "\tGetHandleVerifier [0x0xceb6c8+95912]\n",
      "\tGetHandleVerifier [0x0xceb870+96336]\n",
      "\tGetHandleVerifier [0x0xcd664a+9770]\n",
      "\tBaseThreadInitThunk [0x0x75d15d49+25]\n",
      "\tRtlInitializeExceptionChain [0x0x7786d03b+107]\n",
      "\tRtlGetAppContainerNamedObjectPath [0x0x7786cfc1+561]\n",
      "\n"
     ]
    },
    {
     "name": "stderr",
     "output_type": "stream",
     "text": [
      "Scraping NICs:  44%|████▍     | 494/1127 [4:59:43<3:32:56, 20.18s/it]"
     ]
    },
    {
     "name": "stdout",
     "output_type": "stream",
     "text": [
      "Saved backup with 203616 results\n",
      "Dropdown not found or not interactable.\n",
      "Rows captured: 484\n"
     ]
    },
    {
     "name": "stderr",
     "output_type": "stream",
     "text": [
      "Scraping NICs:  44%|████▍     | 495/1127 [5:00:00<3:24:22, 19.40s/it]"
     ]
    },
    {
     "name": "stdout",
     "output_type": "stream",
     "text": [
      "Saved backup with 204100 results\n",
      "Dropdown not found or not interactable.\n",
      "Error occurred while processing the table. Message: \n",
      "Stacktrace:\n",
      "\tGetHandleVerifier [0x0xce3763+63299]\n",
      "\tGetHandleVerifier [0x0xce37a4+63364]\n",
      "\t(No symbol) [0x0xb11113]\n",
      "\t(No symbol) [0x0xb5987e]\n",
      "\t(No symbol) [0x0xb59c1b]\n",
      "\t(No symbol) [0x0xba2212]\n",
      "\t(No symbol) [0x0xb7e5c4]\n",
      "\t(No symbol) [0x0xb9fa4a]\n",
      "\t(No symbol) [0x0xb7e376]\n",
      "\t(No symbol) [0x0xb4d6e0]\n",
      "\t(No symbol) [0x0xb4e544]\n",
      "\tGetHandleVerifier [0x0xf3e033+2531347]\n",
      "\tGetHandleVerifier [0x0xf39332+2511634]\n",
      "\tGetHandleVerifier [0x0xd09eda+220858]\n",
      "\tGetHandleVerifier [0x0xcfa528+156936]\n",
      "\tGetHandleVerifier [0x0xd00c5d+183357]\n",
      "\tGetHandleVerifier [0x0xceb6c8+95912]\n",
      "\tGetHandleVerifier [0x0xceb870+96336]\n",
      "\tGetHandleVerifier [0x0xcd664a+9770]\n",
      "\tBaseThreadInitThunk [0x0x75d15d49+25]\n",
      "\tRtlInitializeExceptionChain [0x0x7786d03b+107]\n",
      "\tRtlGetAppContainerNamedObjectPath [0x0x7786cfc1+561]\n",
      "\n"
     ]
    },
    {
     "name": "stderr",
     "output_type": "stream",
     "text": [
      "Scraping NICs:  44%|████▍     | 496/1127 [5:00:16<3:13:15, 18.38s/it]"
     ]
    },
    {
     "name": "stdout",
     "output_type": "stream",
     "text": [
      "Saved backup with 204100 results\n",
      "Error occurred while processing the table. Message: \n",
      "Stacktrace:\n",
      "\tGetHandleVerifier [0x0xce3763+63299]\n",
      "\tGetHandleVerifier [0x0xce37a4+63364]\n",
      "\t(No symbol) [0x0xb11113]\n",
      "\t(No symbol) [0x0xb5987e]\n",
      "\t(No symbol) [0x0xb59c1b]\n",
      "\t(No symbol) [0x0xba2212]\n",
      "\t(No symbol) [0x0xb7e5c4]\n",
      "\t(No symbol) [0x0xb9fa4a]\n",
      "\t(No symbol) [0x0xb7e376]\n",
      "\t(No symbol) [0x0xb4d6e0]\n",
      "\t(No symbol) [0x0xb4e544]\n",
      "\tGetHandleVerifier [0x0xf3e033+2531347]\n",
      "\tGetHandleVerifier [0x0xf39332+2511634]\n",
      "\tGetHandleVerifier [0x0xd09eda+220858]\n",
      "\tGetHandleVerifier [0x0xcfa528+156936]\n",
      "\tGetHandleVerifier [0x0xd00c5d+183357]\n",
      "\tGetHandleVerifier [0x0xceb6c8+95912]\n",
      "\tGetHandleVerifier [0x0xceb870+96336]\n",
      "\tGetHandleVerifier [0x0xcd664a+9770]\n",
      "\tBaseThreadInitThunk [0x0x75d15d49+25]\n",
      "\tRtlInitializeExceptionChain [0x0x7786d03b+107]\n",
      "\tRtlGetAppContainerNamedObjectPath [0x0x7786cfc1+561]\n",
      "\n"
     ]
    },
    {
     "name": "stderr",
     "output_type": "stream",
     "text": [
      "Scraping NICs:  44%|████▍     | 497/1127 [5:00:30<2:59:22, 17.08s/it]"
     ]
    },
    {
     "name": "stdout",
     "output_type": "stream",
     "text": [
      "Saved backup with 204100 results\n",
      "Dropdown not found or not interactable.\n",
      "Dropdown not found or not interactable.\n",
      "Error occurred while processing the table. Message: \n",
      "Stacktrace:\n",
      "\tGetHandleVerifier [0x0xce3763+63299]\n",
      "\tGetHandleVerifier [0x0xce37a4+63364]\n",
      "\t(No symbol) [0x0xb11113]\n",
      "\t(No symbol) [0x0xb5987e]\n",
      "\t(No symbol) [0x0xb59c1b]\n",
      "\t(No symbol) [0x0xba2212]\n",
      "\t(No symbol) [0x0xb7e5c4]\n",
      "\t(No symbol) [0x0xb9fa4a]\n",
      "\t(No symbol) [0x0xb7e376]\n",
      "\t(No symbol) [0x0xb4d6e0]\n",
      "\t(No symbol) [0x0xb4e544]\n",
      "\tGetHandleVerifier [0x0xf3e033+2531347]\n",
      "\tGetHandleVerifier [0x0xf39332+2511634]\n",
      "\tGetHandleVerifier [0x0xd09eda+220858]\n",
      "\tGetHandleVerifier [0x0xcfa528+156936]\n",
      "\tGetHandleVerifier [0x0xd00c5d+183357]\n",
      "\tGetHandleVerifier [0x0xceb6c8+95912]\n",
      "\tGetHandleVerifier [0x0xceb870+96336]\n",
      "\tGetHandleVerifier [0x0xcd664a+9770]\n",
      "\tBaseThreadInitThunk [0x0x75d15d49+25]\n",
      "\tRtlInitializeExceptionChain [0x0x7786d03b+107]\n",
      "\tRtlGetAppContainerNamedObjectPath [0x0x7786cfc1+561]\n",
      "\n"
     ]
    },
    {
     "name": "stderr",
     "output_type": "stream",
     "text": [
      "Scraping NICs:  44%|████▍     | 498/1127 [5:01:18<4:34:34, 26.19s/it]"
     ]
    },
    {
     "name": "stdout",
     "output_type": "stream",
     "text": [
      "Saved backup with 204100 results\n",
      "Rows captured: 151\n"
     ]
    },
    {
     "name": "stderr",
     "output_type": "stream",
     "text": [
      "Scraping NICs:  44%|████▍     | 499/1127 [5:01:33<3:58:44, 22.81s/it]"
     ]
    },
    {
     "name": "stdout",
     "output_type": "stream",
     "text": [
      "Saved backup with 204251 results\n",
      "Rows captured: 108\n"
     ]
    },
    {
     "name": "stderr",
     "output_type": "stream",
     "text": [
      "Scraping NICs:  44%|████▍     | 500/1127 [5:01:38<3:02:59, 17.51s/it]"
     ]
    },
    {
     "name": "stdout",
     "output_type": "stream",
     "text": [
      "Saved backup with 204359 results\n",
      "Dropdown not found or not interactable.\n",
      "Rows captured: 210\n"
     ]
    },
    {
     "name": "stderr",
     "output_type": "stream",
     "text": [
      "Scraping NICs:  44%|████▍     | 501/1127 [5:02:19<4:14:41, 24.41s/it]"
     ]
    },
    {
     "name": "stdout",
     "output_type": "stream",
     "text": [
      "Saved backup with 204569 results\n",
      "Error occurred while processing the table. Message: \n",
      "Stacktrace:\n",
      "\tGetHandleVerifier [0x0xce3763+63299]\n",
      "\tGetHandleVerifier [0x0xce37a4+63364]\n",
      "\t(No symbol) [0x0xb11113]\n",
      "\t(No symbol) [0x0xb5987e]\n",
      "\t(No symbol) [0x0xb59c1b]\n",
      "\t(No symbol) [0x0xba2212]\n",
      "\t(No symbol) [0x0xb7e5c4]\n",
      "\t(No symbol) [0x0xb9fa4a]\n",
      "\t(No symbol) [0x0xb7e376]\n",
      "\t(No symbol) [0x0xb4d6e0]\n",
      "\t(No symbol) [0x0xb4e544]\n",
      "\tGetHandleVerifier [0x0xf3e033+2531347]\n",
      "\tGetHandleVerifier [0x0xf39332+2511634]\n",
      "\tGetHandleVerifier [0x0xd09eda+220858]\n",
      "\tGetHandleVerifier [0x0xcfa528+156936]\n",
      "\tGetHandleVerifier [0x0xd00c5d+183357]\n",
      "\tGetHandleVerifier [0x0xceb6c8+95912]\n",
      "\tGetHandleVerifier [0x0xceb870+96336]\n",
      "\tGetHandleVerifier [0x0xcd664a+9770]\n",
      "\tBaseThreadInitThunk [0x0x75d15d49+25]\n",
      "\tRtlInitializeExceptionChain [0x0x7786d03b+107]\n",
      "\tRtlGetAppContainerNamedObjectPath [0x0x7786cfc1+561]\n",
      "\n"
     ]
    },
    {
     "name": "stderr",
     "output_type": "stream",
     "text": [
      "Scraping NICs:  45%|████▍     | 502/1127 [5:02:28<3:27:51, 19.95s/it]"
     ]
    },
    {
     "name": "stdout",
     "output_type": "stream",
     "text": [
      "Saved backup with 204569 results\n",
      "Dropdown not found or not interactable.\n",
      "Rows captured: 35\n"
     ]
    },
    {
     "name": "stderr",
     "output_type": "stream",
     "text": [
      "Scraping NICs:  45%|████▍     | 503/1127 [5:02:51<3:37:58, 20.96s/it]"
     ]
    },
    {
     "name": "stdout",
     "output_type": "stream",
     "text": [
      "Saved backup with 204604 results\n",
      "Error occurred while processing the table. Message: \n",
      "Stacktrace:\n",
      "\tGetHandleVerifier [0x0xce3763+63299]\n",
      "\tGetHandleVerifier [0x0xce37a4+63364]\n",
      "\t(No symbol) [0x0xb11113]\n",
      "\t(No symbol) [0x0xb5987e]\n",
      "\t(No symbol) [0x0xb59c1b]\n",
      "\t(No symbol) [0x0xba2212]\n",
      "\t(No symbol) [0x0xb7e5c4]\n",
      "\t(No symbol) [0x0xb9fa4a]\n",
      "\t(No symbol) [0x0xb7e376]\n",
      "\t(No symbol) [0x0xb4d6e0]\n",
      "\t(No symbol) [0x0xb4e544]\n",
      "\tGetHandleVerifier [0x0xf3e033+2531347]\n",
      "\tGetHandleVerifier [0x0xf39332+2511634]\n",
      "\tGetHandleVerifier [0x0xd09eda+220858]\n",
      "\tGetHandleVerifier [0x0xcfa528+156936]\n",
      "\tGetHandleVerifier [0x0xd00c5d+183357]\n",
      "\tGetHandleVerifier [0x0xceb6c8+95912]\n",
      "\tGetHandleVerifier [0x0xceb870+96336]\n",
      "\tGetHandleVerifier [0x0xcd664a+9770]\n",
      "\tBaseThreadInitThunk [0x0x75d15d49+25]\n",
      "\tRtlInitializeExceptionChain [0x0x7786d03b+107]\n",
      "\tRtlGetAppContainerNamedObjectPath [0x0x7786cfc1+561]\n",
      "\n"
     ]
    },
    {
     "name": "stderr",
     "output_type": "stream",
     "text": [
      "Scraping NICs:  45%|████▍     | 504/1127 [5:03:06<3:18:18, 19.10s/it]"
     ]
    },
    {
     "name": "stdout",
     "output_type": "stream",
     "text": [
      "Saved backup with 204604 results\n",
      "Dropdown not found or not interactable.\n",
      "Dropdown not found or not interactable.\n",
      "Error occurred while processing the table. Message: \n",
      "Stacktrace:\n",
      "\tGetHandleVerifier [0x0xce3763+63299]\n",
      "\tGetHandleVerifier [0x0xce37a4+63364]\n",
      "\t(No symbol) [0x0xb11113]\n",
      "\t(No symbol) [0x0xb5987e]\n",
      "\t(No symbol) [0x0xb59c1b]\n",
      "\t(No symbol) [0x0xba2212]\n",
      "\t(No symbol) [0x0xb7e5c4]\n",
      "\t(No symbol) [0x0xb9fa4a]\n",
      "\t(No symbol) [0x0xb7e376]\n",
      "\t(No symbol) [0x0xb4d6e0]\n",
      "\t(No symbol) [0x0xb4e544]\n",
      "\tGetHandleVerifier [0x0xf3e033+2531347]\n",
      "\tGetHandleVerifier [0x0xf39332+2511634]\n",
      "\tGetHandleVerifier [0x0xd09eda+220858]\n",
      "\tGetHandleVerifier [0x0xcfa528+156936]\n",
      "\tGetHandleVerifier [0x0xd00c5d+183357]\n",
      "\tGetHandleVerifier [0x0xceb6c8+95912]\n",
      "\tGetHandleVerifier [0x0xceb870+96336]\n",
      "\tGetHandleVerifier [0x0xcd664a+9770]\n",
      "\tBaseThreadInitThunk [0x0x75d15d49+25]\n",
      "\tRtlInitializeExceptionChain [0x0x7786d03b+107]\n",
      "\tRtlGetAppContainerNamedObjectPath [0x0x7786cfc1+561]\n",
      "\n"
     ]
    },
    {
     "name": "stderr",
     "output_type": "stream",
     "text": [
      "Scraping NICs:  45%|████▍     | 505/1127 [5:03:39<3:59:52, 23.14s/it]"
     ]
    },
    {
     "name": "stdout",
     "output_type": "stream",
     "text": [
      "Saved backup with 204604 results\n",
      "Error occurred while processing the table. Message: \n",
      "Stacktrace:\n",
      "\tGetHandleVerifier [0x0xce3763+63299]\n",
      "\tGetHandleVerifier [0x0xce37a4+63364]\n",
      "\t(No symbol) [0x0xb11113]\n",
      "\t(No symbol) [0x0xb5987e]\n",
      "\t(No symbol) [0x0xb59c1b]\n",
      "\t(No symbol) [0x0xba2212]\n",
      "\t(No symbol) [0x0xb7e5c4]\n",
      "\t(No symbol) [0x0xb9fa4a]\n",
      "\t(No symbol) [0x0xb7e376]\n",
      "\t(No symbol) [0x0xb4d6e0]\n",
      "\t(No symbol) [0x0xb4e544]\n",
      "\tGetHandleVerifier [0x0xf3e033+2531347]\n",
      "\tGetHandleVerifier [0x0xf39332+2511634]\n",
      "\tGetHandleVerifier [0x0xd09eda+220858]\n",
      "\tGetHandleVerifier [0x0xcfa528+156936]\n",
      "\tGetHandleVerifier [0x0xd00c5d+183357]\n",
      "\tGetHandleVerifier [0x0xceb6c8+95912]\n",
      "\tGetHandleVerifier [0x0xceb870+96336]\n",
      "\tGetHandleVerifier [0x0xcd664a+9770]\n",
      "\tBaseThreadInitThunk [0x0x75d15d49+25]\n",
      "\tRtlInitializeExceptionChain [0x0x7786d03b+107]\n",
      "\tRtlGetAppContainerNamedObjectPath [0x0x7786cfc1+561]\n",
      "\n"
     ]
    },
    {
     "name": "stderr",
     "output_type": "stream",
     "text": [
      "Scraping NICs:  45%|████▍     | 506/1127 [5:03:58<3:47:57, 22.02s/it]"
     ]
    },
    {
     "name": "stdout",
     "output_type": "stream",
     "text": [
      "Saved backup with 204604 results\n",
      "Dropdown not found or not interactable.\n",
      "Error occurred while processing the table. Message: \n",
      "Stacktrace:\n",
      "\tGetHandleVerifier [0x0xce3763+63299]\n",
      "\tGetHandleVerifier [0x0xce37a4+63364]\n",
      "\t(No symbol) [0x0xb11113]\n",
      "\t(No symbol) [0x0xb5987e]\n",
      "\t(No symbol) [0x0xb59c1b]\n",
      "\t(No symbol) [0x0xba2212]\n",
      "\t(No symbol) [0x0xb7e5c4]\n",
      "\t(No symbol) [0x0xb9fa4a]\n",
      "\t(No symbol) [0x0xb7e376]\n",
      "\t(No symbol) [0x0xb4d6e0]\n",
      "\t(No symbol) [0x0xb4e544]\n",
      "\tGetHandleVerifier [0x0xf3e033+2531347]\n",
      "\tGetHandleVerifier [0x0xf39332+2511634]\n",
      "\tGetHandleVerifier [0x0xd09eda+220858]\n",
      "\tGetHandleVerifier [0x0xcfa528+156936]\n",
      "\tGetHandleVerifier [0x0xd00c5d+183357]\n",
      "\tGetHandleVerifier [0x0xceb6c8+95912]\n",
      "\tGetHandleVerifier [0x0xceb870+96336]\n",
      "\tGetHandleVerifier [0x0xcd664a+9770]\n",
      "\tBaseThreadInitThunk [0x0x75d15d49+25]\n",
      "\tRtlInitializeExceptionChain [0x0x7786d03b+107]\n",
      "\tRtlGetAppContainerNamedObjectPath [0x0x7786cfc1+561]\n",
      "\n"
     ]
    },
    {
     "name": "stderr",
     "output_type": "stream",
     "text": [
      "Scraping NICs:  45%|████▍     | 507/1127 [5:04:30<4:18:02, 24.97s/it]"
     ]
    },
    {
     "name": "stdout",
     "output_type": "stream",
     "text": [
      "Saved backup with 204604 results\n",
      "Rows captured: 202\n"
     ]
    },
    {
     "name": "stderr",
     "output_type": "stream",
     "text": [
      "Scraping NICs:  45%|████▌     | 508/1127 [5:05:05<4:47:28, 27.87s/it]"
     ]
    },
    {
     "name": "stdout",
     "output_type": "stream",
     "text": [
      "Saved backup with 204806 results\n",
      "Rows captured: 34\n"
     ]
    },
    {
     "name": "stderr",
     "output_type": "stream",
     "text": [
      "Scraping NICs:  45%|████▌     | 509/1127 [5:05:31<4:42:16, 27.41s/it]"
     ]
    },
    {
     "name": "stdout",
     "output_type": "stream",
     "text": [
      "Saved backup with 204840 results\n",
      "Rows captured: 129\n"
     ]
    },
    {
     "name": "stderr",
     "output_type": "stream",
     "text": [
      "Scraping NICs:  45%|████▌     | 510/1127 [5:06:03<4:57:37, 28.94s/it]"
     ]
    },
    {
     "name": "stdout",
     "output_type": "stream",
     "text": [
      "Saved backup with 204969 results\n",
      "Rows captured: 82\n"
     ]
    },
    {
     "name": "stderr",
     "output_type": "stream",
     "text": [
      "Scraping NICs:  45%|████▌     | 511/1127 [5:06:19<4:17:26, 25.07s/it]"
     ]
    },
    {
     "name": "stdout",
     "output_type": "stream",
     "text": [
      "Saved backup with 205051 results\n",
      "Rows captured: 123\n"
     ]
    },
    {
     "name": "stderr",
     "output_type": "stream",
     "text": [
      "Scraping NICs:  45%|████▌     | 512/1127 [5:06:52<4:40:09, 27.33s/it]"
     ]
    },
    {
     "name": "stdout",
     "output_type": "stream",
     "text": [
      "Saved backup with 205174 results\n",
      "Rows captured: 150\n"
     ]
    },
    {
     "name": "stderr",
     "output_type": "stream",
     "text": [
      "Scraping NICs:  46%|████▌     | 513/1127 [5:07:20<4:42:31, 27.61s/it]"
     ]
    },
    {
     "name": "stdout",
     "output_type": "stream",
     "text": [
      "Saved backup with 205324 results\n",
      "Rows captured: 1669\n"
     ]
    },
    {
     "name": "stderr",
     "output_type": "stream",
     "text": [
      "Scraping NICs:  46%|████▌     | 514/1127 [5:07:53<4:57:54, 29.16s/it]"
     ]
    },
    {
     "name": "stdout",
     "output_type": "stream",
     "text": [
      "Saved backup with 206993 results\n",
      "Rows captured: 219\n"
     ]
    },
    {
     "name": "stderr",
     "output_type": "stream",
     "text": [
      "Scraping NICs:  46%|████▌     | 515/1127 [5:08:33<5:30:04, 32.36s/it]"
     ]
    },
    {
     "name": "stdout",
     "output_type": "stream",
     "text": [
      "Saved backup with 207212 results\n",
      "Dropdown not found or not interactable.\n",
      "Error occurred while processing the table. Message: \n",
      "Stacktrace:\n",
      "\tGetHandleVerifier [0x0xce3763+63299]\n",
      "\tGetHandleVerifier [0x0xce37a4+63364]\n",
      "\t(No symbol) [0x0xb11113]\n",
      "\t(No symbol) [0x0xb5987e]\n",
      "\t(No symbol) [0x0xb59c1b]\n",
      "\t(No symbol) [0x0xba2212]\n",
      "\t(No symbol) [0x0xb7e5c4]\n",
      "\t(No symbol) [0x0xb9fa4a]\n",
      "\t(No symbol) [0x0xb7e376]\n",
      "\t(No symbol) [0x0xb4d6e0]\n",
      "\t(No symbol) [0x0xb4e544]\n",
      "\tGetHandleVerifier [0x0xf3e033+2531347]\n",
      "\tGetHandleVerifier [0x0xf39332+2511634]\n",
      "\tGetHandleVerifier [0x0xd09eda+220858]\n",
      "\tGetHandleVerifier [0x0xcfa528+156936]\n",
      "\tGetHandleVerifier [0x0xd00c5d+183357]\n",
      "\tGetHandleVerifier [0x0xceb6c8+95912]\n",
      "\tGetHandleVerifier [0x0xceb870+96336]\n",
      "\tGetHandleVerifier [0x0xcd664a+9770]\n",
      "\tBaseThreadInitThunk [0x0x75d15d49+25]\n",
      "\tRtlInitializeExceptionChain [0x0x7786d03b+107]\n",
      "\tRtlGetAppContainerNamedObjectPath [0x0x7786cfc1+561]\n",
      "\n"
     ]
    },
    {
     "name": "stderr",
     "output_type": "stream",
     "text": [
      "Scraping NICs:  46%|████▌     | 516/1127 [5:09:21<6:16:35, 36.98s/it]"
     ]
    },
    {
     "name": "stdout",
     "output_type": "stream",
     "text": [
      "Saved backup with 207212 results\n",
      "Rows captured: 391\n"
     ]
    },
    {
     "name": "stderr",
     "output_type": "stream",
     "text": [
      "Scraping NICs:  46%|████▌     | 517/1127 [5:09:49<5:49:05, 34.34s/it]"
     ]
    },
    {
     "name": "stdout",
     "output_type": "stream",
     "text": [
      "Saved backup with 207603 results\n",
      "Rows captured: 277\n"
     ]
    },
    {
     "name": "stderr",
     "output_type": "stream",
     "text": [
      "Scraping NICs:  46%|████▌     | 518/1127 [5:11:03<7:49:24, 46.25s/it]"
     ]
    },
    {
     "name": "stdout",
     "output_type": "stream",
     "text": [
      "Saved backup with 207880 results\n",
      "Rows captured: 551\n"
     ]
    },
    {
     "name": "stderr",
     "output_type": "stream",
     "text": [
      "Scraping NICs:  46%|████▌     | 519/1127 [5:11:59<8:19:58, 49.34s/it]"
     ]
    },
    {
     "name": "stdout",
     "output_type": "stream",
     "text": [
      "Saved backup with 208431 results\n",
      "Dropdown not found or not interactable.\n",
      "Rows captured: 391\n"
     ]
    },
    {
     "name": "stderr",
     "output_type": "stream",
     "text": [
      "Scraping NICs:  46%|████▌     | 520/1127 [5:12:50<8:22:13, 49.64s/it]"
     ]
    },
    {
     "name": "stdout",
     "output_type": "stream",
     "text": [
      "Saved backup with 208822 results\n",
      "Error occurred while processing the table. Message: \n",
      "Stacktrace:\n",
      "\tGetHandleVerifier [0x0xce3763+63299]\n",
      "\tGetHandleVerifier [0x0xce37a4+63364]\n",
      "\t(No symbol) [0x0xb11113]\n",
      "\t(No symbol) [0x0xb5987e]\n",
      "\t(No symbol) [0x0xb59c1b]\n",
      "\t(No symbol) [0x0xba2212]\n",
      "\t(No symbol) [0x0xb7e5c4]\n",
      "\t(No symbol) [0x0xb9fa4a]\n",
      "\t(No symbol) [0x0xb7e376]\n",
      "\t(No symbol) [0x0xb4d6e0]\n",
      "\t(No symbol) [0x0xb4e544]\n",
      "\tGetHandleVerifier [0x0xf3e033+2531347]\n",
      "\tGetHandleVerifier [0x0xf39332+2511634]\n",
      "\tGetHandleVerifier [0x0xd09eda+220858]\n",
      "\tGetHandleVerifier [0x0xcfa528+156936]\n",
      "\tGetHandleVerifier [0x0xd00c5d+183357]\n",
      "\tGetHandleVerifier [0x0xceb6c8+95912]\n",
      "\tGetHandleVerifier [0x0xceb870+96336]\n",
      "\tGetHandleVerifier [0x0xcd664a+9770]\n",
      "\tBaseThreadInitThunk [0x0x75d15d49+25]\n",
      "\tRtlInitializeExceptionChain [0x0x7786d03b+107]\n",
      "\tRtlGetAppContainerNamedObjectPath [0x0x7786cfc1+561]\n",
      "\n"
     ]
    },
    {
     "name": "stderr",
     "output_type": "stream",
     "text": [
      "Scraping NICs:  46%|████▌     | 521/1127 [5:12:57<6:12:49, 36.91s/it]"
     ]
    },
    {
     "name": "stdout",
     "output_type": "stream",
     "text": [
      "Saved backup with 208822 results\n",
      "Dropdown not found or not interactable.\n",
      "Error occurred while processing the table. Message: \n",
      "Stacktrace:\n",
      "\tGetHandleVerifier [0x0xce3763+63299]\n",
      "\tGetHandleVerifier [0x0xce37a4+63364]\n",
      "\t(No symbol) [0x0xb11113]\n",
      "\t(No symbol) [0x0xb5987e]\n",
      "\t(No symbol) [0x0xb59c1b]\n",
      "\t(No symbol) [0x0xba2212]\n",
      "\t(No symbol) [0x0xb7e5c4]\n",
      "\t(No symbol) [0x0xb9fa4a]\n",
      "\t(No symbol) [0x0xb7e376]\n",
      "\t(No symbol) [0x0xb4d6e0]\n",
      "\t(No symbol) [0x0xb4e544]\n",
      "\tGetHandleVerifier [0x0xf3e033+2531347]\n",
      "\tGetHandleVerifier [0x0xf39332+2511634]\n",
      "\tGetHandleVerifier [0x0xd09eda+220858]\n",
      "\tGetHandleVerifier [0x0xcfa528+156936]\n",
      "\tGetHandleVerifier [0x0xd00c5d+183357]\n",
      "\tGetHandleVerifier [0x0xceb6c8+95912]\n",
      "\tGetHandleVerifier [0x0xceb870+96336]\n",
      "\tGetHandleVerifier [0x0xcd664a+9770]\n",
      "\tBaseThreadInitThunk [0x0x75d15d49+25]\n",
      "\tRtlInitializeExceptionChain [0x0x7786d03b+107]\n",
      "\tRtlGetAppContainerNamedObjectPath [0x0x7786cfc1+561]\n",
      "\n",
      "Dropdown not found or not interactable.\n"
     ]
    },
    {
     "name": "stderr",
     "output_type": "stream",
     "text": [
      "Scraping NICs:  46%|████▋     | 522/1127 [5:13:49<6:58:26, 41.50s/it]"
     ]
    },
    {
     "name": "stdout",
     "output_type": "stream",
     "text": [
      "Saved backup with 208822 results\n",
      "Rows captured: 301\n"
     ]
    },
    {
     "name": "stderr",
     "output_type": "stream",
     "text": [
      "Scraping NICs:  46%|████▋     | 523/1127 [5:14:32<7:01:46, 41.90s/it]"
     ]
    },
    {
     "name": "stdout",
     "output_type": "stream",
     "text": [
      "Saved backup with 209123 results\n",
      "Rows captured: 4522\n"
     ]
    },
    {
     "name": "stderr",
     "output_type": "stream",
     "text": [
      "Scraping NICs:  46%|████▋     | 524/1127 [5:14:44<5:32:07, 33.05s/it]"
     ]
    },
    {
     "name": "stdout",
     "output_type": "stream",
     "text": [
      "Saved backup with 213645 results\n",
      "Dropdown not found or not interactable.\n",
      "Dropdown not found or not interactable.\n",
      "Error occurred while processing the table. Message: \n",
      "Stacktrace:\n",
      "\tGetHandleVerifier [0x0xce3763+63299]\n",
      "\tGetHandleVerifier [0x0xce37a4+63364]\n",
      "\t(No symbol) [0x0xb11113]\n",
      "\t(No symbol) [0x0xb5987e]\n",
      "\t(No symbol) [0x0xb59c1b]\n",
      "\t(No symbol) [0x0xba2212]\n",
      "\t(No symbol) [0x0xb7e5c4]\n",
      "\t(No symbol) [0x0xb9fa4a]\n",
      "\t(No symbol) [0x0xb7e376]\n",
      "\t(No symbol) [0x0xb4d6e0]\n",
      "\t(No symbol) [0x0xb4e544]\n",
      "\tGetHandleVerifier [0x0xf3e033+2531347]\n",
      "\tGetHandleVerifier [0x0xf39332+2511634]\n",
      "\tGetHandleVerifier [0x0xd09eda+220858]\n",
      "\tGetHandleVerifier [0x0xcfa528+156936]\n",
      "\tGetHandleVerifier [0x0xd00c5d+183357]\n",
      "\tGetHandleVerifier [0x0xceb6c8+95912]\n",
      "\tGetHandleVerifier [0x0xceb870+96336]\n",
      "\tGetHandleVerifier [0x0xcd664a+9770]\n",
      "\tBaseThreadInitThunk [0x0x75d15d49+25]\n",
      "\tRtlInitializeExceptionChain [0x0x7786d03b+107]\n",
      "\tRtlGetAppContainerNamedObjectPath [0x0x7786cfc1+561]\n",
      "\n"
     ]
    },
    {
     "name": "stderr",
     "output_type": "stream",
     "text": [
      "Scraping NICs:  47%|████▋     | 525/1127 [5:15:19<5:37:09, 33.60s/it]"
     ]
    },
    {
     "name": "stdout",
     "output_type": "stream",
     "text": [
      "Saved backup with 213645 results\n",
      "Error occurred while processing the table. Message: \n",
      "Stacktrace:\n",
      "\tGetHandleVerifier [0x0xce3763+63299]\n",
      "\tGetHandleVerifier [0x0xce37a4+63364]\n",
      "\t(No symbol) [0x0xb11113]\n",
      "\t(No symbol) [0x0xb5987e]\n",
      "\t(No symbol) [0x0xb59c1b]\n",
      "\t(No symbol) [0x0xba2212]\n",
      "\t(No symbol) [0x0xb7e5c4]\n",
      "\t(No symbol) [0x0xb9fa4a]\n",
      "\t(No symbol) [0x0xb7e376]\n",
      "\t(No symbol) [0x0xb4d6e0]\n",
      "\t(No symbol) [0x0xb4e544]\n",
      "\tGetHandleVerifier [0x0xf3e033+2531347]\n",
      "\tGetHandleVerifier [0x0xf39332+2511634]\n",
      "\tGetHandleVerifier [0x0xd09eda+220858]\n",
      "\tGetHandleVerifier [0x0xcfa528+156936]\n",
      "\tGetHandleVerifier [0x0xd00c5d+183357]\n",
      "\tGetHandleVerifier [0x0xceb6c8+95912]\n",
      "\tGetHandleVerifier [0x0xceb870+96336]\n",
      "\tGetHandleVerifier [0x0xcd664a+9770]\n",
      "\tBaseThreadInitThunk [0x0x75d15d49+25]\n",
      "\tRtlInitializeExceptionChain [0x0x7786d03b+107]\n",
      "\tRtlGetAppContainerNamedObjectPath [0x0x7786cfc1+561]\n",
      "\n"
     ]
    },
    {
     "name": "stderr",
     "output_type": "stream",
     "text": [
      "Scraping NICs:  47%|████▋     | 526/1127 [5:15:33<4:36:13, 27.58s/it]"
     ]
    },
    {
     "name": "stdout",
     "output_type": "stream",
     "text": [
      "Saved backup with 213645 results\n",
      "Dropdown not found or not interactable.\n",
      "Rows captured: 209\n"
     ]
    },
    {
     "name": "stderr",
     "output_type": "stream",
     "text": [
      "Scraping NICs:  47%|████▋     | 527/1127 [5:16:11<5:08:42, 30.87s/it]"
     ]
    },
    {
     "name": "stdout",
     "output_type": "stream",
     "text": [
      "Saved backup with 213854 results\n",
      "Error occurred while processing the table. Message: \n",
      "Stacktrace:\n",
      "\tGetHandleVerifier [0x0xce3763+63299]\n",
      "\tGetHandleVerifier [0x0xce37a4+63364]\n",
      "\t(No symbol) [0x0xb11113]\n",
      "\t(No symbol) [0x0xb5987e]\n",
      "\t(No symbol) [0x0xb59c1b]\n",
      "\t(No symbol) [0x0xba2212]\n",
      "\t(No symbol) [0x0xb7e5c4]\n",
      "\t(No symbol) [0x0xb9fa4a]\n",
      "\t(No symbol) [0x0xb7e376]\n",
      "\t(No symbol) [0x0xb4d6e0]\n",
      "\t(No symbol) [0x0xb4e544]\n",
      "\tGetHandleVerifier [0x0xf3e033+2531347]\n",
      "\tGetHandleVerifier [0x0xf39332+2511634]\n",
      "\tGetHandleVerifier [0x0xd09eda+220858]\n",
      "\tGetHandleVerifier [0x0xcfa528+156936]\n",
      "\tGetHandleVerifier [0x0xd00c5d+183357]\n",
      "\tGetHandleVerifier [0x0xceb6c8+95912]\n",
      "\tGetHandleVerifier [0x0xceb870+96336]\n",
      "\tGetHandleVerifier [0x0xcd664a+9770]\n",
      "\tBaseThreadInitThunk [0x0x75d15d49+25]\n",
      "\tRtlInitializeExceptionChain [0x0x7786d03b+107]\n",
      "\tRtlGetAppContainerNamedObjectPath [0x0x7786cfc1+561]\n",
      "\n"
     ]
    },
    {
     "name": "stderr",
     "output_type": "stream",
     "text": [
      "Scraping NICs:  47%|████▋     | 528/1127 [5:16:20<4:02:15, 24.27s/it]"
     ]
    },
    {
     "name": "stdout",
     "output_type": "stream",
     "text": [
      "Saved backup with 213854 results\n",
      "Rows captured: 507\n"
     ]
    },
    {
     "name": "stderr",
     "output_type": "stream",
     "text": [
      "Scraping NICs:  47%|████▋     | 529/1127 [5:16:35<3:32:31, 21.32s/it]"
     ]
    },
    {
     "name": "stdout",
     "output_type": "stream",
     "text": [
      "Saved backup with 214361 results\n",
      "Dropdown not found or not interactable.\n",
      "Dropdown not found or not interactable.\n",
      "Error occurred while processing the table. Message: \n",
      "Stacktrace:\n",
      "\tGetHandleVerifier [0x0xce3763+63299]\n",
      "\tGetHandleVerifier [0x0xce37a4+63364]\n",
      "\t(No symbol) [0x0xb11113]\n",
      "\t(No symbol) [0x0xb5987e]\n",
      "\t(No symbol) [0x0xb59c1b]\n",
      "\t(No symbol) [0x0xba2212]\n",
      "\t(No symbol) [0x0xb7e5c4]\n",
      "\t(No symbol) [0x0xb9fa4a]\n",
      "\t(No symbol) [0x0xb7e376]\n",
      "\t(No symbol) [0x0xb4d6e0]\n",
      "\t(No symbol) [0x0xb4e544]\n",
      "\tGetHandleVerifier [0x0xf3e033+2531347]\n",
      "\tGetHandleVerifier [0x0xf39332+2511634]\n",
      "\tGetHandleVerifier [0x0xd09eda+220858]\n",
      "\tGetHandleVerifier [0x0xcfa528+156936]\n",
      "\tGetHandleVerifier [0x0xd00c5d+183357]\n",
      "\tGetHandleVerifier [0x0xceb6c8+95912]\n",
      "\tGetHandleVerifier [0x0xceb870+96336]\n",
      "\tGetHandleVerifier [0x0xcd664a+9770]\n",
      "\tBaseThreadInitThunk [0x0x75d15d49+25]\n",
      "\tRtlInitializeExceptionChain [0x0x7786d03b+107]\n",
      "\tRtlGetAppContainerNamedObjectPath [0x0x7786cfc1+561]\n",
      "\n"
     ]
    },
    {
     "name": "stderr",
     "output_type": "stream",
     "text": [
      "Scraping NICs:  47%|████▋     | 530/1127 [5:17:08<4:06:23, 24.76s/it]"
     ]
    },
    {
     "name": "stdout",
     "output_type": "stream",
     "text": [
      "Saved backup with 214361 results\n",
      "Error occurred while processing the table. Message: \n",
      "Stacktrace:\n",
      "\tGetHandleVerifier [0x0xce3763+63299]\n",
      "\tGetHandleVerifier [0x0xce37a4+63364]\n",
      "\t(No symbol) [0x0xb11113]\n",
      "\t(No symbol) [0x0xb5987e]\n",
      "\t(No symbol) [0x0xb59c1b]\n",
      "\t(No symbol) [0x0xba2212]\n",
      "\t(No symbol) [0x0xb7e5c4]\n",
      "\t(No symbol) [0x0xb9fa4a]\n",
      "\t(No symbol) [0x0xb7e376]\n",
      "\t(No symbol) [0x0xb4d6e0]\n",
      "\t(No symbol) [0x0xb4e544]\n",
      "\tGetHandleVerifier [0x0xf3e033+2531347]\n",
      "\tGetHandleVerifier [0x0xf39332+2511634]\n",
      "\tGetHandleVerifier [0x0xd09eda+220858]\n",
      "\tGetHandleVerifier [0x0xcfa528+156936]\n",
      "\tGetHandleVerifier [0x0xd00c5d+183357]\n",
      "\tGetHandleVerifier [0x0xceb6c8+95912]\n",
      "\tGetHandleVerifier [0x0xceb870+96336]\n",
      "\tGetHandleVerifier [0x0xcd664a+9770]\n",
      "\tBaseThreadInitThunk [0x0x75d15d49+25]\n",
      "\tRtlInitializeExceptionChain [0x0x7786d03b+107]\n",
      "\tRtlGetAppContainerNamedObjectPath [0x0x7786cfc1+561]\n",
      "\n"
     ]
    },
    {
     "name": "stderr",
     "output_type": "stream",
     "text": [
      "Scraping NICs:  47%|████▋     | 531/1127 [5:17:22<3:35:41, 21.71s/it]"
     ]
    },
    {
     "name": "stdout",
     "output_type": "stream",
     "text": [
      "Saved backup with 214361 results\n",
      "Dropdown not found or not interactable.\n",
      "Dropdown not found or not interactable.\n",
      "Error occurred while processing the table. Message: \n",
      "Stacktrace:\n",
      "\tGetHandleVerifier [0x0xce3763+63299]\n",
      "\tGetHandleVerifier [0x0xce37a4+63364]\n",
      "\t(No symbol) [0x0xb11113]\n",
      "\t(No symbol) [0x0xb5987e]\n",
      "\t(No symbol) [0x0xb59c1b]\n",
      "\t(No symbol) [0x0xba2212]\n",
      "\t(No symbol) [0x0xb7e5c4]\n",
      "\t(No symbol) [0x0xb9fa4a]\n",
      "\t(No symbol) [0x0xb7e376]\n",
      "\t(No symbol) [0x0xb4d6e0]\n",
      "\t(No symbol) [0x0xb4e544]\n",
      "\tGetHandleVerifier [0x0xf3e033+2531347]\n",
      "\tGetHandleVerifier [0x0xf39332+2511634]\n",
      "\tGetHandleVerifier [0x0xd09eda+220858]\n",
      "\tGetHandleVerifier [0x0xcfa528+156936]\n",
      "\tGetHandleVerifier [0x0xd00c5d+183357]\n",
      "\tGetHandleVerifier [0x0xceb6c8+95912]\n",
      "\tGetHandleVerifier [0x0xceb870+96336]\n",
      "\tGetHandleVerifier [0x0xcd664a+9770]\n",
      "\tBaseThreadInitThunk [0x0x75d15d49+25]\n",
      "\tRtlInitializeExceptionChain [0x0x7786d03b+107]\n",
      "\tRtlGetAppContainerNamedObjectPath [0x0x7786cfc1+561]\n",
      "\n"
     ]
    },
    {
     "name": "stderr",
     "output_type": "stream",
     "text": [
      "Scraping NICs:  47%|████▋     | 532/1127 [5:17:59<4:19:42, 26.19s/it]"
     ]
    },
    {
     "name": "stdout",
     "output_type": "stream",
     "text": [
      "Saved backup with 214361 results\n",
      "Error occurred while processing the table. Message: \n",
      "Stacktrace:\n",
      "\tGetHandleVerifier [0x0xce3763+63299]\n",
      "\tGetHandleVerifier [0x0xce37a4+63364]\n",
      "\t(No symbol) [0x0xb11113]\n",
      "\t(No symbol) [0x0xb5987e]\n",
      "\t(No symbol) [0x0xb59c1b]\n",
      "\t(No symbol) [0x0xba2212]\n",
      "\t(No symbol) [0x0xb7e5c4]\n",
      "\t(No symbol) [0x0xb9fa4a]\n",
      "\t(No symbol) [0x0xb7e376]\n",
      "\t(No symbol) [0x0xb4d6e0]\n",
      "\t(No symbol) [0x0xb4e544]\n",
      "\tGetHandleVerifier [0x0xf3e033+2531347]\n",
      "\tGetHandleVerifier [0x0xf39332+2511634]\n",
      "\tGetHandleVerifier [0x0xd09eda+220858]\n",
      "\tGetHandleVerifier [0x0xcfa528+156936]\n",
      "\tGetHandleVerifier [0x0xd00c5d+183357]\n",
      "\tGetHandleVerifier [0x0xceb6c8+95912]\n",
      "\tGetHandleVerifier [0x0xceb870+96336]\n",
      "\tGetHandleVerifier [0x0xcd664a+9770]\n",
      "\tBaseThreadInitThunk [0x0x75d15d49+25]\n",
      "\tRtlInitializeExceptionChain [0x0x7786d03b+107]\n",
      "\tRtlGetAppContainerNamedObjectPath [0x0x7786cfc1+561]\n",
      "\n"
     ]
    },
    {
     "name": "stderr",
     "output_type": "stream",
     "text": [
      "Scraping NICs:  47%|████▋     | 533/1127 [5:18:12<3:40:45, 22.30s/it]"
     ]
    },
    {
     "name": "stdout",
     "output_type": "stream",
     "text": [
      "Saved backup with 214361 results\n",
      "Rows captured: 261\n",
      "Dropdown not found or not interactable.\n"
     ]
    },
    {
     "name": "stderr",
     "output_type": "stream",
     "text": [
      "Scraping NICs:  47%|████▋     | 534/1127 [5:18:20<2:58:56, 18.11s/it]"
     ]
    },
    {
     "name": "stdout",
     "output_type": "stream",
     "text": [
      "Saved backup with 214622 results\n"
     ]
    }
   ],
   "source": [
    "import pandas as pd\n",
    "import logging\n",
    "from concurrent.futures import ThreadPoolExecutor, as_completed\n",
    "from tqdm import tqdm\n",
    "import os\n",
    "from datetime import datetime\n",
    "\n",
    "# Setup logging and data directories\n",
    "backup_dir = \"backups\"\n",
    "os.makedirs(backup_dir, exist_ok=True)\n",
    "backup_file = os.path.join(backup_dir, \"running_backup.csv\")  # Single backup file\n",
    "\n",
    "df = pd.read_excel('NIC_2008.xlsx')\n",
    "nic_codes = df.iloc[:, 0].astype(str)\n",
    "valid_nic_codes = nic_codes[nic_codes.str.len() == 5].tolist()\n",
    "\n",
    "test_state = \"KARNATAKA\"  # Change as needed\n",
    "\n",
    "all_results = []\n",
    "failed_nics = []\n",
    "\n",
    "def scrape_nic(nic):\n",
    "    href = scrape_udyam(nic, test_state)\n",
    "    try:\n",
    "        table_rows = get_href([], href)\n",
    "        if not table_rows:  # If no rows were found\n",
    "            failed_nics.append({\"NIC\": nic, \"State\": test_state, \"Reason\": \"No data found\"})\n",
    "            return []\n",
    "    except Exception as e:\n",
    "        failed_nics.append({\"NIC\": nic, \"State\": test_state, \"Reason\": str(e)})\n",
    "        logging.error(f\"NIC: {nic}, State: {test_state}, Error: {e}\")\n",
    "        return []\n",
    "    \n",
    "    for row in table_rows:\n",
    "        row[\"NIC_Code\"] = nic\n",
    "        row[\"State\"] = test_state\n",
    "    return table_rows\n",
    "\n",
    "with ThreadPoolExecutor(max_workers=3) as executor:\n",
    "    futures = {executor.submit(scrape_nic, nic): nic for nic in valid_nic_codes}\n",
    "    for i, future in enumerate(tqdm(as_completed(futures), total=len(futures), desc=\"Scraping NICs\")):\n",
    "        nic = futures[future]\n",
    "        try:\n",
    "            result = future.result()\n",
    "            all_results.extend(result)\n",
    "            \n",
    "            # Save/overwrite backup after each NIC code\n",
    "            pd.DataFrame(all_results).to_csv(backup_file, index=False)\n",
    "            print(f\"Saved backup with {len(all_results)} results\")\n",
    "            \n",
    "        except Exception as e:\n",
    "            failed_nics.append({\"NIC\": nic, \"State\": test_state, \"Reason\": str(e)})\n",
    "            logging.error(f\"Failed to process NIC {nic}: {str(e)}\")\n",
    "\n",
    "# Save final results with timestamp\n",
    "timestamp = datetime.now().strftime(\"%Y%m%d_%H%M%S\")\n",
    "pd.DataFrame(all_results).to_csv(f\"test_nic_state_companies_fulltable_{timestamp}.csv\", index=False)\n",
    "\n",
    "# Save failed NICs\n",
    "if failed_nics:\n",
    "    pd.DataFrame(failed_nics).to_csv(f\"failed_nics_{timestamp}.csv\", index=False)\n",
    "    print(f\"Number of failed NICs: {len(failed_nics)}\")"
   ]
  },
  {
   "cell_type": "code",
   "execution_count": null,
   "id": "03b43fc7",
   "metadata": {},
   "outputs": [],
   "source": [
    "# import pandas as pd\n",
    "\n",
    "# df = pd.read_excel('NIC_2008.xlsx')\n",
    "# nic_codes = df.iloc[:, 0].astype(str)\n",
    "# valid_nic_codes = nic_codes[nic_codes.str.len() == 5].tolist()\n",
    "\n",
    "# test_state = \"TAMIL NADU\"  # Change as needed\n",
    "\n",
    "# all_results = []\n",
    "# for nic in valid_nic_codes:\n",
    "#     href = scrape_udyam(nic, test_state)\n",
    "#     try:\n",
    "#         table_rows = get_href([], href)\n",
    "#     except Exception as e:\n",
    "#         table_rows = [{\"Error\": f\"{e}\"}]\n",
    "\n",
    "#     for row in table_rows:\n",
    "#         row[\"NIC_Code\"] = nic\n",
    "#         row[\"State\"] = test_state\n",
    "#         all_results.append(row)\n",
    "\n",
    "#         if len(all_results) % 1000 == 0:\n",
    "#             pd.DataFrame(all_results).to_csv(\"test_nic_state_companies_backup.csv\", index=False)\n",
    "\n",
    "\n",
    "\n",
    "# pd.DataFrame(all_results).to_csv(\"test_nic_state_companies_fulltable.csv\", index=False)"
   ]
  }
 ],
 "metadata": {
  "kernelspec": {
   "display_name": "Python 3",
   "language": "python",
   "name": "python3"
  },
  "language_info": {
   "codemirror_mode": {
    "name": "ipython",
    "version": 3
   },
   "file_extension": ".py",
   "mimetype": "text/x-python",
   "name": "python",
   "nbconvert_exporter": "python",
   "pygments_lexer": "ipython3",
   "version": "3.11.0"
  }
 },
 "nbformat": 4,
 "nbformat_minor": 5
}
